{
 "cells": [
  {
   "cell_type": "markdown",
   "metadata": {
    "collapsed": true
   },
   "source": [
    "Remember to press **Shift + Enter** after each line to run it<br>\n",
    "You can type **Esc+A** to add a cell above or **Esc+B** to add a cell below<br>\n",
    "For more shortcuts, look under the **Help** menu under Keyboard Shortcuts.<br>"
   ]
  },
  {
   "cell_type": "markdown",
   "metadata": {},
   "source": [
    "Once a function works, try to refactor it to see if you can make a version that does the same job in a different way. "
   ]
  },
  {
   "cell_type": "raw",
   "metadata": {},
   "source": [
    "#String oprations\n",
    "string.split('a')  ## splits string based on a delimeter  argument'a'\n",
    "len(string)        ## gives you length of characters in a string\n",
    "'a'.join(alist) ## joins a list named alist by adding the delimter 'a' between elements"
   ]
  },
  {
   "cell_type": "raw",
   "metadata": {},
   "source": [
    "#list operations for sorting\n",
    "alist.sort()  #this changes the actual variable\n",
    "sorted(alist) #this returns a copy and does not change the original variable\n"
   ]
  },
  {
   "cell_type": "markdown",
   "metadata": {
    "collapsed": true
   },
   "source": [
    "## Counting Spaces\n",
    "Write **count_spaces()**, a function that accepts a string as an argument and returns the number of spaces in the string. Use iteration to determine this. \n",
    "\n",
    "If you can think of more than one way to accomplish this, write **count_spaces2()** and go on to write **count_spaces_3()** and beyond if you like, showing the alternatives.\n",
    "\n",
    "To accomplish the basic, initial count_spaces() function, no special knowledge of Python is needed beyond what has already been covered. \n"
   ]
  },
  {
   "cell_type": "code",
   "execution_count": 1,
   "metadata": {
    "collapsed": true
   },
   "outputs": [],
   "source": [
    "#try filling out the function template (name, arguments, return value)"
   ]
  },
  {
   "cell_type": "code",
   "execution_count": 2,
   "metadata": {},
   "outputs": [
    {
     "ename": "NameError",
     "evalue": "name 'count_spaces' is not defined",
     "output_type": "error",
     "traceback": [
      "\u001b[0;31m---------------------------------------------------------------------------\u001b[0m",
      "\u001b[0;31mNameError\u001b[0m                                 Traceback (most recent call last)",
      "\u001b[0;32m<ipython-input-2-1dfc26802727>\u001b[0m in \u001b[0;36m<module>\u001b[0;34m()\u001b[0m\n\u001b[0;32m----> 1\u001b[0;31m \u001b[0mcount_spaces\u001b[0m\u001b[0;34m(\u001b[0m\u001b[0;34m'Now is the time for'\u001b[0m\u001b[0;34m)\u001b[0m \u001b[0;31m# sould give you 4\u001b[0m\u001b[0;34m\u001b[0m\u001b[0m\n\u001b[0m",
      "\u001b[0;31mNameError\u001b[0m: name 'count_spaces' is not defined"
     ]
    }
   ],
   "source": [
    "count_spaces('Now is the time for') # sould give you 4"
   ]
  },
  {
   "cell_type": "code",
   "execution_count": 7,
   "metadata": {},
   "outputs": [
    {
     "data": {
      "text/plain": [
       "1"
      ]
     },
     "execution_count": 7,
     "metadata": {},
     "output_type": "execute_result"
    }
   ],
   "source": [
    "def count_spaces(mystring):\n",
    "    result = 0\n",
    "    for letter in mystring:\n",
    "        if letter == \" \":\n",
    "            result += 1\n",
    "        else:\n",
    "            pass\n",
    "    return result #should return a number\n",
    "\n",
    "count_spaces(\"some thing\")"
   ]
  },
  {
   "cell_type": "code",
   "execution_count": null,
   "metadata": {
    "collapsed": true
   },
   "outputs": [],
   "source": [
    "#need a variable to store the return value"
   ]
  },
  {
   "cell_type": "code",
   "execution_count": null,
   "metadata": {
    "collapsed": true
   },
   "outputs": [],
   "source": [
    "#need to isolate every character"
   ]
  },
  {
   "cell_type": "code",
   "execution_count": null,
   "metadata": {
    "collapsed": true
   },
   "outputs": [],
   "source": [
    "#need to test if each chacacter is a space"
   ]
  },
  {
   "cell_type": "code",
   "execution_count": null,
   "metadata": {
    "collapsed": true
   },
   "outputs": [],
   "source": [
    "#if a space is found--> add it to the return value"
   ]
  },
  {
   "cell_type": "code",
   "execution_count": null,
   "metadata": {
    "collapsed": true
   },
   "outputs": [],
   "source": [
    "#put all of the above togther into a function"
   ]
  },
  {
   "cell_type": "markdown",
   "metadata": {
    "collapsed": true
   },
   "source": [
    "## Counting Non-spaces\n",
    "Write a function **count_nonspaces()** that returns the number of characters in a string that are not spaces. \n",
    "\n",
    "Try figuring this out using iteration, with reference to the problem just solved. \n",
    "\n",
    "Once you have solved the problem this way, see if you can you determine how do this in a single line (not counting the line beginning with def) by having **count_nonspaces()** call **count_spaces()** from before.\n"
   ]
  },
  {
   "cell_type": "code",
   "execution_count": null,
   "metadata": {
    "collapsed": true
   },
   "outputs": [],
   "source": []
  },
  {
   "cell_type": "code",
   "execution_count": null,
   "metadata": {
    "collapsed": true
   },
   "outputs": [],
   "source": [
    "#just like count_spaces, but a different conditional"
   ]
  },
  {
   "cell_type": "code",
   "execution_count": 11,
   "metadata": {},
   "outputs": [
    {
     "data": {
      "text/plain": [
       "9"
      ]
     },
     "execution_count": 11,
     "metadata": {},
     "output_type": "execute_result"
    }
   ],
   "source": [
    "def count_nonspaces(sequence):  #use iteration\n",
    "    result = 0\n",
    "    for letter in sequence:\n",
    "        if letter != \" \":\n",
    "            result += 1\n",
    "        else:\n",
    "            pass\n",
    "    return result #should return a number\n",
    "\n",
    "count_nonspaces(\"something\")"
   ]
  },
  {
   "cell_type": "code",
   "execution_count": 12,
   "metadata": {},
   "outputs": [
    {
     "data": {
      "text/plain": [
       "8"
      ]
     },
     "execution_count": 12,
     "metadata": {},
     "output_type": "execute_result"
    }
   ],
   "source": [
    "count_nonspaces('hello you')  # sould return 8"
   ]
  },
  {
   "cell_type": "markdown",
   "metadata": {},
   "source": [
    "## code reuse \n",
    "use the **count_spaces** function we wrote by subtracting the spaces from the total numbr of characters"
   ]
  },
  {
   "cell_type": "code",
   "execution_count": 13,
   "metadata": {
    "collapsed": true
   },
   "outputs": [],
   "source": [
    "def count_nonspaces2(sequence):  \n",
    "    result = len(sequence) - count_spaces(sequence)\n",
    "    \n",
    "        \n",
    "    return result #somehow call earlier count_spaces function"
   ]
  },
  {
   "cell_type": "code",
   "execution_count": 14,
   "metadata": {},
   "outputs": [
    {
     "data": {
      "text/plain": [
       "15"
      ]
     },
     "execution_count": 14,
     "metadata": {},
     "output_type": "execute_result"
    }
   ],
   "source": [
    "count_nonspaces2('hello you are here')"
   ]
  },
  {
   "cell_type": "code",
   "execution_count": null,
   "metadata": {
    "collapsed": true
   },
   "outputs": [],
   "source": []
  },
  {
   "cell_type": "code",
   "execution_count": null,
   "metadata": {
    "collapsed": true
   },
   "outputs": [],
   "source": []
  },
  {
   "cell_type": "markdown",
   "metadata": {
    "collapsed": true
   },
   "source": [
    "### Same Last Character\n",
    "Write <b>same_last()</b>, a function that accepts two strings as arguments and returns <b>True</b> if they have the same last letter, <b>False</b> otherwise. \n",
    "\n",
    "For this exercise, you can assume that both of the strings are at least one letter long—it does not matter what happens (the program could crash, etc.) if one or both of the strings is the null string. "
   ]
  },
  {
   "cell_type": "markdown",
   "metadata": {
    "collapsed": true
   },
   "source": [
    "# template\n",
    "\n",
    "def same_last(seq1,seq2):\n",
    "    if seq1[:-1] == seq2[:-1]:\n",
    "        return \"True\"\n",
    "    else:\n",
    "        return \"False\", seq`\n",
    "    "
   ]
  },
  {
   "cell_type": "code",
   "execution_count": null,
   "metadata": {
    "collapsed": true
   },
   "outputs": [],
   "source": [
    "#how to find the last characer of a word? --> use the negative 1 index\n"
   ]
  },
  {
   "cell_type": "code",
   "execution_count": null,
   "metadata": {
    "collapsed": true
   },
   "outputs": [],
   "source": [
    "#how to test if the end of two sequences are equal --> use a conditional ==\n"
   ]
  },
  {
   "cell_type": "code",
   "execution_count": 4,
   "metadata": {
    "collapsed": true
   },
   "outputs": [],
   "source": [
    "#bundle all the above steps into the last character  function\n",
    "def same_last(seq1,seq2):\n",
    "    if seq1[-1] == seq2[-1]:\n",
    "        return True\n",
    "    else:\n",
    "        return False\n",
    "    \n"
   ]
  },
  {
   "cell_type": "code",
   "execution_count": null,
   "metadata": {
    "collapsed": true
   },
   "outputs": [],
   "source": []
  },
  {
   "cell_type": "code",
   "execution_count": 5,
   "metadata": {},
   "outputs": [
    {
     "data": {
      "text/plain": [
       "True"
      ]
     },
     "execution_count": 5,
     "metadata": {},
     "output_type": "execute_result"
    }
   ],
   "source": [
    "same_last('hola','angela')"
   ]
  },
  {
   "cell_type": "code",
   "execution_count": 6,
   "metadata": {},
   "outputs": [
    {
     "data": {
      "text/plain": [
       "False"
      ]
     },
     "execution_count": 6,
     "metadata": {},
     "output_type": "execute_result"
    }
   ],
   "source": [
    "same_last('hello','goodbye')"
   ]
  },
  {
   "cell_type": "markdown",
   "metadata": {},
   "source": [
    "After you write a function that works, see if you have more than one line in the function body—that is, if you have any code besides the def line and one line after it. If your function is more than two lines long, refactor it so that it is only two lines long. "
   ]
  },
  {
   "cell_type": "code",
   "execution_count": 1,
   "metadata": {
    "collapsed": true
   },
   "outputs": [],
   "source": [
    "def same_last(sequence1,sequence2):\n",
    "     return True if sequence1[-1] == sequence2[-1] else False"
   ]
  },
  {
   "cell_type": "code",
   "execution_count": 2,
   "metadata": {},
   "outputs": [
    {
     "data": {
      "text/plain": [
       "True"
      ]
     },
     "execution_count": 2,
     "metadata": {},
     "output_type": "execute_result"
    }
   ],
   "source": [
    "same_last('yay','hay')"
   ]
  },
  {
   "cell_type": "code",
   "execution_count": 3,
   "metadata": {},
   "outputs": [
    {
     "data": {
      "text/plain": [
       "False"
      ]
     },
     "execution_count": 3,
     "metadata": {},
     "output_type": "execute_result"
    }
   ],
   "source": [
    "same_last('adios','goodbye')"
   ]
  },
  {
   "cell_type": "code",
   "execution_count": null,
   "metadata": {
    "collapsed": true
   },
   "outputs": [],
   "source": []
  },
  {
   "cell_type": "code",
   "execution_count": null,
   "metadata": {
    "collapsed": true
   },
   "outputs": [],
   "source": []
  },
  {
   "cell_type": "markdown",
   "metadata": {
    "collapsed": true
   },
   "source": [
    "## Determining Initials\n",
    "Write a function **initials()** that takes a string containing any name (a personal or business name, for instance) and returns the initials. For instance, the values returned by the following function calls will be:\n",
    "<pre>\n",
    "Initials(“International Business Machines”) --> IBM\n",
    "\n",
    "Initials(“M. Lee Pelton”) --> MLP\n",
    "</pre>\n",
    "You should be able to tell what type the return value (that is, your result: the initials) should be. The function should work properly on names with any length string. \n",
    "\n",
    "Do not worry about special handling for cases where punctuation makes up its own “word,” or where a word begins with a punctuation mark, or where you know that a compound word. Just return the first character of each part of the string separated by whitespace.\n",
    "\n",
    " \n",
    "\n"
   ]
  },
  {
   "cell_type": "code",
   "execution_count": 60,
   "metadata": {
    "collapsed": true
   },
   "outputs": [],
   "source": [
    "#create a template based on how the description is given above\n",
    "def initials(string):\n",
    "    result = \"\"\n",
    "    words = string.split()\n",
    "    \n",
    "    return #words"
   ]
  },
  {
   "cell_type": "code",
   "execution_count": 61,
   "metadata": {},
   "outputs": [
    {
     "data": {
      "text/plain": [
       "['International', 'Business', 'Machines']"
      ]
     },
     "execution_count": 61,
     "metadata": {},
     "output_type": "execute_result"
    }
   ],
   "source": [
    "initials('International Business Machines') #should return IBM"
   ]
  },
  {
   "cell_type": "code",
   "execution_count": null,
   "metadata": {
    "collapsed": true
   },
   "outputs": [],
   "source": [
    "#we need to have newstring initialized"
   ]
  },
  {
   "cell_type": "code",
   "execution_count": null,
   "metadata": {
    "collapsed": true
   },
   "outputs": [],
   "source": [
    "#how to find initials? get the 0th position of each word"
   ]
  },
  {
   "cell_type": "code",
   "execution_count": null,
   "metadata": {
    "collapsed": true
   },
   "outputs": [],
   "source": [
    " #split the string into words"
   ]
  },
  {
   "cell_type": "code",
   "execution_count": null,
   "metadata": {
    "collapsed": true
   },
   "outputs": [],
   "source": [
    "#try getting the index of each word and getting the first character"
   ]
  },
  {
   "cell_type": "code",
   "execution_count": null,
   "metadata": {
    "collapsed": true
   },
   "outputs": [],
   "source": [
    "#Then, note, that we just could just use each word itslf, not the index\n",
    "#So iterate over each word, take the first character\n",
    "#add to the result\n"
   ]
  },
  {
   "cell_type": "code",
   "execution_count": null,
   "metadata": {
    "collapsed": true
   },
   "outputs": [],
   "source": []
  },
  {
   "cell_type": "code",
   "execution_count": null,
   "metadata": {
    "collapsed": true
   },
   "outputs": [],
   "source": [
    "initials('M. Lee Pelton')"
   ]
  },
  {
   "cell_type": "code",
   "execution_count": null,
   "metadata": {
    "collapsed": true
   },
   "outputs": [],
   "source": [
    "initials('Country, Bluegrass, & Blues')"
   ]
  },
  {
   "cell_type": "code",
   "execution_count": null,
   "metadata": {
    "collapsed": true
   },
   "outputs": [],
   "source": [
    "initials('Vladimir \"Pootie-Poot\" Putin')"
   ]
  },
  {
   "cell_type": "code",
   "execution_count": null,
   "metadata": {
    "collapsed": true
   },
   "outputs": [],
   "source": []
  },
  {
   "cell_type": "markdown",
   "metadata": {},
   "source": [
    "## Remove Vowels\n",
    "Write __devowel()__, a function that accepts a string as an argument and returns the string without the vowels. For instance, given ‘hello world’ it will return ‘hll wrld’. Just consider the five standard, full vowels for this exercise, neglecting poor y and w.\n",
    "\n",
    " \n",
    "\n"
   ]
  },
  {
   "cell_type": "code",
   "execution_count": 77,
   "metadata": {},
   "outputs": [
    {
     "data": {
      "text/plain": [
       "'bnn'"
      ]
     },
     "execution_count": 77,
     "metadata": {},
     "output_type": "execute_result"
    }
   ],
   "source": [
    "def devowel(input):\n",
    "    output = \"\"\n",
    "    for letter in input:\n",
    "        if letter in [\"a\",\"e\",\"i\",\"o\",\"u\"]:\n",
    "            pass\n",
    "        else:\n",
    "            output = output + letter\n",
    "    return output\n",
    "\n",
    "devowel(\"banana\") #should return \"bnn\n"
   ]
  },
  {
   "cell_type": "code",
   "execution_count": 75,
   "metadata": {},
   "outputs": [
    {
     "data": {
      "text/plain": [
       "'Hll wrld'"
      ]
     },
     "execution_count": 75,
     "metadata": {},
     "output_type": "execute_result"
    }
   ],
   "source": [
    "devowel(\"Hello world\") #should return \"Hll wrld\""
   ]
  },
  {
   "cell_type": "code",
   "execution_count": null,
   "metadata": {
    "collapsed": true
   },
   "outputs": [],
   "source": []
  },
  {
   "cell_type": "code",
   "execution_count": null,
   "metadata": {
    "collapsed": true
   },
   "outputs": [],
   "source": []
  },
  {
   "cell_type": "code",
   "execution_count": null,
   "metadata": {
    "collapsed": true
   },
   "outputs": [],
   "source": []
  },
  {
   "cell_type": "markdown",
   "metadata": {},
   "source": [
    "## Tautonyms\n",
    "Write a function __tautonym()__ that accepts a string and returns True if the string consists of some sequence of characters (call it A) followed by the same sequence of characters, A, The function should return False otherwise. For instance, given ”hello world” it should return False but given ’worldworld’ it should returns True. Of course, for ‘worldworldbaby’ the answer False."
   ]
  },
  {
   "cell_type": "code",
   "execution_count": 87,
   "metadata": {},
   "outputs": [
    {
     "data": {
      "text/plain": [
       "'True'"
      ]
     },
     "execution_count": 87,
     "metadata": {},
     "output_type": "execute_result"
    }
   ],
   "source": [
    "def tautonym(input):\n",
    "    a = input[:len(input)/2]\n",
    "    b = input[len(input)/2:]\n",
    "    if a == b:\n",
    "        return \"True\"\n",
    "    else:\n",
    "        return \"False\"\n",
    "\n",
    "tautonym(\"knockknock\") #returns True\n"
   ]
  },
  {
   "cell_type": "code",
   "execution_count": 88,
   "metadata": {},
   "outputs": [
    {
     "data": {
      "text/plain": [
       "'False'"
      ]
     },
     "execution_count": 88,
     "metadata": {},
     "output_type": "execute_result"
    }
   ],
   "source": [
    "tautonym(\"Hello World\") #rturns False"
   ]
  },
  {
   "cell_type": "code",
   "execution_count": null,
   "metadata": {
    "collapsed": true
   },
   "outputs": [],
   "source": [
    "#Was not in class, did at home"
   ]
  }
 ],
 "metadata": {
  "anaconda-cloud": {},
  "kernelspec": {
   "display_name": "Python 2",
   "language": "python",
   "name": "python2"
  },
  "language_info": {
   "codemirror_mode": {
    "name": "ipython",
    "version": 2
   },
   "file_extension": ".py",
   "mimetype": "text/x-python",
   "name": "python",
   "nbconvert_exporter": "python",
   "pygments_lexer": "ipython2",
   "version": "2.7.13"
  }
 },
 "nbformat": 4,
 "nbformat_minor": 1
}
