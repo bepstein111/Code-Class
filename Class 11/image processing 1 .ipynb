{
 "cells": [
  {
   "cell_type": "markdown",
   "metadata": {},
   "source": [
    "How do you know what's in a library?  After you import a library, you can use the dir function to list its methods.'"
   ]
  },
  {
   "cell_type": "code",
   "execution_count": 1,
   "metadata": {},
   "outputs": [
    {
     "data": {
      "text/plain": [
       "['DEBUG',\n",
       " 'DOTALL',\n",
       " 'I',\n",
       " 'IGNORECASE',\n",
       " 'L',\n",
       " 'LOCALE',\n",
       " 'M',\n",
       " 'MULTILINE',\n",
       " 'S',\n",
       " 'Scanner',\n",
       " 'T',\n",
       " 'TEMPLATE',\n",
       " 'U',\n",
       " 'UNICODE',\n",
       " 'VERBOSE',\n",
       " 'X',\n",
       " '_MAXCACHE',\n",
       " '__all__',\n",
       " '__builtins__',\n",
       " '__doc__',\n",
       " '__file__',\n",
       " '__name__',\n",
       " '__package__',\n",
       " '__version__',\n",
       " '_alphanum',\n",
       " '_cache',\n",
       " '_cache_repl',\n",
       " '_compile',\n",
       " '_compile_repl',\n",
       " '_expand',\n",
       " '_locale',\n",
       " '_pattern_type',\n",
       " '_pickle',\n",
       " '_subx',\n",
       " 'compile',\n",
       " 'copy_reg',\n",
       " 'error',\n",
       " 'escape',\n",
       " 'findall',\n",
       " 'finditer',\n",
       " 'match',\n",
       " 'purge',\n",
       " 'search',\n",
       " 'split',\n",
       " 'sre_compile',\n",
       " 'sre_parse',\n",
       " 'sub',\n",
       " 'subn',\n",
       " 'sys',\n",
       " 'template']"
      ]
     },
     "execution_count": 1,
     "metadata": {},
     "output_type": "execute_result"
    }
   ],
   "source": [
    "import re\n",
    "#once impored, you can list all the regex methods\n",
    "dir(re)"
   ]
  },
  {
   "cell_type": "code",
   "execution_count": null,
   "metadata": {},
   "outputs": [],
   "source": []
  },
  {
   "cell_type": "code",
   "execution_count": 2,
   "metadata": {},
   "outputs": [
    {
     "data": {
      "text/plain": [
       "['__add__',\n",
       " '__class__',\n",
       " '__contains__',\n",
       " '__delattr__',\n",
       " '__delitem__',\n",
       " '__delslice__',\n",
       " '__doc__',\n",
       " '__eq__',\n",
       " '__format__',\n",
       " '__ge__',\n",
       " '__getattribute__',\n",
       " '__getitem__',\n",
       " '__getslice__',\n",
       " '__gt__',\n",
       " '__hash__',\n",
       " '__iadd__',\n",
       " '__imul__',\n",
       " '__init__',\n",
       " '__iter__',\n",
       " '__le__',\n",
       " '__len__',\n",
       " '__lt__',\n",
       " '__mul__',\n",
       " '__ne__',\n",
       " '__new__',\n",
       " '__reduce__',\n",
       " '__reduce_ex__',\n",
       " '__repr__',\n",
       " '__reversed__',\n",
       " '__rmul__',\n",
       " '__setattr__',\n",
       " '__setitem__',\n",
       " '__setslice__',\n",
       " '__sizeof__',\n",
       " '__str__',\n",
       " '__subclasshook__',\n",
       " 'append',\n",
       " 'count',\n",
       " 'extend',\n",
       " 'index',\n",
       " 'insert',\n",
       " 'pop',\n",
       " 'remove',\n",
       " 'reverse',\n",
       " 'sort']"
      ]
     },
     "execution_count": 2,
     "metadata": {},
     "output_type": "execute_result"
    }
   ],
   "source": [
    "dir([])  #all the things python knows about lists"
   ]
  },
  {
   "cell_type": "markdown",
   "metadata": {},
   "source": [
    "If you want python to print out helpful information about a module, get the docstring.\n",
    "The documentation string can be printed by adding '.' and the string 'doc' surrounded by double underscores on either side.  \n",
    "### print _library.method_._\\_doc\\_\\_</pre>"
   ]
  },
  {
   "cell_type": "code",
   "execution_count": 3,
   "metadata": {},
   "outputs": [
    {
     "name": "stdout",
     "output_type": "stream",
     "text": [
      "L.count(value) -> integer -- return number of occurrences of value\n"
     ]
    }
   ],
   "source": [
    "print [].count.__doc__\n",
    "#see the helpful message below"
   ]
  },
  {
   "cell_type": "code",
   "execution_count": 4,
   "metadata": {},
   "outputs": [
    {
     "name": "stdout",
     "output_type": "stream",
     "text": [
      "len(object) -> integer\n",
      "\n",
      "Return the number of items of a sequence or collection.\n"
     ]
    }
   ],
   "source": [
    "print len.__doc__"
   ]
  },
  {
   "cell_type": "markdown",
   "metadata": {},
   "source": [
    "You can write a docstring for any function you create by adding the string on the new line after the def statement:"
   ]
  },
  {
   "cell_type": "code",
   "execution_count": 5,
   "metadata": {},
   "outputs": [
    {
     "name": "stdout",
     "output_type": "stream",
     "text": [
      "returns the tax ona meal in Massachusetts\n"
     ]
    }
   ],
   "source": [
    "#check out the help text this function prints now\n",
    "def verbosetax(subtotal):\n",
    "    'returns the tax ona meal in Massachusetts'\n",
    "    return subtotal * 0.0625\n",
    "\n",
    "print verbosetax.__doc__"
   ]
  },
  {
   "cell_type": "code",
   "execution_count": null,
   "metadata": {
    "collapsed": true
   },
   "outputs": [],
   "source": []
  },
  {
   "cell_type": "markdown",
   "metadata": {},
   "source": [
    "### Tuples a new data type\n",
    "Tuples are like lists of two items.  They are declared by using round parenthesis __( )__, with items separated by commas. Unlike lists, they are immutable, meaning that once they are created the pair of numbers will always exist together as an object."
   ]
  },
  {
   "cell_type": "markdown",
   "metadata": {},
   "source": [
    "To create a tuple, simply put two things, separated by commas, inside a set of parenthesis.\n",
    "<pre>twod = (42,17)</pre>\n",
    "__Note the parenthesis used for tuples!__\n",
    "\n",
    "Python creates an object consisting of a pair of numbers wthat will always be connected. For example, the longitude and latitude on a map. That tuple will always be used to designate a particular place, and it can't be changed. You can make another location tuple and assign it to the same variable name , but the original location tuple will still remain. E.g if you favorite restaurant changes location, the old coordinates still exists although your restaurant variable will have updated coordinates."
   ]
  },
  {
   "cell_type": "markdown",
   "metadata": {
    "collapsed": true
   },
   "source": [
    "“Tuple” is the generalized name for pairs, triples, quadruples, and so on. Instead of just providing a number such as 42, a tuple allows you to pair together 42 and 17 in the form: (42, 17). So, for instance, if wanted to specify a coordinate in two- dimensional space, it would be quite a good idea to use a tuple with elements—a pair, such as (42, 17). If you needed to specify a point in three-dimensional space, a triple or tuple with three elements would be great to use\n",
    "\n",
    "Create a tuple  <pre>e.g.twod = (42,17) </pre>\n",
    "in the line below"
   ]
  },
  {
   "cell_type": "code",
   "execution_count": null,
   "metadata": {},
   "outputs": [],
   "source": [
    "twod =  ##fill this out"
   ]
  },
  {
   "cell_type": "markdown",
   "metadata": {
    "collapsed": true
   },
   "source": [
    "Create a triple  (three items together) in the line below <pre> threed = (7,6,14) </pre>"
   ]
  },
  {
   "cell_type": "code",
   "execution_count": null,
   "metadata": {},
   "outputs": [],
   "source": [
    "threed = ##fill this out"
   ]
  },
  {
   "cell_type": "code",
   "execution_count": null,
   "metadata": {},
   "outputs": [],
   "source": [
    "twod"
   ]
  },
  {
   "cell_type": "code",
   "execution_count": null,
   "metadata": {},
   "outputs": [],
   "source": [
    "threed"
   ]
  },
  {
   "cell_type": "code",
   "execution_count": null,
   "metadata": {},
   "outputs": [],
   "source": [
    "type(twod)  #should return 'tuple'"
   ]
  },
  {
   "cell_type": "code",
   "execution_count": null,
   "metadata": {},
   "outputs": [],
   "source": [
    "type(threed)  #suple is the generic name for triples, quadruples and other groups that are always together"
   ]
  },
  {
   "cell_type": "markdown",
   "metadata": {
    "collapsed": true
   },
   "source": [
    "Tuples __looks__ like list, in that you can use index annotation and slices on them \n",
    "(e.g. you can write) <pre>twod[-1]  for last item, </pre>and\n",
    "<pre>threed[1:] for all items after the first</pre>\n",
    "__Howver__ tuples are \n",
    "   1. immutable (unchangeable once created) \n",
    "   2. has a fixed number of elements\n"
   ]
  },
  {
   "cell_type": "code",
   "execution_count": null,
   "metadata": {},
   "outputs": [],
   "source": [
    "twod[-1]"
   ]
  },
  {
   "cell_type": "code",
   "execution_count": null,
   "metadata": {},
   "outputs": [],
   "source": [
    "threed[-1]"
   ]
  },
  {
   "cell_type": "markdown",
   "metadata": {},
   "source": [
    "When you try to reassign an element in a tuple to something else, you'll get an error. What would it mean for the latitude and longitude of a physical location to suddenly change? It wouldn't. "
   ]
  },
  {
   "cell_type": "code",
   "execution_count": null,
   "metadata": {},
   "outputs": [],
   "source": [
    "threed[0]  "
   ]
  },
  {
   "cell_type": "code",
   "execution_count": null,
   "metadata": {},
   "outputs": [],
   "source": [
    "threed[0] = 9   #try to  reassign tuple element, but you can't!"
   ]
  },
  {
   "cell_type": "markdown",
   "metadata": {},
   "source": [
    "Contrast that to lists, which can have elements updated and added, removed from them:"
   ]
  },
  {
   "cell_type": "code",
   "execution_count": null,
   "metadata": {},
   "outputs": [],
   "source": [
    "alist = [1,2,3] #note square brackets for lists"
   ]
  },
  {
   "cell_type": "code",
   "execution_count": null,
   "metadata": {
    "collapsed": true
   },
   "outputs": [],
   "source": [
    "alist[0]=15  #reassigning an element to a new value"
   ]
  },
  {
   "cell_type": "code",
   "execution_count": null,
   "metadata": {},
   "outputs": [],
   "source": [
    "alist  #no complaints!"
   ]
  },
  {
   "cell_type": "code",
   "execution_count": null,
   "metadata": {},
   "outputs": [],
   "source": [
    "for i in range(5):  #can make a lot of tuples by iterating\n",
    "    print (i,2,3)"
   ]
  },
  {
   "cell_type": "code",
   "execution_count": null,
   "metadata": {
    "collapsed": true
   },
   "outputs": [],
   "source": []
  },
  {
   "cell_type": "code",
   "execution_count": null,
   "metadata": {
    "collapsed": true
   },
   "outputs": [],
   "source": [
    "#Here's double double from earlier\n",
    "def double(sequence):\n",
    "    result = [];\n",
    "    for element in sequence:\n",
    "        result = result + [element*2]\n",
    "    return result"
   ]
  },
  {
   "cell_type": "code",
   "execution_count": null,
   "metadata": {},
   "outputs": [],
   "source": [
    "double(alist)"
   ]
  },
  {
   "cell_type": "code",
   "execution_count": null,
   "metadata": {},
   "outputs": [],
   "source": [
    "double((2,3,4))"
   ]
  },
  {
   "cell_type": "code",
   "execution_count": null,
   "metadata": {
    "collapsed": true
   },
   "outputs": [],
   "source": [
    "#Because we can iterate and use artithmetic on the elements, double from before works on tuples!"
   ]
  },
  {
   "cell_type": "code",
   "execution_count": null,
   "metadata": {
    "collapsed": true
   },
   "outputs": [],
   "source": []
  },
  {
   "cell_type": "markdown",
   "metadata": {
    "collapsed": true
   },
   "source": [
    "### Generating simple images -- entirely one color_\n",
    "__PIL__ is intended for image processing from other sources\n",
    "We're using it as a simple image generator. First we have to import the library using <pre>\n",
    "from PIL import Image</pre>\n",
    "Then we can create a new image using the <pre>Image.new( mode, size, color)\n",
    "The arguments, in order are:\n",
    "mode = 'RGB'\n",
    "size = (100,100)   \n",
    "color = 'white'"
   ]
  },
  {
   "cell_type": "markdown",
   "metadata": {},
   "source": [
    "#### Import the PIL library so you can work with imates"
   ]
  },
  {
   "cell_type": "code",
   "execution_count": 11,
   "metadata": {
    "collapsed": true
   },
   "outputs": [],
   "source": [
    "from PIL import Image"
   ]
  },
  {
   "cell_type": "code",
   "execution_count": 12,
   "metadata": {},
   "outputs": [],
   "source": [
    "ourimage = Image.new('RGB',(100,100), 'white')\n",
    "#create a 100x100 pixel image in RGB mode, give ieach pixel a white color"
   ]
  },
  {
   "cell_type": "code",
   "execution_count": 13,
   "metadata": {
    "collapsed": true
   },
   "outputs": [],
   "source": [
    "#save the image to the harddisk\n",
    "ourimage.save(\"allwhite.png\")"
   ]
  },
  {
   "cell_type": "markdown",
   "metadata": {
    "collapsed": true
   },
   "source": [
    "### Open a new window to show your working directory"
   ]
  },
  {
   "cell_type": "code",
   "execution_count": 14,
   "metadata": {
    "collapsed": true
   },
   "outputs": [],
   "source": [
    "#use the webbrowser library\n",
    "import webbrowser as wb \n",
    "\n",
    "#get the current working path for this ipython notebook\n",
    "mydir = %pwd"
   ]
  },
  {
   "cell_type": "code",
   "execution_count": 7,
   "metadata": {},
   "outputs": [
    {
     "data": {
      "text/plain": [
       "True"
      ]
     },
     "execution_count": 7,
     "metadata": {},
     "output_type": "execute_result"
    }
   ],
   "source": [
    "# Windows open a new window with this directory\n",
    "wb.open(mydir)"
   ]
  },
  {
   "cell_type": "code",
   "execution_count": 8,
   "metadata": {},
   "outputs": [
    {
     "data": {
      "text/plain": [
       "True"
      ]
     },
     "execution_count": 8,
     "metadata": {},
     "output_type": "execute_result"
    }
   ],
   "source": [
    "# Mac open a new window with this directory\n",
    "wb.open('file:///'+mydir)"
   ]
  },
  {
   "cell_type": "markdown",
   "metadata": {},
   "source": [
    "You can abstract out the image paramters to variables like this:"
   ]
  },
  {
   "cell_type": "code",
   "execution_count": 15,
   "metadata": {
    "collapsed": true
   },
   "outputs": [],
   "source": [
    "mode = 'RGB'  \n",
    "size = (100,100)\n",
    "color = 'red'"
   ]
  },
  {
   "cell_type": "code",
   "execution_count": 16,
   "metadata": {},
   "outputs": [],
   "source": [
    "#Make an image with the above paramters, name it ourimage2\n",
    "ourimage2 = Image.new(mode,size,color)\n",
    "\n",
    "#save it into our file system\n",
    "ourimage2.save('allred.png')"
   ]
  },
  {
   "cell_type": "code",
   "execution_count": null,
   "metadata": {
    "collapsed": true
   },
   "outputs": [],
   "source": []
  },
  {
   "cell_type": "markdown",
   "metadata": {
    "collapsed": true
   },
   "source": [
    "To figure out which is width and which is height -- change one and see"
   ]
  },
  {
   "cell_type": "code",
   "execution_count": 17,
   "metadata": {
    "collapsed": true
   },
   "outputs": [],
   "source": [
    "ourimage = Image.new('RGB',(150,100),'blue')"
   ]
  },
  {
   "cell_type": "code",
   "execution_count": 18,
   "metadata": {
    "collapsed": true
   },
   "outputs": [],
   "source": [
    "ourimage.save('allblue_notsquare.png')"
   ]
  },
  {
   "cell_type": "markdown",
   "metadata": {},
   "source": [
    "__Note__ that python recognizes different color names for the color parameter:\n",
    "red, green, blue, white, black, and maybe more...\n",
    "See the colormap of the documentation\n",
    "https://pillow.readthedocs.io/en/3.0.0/_modules/PIL/ImageColor.html\n",
    "\n",
    "You can also make the color paramter a RGB tuple:\n",
    "color = (R, G, B) where each value goes from 0-255"
   ]
  },
  {
   "cell_type": "code",
   "execution_count": null,
   "metadata": {
    "collapsed": true
   },
   "outputs": [],
   "source": []
  },
  {
   "cell_type": "code",
   "execution_count": 19,
   "metadata": {
    "collapsed": true
   },
   "outputs": [],
   "source": [
    "ourimage = Image.new('RGB',(100,100), (127,127,127)  )"
   ]
  },
  {
   "cell_type": "code",
   "execution_count": 20,
   "metadata": {
    "collapsed": true
   },
   "outputs": [],
   "source": [
    "ourimage.save('allgray.png')"
   ]
  },
  {
   "cell_type": "markdown",
   "metadata": {},
   "source": [
    "Make it redder by increasing the Red value (the first value in the __R,G,B__ color tuple)"
   ]
  },
  {
   "cell_type": "code",
   "execution_count": 21,
   "metadata": {
    "collapsed": true
   },
   "outputs": [],
   "source": [
    "ourimage = Image.new('RGB',(100,100), (200,127,127)  )"
   ]
  },
  {
   "cell_type": "code",
   "execution_count": 22,
   "metadata": {
    "collapsed": true
   },
   "outputs": [],
   "source": [
    "ourimage.save('allrose.png')"
   ]
  },
  {
   "cell_type": "code",
   "execution_count": null,
   "metadata": {
    "collapsed": true
   },
   "outputs": [],
   "source": []
  },
  {
   "cell_type": "markdown",
   "metadata": {
    "collapsed": true
   },
   "source": [
    "# Q. Create at least two new images using the Image.new() function. \n",
    "Using the template, assign them new variable names like this:\n",
    "<pre>\n",
    "myImage = Image.new('RGB',(width, height), (R,G,B))\n",
    "myImage.save('myfile.png')\n",
    "</pre>\n",
    "What you pick for the variable name, width, height, R, G, B values and filename are up to you."
   ]
  },
  {
   "cell_type": "code",
   "execution_count": null,
   "metadata": {},
   "outputs": [],
   "source": []
  },
  {
   "cell_type": "code",
   "execution_count": null,
   "metadata": {
    "collapsed": true
   },
   "outputs": [],
   "source": []
  },
  {
   "cell_type": "code",
   "execution_count": null,
   "metadata": {
    "collapsed": true
   },
   "outputs": [],
   "source": []
  },
  {
   "cell_type": "code",
   "execution_count": null,
   "metadata": {
    "collapsed": true
   },
   "outputs": [],
   "source": []
  },
  {
   "cell_type": "code",
   "execution_count": null,
   "metadata": {
    "collapsed": true
   },
   "outputs": [],
   "source": []
  },
  {
   "cell_type": "markdown",
   "metadata": {
    "collapsed": true
   },
   "source": [
    "## Setting a pixel usingputpixel(x,y)\n",
    "Given an x,y location inside the image, you can put one pixel of color there.\n",
    "You can use this template\n",
    "<pre>\n",
    "<bold>imagevariable.putpixel( (x,y), (R, G, B) )</bold></pre>\n",
    "The 1st argument is a tuple for an image coordinate \n",
    "    ( x is the horizontal location, y is the vertical location )\n",
    "    \n",
    "The 2nd argument is a color, specified as a red, green, blue tuple."
   ]
  },
  {
   "cell_type": "code",
   "execution_count": 23,
   "metadata": {
    "collapsed": true
   },
   "outputs": [],
   "source": [
    "allblack = Image.new('RGB',(100,100),(0,0,0))"
   ]
  },
  {
   "cell_type": "code",
   "execution_count": 24,
   "metadata": {
    "collapsed": true
   },
   "outputs": [],
   "source": [
    "allblack.save(\"allblack.png\")"
   ]
  },
  {
   "cell_type": "code",
   "execution_count": 25,
   "metadata": {},
   "outputs": [],
   "source": [
    "allblack.putpixel((50,50),(255,255,255))"
   ]
  },
  {
   "cell_type": "code",
   "execution_count": 26,
   "metadata": {
    "collapsed": true
   },
   "outputs": [],
   "source": [
    "allblack.save(\"almostall.png\")"
   ]
  },
  {
   "cell_type": "markdown",
   "metadata": {
    "collapsed": true
   },
   "source": [
    "## Try drawing a line\n",
    "The for loop below will iterate through every value of x from 0 to 100,<br>\n",
    "and put a white pixel, RGB = (255,255,255), inside the image named __allblack__.<br>\n",
    "This line will happen at a y height of 25 pixels inside the image. <br>\n",
    "The last line saves it out to a file named 'oneline.png'"
   ]
  },
  {
   "cell_type": "code",
   "execution_count": 27,
   "metadata": {},
   "outputs": [],
   "source": [
    "for i in range(100):\n",
    "    allblack.putpixel((i,25),(255,255,255))"
   ]
  },
  {
   "cell_type": "code",
   "execution_count": 28,
   "metadata": {
    "collapsed": true
   },
   "outputs": [],
   "source": [
    "allblack.save('oneline.png')"
   ]
  },
  {
   "cell_type": "code",
   "execution_count": null,
   "metadata": {
    "collapsed": true
   },
   "outputs": [],
   "source": []
  },
  {
   "cell_type": "markdown",
   "metadata": {},
   "source": [
    "## Drawing a vertical line \n",
    "The for loop below will go through every value of y from 0 to 100, <br>\n",
    "and put a white pixel, RGB = (255,255,255), inside the image named __allblack.__<br>\n",
    "This line will happen at a x width of 25 pixels inside the image. \n",
    "The last line saves it to a file named 'vline.png'"
   ]
  },
  {
   "cell_type": "code",
   "execution_count": 29,
   "metadata": {},
   "outputs": [],
   "source": [
    "for i in range(100):\n",
    "    allblack.putpixel((25,i),(255,255,255))"
   ]
  },
  {
   "cell_type": "code",
   "execution_count": 30,
   "metadata": {
    "collapsed": true
   },
   "outputs": [],
   "source": [
    "allblack.save('vline.png')"
   ]
  },
  {
   "cell_type": "code",
   "execution_count": null,
   "metadata": {
    "collapsed": true
   },
   "outputs": [],
   "source": []
  },
  {
   "cell_type": "markdown",
   "metadata": {},
   "source": [
    "## Iterate through all x and y values in an image.\n",
    "Create a new black rectangle image that is 150x100. <br>\n",
    "As the code goes through all the horizontal rows, <br>\n",
    "take every vertical pixel and<br>\n",
    "put a gray pixel in its place."
   ]
  },
  {
   "cell_type": "code",
   "execution_count": 31,
   "metadata": {
    "collapsed": true
   },
   "outputs": [],
   "source": [
    "rectangle = Image.new('RGB',(150,100),(0,0,0))"
   ]
  },
  {
   "cell_type": "code",
   "execution_count": 32,
   "metadata": {
    "collapsed": true
   },
   "outputs": [],
   "source": [
    "for x in range(150):\n",
    "    for y in range(100): \n",
    "        rectangle.putpixel((x,y),(127,127,127))"
   ]
  },
  {
   "cell_type": "code",
   "execution_count": 33,
   "metadata": {
    "collapsed": true
   },
   "outputs": [],
   "source": [
    "rectangle.save('rectangle.png')"
   ]
  },
  {
   "cell_type": "code",
   "execution_count": null,
   "metadata": {
    "collapsed": true
   },
   "outputs": [],
   "source": []
  },
  {
   "cell_type": "code",
   "execution_count": null,
   "metadata": {
    "collapsed": true
   },
   "outputs": [],
   "source": []
  },
  {
   "cell_type": "markdown",
   "metadata": {
    "collapsed": true
   },
   "source": [
    "#### Change the color of each pixel as we move through\n",
    "Instead of using (127,127,127) for every pixel, let's color each pixel by the x position (x,x,x)."
   ]
  },
  {
   "cell_type": "code",
   "execution_count": 34,
   "metadata": {
    "collapsed": true
   },
   "outputs": [],
   "source": [
    "for x in range(150):\n",
    "    for y in range(100): \n",
    "        rectangle.putpixel((x,y),(x,x,x))"
   ]
  },
  {
   "cell_type": "code",
   "execution_count": 35,
   "metadata": {
    "collapsed": true
   },
   "outputs": [],
   "source": [
    "rectangle.save('gradient.png')"
   ]
  },
  {
   "cell_type": "markdown",
   "metadata": {},
   "source": [
    "### Q. can you make this gradient go along the vertical  instead of the horizontal axis? Fill in the 3D tuple below."
   ]
  },
  {
   "cell_type": "code",
   "execution_count": 38,
   "metadata": {},
   "outputs": [],
   "source": [
    "for x in range(150):\n",
    "    for y in range(100): \n",
    "        rectangle.putpixel((x,y),(y,y,y))"
   ]
  },
  {
   "cell_type": "code",
   "execution_count": 39,
   "metadata": {
    "collapsed": true
   },
   "outputs": [],
   "source": [
    "rectangle.save('vertical_gradient.png')"
   ]
  },
  {
   "cell_type": "markdown",
   "metadata": {},
   "source": [
    "#### Change the color of each pixel based on arithmetic x and y value."
   ]
  },
  {
   "cell_type": "code",
   "execution_count": 40,
   "metadata": {
    "collapsed": true
   },
   "outputs": [],
   "source": [
    "for x in range(150):\n",
    "    for y in range(100): \n",
    "        rectangle.putpixel((x,y),(x+y,x+y,x+y))"
   ]
  },
  {
   "cell_type": "code",
   "execution_count": 41,
   "metadata": {
    "collapsed": true
   },
   "outputs": [],
   "source": [
    "rectangle.save('diagonal_gradient.png')"
   ]
  },
  {
   "cell_type": "markdown",
   "metadata": {},
   "source": [
    "Get an image's size by calling Image.size attribute. This will return a tuple with the width and height in pixels."
   ]
  },
  {
   "cell_type": "markdown",
   "metadata": {},
   "source": [
    "## Image.size attribute"
   ]
  },
  {
   "cell_type": "code",
   "execution_count": 42,
   "metadata": {},
   "outputs": [
    {
     "data": {
      "text/plain": [
       "(150, 100)"
      ]
     },
     "execution_count": 42,
     "metadata": {},
     "output_type": "execute_result"
    }
   ],
   "source": [
    "rectangle.size  #This should return the size tuple (width, height"
   ]
  },
  {
   "cell_type": "code",
   "execution_count": 43,
   "metadata": {},
   "outputs": [
    {
     "data": {
      "text/plain": [
       "150"
      ]
     },
     "execution_count": 43,
     "metadata": {},
     "output_type": "execute_result"
    }
   ],
   "source": [
    "rectangle.size[0]  #Like in a list, the first element can be retrieved by index 0"
   ]
  },
  {
   "cell_type": "code",
   "execution_count": 44,
   "metadata": {},
   "outputs": [
    {
     "data": {
      "text/plain": [
       "100"
      ]
     },
     "execution_count": 44,
     "metadata": {},
     "output_type": "execute_result"
    }
   ],
   "source": [
    "rectangle.size[1] #Like in a list, the 2nd element can be retrieved by index 1"
   ]
  },
  {
   "cell_type": "raw",
   "metadata": {},
   "source": [
    "Here we create an image using a new size tuple"
   ]
  },
  {
   "cell_type": "code",
   "execution_count": 45,
   "metadata": {
    "collapsed": true
   },
   "outputs": [],
   "source": [
    "bigger = Image.new('RGB',(500,600),(0,0,0))"
   ]
  },
  {
   "cell_type": "code",
   "execution_count": 46,
   "metadata": {},
   "outputs": [
    {
     "data": {
      "text/plain": [
       "(500, 600)"
      ]
     },
     "execution_count": 46,
     "metadata": {},
     "output_type": "execute_result"
    }
   ],
   "source": [
    "bigger.size"
   ]
  },
  {
   "cell_type": "code",
   "execution_count": 47,
   "metadata": {},
   "outputs": [
    {
     "data": {
      "text/plain": [
       "500"
      ]
     },
     "execution_count": 47,
     "metadata": {},
     "output_type": "execute_result"
    }
   ],
   "source": [
    "bigger.size[0]"
   ]
  },
  {
   "cell_type": "code",
   "execution_count": 48,
   "metadata": {},
   "outputs": [
    {
     "data": {
      "text/plain": [
       "600"
      ]
     },
     "execution_count": 48,
     "metadata": {},
     "output_type": "execute_result"
    }
   ],
   "source": [
    "bigger.size[1]"
   ]
  },
  {
   "cell_type": "markdown",
   "metadata": {},
   "source": [
    "Now we can create a grayout function to work for any image sizes"
   ]
  },
  {
   "cell_type": "code",
   "execution_count": 49,
   "metadata": {
    "collapsed": true
   },
   "outputs": [],
   "source": [
    "def grayout(pngimage):\n",
    "    for x in range(pngimage.size[0]):\n",
    "        for y in range(pngimage.size[1]):\n",
    "            pngimage.putpixel((x,y),(127,127,127))"
   ]
  },
  {
   "cell_type": "code",
   "execution_count": 50,
   "metadata": {
    "collapsed": true
   },
   "outputs": [],
   "source": [
    "test = Image.new('RGB',(150,100), (0,0,0))"
   ]
  },
  {
   "cell_type": "code",
   "execution_count": 51,
   "metadata": {
    "collapsed": true
   },
   "outputs": [],
   "source": [
    "grayout(test)"
   ]
  },
  {
   "cell_type": "code",
   "execution_count": 52,
   "metadata": {
    "collapsed": true
   },
   "outputs": [],
   "source": [
    "test.save('test1.png')"
   ]
  },
  {
   "cell_type": "markdown",
   "metadata": {
    "collapsed": true
   },
   "source": [
    "### Now try running grayout function on different sized images:bigger and  rectangle."
   ]
  },
  {
   "cell_type": "markdown",
   "metadata": {},
   "source": [
    "Verify that the function to process every pixel works on any sized image."
   ]
  },
  {
   "cell_type": "code",
   "execution_count": 53,
   "metadata": {},
   "outputs": [],
   "source": [
    "grayout(bigger)"
   ]
  },
  {
   "cell_type": "code",
   "execution_count": 54,
   "metadata": {},
   "outputs": [],
   "source": [
    "bigger.save('graybig.png')"
   ]
  },
  {
   "cell_type": "code",
   "execution_count": 55,
   "metadata": {
    "collapsed": true
   },
   "outputs": [],
   "source": [
    "grayout(rectangle)"
   ]
  },
  {
   "cell_type": "code",
   "execution_count": 56,
   "metadata": {
    "collapsed": true
   },
   "outputs": [],
   "source": [
    "rectangle.save('grayrectangle.png')"
   ]
  },
  {
   "cell_type": "markdown",
   "metadata": {
    "collapsed": true
   },
   "source": [
    "## Use image.open with a filename argument to open the file into python."
   ]
  },
  {
   "cell_type": "code",
   "execution_count": 57,
   "metadata": {},
   "outputs": [],
   "source": [
    "ourimage = Image.open('heart.png') #'heart.png' has to be in the working directory"
   ]
  },
  {
   "cell_type": "code",
   "execution_count": 58,
   "metadata": {
    "collapsed": true
   },
   "outputs": [],
   "source": [
    "ourimage.save('ours.png')  #check that this is the same image as the one you opened"
   ]
  },
  {
   "cell_type": "code",
   "execution_count": 59,
   "metadata": {
    "collapsed": true
   },
   "outputs": [],
   "source": [
    "#now tryout our grayout function\n",
    "grayout(ourimage)"
   ]
  },
  {
   "cell_type": "code",
   "execution_count": 60,
   "metadata": {
    "collapsed": true
   },
   "outputs": [],
   "source": [
    "ourimage.save('ournew.png')"
   ]
  },
  {
   "cell_type": "code",
   "execution_count": 61,
   "metadata": {
    "collapsed": true
   },
   "outputs": [],
   "source": [
    "#check that this new image is all grayed out\n",
    "#otherwise check your function or restart ipython"
   ]
  },
  {
   "cell_type": "code",
   "execution_count": null,
   "metadata": {
    "collapsed": true
   },
   "outputs": [],
   "source": []
  },
  {
   "cell_type": "code",
   "execution_count": null,
   "metadata": {
    "collapsed": true
   },
   "outputs": [],
   "source": []
  },
  {
   "cell_type": "code",
   "execution_count": null,
   "metadata": {
    "collapsed": true
   },
   "outputs": [],
   "source": []
  },
  {
   "cell_type": "markdown",
   "metadata": {
    "collapsed": true
   },
   "source": [
    "### Image Modifications\n",
    "often require looking at the color of a pixel. To do that, Image has a method called getpixel."
   ]
  },
  {
   "cell_type": "code",
   "execution_count": null,
   "metadata": {
    "collapsed": true
   },
   "outputs": [],
   "source": []
  },
  {
   "cell_type": "code",
   "execution_count": 62,
   "metadata": {},
   "outputs": [
    {
     "data": {
      "text/plain": [
       "(127, 127, 127)"
      ]
     },
     "execution_count": 62,
     "metadata": {},
     "output_type": "execute_result"
    }
   ],
   "source": [
    "ourimage.getpixel((0,0))   #get a pixel from the image"
   ]
  },
  {
   "cell_type": "code",
   "execution_count": 63,
   "metadata": {},
   "outputs": [],
   "source": [
    "transparent = Image.open('heart_trans.png')"
   ]
  },
  {
   "cell_type": "code",
   "execution_count": 64,
   "metadata": {},
   "outputs": [
    {
     "data": {
      "text/plain": [
       "(255, 255, 255, 0)"
      ]
     },
     "execution_count": 64,
     "metadata": {},
     "output_type": "execute_result"
    }
   ],
   "source": [
    "transparent.getpixel((0,0))  #what does this return"
   ]
  },
  {
   "cell_type": "markdown",
   "metadata": {
    "collapsed": true
   },
   "source": [
    "### Template for modifying a function\n",
    "Fill in the blanks to generalize the size\n",
    "<pre>\n",
    "def modify(pngimage):\n",
    "    for x in ____:\n",
    "        for y in ____:\n",
    "            (r,g,b) = pngimage.getpixel((x,y))\n",
    "            pngimage.putpixel((x,y),(r,g,b))</pre>\n",
    "            \n",
    "\n",
    "First verify that the image that gets saved out is the same as the original.\n",
    "This means that our loop to handle any sized function is working.\n"
   ]
  },
  {
   "cell_type": "code",
   "execution_count": 65,
   "metadata": {
    "collapsed": true
   },
   "outputs": [],
   "source": [
    "def modify(pngimage):\n",
    "    for x in range(pngimage.size[0]):\n",
    "        for y in range(pngimage.size[1]):\n",
    "            (r,g,b) = pngimage.getpixel((x,y))\n",
    "            pngimage.putpixel((x,y),(r,g,b))"
   ]
  },
  {
   "cell_type": "code",
   "execution_count": 66,
   "metadata": {},
   "outputs": [],
   "source": [
    "ourimage = Image.open('heart.png')"
   ]
  },
  {
   "cell_type": "code",
   "execution_count": 67,
   "metadata": {},
   "outputs": [],
   "source": [
    "modify(ourimage)"
   ]
  },
  {
   "cell_type": "code",
   "execution_count": 68,
   "metadata": {},
   "outputs": [],
   "source": [
    "ourimage.save('modheart.png')"
   ]
  },
  {
   "cell_type": "markdown",
   "metadata": {},
   "source": [
    "Now, actually modify the function to change the intensity\n",
    "by lightening the image."
   ]
  },
  {
   "cell_type": "code",
   "execution_count": 69,
   "metadata": {
    "collapsed": true
   },
   "outputs": [],
   "source": [
    "def modify(pngimage):\n",
    "    for x in range(pngimage.size[0]):\n",
    "        for y in range(pngimage.size[1]):\n",
    "            (r,g,b) = pngimage.getpixel((x,y))\n",
    "            pngimage.putpixel((x,y),(r+64,g+64,b+64))"
   ]
  },
  {
   "cell_type": "code",
   "execution_count": 70,
   "metadata": {
    "collapsed": true
   },
   "outputs": [],
   "source": [
    "modify(ourimage)\n",
    "ourimage.save('modheart.png')"
   ]
  },
  {
   "cell_type": "code",
   "execution_count": 71,
   "metadata": {},
   "outputs": [],
   "source": [
    "modify(ourimage)"
   ]
  },
  {
   "cell_type": "code",
   "execution_count": 72,
   "metadata": {
    "collapsed": true
   },
   "outputs": [],
   "source": [
    "ourimage.save('modheart2.png')   #we can lighten it twice"
   ]
  },
  {
   "cell_type": "markdown",
   "metadata": {
    "collapsed": true
   },
   "source": [
    "Note no errors if r,g,b > 255\n",
    "\n",
    "putpixel uses saturation arithmetic, it is fault tolerant. The input parameter values are bounded, and don't throw an error if the input is <0 or > 255."
   ]
  },
  {
   "cell_type": "markdown",
   "metadata": {},
   "source": [
    "#### Generalize so modify works with transparent images too, by slicing the color tuple to isolate the alpha channel and then add it back in."
   ]
  },
  {
   "cell_type": "code",
   "execution_count": 73,
   "metadata": {
    "collapsed": true
   },
   "outputs": [],
   "source": [
    "def modify(pngimage):\n",
    "    for x in range(pngimage.size[0]):\n",
    "        for y in range(pngimage.size[1]):\n",
    "            (r,g,b) = pngimage.getpixel((x,y))[:3] #get colors only\n",
    "            new_color = ( r+64, g+64, b+64)\n",
    "            new_color = new_color + pngimage.getpixel((x,y))[3:]#add transparency\n",
    "            pngimage.putpixel((x,y),new_color)"
   ]
  },
  {
   "cell_type": "code",
   "execution_count": 75,
   "metadata": {},
   "outputs": [],
   "source": [
    "transparent = Image.open('heart_trans.png')"
   ]
  },
  {
   "cell_type": "code",
   "execution_count": 76,
   "metadata": {
    "scrolled": true
   },
   "outputs": [],
   "source": [
    "modify(transparent)"
   ]
  },
  {
   "cell_type": "code",
   "execution_count": 77,
   "metadata": {
    "collapsed": true
   },
   "outputs": [],
   "source": [
    "transparent.save('modtransparent.png')"
   ]
  },
  {
   "cell_type": "markdown",
   "metadata": {},
   "source": [
    "### How do you darken an image? \n",
    "subtract from each channel"
   ]
  },
  {
   "cell_type": "code",
   "execution_count": 78,
   "metadata": {
    "collapsed": true
   },
   "outputs": [],
   "source": [
    "def darken(pngimage):\n",
    "    for x in range(pngimage.size[0]):\n",
    "        for y in range(pngimage.size[1]):\n",
    "            (r,g,b) = pngimage.getpixel((x,y))[:3] #get colors only\n",
    "            new_color = ( r-64, g-64, b-64)\n",
    "            new_color = new_color + pngimage.getpixel((x,y))[3:]#add transparency\n",
    "            pngimage.putpixel((x,y),new_color)"
   ]
  },
  {
   "cell_type": "code",
   "execution_count": 79,
   "metadata": {},
   "outputs": [],
   "source": [
    "ourimage = Image.open('duckies.png')"
   ]
  },
  {
   "cell_type": "code",
   "execution_count": 80,
   "metadata": {},
   "outputs": [],
   "source": [
    "darken(ourimage)"
   ]
  },
  {
   "cell_type": "code",
   "execution_count": 81,
   "metadata": {
    "collapsed": true
   },
   "outputs": [],
   "source": [
    "ourimage.save('darkduckies.png')"
   ]
  },
  {
   "cell_type": "code",
   "execution_count": null,
   "metadata": {
    "collapsed": true
   },
   "outputs": [],
   "source": []
  },
  {
   "cell_type": "markdown",
   "metadata": {
    "collapsed": true
   },
   "source": [
    "### contrast\n",
    "Copy modify() and change the pixel based on closeness to rails\n",
    "Change the last line "
   ]
  },
  {
   "cell_type": "code",
   "execution_count": 82,
   "metadata": {},
   "outputs": [],
   "source": [
    "\n",
    "def contrast(pngimage):\n",
    "    for x in range(pngimage.size[0]):\n",
    "        for y in range(pngimage.size[1]):\n",
    "            (r,g,b) = pngimage.getpixel((x,y))[:3] #get colors only\n",
    "            a = pngimage.getpixel((x,y))[3:]\n",
    "            if r+g+b < 382.5:\n",
    "                pngimage.putpixel((x,y), ((r - 64), (g - 64), (b - 64))+a)\n",
    "            else:\n",
    "                pngimage.putpixel((x,y), ((r + 64), (g + 64), (b + 64))+a)\n",
    "                "
   ]
  },
  {
   "cell_type": "code",
   "execution_count": 83,
   "metadata": {
    "collapsed": true
   },
   "outputs": [],
   "source": [
    "ourimage = Image.open('duckies.png')"
   ]
  },
  {
   "cell_type": "code",
   "execution_count": 84,
   "metadata": {},
   "outputs": [],
   "source": [
    "contrast(ourimage)"
   ]
  },
  {
   "cell_type": "code",
   "execution_count": 85,
   "metadata": {
    "collapsed": true
   },
   "outputs": [],
   "source": [
    "ourimage.save('contrast_ducks.png')"
   ]
  },
  {
   "cell_type": "code",
   "execution_count": 86,
   "metadata": {
    "collapsed": true
   },
   "outputs": [],
   "source": [
    "transparent = Image.open('heart_trans.png')"
   ]
  },
  {
   "cell_type": "code",
   "execution_count": 87,
   "metadata": {},
   "outputs": [],
   "source": [
    "contrast(transparent)"
   ]
  },
  {
   "cell_type": "code",
   "execution_count": 88,
   "metadata": {
    "collapsed": true
   },
   "outputs": [],
   "source": [
    "transparent.save('contrast_hearttrans.png')"
   ]
  },
  {
   "cell_type": "code",
   "execution_count": null,
   "metadata": {
    "collapsed": true
   },
   "outputs": [],
   "source": []
  },
  {
   "cell_type": "code",
   "execution_count": null,
   "metadata": {
    "collapsed": true
   },
   "outputs": [],
   "source": []
  },
  {
   "cell_type": "code",
   "execution_count": null,
   "metadata": {
    "collapsed": true
   },
   "outputs": [],
   "source": []
  },
  {
   "cell_type": "code",
   "execution_count": null,
   "metadata": {
    "collapsed": true
   },
   "outputs": [],
   "source": []
  },
  {
   "cell_type": "markdown",
   "metadata": {
    "collapsed": true
   },
   "source": [
    "### Playing around with transformations using pixel manipulation.\n",
    "Let's start with flipping an image, you need to swap two values.\n",
    "Say you had two variables, how do you swap them?"
   ]
  },
  {
   "cell_type": "code",
   "execution_count": 89,
   "metadata": {
    "collapsed": true
   },
   "outputs": [],
   "source": [
    "a = 17\n",
    "b = 2"
   ]
  },
  {
   "cell_type": "markdown",
   "metadata": {
    "collapsed": true
   },
   "source": [
    "How to flip the values so that a = 2 and b = 17?\n",
    "Answer: Create a temporary variable"
   ]
  },
  {
   "cell_type": "code",
   "execution_count": 90,
   "metadata": {
    "collapsed": true
   },
   "outputs": [],
   "source": [
    "\n",
    "temp = a\n",
    "a = b\n",
    "b = temp"
   ]
  },
  {
   "cell_type": "code",
   "execution_count": 91,
   "metadata": {},
   "outputs": [
    {
     "data": {
      "text/plain": [
       "(2, 17)"
      ]
     },
     "execution_count": 91,
     "metadata": {},
     "output_type": "execute_result"
    }
   ],
   "source": [
    "(a,b)"
   ]
  },
  {
   "cell_type": "code",
   "execution_count": null,
   "metadata": {
    "collapsed": true
   },
   "outputs": [],
   "source": []
  },
  {
   "cell_type": "code",
   "execution_count": null,
   "metadata": {
    "collapsed": true
   },
   "outputs": [],
   "source": []
  },
  {
   "cell_type": "markdown",
   "metadata": {
    "collapsed": true
   },
   "source": [
    "Flipping in action"
   ]
  },
  {
   "cell_type": "code",
   "execution_count": 92,
   "metadata": {
    "collapsed": true
   },
   "outputs": [],
   "source": [
    "fliptest = Image.new('RGB',(2,2),'white')"
   ]
  },
  {
   "cell_type": "code",
   "execution_count": 93,
   "metadata": {},
   "outputs": [],
   "source": [
    "fliptest.putpixel((0,1),(127,127,127))   #can custom create a small pixel image just for fun\n",
    "fliptest.putpixel((1,0),(200,200,200))\n",
    "fliptest.putpixel((1,1),(64,64,64))\n",
    "fliptest.save('2x2.png')"
   ]
  },
  {
   "cell_type": "markdown",
   "metadata": {
    "collapsed": true
   },
   "source": [
    "Flip180\n"
   ]
  },
  {
   "cell_type": "code",
   "execution_count": 94,
   "metadata": {
    "collapsed": true
   },
   "outputs": [],
   "source": [
    "def flip180(pngimage):\n",
    "    width = pngimage.size[0]\n",
    "    height =pngimage.size[1]\n",
    "    newimage = Image.new('RGB',(height,width),'white')\n",
    "    for y in range(height):\n",
    "        for x in range(width):\n",
    "            newpixel = pngimage.getpixel((x,y))\n",
    "            newimage.putpixel((height-x-1,width-y-1),newpixel)\n",
    "    pngimage = newimage\n",
    "    newimage.save('rot180.png')"
   ]
  },
  {
   "cell_type": "code",
   "execution_count": 95,
   "metadata": {},
   "outputs": [],
   "source": [
    "testimage = Image.open('heart.png')"
   ]
  },
  {
   "cell_type": "code",
   "execution_count": 96,
   "metadata": {},
   "outputs": [],
   "source": [
    "flip180(testimage)"
   ]
  },
  {
   "cell_type": "markdown",
   "metadata": {},
   "source": [
    "Rotate"
   ]
  },
  {
   "cell_type": "code",
   "execution_count": 97,
   "metadata": {
    "collapsed": true
   },
   "outputs": [],
   "source": [
    "def rotate(pngimage):\n",
    "    width = pngimage.size[0]\n",
    "    height =pngimage.size[1]\n",
    "    newimage = Image.new('RGB',(height,width),'white')\n",
    "    for y in range(height):\n",
    "        for x in range(width):\n",
    "            newpixel = pngimage.getpixel((x,y))\n",
    "            newimage.putpixel((width-y-1,x),newpixel)\n",
    "    newimage.show()\n",
    "    "
   ]
  },
  {
   "cell_type": "code",
   "execution_count": 98,
   "metadata": {},
   "outputs": [],
   "source": [
    "testimage = Image.open('squareduck.png')  #image has to be square"
   ]
  },
  {
   "cell_type": "code",
   "execution_count": 99,
   "metadata": {},
   "outputs": [],
   "source": [
    "rotate(testimage)"
   ]
  },
  {
   "cell_type": "code",
   "execution_count": null,
   "metadata": {
    "collapsed": true
   },
   "outputs": [],
   "source": []
  },
  {
   "cell_type": "markdown",
   "metadata": {},
   "source": [
    "Horizontal Flip"
   ]
  },
  {
   "cell_type": "code",
   "execution_count": 100,
   "metadata": {
    "collapsed": true
   },
   "outputs": [],
   "source": [
    "def fliph(pngimage):\n",
    "    width = pngimage.size[0]\n",
    "    for y in range(pngimage.size[1]):\n",
    "        for x in range(width/2):\n",
    "            left = pngimage.getpixel((x,y))\n",
    "            right = pngimage.getpixel((width - 1 - x,y ))\n",
    "            pngimage.putpixel((width - 1 - x, y), left)\n",
    "            pngimage.putpixel((x,y), right)"
   ]
  },
  {
   "cell_type": "code",
   "execution_count": 101,
   "metadata": {
    "collapsed": true
   },
   "outputs": [],
   "source": [
    "flipme = Image.open('heart.png')"
   ]
  },
  {
   "cell_type": "code",
   "execution_count": 102,
   "metadata": {
    "collapsed": true
   },
   "outputs": [],
   "source": [
    "fliph(flipme)"
   ]
  },
  {
   "cell_type": "code",
   "execution_count": 103,
   "metadata": {
    "collapsed": true
   },
   "outputs": [],
   "source": [
    "flipme.save('hflipped.png')"
   ]
  },
  {
   "cell_type": "markdown",
   "metadata": {},
   "source": [
    "### Q.  How might you perform a vertical Flip? Fill out the function below."
   ]
  },
  {
   "cell_type": "code",
   "execution_count": 104,
   "metadata": {
    "collapsed": true
   },
   "outputs": [],
   "source": [
    "def flipv(pngimage):\n",
    "    height = pngimage.size[1]\n",
    "    for x in range(pngimage.size[0]):\n",
    "        for y in range( height/2 ):\n",
    "            top = pngimage.getpixel((x,y))\n",
    "            bottom = pngimage.getpixel((x,height - 1 - y ))\n",
    "            pngimage.putpixel((x,y), bottom)\n",
    "            pngimage.putpixel((x, height - 1 - y), top)\n",
    "            "
   ]
  },
  {
   "cell_type": "code",
   "execution_count": 105,
   "metadata": {
    "collapsed": true
   },
   "outputs": [],
   "source": [
    "flipme = Image.open('heart.png')"
   ]
  },
  {
   "cell_type": "code",
   "execution_count": 106,
   "metadata": {},
   "outputs": [],
   "source": [
    "flipv(flipme)"
   ]
  },
  {
   "cell_type": "code",
   "execution_count": 107,
   "metadata": {
    "collapsed": true
   },
   "outputs": [],
   "source": [
    "flipme.save('vflipped.png')"
   ]
  },
  {
   "cell_type": "code",
   "execution_count": null,
   "metadata": {
    "collapsed": true
   },
   "outputs": [],
   "source": []
  },
  {
   "cell_type": "code",
   "execution_count": null,
   "metadata": {
    "collapsed": true
   },
   "outputs": [],
   "source": []
  },
  {
   "cell_type": "code",
   "execution_count": null,
   "metadata": {
    "collapsed": true
   },
   "outputs": [],
   "source": []
  },
  {
   "cell_type": "markdown",
   "metadata": {
    "collapsed": true
   },
   "source": [
    "Colored checkerboard"
   ]
  },
  {
   "cell_type": "code",
   "execution_count": 108,
   "metadata": {},
   "outputs": [],
   "source": [
    "img = Image.new( 'RGB', (255,255), \"black\") # create a new black image\n",
    "pixels = img.load() # another way of creating an image\n",
    "\n",
    "for i in range(img.size[0]):    # for every pixel:\n",
    "    for j in range(img.size[1]):\n",
    "        pixels[i,j] = (i, j, 100) # set the colour accordingly\n",
    "img.save('tile.png') #pretty pixels based on x,y location"
   ]
  },
  {
   "cell_type": "markdown",
   "metadata": {},
   "source": [
    "Cropping"
   ]
  },
  {
   "cell_type": "code",
   "execution_count": 109,
   "metadata": {},
   "outputs": [],
   "source": [
    "\n",
    "img = Image.open('squareduck.png')\n",
    "imgwidth,imgheight = img.size\n",
    "img.show()  #I'm going to use img.show to look at what's in python's memory (it's not saved yet)\n",
    "cropped = img.crop((75,75,150,150))\n",
    "cropped.save('duckcrop.png')\n",
    "cropped.show()"
   ]
  },
  {
   "cell_type": "markdown",
   "metadata": {
    "collapsed": true
   },
   "source": [
    "Copy and Paste"
   ]
  },
  {
   "cell_type": "code",
   "execution_count": 110,
   "metadata": {},
   "outputs": [],
   "source": [
    "#copy and paste images together\n",
    "duckies = Image.open('duckies.png')\n",
    "\n",
    "#modify the copy\n",
    "duckscopy = duckies.copy()\n",
    "duckscrop = duckscopy.crop((75,75,150,150))\n",
    "duckscrop.show()\n",
    "duckscrop.save('duckscrop.png')\n",
    "\n",
    "pig = Image.open('piggy_trans.png')\n"
   ]
  },
  {
   "cell_type": "code",
   "execution_count": 111,
   "metadata": {},
   "outputs": [
    {
     "name": "stdout",
     "output_type": "stream",
     "text": [
      "(322, 322)\n",
      "(75, 75)\n"
     ]
    }
   ],
   "source": [
    "print pig.size\n",
    "print duckscrop.size"
   ]
  },
  {
   "cell_type": "code",
   "execution_count": 112,
   "metadata": {},
   "outputs": [],
   "source": [
    "#resize so that pig can hold 5x5 images (75*5)\n",
    "newwidth, newheight = duckscrop.size \n",
    "bigpig = pig.resize(( newwidth * 5, newheight * 5 ))"
   ]
  },
  {
   "cell_type": "code",
   "execution_count": 113,
   "metadata": {},
   "outputs": [
    {
     "name": "stdout",
     "output_type": "stream",
     "text": [
      "(375, 375)\n",
      "(75, 75)\n"
     ]
    }
   ],
   "source": [
    "print bigpig.size\n",
    "print duckscrop.size\n"
   ]
  },
  {
   "cell_type": "code",
   "execution_count": 114,
   "metadata": {
    "collapsed": true
   },
   "outputs": [],
   "source": [
    "#Note that the paste() method modifies its Image object in place; \n",
    "#it does not return an Image object with the pasted image\n",
    "bigpig.paste(duckscrop,(0,0))\n",
    "bigpig.save('pigsandduck.png')"
   ]
  },
  {
   "cell_type": "code",
   "execution_count": null,
   "metadata": {
    "collapsed": true
   },
   "outputs": [],
   "source": []
  },
  {
   "cell_type": "code",
   "execution_count": null,
   "metadata": {
    "collapsed": true
   },
   "outputs": [],
   "source": []
  },
  {
   "cell_type": "markdown",
   "metadata": {
    "collapsed": true
   },
   "source": [
    "### To Tile, you need to be able to use the range function with a stepped slice."
   ]
  },
  {
   "cell_type": "code",
   "execution_count": 115,
   "metadata": {},
   "outputs": [
    {
     "name": "stdout",
     "output_type": "stream",
     "text": [
      "10 10\n"
     ]
    }
   ],
   "source": [
    "#A small black tile\n",
    "tile = Image.new('RGB', (10,10),'black')\n",
    "tilew,tileh = tile.size\n",
    "print tilew, tileh\n",
    "tile.show() #small black tile\n",
    "#we can use the show() function to pop open a view of the image"
   ]
  },
  {
   "cell_type": "code",
   "execution_count": 116,
   "metadata": {},
   "outputs": [
    {
     "name": "stdout",
     "output_type": "stream",
     "text": [
      "(50, 50)\n"
     ]
    }
   ],
   "source": [
    "#Make aa white background \n",
    "background = Image.new('RGB',(tilew*5,tileh*5),'white')\n",
    "background.show()  \n",
    "print background.size"
   ]
  },
  {
   "cell_type": "code",
   "execution_count": 117,
   "metadata": {},
   "outputs": [],
   "source": [
    "#Tile by using the skip to paste the tile in every other block of pixels\n",
    "for left in range( 0, tilew*5 , tilew):\n",
    "    for top in range( 0, tileh * 5, tileh):\n",
    "        #print left,top  #verify that this gives us all 5\n",
    "        background.paste(tile,(left,top))\n",
    "#so we've tiled the whole white background image with black\n",
    "background.save('allblacktiles.png')"
   ]
  },
  {
   "cell_type": "code",
   "execution_count": 118,
   "metadata": {},
   "outputs": [
    {
     "name": "stdout",
     "output_type": "stream",
     "text": [
      "(50, 50)\n"
     ]
    }
   ],
   "source": [
    "#here we mix it up\n",
    "background = Image.new('RGB',(tilew*5,tileh*5),'white')\n",
    "background.show()\n",
    "print background.size\n",
    "i = 0\n",
    "for left in range( 0, tilew*5 , tilew):\n",
    "    for top in range( 0, tileh * 5, tileh):\n",
    "        if i%2 == 0:\n",
    "            background.paste(tile,(left,top))\n",
    "        #else:\n",
    "            #print left,top\n",
    "        i+=1\n",
    "###background.show()\n",
    "background.save('checkerboard.png')"
   ]
  },
  {
   "cell_type": "code",
   "execution_count": 119,
   "metadata": {},
   "outputs": [
    {
     "name": "stdout",
     "output_type": "stream",
     "text": [
      "(50, 50)\n"
     ]
    }
   ],
   "source": [
    "##Make a checkerboard\n",
    "background = Image.new('RGB',(tilew*5,tileh*5),'white')\n",
    "background.show()\n",
    "print background.size\n",
    "i = 0\n",
    "for left in range( 0, tilew*5 , tilew):\n",
    "    for top in range( 0, tileh * 5, tileh):\n",
    "        if i%2 == 0:\n",
    "            background.paste(tile,(left,top))\n",
    "        i+=1\n",
    "background.save('checkerboard.png')"
   ]
  },
  {
   "cell_type": "code",
   "execution_count": 120,
   "metadata": {},
   "outputs": [
    {
     "name": "stdout",
     "output_type": "stream",
     "text": [
      "(200, 200)\n",
      "(322, 322)\n",
      "(200, 200)\n"
     ]
    }
   ],
   "source": [
    "#tiling images that are on your computer\n",
    "sqduck = Image.open('squareduck.png')\n",
    "print sqduck.size\n",
    "sqpig = Image.open('piggy_trans.png')\n",
    "print sqpig.size\n",
    "sqpig = sqpig.resize((200,200))  #need to crop first\n",
    "print sqpig.size"
   ]
  },
  {
   "cell_type": "code",
   "execution_count": 121,
   "metadata": {},
   "outputs": [
    {
     "name": "stdout",
     "output_type": "stream",
     "text": [
      "(1000, 1000)\n"
     ]
    }
   ],
   "source": [
    "background = Image.new('RGB',(1000,1000),'white')\n",
    "#background.show()\n",
    "print background.size  #we made a big background\n",
    "i = 0  #counter\n",
    "for left in range( 0, 1000 , 200):\n",
    "    for top in range( 0, 1000, 200):\n",
    "        if i%2 == 0:\n",
    "            background.paste(sqpig,(left,top))  #every even number, paste the pig\n",
    "        else:\n",
    "            background.paste(sqduck,(left,top)) #ever odd number, paste the duck\n",
    "        i+=1  #increment the counter\n",
    "background.save('pigsandducks.png')"
   ]
  },
  {
   "cell_type": "code",
   "execution_count": null,
   "metadata": {
    "collapsed": true
   },
   "outputs": [],
   "source": []
  },
  {
   "cell_type": "markdown",
   "metadata": {
    "collapsed": true
   },
   "source": [
    "### Bonus Q.  Using the code above as a template, create your own checkerboard images. Select or create new tile images.\n"
   ]
  },
  {
   "cell_type": "code",
   "execution_count": null,
   "metadata": {},
   "outputs": [],
   "source": []
  },
  {
   "cell_type": "code",
   "execution_count": null,
   "metadata": {
    "collapsed": true
   },
   "outputs": [],
   "source": []
  }
 ],
 "metadata": {
  "kernelspec": {
   "display_name": "Python 2",
   "language": "python",
   "name": "python2"
  },
  "language_info": {
   "codemirror_mode": {
    "name": "ipython",
    "version": 2
   },
   "file_extension": ".py",
   "mimetype": "text/x-python",
   "name": "python",
   "nbconvert_exporter": "python",
   "pygments_lexer": "ipython2",
   "version": "2.7.13"
  }
 },
 "nbformat": 4,
 "nbformat_minor": 1
}
