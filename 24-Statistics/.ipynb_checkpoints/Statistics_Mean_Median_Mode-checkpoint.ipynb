{
 "cells": [
  {
   "cell_type": "markdown",
   "metadata": {
    "deletable": true,
    "editable": true
   },
   "source": [
    "### Statistics \n",
    "\n"
   ]
  },
  {
   "cell_type": "code",
   "execution_count": 2,
   "metadata": {
    "collapsed": true,
    "deletable": true,
    "editable": true
   },
   "outputs": [],
   "source": [
    "def mean(sequence):\n",
    "    sum = 0.0\n",
    "    for element in sequence:\n",
    "        sum = sum + element\n",
    "    return sum/len(sequence) "
   ]
  },
  {
   "cell_type": "code",
   "execution_count": 3,
   "metadata": {
    "collapsed": true,
    "deletable": true,
    "editable": true
   },
   "outputs": [],
   "source": [
    "def median(sequence):\n",
    "    sequence.sort()\n",
    "    half = len(sequence)/2\n",
    "    if (len(sequence) % 2 == 0):  #return 2 middle points\n",
    "        return list([sequence[half-1], sequence[half]])\n",
    "    else:\n",
    "        return sequence[half]  #return middle point"
   ]
  },
  {
   "cell_type": "code",
   "execution_count": 4,
   "metadata": {
    "collapsed": false,
    "deletable": true,
    "editable": true
   },
   "outputs": [],
   "source": [
    "def mode(sequence):\n",
    "    counted = []    \n",
    "    frequent = []\n",
    "    #count how frequently each number appears \n",
    "    for num in sequence:\n",
    "        counted.append( sequence.count(num))\n",
    "    maximum_occurrences = max(counted)\n",
    "    for index in range(len(counted)):\n",
    "        if counted[index] == maximum_occurrences:\n",
    "            #list each frequent number only once\n",
    "            if sequence[index] not in frequent:\n",
    "                frequent.append(sequence[index])\n",
    "    return frequent"
   ]
  },
  {
   "cell_type": "code",
   "execution_count": 5,
   "metadata": {
    "collapsed": true,
    "deletable": true,
    "editable": true
   },
   "outputs": [],
   "source": [
    "cookies = [0,2,2,4,3,5,2,5]"
   ]
  },
  {
   "cell_type": "code",
   "execution_count": 6,
   "metadata": {
    "collapsed": false,
    "deletable": true,
    "editable": true
   },
   "outputs": [
    {
     "data": {
      "text/plain": [
       "2.875"
      ]
     },
     "execution_count": 6,
     "metadata": {},
     "output_type": "execute_result"
    }
   ],
   "source": [
    "mean(cookies)  # Most people ate 2.875 cookies"
   ]
  },
  {
   "cell_type": "code",
   "execution_count": 7,
   "metadata": {
    "collapsed": false,
    "deletable": true,
    "editable": true
   },
   "outputs": [
    {
     "data": {
      "text/plain": [
       "[2, 3]"
      ]
     },
     "execution_count": 7,
     "metadata": {},
     "output_type": "execute_result"
    }
   ],
   "source": [
    "median(cookies)  # most people ate 2 or 3 cookies"
   ]
  },
  {
   "cell_type": "code",
   "execution_count": 8,
   "metadata": {
    "collapsed": false,
    "deletable": true,
    "editable": true
   },
   "outputs": [
    {
     "data": {
      "text/plain": [
       "[2]"
      ]
     },
     "execution_count": 8,
     "metadata": {},
     "output_type": "execute_result"
    }
   ],
   "source": [
    "mode(cookies)  # More people ate 2 cookies than any other number"
   ]
  },
  {
   "cell_type": "code",
   "execution_count": 9,
   "metadata": {
    "collapsed": false,
    "deletable": true,
    "editable": true
   },
   "outputs": [
    {
     "data": {
      "text/plain": [
       "23"
      ]
     },
     "execution_count": 9,
     "metadata": {},
     "output_type": "execute_result"
    }
   ],
   "source": [
    "sum(cookies)  #23 cookies were eatdn n all"
   ]
  },
  {
   "cell_type": "markdown",
   "metadata": {
    "deletable": true,
    "editable": true
   },
   "source": [
    "### Standard of deviation gives us an idea of how spread out a set of datapoints is"
   ]
  },
  {
   "cell_type": "code",
   "execution_count": 10,
   "metadata": {
    "collapsed": false,
    "deletable": true,
    "editable": true
   },
   "outputs": [],
   "source": [
    "from math import sqrt\n",
    "def standard_deviation(sequence , population=True):\n",
    "    num_items = len(sequence)\n",
    "    mean_avg = mean(sequence)\n",
    "    differences = [x - mean_avg for x in sequence]\n",
    "    square_differences = [d **2 for d in differences]\n",
    "    sum_square_differences = sum(square_differences)\n",
    "    if population is True:\n",
    "        variance = sum_square_differences/num_items\n",
    "    else:\n",
    "        variance = sum_square_differences/(num_items - 1)\n",
    "    standard_dev = sqrt(variance)\n",
    "    \n",
    "    return standard_dev"
   ]
  },
  {
   "cell_type": "code",
   "execution_count": 11,
   "metadata": {
    "collapsed": false,
    "deletable": true,
    "editable": true
   },
   "outputs": [
    {
     "data": {
      "text/plain": [
       "1.6153559979150107"
      ]
     },
     "execution_count": 11,
     "metadata": {},
     "output_type": "execute_result"
    }
   ],
   "source": [
    "standard_deviation(cookies)"
   ]
  },
  {
   "cell_type": "markdown",
   "metadata": {
    "deletable": true,
    "editable": true
   },
   "source": [
    "This means that 67% of people ate the average cookie amount, plus or minus one standard deviation.\n",
    "95% of all people ate the average cookie amount, +/- 2 standard deviations.\n",
    "99.7% of all people ate within +/- 3 standard deviation of the average.\n",
    "\n",
    "http://jeremyjaytaylor.squarespace.com/smmctheblog/confusing-stats-terms-explained-standard-deviation.html"
   ]
  },
  {
   "cell_type": "markdown",
   "metadata": {},
   "source": [
    "### Some plotting examplies using python"
   ]
  },
  {
   "cell_type": "code",
   "execution_count": 24,
   "metadata": {
    "collapsed": false,
    "deletable": true,
    "editable": true
   },
   "outputs": [
    {
     "data": {
      "image/png": "[encoded data removed]",
      "text/plain": [
       "<matplotlib.figure.Figure at 0x1100c72d0>"
      ]
     },
     "metadata": {},
     "output_type": "display_data"
    }
   ],
   "source": [
    "import pylab\n",
    "import numpy as np\n",
    "from scipy.stats import norm\n",
    "x = np.linspace(-len(cookies),len(cookies),1000)\n",
    "y = norm.pdf(x, loc=mean(cookies), scale=standard_deviation(cookies))    # for example\n",
    "pylab.plot(x,y)\n",
    "pylab.show()"
   ]
  },
  {
   "cell_type": "markdown",
   "metadata": {},
   "source": [
    "Drawing points using numpy arrays. Can plot with plt.plot"
   ]
  },
  {
   "cell_type": "code",
   "execution_count": 41,
   "metadata": {
    "collapsed": false
   },
   "outputs": [
    {
     "data": {
      "text/plain": [
       "[<matplotlib.lines.Line2D at 0x110560550>]"
      ]
     },
     "execution_count": 41,
     "metadata": {},
     "output_type": "execute_result"
    },
    {
     "data": {
      "image/png": "[encoded data removed]",
      "text/plain": [
       "<matplotlib.figure.Figure at 0x10fb76b90>"
      ]
     },
     "metadata": {},
     "output_type": "display_data"
    }
   ],
   "source": [
    "%matplotlib inline\n",
    "import matplotlib.pyplot as plt\n",
    "import numpy as np\n",
    "x = np.array(range(len(cookies)))  #Use the number of points for x\n",
    "y = np.array(cookies)       #make an array from our data\n",
    "plt.plot(x,y,linestyle=\"None\", marker=\"*\")"
   ]
  },
  {
   "cell_type": "markdown",
   "metadata": {},
   "source": [
    "Drwaing error bars using the plt.errorbar command"
   ]
  },
  {
   "cell_type": "code",
   "execution_count": 32,
   "metadata": {
    "collapsed": false
   },
   "outputs": [
    {
     "data": {
      "text/plain": [
       "<Container object of 3 artists>"
      ]
     },
     "execution_count": 32,
     "metadata": {},
     "output_type": "execute_result"
    },
    {
     "data": {
      "image/png": "[encoded data removed]",
      "text/plain": [
       "<matplotlib.figure.Figure at 0x10937cb50>"
      ]
     },
     "metadata": {},
     "output_type": "display_data"
    }
   ],
   "source": [
    "%matplotlib inline\n",
    "import matplotlib.pyplot as plt\n",
    "import numpy as np\n",
    "x = np.array(range(len(cookies)))  #Use the number of points for x\n",
    "y = np.array(cookies)      #make an array from our data\n",
    "e - np.array([standard_deviation(cookies)])  #plot the error bars\n",
    "plt.errorbar(x,y,e,linestyle=\"-\", marker=\"*\")"
   ]
  },
  {
   "cell_type": "markdown",
   "metadata": {},
   "source": [
    "For more information, see and use Pandas - \"Python Data Analysis Library\" package\n",
    "http://pandas.pydata.org/\n",
    "http://pandas.pydata.org/pandas-docs/version/0.15.0/visualization.html"
   ]
  },
  {
   "cell_type": "code",
   "execution_count": null,
   "metadata": {
    "collapsed": true
   },
   "outputs": [],
   "source": []
  }
 ],
 "metadata": {
  "kernelspec": {
   "display_name": "Python 2",
   "language": "python",
   "name": "python2"
  },
  "language_info": {
   "codemirror_mode": {
    "name": "ipython",
    "version": 2
   },
   "file_extension": ".py",
   "mimetype": "text/x-python",
   "name": "python",
   "nbconvert_exporter": "python",
   "pygments_lexer": "ipython2",
   "version": "2.7.12"
  }
 },
 "nbformat": 4,
 "nbformat_minor": 2
}
