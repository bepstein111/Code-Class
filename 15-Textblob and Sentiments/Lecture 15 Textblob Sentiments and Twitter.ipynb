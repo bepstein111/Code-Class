{
 "cells": [
  {
   "cell_type": "markdown",
   "metadata": {},
   "source": [
    "### Natural language processing with TextBlob\n",
    "Please answer all questions marked with __Q__ to receive full credit for class participation.\n",
    "\n",
    "Preliminary steps- Go to the command line and run the following lines\n",
    "<pre>\n",
    "pip install --upgrade pip\n",
    "</pre>\n",
    "\n",
    "then get textblob, by running the following\n",
    "<pre>\n",
    "pip install -U textblob\n",
    "</pre>\n",
    "\n",
    "and finally, download a sample linguistic resource\n",
    "<pre>\n",
    "python -m textblob.download_corpora\n",
    "</pre>\n",
    "\n",
    "Now you should be able to use the TextBlob library, which is a wrapper around the Natural Language Tool Kit (NLTK). FYI- here's more documentation about Textblob: https://pypi.python.org/pypi/textblob\n"
   ]
  },
  {
   "cell_type": "code",
   "execution_count": 2,
   "metadata": {},
   "outputs": [],
   "source": [
    "from textblob import TextBlob"
   ]
  },
  {
   "cell_type": "markdown",
   "metadata": {},
   "source": [
    "Noun Phrases \n",
    "A sentence can be divided into words that work as units, or 'phrasee' that might contain smaller phrases within them.  These noun phrases are useful for classifying declarative sentences (basically a noun and a verb such as 'I know.;) Noun phrases are useful for creating sentence trees.\n",
    "\n",
    "If you have a problem with corpora, make sure you've run the preliminary steps above from the command line.\n",
    "\n",
    "If you get a problem saying you do not have nltk, type this:\n",
    "<pre>\n",
    "pip install nltk\n",
    "</pre>"
   ]
  },
  {
   "cell_type": "markdown",
   "metadata": {},
   "source": [
    "### Create a Textblob so that we can analyze it using natural language tools"
   ]
  },
  {
   "cell_type": "code",
   "execution_count": 3,
   "metadata": {},
   "outputs": [
    {
     "data": {
      "text/plain": [
       "WordList([u'yummy desserts', u'new patisserie'])"
      ]
     },
     "execution_count": 3,
     "metadata": {},
     "output_type": "execute_result"
    }
   ],
   "source": [
    "TextBlob(\"I am really in love with yummy desserts from the new patisserie.\").noun_phrases"
   ]
  },
  {
   "cell_type": "code",
   "execution_count": 4,
   "metadata": {},
   "outputs": [],
   "source": [
    "guido = TextBlob(\"Python is an experiment in how much freedom programmers \\\n",
    "need. Too much freedom and nobody can read another's code; too little and \\\n",
    "expressiveness is endangered.\")"
   ]
  },
  {
   "cell_type": "code",
   "execution_count": null,
   "metadata": {
    "collapsed": true
   },
   "outputs": [],
   "source": []
  },
  {
   "cell_type": "code",
   "execution_count": 5,
   "metadata": {},
   "outputs": [
    {
     "data": {
      "text/plain": [
       "WordList(['python', u'freedom programmers need', 'too', u\"'s code\"])"
      ]
     },
     "execution_count": 5,
     "metadata": {},
     "output_type": "execute_result"
    }
   ],
   "source": [
    "guido.noun_phrases"
   ]
  },
  {
   "cell_type": "markdown",
   "metadata": {},
   "source": [
    "__Q__. Create your own Textblob with a phrase below:"
   ]
  },
  {
   "cell_type": "code",
   "execution_count": 15,
   "metadata": {},
   "outputs": [
    {
     "data": {
      "text/plain": [
       "WordList(['talk'])"
      ]
     },
     "execution_count": 15,
     "metadata": {},
     "output_type": "execute_result"
    }
   ],
   "source": [
    "TextBlob(\"Take wrong turns. Talk to strangers. Open unmarked doors. And if you see a group of people in a field go find out what they're doing. Do things without always knowing how they'll turn out\").noun_phrases"
   ]
  },
  {
   "cell_type": "code",
   "execution_count": 16,
   "metadata": {},
   "outputs": [
    {
     "data": {
      "text/plain": [
       "WordList(['lorem', u'ipsum dolor'])"
      ]
     },
     "execution_count": 16,
     "metadata": {},
     "output_type": "execute_result"
    }
   ],
   "source": [
    "TextBlob(\"Lorem ipsum dolor sit amet, consectetur adipiscing elit\").noun_phrases"
   ]
  },
  {
   "cell_type": "markdown",
   "metadata": {},
   "source": [
    "### Pluralization"
   ]
  },
  {
   "cell_type": "code",
   "execution_count": 6,
   "metadata": {},
   "outputs": [],
   "source": [
    "from textblob import Word"
   ]
  },
  {
   "cell_type": "code",
   "execution_count": 7,
   "metadata": {},
   "outputs": [
    {
     "name": "stdout",
     "output_type": "stream",
     "text": [
      "colleges\n"
     ]
    }
   ],
   "source": [
    "w = Word('college')\n",
    "print w.pluralize()"
   ]
  },
  {
   "cell_type": "code",
   "execution_count": 8,
   "metadata": {},
   "outputs": [
    {
     "name": "stdout",
     "output_type": "stream",
     "text": [
      "children\n"
     ]
    }
   ],
   "source": [
    "w = Word('child')\n",
    "print w.pluralize()"
   ]
  },
  {
   "cell_type": "code",
   "execution_count": 9,
   "metadata": {},
   "outputs": [
    {
     "name": "stdout",
     "output_type": "stream",
     "text": [
      "knives\n"
     ]
    }
   ],
   "source": [
    "w = Word('knife')\n",
    "print w.pluralize()"
   ]
  },
  {
   "cell_type": "markdown",
   "metadata": {},
   "source": [
    "__Q__.  Create your own words and find its plural using code."
   ]
  },
  {
   "cell_type": "code",
   "execution_count": 10,
   "metadata": {},
   "outputs": [
    {
     "name": "stdout",
     "output_type": "stream",
     "text": [
      "deer\n"
     ]
    }
   ],
   "source": [
    "w = Word('deer')\n",
    "print w.pluralize()"
   ]
  },
  {
   "cell_type": "code",
   "execution_count": 11,
   "metadata": {},
   "outputs": [
    {
     "name": "stdout",
     "output_type": "stream",
     "text": [
      "octopodes\n"
     ]
    }
   ],
   "source": [
    "w = Word('octopus')\n",
    "print w.pluralize()"
   ]
  },
  {
   "cell_type": "markdown",
   "metadata": {},
   "source": [
    "### Lemmatizer  \n",
    "Retrunng the most common form of that word (eliminating verb tense and noun number)"
   ]
  },
  {
   "cell_type": "code",
   "execution_count": 12,
   "metadata": {},
   "outputs": [
    {
     "name": "stdout",
     "output_type": "stream",
     "text": [
      "woman\n"
     ]
    }
   ],
   "source": [
    "w = Word('women')\n",
    "print w.lemmatize()"
   ]
  },
  {
   "cell_type": "code",
   "execution_count": 13,
   "metadata": {},
   "outputs": [
    {
     "name": "stdout",
     "output_type": "stream",
     "text": [
      "octopus\n"
     ]
    }
   ],
   "source": [
    "w = Word('octopi')\n",
    "print w.lemmatize()"
   ]
  },
  {
   "cell_type": "code",
   "execution_count": 13,
   "metadata": {},
   "outputs": [
    {
     "name": "stdout",
     "output_type": "stream",
     "text": [
      "college\n"
     ]
    }
   ],
   "source": [
    "w = Word('colleges')\n",
    "print w.lemmatize()"
   ]
  },
  {
   "cell_type": "markdown",
   "metadata": {},
   "source": [
    "__Q.__ Lemmatize a work below."
   ]
  },
  {
   "cell_type": "code",
   "execution_count": 24,
   "metadata": {},
   "outputs": [
    {
     "name": "stdout",
     "output_type": "stream",
     "text": [
      "bully\n"
     ]
    }
   ],
   "source": [
    "w = Word('bullies')\n",
    "print w.lemmatize()"
   ]
  },
  {
   "cell_type": "markdown",
   "metadata": {
    "collapsed": true
   },
   "source": [
    "## Text Classification: Sentiment Analysis\n",
    "\n",
    "Assume that a text is a \"bag of words\" where the order of the words is ignored.\n",
    "Vocabulary that is enthusiastic and upbeet will differe from negative reviewrs.\n",
    "\n",
    "We can just split a text into sentences using **split().**\n",
    "\n",
    "\"awesome\" is strongly positive\n",
    "\"icky\" is strongly negative\n",
    "\n",
    "length can tell us another feature\n",
    "\n",
    "We'll use a Naive Bayesian Classifier \n",
    "http://textblob.readthedocs.org/en/dev/classifiers.html."
   ]
  },
  {
   "cell_type": "code",
   "execution_count": 25,
   "metadata": {},
   "outputs": [],
   "source": [
    "#http://textblob.readthedocs.org/en/dev/classifiers.html.\n",
    "from textblob.classifiers import NaiveBayesClassifier"
   ]
  },
  {
   "cell_type": "code",
   "execution_count": 26,
   "metadata": {},
   "outputs": [],
   "source": [
    "#data-- notice that each is a tuple witha string, and a pos/negative classification you specify\n",
    "sentiments = [\n",
    "    ('Wittgenstein wrote one of the greatest philosophical works ever, an incredible contribution.','pos'),\n",
    "    ('The Oulipo is a radical, pioneering group that has shaped literary history.','pos'),\n",
    "    ('The latest Katy Perry music video makes my eyes bleed.','neg'),\n",
    "    ('Movies based on comic books are becoming extremely tiresome.','neg'),\n",
    "   ]"
   ]
  },
  {
   "cell_type": "markdown",
   "metadata": {},
   "source": [
    "1. Get the source data, separate into training and test data\n",
    "2. create a new classifier based on training data\n",
    "3. Use the classficier's classify method to give a category\n",
    "    ('pos' or 'neg')\n",
    "3. You can see what the probability the classfier is assigning to each of the categories.\n",
    "4. Run the test data to see how it runs.\n"
   ]
  },
  {
   "cell_type": "markdown",
   "metadata": {},
   "source": [
    "In our test data avove, there are clearly some words that suggest a positive sentiment (“greatest,” “incredible,” “pioneering” as well as possibly “contribution” and “shaped”) and at least one that intuitively suggests a negative sentiment (“tiresome”). Some of the negativity, such as the figuration for crying in the sentence about Katy Perry’s music video, might be very difficult to discern at the word level. And perhaps more disturbingly, if we continued along the same lines and amassed numerous examples like these, we might train our system to find all references to “high cultural” matters to be positive, and all references to popular culture to be negative. That might be quite apt for particular cultural commentators, but again, it would not allow us to correctly classify texts in genera"
   ]
  },
  {
   "cell_type": "code",
   "execution_count": 27,
   "metadata": {},
   "outputs": [
    {
     "data": {
      "text/plain": [
       "4"
      ]
     },
     "execution_count": 27,
     "metadata": {},
     "output_type": "execute_result"
    }
   ],
   "source": [
    "len(sentiments) #there are four sentiments"
   ]
  },
  {
   "cell_type": "markdown",
   "metadata": {
    "collapsed": true
   },
   "source": [
    "__Q__. Practice creating your own list of sentiments, with at least three sentiments below.  Name it mysentiments (as in the example below): <pre>\n",
    "mysentiments = [ \n",
    "('Emerson is awesome!','pos'),\n",
    "('That coffee is the best!','pos'),\n",
    "('The tea was disgusting.','neg')\n",
    "]"
   ]
  },
  {
   "cell_type": "code",
   "execution_count": 28,
   "metadata": {},
   "outputs": [],
   "source": [
    "mysentiments = [ \n",
    "('Taking a coding class was a great idea.','pos'),\n",
    "('I am a fan of Star Wars','pos'),\n",
    "('My computer is dying','neg')\n",
    "]"
   ]
  },
  {
   "cell_type": "code",
   "execution_count": null,
   "metadata": {
    "collapsed": true
   },
   "outputs": [],
   "source": []
  },
  {
   "cell_type": "markdown",
   "metadata": {},
   "source": [
    "__Q__. Use code to find the length of your sentiments, using the len() function."
   ]
  },
  {
   "cell_type": "code",
   "execution_count": 29,
   "metadata": {},
   "outputs": [
    {
     "data": {
      "text/plain": [
       "3"
      ]
     },
     "execution_count": 29,
     "metadata": {},
     "output_type": "execute_result"
    }
   ],
   "source": [
    "len(mysentiments)"
   ]
  },
  {
   "cell_type": "code",
   "execution_count": null,
   "metadata": {},
   "outputs": [],
   "source": []
  },
  {
   "cell_type": "markdown",
   "metadata": {},
   "source": [
    "### Now we list our \"training data\" for the classifier.  "
   ]
  },
  {
   "cell_type": "code",
   "execution_count": 30,
   "metadata": {},
   "outputs": [],
   "source": [
    "#Our training data\n",
    "train = [\n",
    "    ('I love this sandwich.', 'pos'),\n",
    "    ('this is an amazing place!', 'pos'),\n",
    "    ('I feel very good about these beers.', 'pos'),\n",
    "    ('this is my best work.', 'pos'),\n",
    "    (\"what an awesome view\", 'pos'),\n",
    "    ('I do not like this restaurant', 'neg'),\n",
    "    ('I am tired of this stuff.', 'neg'),\n",
    "    (\"I can't deal with this\", 'neg'),\n",
    "    ('he is my sworn enemy!', 'neg'),\n",
    "    ('my boss is horrible.', 'neg')\n",
    "    ]"
   ]
  },
  {
   "cell_type": "code",
   "execution_count": 31,
   "metadata": {},
   "outputs": [],
   "source": [
    "#Append your own set of texts to the training data\n",
    "my_data = [('Can you believe how hot this is?', 'pos'),\n",
    "           (\"They didn't scrimped on the production quality\", 'pos'),\n",
    "           (\"I will never get those two hours back\", 'neg'),\n",
    "           (\"Its not my cup of tea\", 'neg')\n",
    "          ]\n",
    "\n",
    "train = train + my_data"
   ]
  },
  {
   "cell_type": "code",
   "execution_count": 32,
   "metadata": {},
   "outputs": [],
   "source": [
    "my_data = [('Man, hangovers sure suck!', 'neg'),\n",
    "           (\"I have drunk too much and need a lift home.\", 'neg'),\n",
    "           (\"Sometimes we need to call it quits early.\", 'neg'),\n",
    "           (\"Only drink a moderate amount and you'll be fine\", 'pos')\n",
    "          ]"
   ]
  },
  {
   "cell_type": "code",
   "execution_count": 33,
   "metadata": {},
   "outputs": [],
   "source": [
    "train = train + my_data"
   ]
  },
  {
   "cell_type": "code",
   "execution_count": 34,
   "metadata": {},
   "outputs": [
    {
     "data": {
      "text/plain": [
       "[('I love this sandwich.', 'pos'),\n",
       " ('this is an amazing place!', 'pos'),\n",
       " ('I feel very good about these beers.', 'pos'),\n",
       " ('this is my best work.', 'pos'),\n",
       " ('what an awesome view', 'pos'),\n",
       " ('I do not like this restaurant', 'neg'),\n",
       " ('I am tired of this stuff.', 'neg'),\n",
       " (\"I can't deal with this\", 'neg'),\n",
       " ('he is my sworn enemy!', 'neg'),\n",
       " ('my boss is horrible.', 'neg'),\n",
       " ('Can you believe how hot this is?', 'pos'),\n",
       " (\"They didn't scrimped on the production quality\", 'pos'),\n",
       " ('I will never get those two hours back', 'neg'),\n",
       " ('Its not my cup of tea', 'neg'),\n",
       " ('Man, hangovers sure suck!', 'neg'),\n",
       " ('I have drunk too much and need a lift home.', 'neg'),\n",
       " ('Sometimes we need to call it quits early.', 'neg'),\n",
       " (\"Only drink a moderate amount and you'll be fine\", 'pos')]"
      ]
     },
     "execution_count": 34,
     "metadata": {},
     "output_type": "execute_result"
    }
   ],
   "source": [
    "train"
   ]
  },
  {
   "cell_type": "code",
   "execution_count": 35,
   "metadata": {},
   "outputs": [],
   "source": [
    "#test data\n",
    "test = [\n",
    "    ('the beer was good.', 'pos'),\n",
    "    ('I do not enjoy my job', 'neg'),\n",
    "    (\"I ain't feeling dandy today.\", 'neg'),\n",
    "    (\"I feel amazing!\", 'pos'),\n",
    "    ('Gary is a friend of mine.', 'pos'),\n",
    "    (\"I can't believe I'm doing this.\", 'neg'),\n",
    "    (\"I wabt to hurl chunks.\", 'neg')\n",
    "]"
   ]
  },
  {
   "cell_type": "markdown",
   "metadata": {},
   "source": [
    "## Train your classifier.\n",
    "Yes, it's that simple!\n",
    "<pre>cl = NaiveBayesClassifier(train)</pre>\n",
    "Tben, the classify(text) method to use the classifier. \n",
    "<pre>c1.classify('sentence to be classified' )</pre>\n",
    "\n",
    "Here we name our classifier __cl__ and we train it by passing in an argument of sentiment data named 'train' (defined above)."
   ]
  },
  {
   "cell_type": "code",
   "execution_count": 36,
   "metadata": {},
   "outputs": [],
   "source": [
    "cl = NaiveBayesClassifier(train)"
   ]
  },
  {
   "cell_type": "code",
   "execution_count": 37,
   "metadata": {},
   "outputs": [
    {
     "data": {
      "text/plain": [
       "'pos'"
      ]
     },
     "execution_count": 37,
     "metadata": {},
     "output_type": "execute_result"
    }
   ],
   "source": [
    "cl.classify(\"This is an amazing library!\")"
   ]
  },
  {
   "cell_type": "code",
   "execution_count": 38,
   "metadata": {},
   "outputs": [
    {
     "data": {
      "text/plain": [
       "'neg'"
      ]
     },
     "execution_count": 38,
     "metadata": {},
     "output_type": "execute_result"
    }
   ],
   "source": [
    "cl.classify(\"There was so much rain yesterday!\")"
   ]
  },
  {
   "cell_type": "code",
   "execution_count": 39,
   "metadata": {},
   "outputs": [
    {
     "data": {
      "text/plain": [
       "'neg'"
      ]
     },
     "execution_count": 39,
     "metadata": {},
     "output_type": "execute_result"
    }
   ],
   "source": [
    "cl.classify(\"I hate to shout in order to be heard.\")"
   ]
  },
  {
   "cell_type": "code",
   "execution_count": 40,
   "metadata": {},
   "outputs": [
    {
     "data": {
      "text/plain": [
       "'neg'"
      ]
     },
     "execution_count": 40,
     "metadata": {},
     "output_type": "execute_result"
    }
   ],
   "source": [
    "cl.classify(\"I can't figure out that stupid problem.\")"
   ]
  },
  {
   "cell_type": "code",
   "execution_count": 42,
   "metadata": {},
   "outputs": [
    {
     "data": {
      "text/plain": [
       "'neg'"
      ]
     },
     "execution_count": 42,
     "metadata": {},
     "output_type": "execute_result"
    }
   ],
   "source": [
    "cl.classify(\"I love rainbow kittens and sunshine.\")"
   ]
  },
  {
   "cell_type": "markdown",
   "metadata": {
    "collapsed": true
   },
   "source": [
    "__Q__ Try your own sentences on the clasifier. Look at the examples above."
   ]
  },
  {
   "cell_type": "code",
   "execution_count": 43,
   "metadata": {},
   "outputs": [
    {
     "data": {
      "text/plain": [
       "'neg'"
      ]
     },
     "execution_count": 43,
     "metadata": {},
     "output_type": "execute_result"
    }
   ],
   "source": [
    "cl.classify(\"What time is it?\")"
   ]
  },
  {
   "cell_type": "code",
   "execution_count": 45,
   "metadata": {},
   "outputs": [
    {
     "data": {
      "text/plain": [
       "'neg'"
      ]
     },
     "execution_count": 45,
     "metadata": {},
     "output_type": "execute_result"
    }
   ],
   "source": [
    "cl.classify(\"Kittens are cuddly.\")"
   ]
  },
  {
   "cell_type": "code",
   "execution_count": 46,
   "metadata": {},
   "outputs": [
    {
     "data": {
      "text/plain": [
       "'neg'"
      ]
     },
     "execution_count": 46,
     "metadata": {},
     "output_type": "execute_result"
    }
   ],
   "source": [
    "cl.classify(\"Game of Thrones\")"
   ]
  },
  {
   "cell_type": "markdown",
   "metadata": {},
   "source": [
    "Now we can programmatically loop through our list of sentiments. The following code loops through a list of sentiments and gets the classification for each sentiment."
   ]
  },
  {
   "cell_type": "code",
   "execution_count": 47,
   "metadata": {},
   "outputs": [
    {
     "name": "stdout",
     "output_type": "stream",
     "text": [
      "neg ('Wittgenstein wrote one of the greatest philosophical works ever, an incredible contribution.', 'pos')\n",
      "neg ('The Oulipo is a radical, pioneering group that has shaped literary history.', 'pos')\n",
      "neg ('The latest Katy Perry music video makes my eyes bleed.', 'neg')\n",
      "neg ('Movies based on comic books are becoming extremely tiresome.', 'neg')\n"
     ]
    }
   ],
   "source": [
    "for sent in sentiments:\n",
    "    print cl.prob_classify(sent).max(), sent"
   ]
  },
  {
   "cell_type": "markdown",
   "metadata": {},
   "source": [
    "You can get the label probability distribution with the <pre>prob_classify(text) </pre>method. This tells us what the numerical certainty the system has assigned to the positive or negative weight of the sentiment."
   ]
  },
  {
   "cell_type": "code",
   "execution_count": 48,
   "metadata": {},
   "outputs": [],
   "source": [
    "katy = cl.prob_classify('The latest Katy Perry music video makes my eyes bleed.')"
   ]
  },
  {
   "cell_type": "code",
   "execution_count": 53,
   "metadata": {},
   "outputs": [
    {
     "data": {
      "text/plain": [
       "'neg'"
      ]
     },
     "execution_count": 53,
     "metadata": {},
     "output_type": "execute_result"
    }
   ],
   "source": [
    "katy.max()"
   ]
  },
  {
   "cell_type": "code",
   "execution_count": 54,
   "metadata": {},
   "outputs": [
    {
     "data": {
      "text/plain": [
       "(0.14475286607759333, 0.8552471339224058)"
      ]
     },
     "execution_count": 54,
     "metadata": {},
     "output_type": "execute_result"
    }
   ],
   "source": [
    "katy.prob(\"pos\"),katy.prob(\"neg\")"
   ]
  },
  {
   "cell_type": "code",
   "execution_count": 55,
   "metadata": {},
   "outputs": [],
   "source": [
    "prob_dist = cl.prob_classify(\"This one's a doozy.\")"
   ]
  },
  {
   "cell_type": "code",
   "execution_count": 56,
   "metadata": {},
   "outputs": [
    {
     "data": {
      "text/plain": [
       "'neg'"
      ]
     },
     "execution_count": 56,
     "metadata": {},
     "output_type": "execute_result"
    }
   ],
   "source": [
    "prob_dist.max()  #what is it"
   ]
  },
  {
   "cell_type": "code",
   "execution_count": 57,
   "metadata": {},
   "outputs": [
    {
     "data": {
      "text/plain": [
       "0.33"
      ]
     },
     "execution_count": 57,
     "metadata": {},
     "output_type": "execute_result"
    }
   ],
   "source": [
    "round(prob_dist.prob(\"pos\"), 2)  #how positive is it?"
   ]
  },
  {
   "cell_type": "code",
   "execution_count": 58,
   "metadata": {},
   "outputs": [
    {
     "data": {
      "text/plain": [
       "0.67"
      ]
     },
     "execution_count": 58,
     "metadata": {},
     "output_type": "execute_result"
    }
   ],
   "source": [
    "round(prob_dist.prob(\"neg\"), 2) #how negative is it?"
   ]
  },
  {
   "cell_type": "markdown",
   "metadata": {},
   "source": [
    "__Q__. Now get the probability distribution of some different sentiments you supplly."
   ]
  },
  {
   "cell_type": "code",
   "execution_count": 59,
   "metadata": {},
   "outputs": [],
   "source": [
    "myprobdist = cl.prob_classify(\"I love vanilla!\")"
   ]
  },
  {
   "cell_type": "code",
   "execution_count": 60,
   "metadata": {},
   "outputs": [
    {
     "data": {
      "text/plain": [
       "'neg'"
      ]
     },
     "execution_count": 60,
     "metadata": {},
     "output_type": "execute_result"
    }
   ],
   "source": [
    "myprobdist.max()"
   ]
  },
  {
   "cell_type": "code",
   "execution_count": 61,
   "metadata": {},
   "outputs": [
    {
     "data": {
      "text/plain": [
       "0.39"
      ]
     },
     "execution_count": 61,
     "metadata": {},
     "output_type": "execute_result"
    }
   ],
   "source": [
    "round(myprobdist.prob(\"pos\"), 2)"
   ]
  },
  {
   "cell_type": "code",
   "execution_count": 62,
   "metadata": {},
   "outputs": [
    {
     "data": {
      "text/plain": [
       "0.61"
      ]
     },
     "execution_count": 62,
     "metadata": {},
     "output_type": "execute_result"
    }
   ],
   "source": [
    "round(myprobdist.prob(\"neg\"), 2)"
   ]
  },
  {
   "cell_type": "markdown",
   "metadata": {},
   "source": [
    "### Classifying Textblobs\n",
    "Another way to classify text is to pass a classifier into the __constructor__ of TextBlob and call its classify() method. This way we don't need multiple steps to get the classification.\n",
    "\n",
    "In the line below, we pass in our classifier, __cl__, that we defined earlier.\n"
   ]
  },
  {
   "cell_type": "code",
   "execution_count": 63,
   "metadata": {},
   "outputs": [
    {
     "data": {
      "text/plain": [
       "'pos'"
      ]
     },
     "execution_count": 63,
     "metadata": {},
     "output_type": "execute_result"
    }
   ],
   "source": [
    "blob = TextBlob(\"The beer is good. But the hangover is horrible.\", classifier=cl)\n",
    "\n",
    "blob.classify()"
   ]
  },
  {
   "cell_type": "code",
   "execution_count": 64,
   "metadata": {},
   "outputs": [
    {
     "name": "stdout",
     "output_type": "stream",
     "text": [
      "The beer is good.\n",
      "pos\n",
      "But the hangover is horrible.\n",
      "pos\n"
     ]
    }
   ],
   "source": [
    "##Classify each sentence.\n",
    "for s in blob.sentences:\n",
    "    print(s)\n",
    "    print(s.classify())"
   ]
  },
  {
   "cell_type": "code",
   "execution_count": 65,
   "metadata": {},
   "outputs": [],
   "source": [
    "miss = cl.prob_classify('Do not go to see this travesty of a production.')"
   ]
  },
  {
   "cell_type": "code",
   "execution_count": 66,
   "metadata": {},
   "outputs": [
    {
     "data": {
      "text/plain": [
       "'neg'"
      ]
     },
     "execution_count": 66,
     "metadata": {},
     "output_type": "execute_result"
    }
   ],
   "source": [
    "miss.max()"
   ]
  },
  {
   "cell_type": "code",
   "execution_count": null,
   "metadata": {
    "collapsed": true
   },
   "outputs": [],
   "source": []
  },
  {
   "cell_type": "code",
   "execution_count": null,
   "metadata": {
    "collapsed": true
   },
   "outputs": [],
   "source": []
  },
  {
   "cell_type": "markdown",
   "metadata": {},
   "source": [
    "### Evaluating Classifiers\n",
    "To compute the accuracy on our test set, use the __accuracy(test_data)__ method."
   ]
  },
  {
   "cell_type": "code",
   "execution_count": 67,
   "metadata": {},
   "outputs": [
    {
     "data": {
      "text/plain": [
       "[('the beer was good.', 'pos'),\n",
       " ('I do not enjoy my job', 'neg'),\n",
       " (\"I ain't feeling dandy today.\", 'neg'),\n",
       " ('I feel amazing!', 'pos'),\n",
       " ('Gary is a friend of mine.', 'pos'),\n",
       " (\"I can't believe I'm doing this.\", 'neg'),\n",
       " ('I wabt to hurl chunks.', 'neg')]"
      ]
     },
     "execution_count": 67,
     "metadata": {},
     "output_type": "execute_result"
    }
   ],
   "source": [
    "test"
   ]
  },
  {
   "cell_type": "code",
   "execution_count": 68,
   "metadata": {},
   "outputs": [
    {
     "data": {
      "text/plain": [
       "0.8571428571428571"
      ]
     },
     "execution_count": 68,
     "metadata": {},
     "output_type": "execute_result"
    }
   ],
   "source": [
    "cl.accuracy(test )"
   ]
  },
  {
   "cell_type": "code",
   "execution_count": 69,
   "metadata": {},
   "outputs": [
    {
     "data": {
      "text/plain": [
       "0.75"
      ]
     },
     "execution_count": 69,
     "metadata": {},
     "output_type": "execute_result"
    }
   ],
   "source": [
    "cl.accuracy(sentiments)"
   ]
  },
  {
   "cell_type": "markdown",
   "metadata": {},
   "source": [
    "Use the __show_informative_features()__ method to display a listing of the most informative features."
   ]
  },
  {
   "cell_type": "code",
   "execution_count": 72,
   "metadata": {},
   "outputs": [
    {
     "name": "stdout",
     "output_type": "stream",
     "text": [
      "Most Informative Features\n",
      "            contains(my) = True              neg : pos    =      1.9 : 1.0\n",
      "             contains(I) = True              neg : pos    =      1.8 : 1.0\n",
      "            contains(is) = True              pos : neg    =      1.7 : 1.0\n",
      "          contains(this) = True              pos : neg    =      1.6 : 1.0\n",
      "             contains(I) = False             pos : neg    =      1.4 : 1.0\n",
      "          contains(this) = False             neg : pos    =      1.4 : 1.0\n",
      "           contains(you) = False             neg : pos    =      1.3 : 1.0\n",
      "            contains(an) = False             neg : pos    =      1.3 : 1.0\n",
      "            contains(is) = False             neg : pos    =      1.3 : 1.0\n",
      "           contains(n't) = True              pos : neg    =      1.2 : 1.0\n",
      "             contains(a) = True              pos : neg    =      1.2 : 1.0\n",
      "           contains(and) = True              pos : neg    =      1.2 : 1.0\n",
      "            contains(my) = False             pos : neg    =      1.2 : 1.0\n",
      "            contains(of) = False             pos : neg    =      1.2 : 1.0\n",
      "          contains(need) = False             pos : neg    =      1.2 : 1.0\n",
      "           contains(not) = False             pos : neg    =      1.2 : 1.0\n",
      "        contains(amount) = False             neg : pos    =      1.1 : 1.0\n",
      "         contains(place) = False             neg : pos    =      1.1 : 1.0\n",
      "           contains(how) = False             neg : pos    =      1.1 : 1.0\n",
      "          contains(fine) = False             neg : pos    =      1.1 : 1.0\n",
      "           contains(hot) = False             neg : pos    =      1.1 : 1.0\n",
      "          contains(Only) = False             neg : pos    =      1.1 : 1.0\n",
      "    contains(production) = False             neg : pos    =      1.1 : 1.0\n",
      "         contains(about) = False             neg : pos    =      1.1 : 1.0\n",
      "      contains(sandwich) = False             neg : pos    =      1.1 : 1.0\n",
      "       contains(amazing) = False             neg : pos    =      1.1 : 1.0\n",
      "      contains(scrimped) = False             neg : pos    =      1.1 : 1.0\n",
      "          contains(work) = False             neg : pos    =      1.1 : 1.0\n",
      "         contains(these) = False             neg : pos    =      1.1 : 1.0\n",
      "      contains(moderate) = False             neg : pos    =      1.1 : 1.0\n",
      "            contains(on) = False             neg : pos    =      1.1 : 1.0\n",
      "          contains(very) = False             neg : pos    =      1.1 : 1.0\n",
      "           contains(did) = False             neg : pos    =      1.1 : 1.0\n",
      "          contains(good) = False             neg : pos    =      1.1 : 1.0\n",
      "          contains(love) = False             neg : pos    =      1.1 : 1.0\n",
      "           contains(Can) = False             neg : pos    =      1.1 : 1.0\n",
      "          contains(view) = False             neg : pos    =      1.1 : 1.0\n",
      "         contains(beers) = False             neg : pos    =      1.1 : 1.0\n",
      "          contains(feel) = False             neg : pos    =      1.1 : 1.0\n",
      "          contains(what) = False             neg : pos    =      1.1 : 1.0\n",
      "       contains(believe) = False             neg : pos    =      1.1 : 1.0\n",
      "           contains(the) = False             neg : pos    =      1.1 : 1.0\n",
      "       contains(awesome) = False             neg : pos    =      1.1 : 1.0\n",
      "         contains(drink) = False             neg : pos    =      1.1 : 1.0\n",
      "          contains(They) = False             neg : pos    =      1.1 : 1.0\n",
      "          contains(best) = False             neg : pos    =      1.1 : 1.0\n",
      "       contains(quality) = False             neg : pos    =      1.1 : 1.0\n",
      "            contains(be) = False             neg : pos    =      1.1 : 1.0\n",
      "            contains(it) = False             pos : neg    =      1.1 : 1.0\n",
      "           contains(Its) = False             pos : neg    =      1.1 : 1.0\n"
     ]
    }
   ],
   "source": [
    "cl.show_informative_features(50)  "
   ]
  },
  {
   "cell_type": "code",
   "execution_count": 73,
   "metadata": {},
   "outputs": [],
   "source": [
    "new_data = [('She is my best friend.', 'pos'),\n",
    "             (\"I'm happy to have a new friend.\", 'pos'),\n",
    "             (\"Stay thirsty, my friend.\", 'pos'),\n",
    "            (\"He ain't from around here.\", 'neg')]"
   ]
  },
  {
   "cell_type": "code",
   "execution_count": 74,
   "metadata": {},
   "outputs": [
    {
     "data": {
      "text/plain": [
       "True"
      ]
     },
     "execution_count": 74,
     "metadata": {},
     "output_type": "execute_result"
    }
   ],
   "source": [
    "cl.update(new_data)  # now if we add more data to our classifier, we can see if it is more accurate"
   ]
  },
  {
   "cell_type": "code",
   "execution_count": 75,
   "metadata": {},
   "outputs": [
    {
     "data": {
      "text/plain": [
       "1.0"
      ]
     },
     "execution_count": 75,
     "metadata": {},
     "output_type": "execute_result"
    }
   ],
   "source": [
    "cl.accuracy(test)  #compare the performance before 0.8571428571428571"
   ]
  },
  {
   "cell_type": "code",
   "execution_count": 76,
   "metadata": {},
   "outputs": [
    {
     "data": {
      "text/plain": [
       "0.5"
      ]
     },
     "execution_count": 76,
     "metadata": {},
     "output_type": "execute_result"
    }
   ],
   "source": [
    "cl.accuracy(sentiments) #compare with before 0.75, its gone down. "
   ]
  },
  {
   "cell_type": "code",
   "execution_count": 77,
   "metadata": {},
   "outputs": [
    {
     "data": {
      "text/plain": [
       "[('Wittgenstein wrote one of the greatest philosophical works ever, an incredible contribution.',\n",
       "  'pos'),\n",
       " ('The Oulipo is a radical, pioneering group that has shaped literary history.',\n",
       "  'pos'),\n",
       " ('The latest Katy Perry music video makes my eyes bleed.', 'neg'),\n",
       " ('Movies based on comic books are becoming extremely tiresome.', 'neg')]"
      ]
     },
     "execution_count": 77,
     "metadata": {},
     "output_type": "execute_result"
    }
   ],
   "source": [
    "sentiments  # note there are some sarcastic "
   ]
  },
  {
   "cell_type": "markdown",
   "metadata": {
    "collapsed": true
   },
   "source": [
    "Read more about classifiers here:\n",
    "http://textblob.readthedocs.io/en/dev/classifiers.html\n"
   ]
  },
  {
   "cell_type": "markdown",
   "metadata": {},
   "source": [
    "### Now lets use twitter to get some data\n",
    "__Preliminary steps:__\n",
    "Install twython if you don't already have it  by typing this in your command line:\n",
    "<pre>\n",
    "pip install twython\n",
    "</pre>\n",
    "Then head over to twitter and grab your own API keys and fill out the strings below:\n",
    "\n",
    "__Objtainig Twitter API credentials__\n",
    "In order to use the Twitter API, you can't just use your normal username and password. Instead, you need four magical strings. We're not even going to discuss what these strings are, or what their names mean; for now, just know that these strings, together, act as a sort of \"password\" for the Twitter API.\n",
    "\n",
    "The four magical strings are called:\n",
    "\n",
    "    API Key\n",
    "    API Secret\n",
    "    Access Token\n",
    "    Access Token Secret\n",
    "\n",
    "In order to obtain these four magical strings, we need to...\n",
    "\n",
    "    Create a Twitter \"application,\" which is associated with a Twitter account; the \"API Key\" and \"API Secret\" are created with this application;\n",
    "    Create an access token and token secret;\n",
    "    Copy all four strings to the command-line when we run a Python script that accesses Twitter.\n",
    "    For more info:\n",
    "https://iag.me/socialmedia/how-to-create-a-twitter-app-in-8-easy-steps/\n"
   ]
  },
  {
   "cell_type": "code",
   "execution_count": 78,
   "metadata": {},
   "outputs": [],
   "source": [
    "import json\n",
    "import twython"
   ]
  },
  {
   "cell_type": "code",
   "execution_count": 83,
   "metadata": {},
   "outputs": [],
   "source": [
    "# Get these stringss  by making a new app at dev.twitter.com\n",
    "api_key=  'ZyM54JehFuUAxzHlX8U5LFx8r'\n",
    "api_secret ='sGazxGlogiRvhuF4mC4FxxwcVbwOfevtVAQQN0LEZifRyfNWHY'  \n",
    "access_token = '15373645-siRRX5fRcQqodAlcjNfRnjmroe9SyZsO3vjIJUdHC'  \n",
    "token_secret =  'v9cJykpgDSeSfejYQxA0BLRDlqdZN3em0lUNa9jt4zW27'\n",
    "#open a twitter stream\n",
    "twitter = twython.Twython(api_key, api_secret, access_token, token_secret)\n",
    "\n",
    "#create a search term\n",
    "query = \"EmersonCollege\"\n",
    "\n",
    "#use twitter's api to search for most recent tweets\n",
    "response = twitter.search(q=query, result_type=\"recent\", count=1)"
   ]
  },
  {
   "cell_type": "code",
   "execution_count": 84,
   "metadata": {},
   "outputs": [
    {
     "data": {
      "text/plain": [
       "{u'search_metadata': {u'completed_in': 0.026,\n",
       "  u'count': 1,\n",
       "  u'max_id': 942258952443703296L,\n",
       "  u'max_id_str': u'942258952443703296',\n",
       "  u'next_results': u'?max_id=942258952443703295&q=EmersonCollege&count=1&include_entities=1&result_type=recent',\n",
       "  u'query': u'EmersonCollege',\n",
       "  u'refresh_url': u'?since_id=942258952443703296&q=EmersonCollege&result_type=recent&include_entities=1',\n",
       "  u'since_id': 0,\n",
       "  u'since_id_str': u'0'},\n",
       " u'statuses': [{u'contributors': None,\n",
       "   u'coordinates': None,\n",
       "   u'created_at': u'Sun Dec 17 05:03:35 +0000 2017',\n",
       "   u'entities': {u'hashtags': [],\n",
       "    u'symbols': [],\n",
       "    u'urls': [],\n",
       "    u'user_mentions': [{u'id': 17955507,\n",
       "      u'id_str': u'17955507',\n",
       "      u'indices': [3, 18],\n",
       "      u'name': u'Emerson College',\n",
       "      u'screen_name': u'EmersonCollege'}]},\n",
       "   u'favorite_count': 0,\n",
       "   u'favorited': False,\n",
       "   u'geo': None,\n",
       "   u'id': 942258952443703296L,\n",
       "   u'id_str': u'942258952443703296',\n",
       "   u'in_reply_to_screen_name': None,\n",
       "   u'in_reply_to_status_id': None,\n",
       "   u'in_reply_to_status_id_str': None,\n",
       "   u'in_reply_to_user_id': None,\n",
       "   u'in_reply_to_user_id_str': None,\n",
       "   u'is_quote_status': False,\n",
       "   u'lang': u'en',\n",
       "   u'metadata': {u'iso_language_code': u'en', u'result_type': u'recent'},\n",
       "   u'place': None,\n",
       "   u'retweet_count': 40,\n",
       "   u'retweeted': False,\n",
       "   u'retweeted_status': {u'contributors': None,\n",
       "    u'coordinates': None,\n",
       "    u'created_at': u'Sat Dec 16 18:30:24 +0000 2017',\n",
       "    u'entities': {u'hashtags': [],\n",
       "     u'symbols': [],\n",
       "     u'urls': [{u'display_url': u'twitter.com/i/web/status/9\\u2026',\n",
       "       u'expanded_url': u'https://twitter.com/i/web/status/942099607999348736',\n",
       "       u'indices': [117, 140],\n",
       "       u'url': u'https://t.co/O2vfNESN5G'}],\n",
       "     u'user_mentions': []},\n",
       "    u'favorite_count': 111,\n",
       "    u'favorited': False,\n",
       "    u'geo': None,\n",
       "    u'id': 942099607999348736L,\n",
       "    u'id_str': u'942099607999348736',\n",
       "    u'in_reply_to_screen_name': None,\n",
       "    u'in_reply_to_status_id': None,\n",
       "    u'in_reply_to_status_id_str': None,\n",
       "    u'in_reply_to_user_id': None,\n",
       "    u'in_reply_to_user_id_str': None,\n",
       "    u'is_quote_status': False,\n",
       "    u'lang': u'en',\n",
       "    u'metadata': {u'iso_language_code': u'en', u'result_type': u'recent'},\n",
       "    u'place': None,\n",
       "    u'possibly_sensitive': False,\n",
       "    u'retweet_count': 40,\n",
       "    u'retweeted': False,\n",
       "    u'source': u'<a href=\"http://www.hootsuite.com\" rel=\"nofollow\">Hootsuite</a>',\n",
       "    u'text': u'Congratulations to all of our Fall 2018 Early Action Accepted Students! Welcome to Emerson. Celebrate with us by us\\u2026 https://t.co/O2vfNESN5G',\n",
       "    u'truncated': True,\n",
       "    u'user': {u'contributors_enabled': False,\n",
       "     u'created_at': u'Mon Dec 08 04:02:22 +0000 2008',\n",
       "     u'default_profile': False,\n",
       "     u'default_profile_image': False,\n",
       "     u'description': u'Where independent minds give voice to daring ideas.',\n",
       "     u'entities': {u'description': {u'urls': []},\n",
       "      u'url': {u'urls': [{u'display_url': u'emerson.edu',\n",
       "         u'expanded_url': u'http://www.emerson.edu',\n",
       "         u'indices': [0, 22],\n",
       "         u'url': u'http://t.co/HEoS62gvw1'}]}},\n",
       "     u'favourites_count': 1795,\n",
       "     u'follow_request_sent': False,\n",
       "     u'followers_count': 22502,\n",
       "     u'following': True,\n",
       "     u'friends_count': 4953,\n",
       "     u'geo_enabled': False,\n",
       "     u'has_extended_profile': False,\n",
       "     u'id': 17955507,\n",
       "     u'id_str': u'17955507',\n",
       "     u'is_translation_enabled': False,\n",
       "     u'is_translator': False,\n",
       "     u'lang': u'en',\n",
       "     u'listed_count': 641,\n",
       "     u'location': u'Boston, MA',\n",
       "     u'name': u'Emerson College',\n",
       "     u'notifications': False,\n",
       "     u'profile_background_color': u'2F438F',\n",
       "     u'profile_background_image_url': u'http://pbs.twimg.com/profile_background_images/671011427/1500e247538b4e3ff3873ec24c86e855.jpeg',\n",
       "     u'profile_background_image_url_https': u'https://pbs.twimg.com/profile_background_images/671011427/1500e247538b4e3ff3873ec24c86e855.jpeg',\n",
       "     u'profile_background_tile': False,\n",
       "     u'profile_banner_url': u'https://pbs.twimg.com/profile_banners/17955507/1487274648',\n",
       "     u'profile_image_url': u'http://pbs.twimg.com/profile_images/887688949031882752/rjbAP0G-_normal.jpg',\n",
       "     u'profile_image_url_https': u'https://pbs.twimg.com/profile_images/887688949031882752/rjbAP0G-_normal.jpg',\n",
       "     u'profile_link_color': u'62259D',\n",
       "     u'profile_sidebar_border_color': u'000000',\n",
       "     u'profile_sidebar_fill_color': u'DDEEF6',\n",
       "     u'profile_text_color': u'333333',\n",
       "     u'profile_use_background_image': True,\n",
       "     u'protected': False,\n",
       "     u'screen_name': u'EmersonCollege',\n",
       "     u'statuses_count': 14969,\n",
       "     u'time_zone': u'Eastern Time (US & Canada)',\n",
       "     u'translator_type': u'none',\n",
       "     u'url': u'http://t.co/HEoS62gvw1',\n",
       "     u'utc_offset': -18000,\n",
       "     u'verified': True}},\n",
       "   u'source': u'<a href=\"http://twitter.com/download/iphone\" rel=\"nofollow\">Twitter for iPhone</a>',\n",
       "   u'text': u'RT @EmersonCollege: Congratulations to all of our Fall 2018 Early Action Accepted Students! Welcome to Emerson. Celebrate with us by using\\u2026',\n",
       "   u'truncated': False,\n",
       "   u'user': {u'contributors_enabled': False,\n",
       "    u'created_at': u'Mon Aug 04 00:52:25 +0000 2014',\n",
       "    u'default_profile': True,\n",
       "    u'default_profile_image': False,\n",
       "    u'description': u'love yourself & your local bands. // follow @sunsnatch for my musical endeavors. debut EP FROM ALL THE WAY DOWN HERE out 2018. art is love!',\n",
       "    u'entities': {u'description': {u'urls': []},\n",
       "     u'url': {u'urls': [{u'display_url': u'miaonmusic.blogspot.com',\n",
       "        u'expanded_url': u'http://miaonmusic.blogspot.com',\n",
       "        u'indices': [0, 23],\n",
       "        u'url': u'https://t.co/z5bWyhOv8f'}]}},\n",
       "    u'favourites_count': 1425,\n",
       "    u'follow_request_sent': False,\n",
       "    u'followers_count': 236,\n",
       "    u'following': False,\n",
       "    u'friends_count': 498,\n",
       "    u'geo_enabled': False,\n",
       "    u'has_extended_profile': True,\n",
       "    u'id': 2732893829L,\n",
       "    u'id_str': u'2732893829',\n",
       "    u'is_translation_enabled': False,\n",
       "    u'is_translator': False,\n",
       "    u'lang': u'en',\n",
       "    u'listed_count': 0,\n",
       "    u'location': u'7/11',\n",
       "    u'name': u'mia!',\n",
       "    u'notifications': False,\n",
       "    u'profile_background_color': u'C0DEED',\n",
       "    u'profile_background_image_url': u'http://abs.twimg.com/images/themes/theme1/bg.png',\n",
       "    u'profile_background_image_url_https': u'https://abs.twimg.com/images/themes/theme1/bg.png',\n",
       "    u'profile_background_tile': False,\n",
       "    u'profile_banner_url': u'https://pbs.twimg.com/profile_banners/2732893829/1512961628',\n",
       "    u'profile_image_url': u'http://pbs.twimg.com/profile_images/937764162654146560/PMg30stH_normal.jpg',\n",
       "    u'profile_image_url_https': u'https://pbs.twimg.com/profile_images/937764162654146560/PMg30stH_normal.jpg',\n",
       "    u'profile_link_color': u'1DA1F2',\n",
       "    u'profile_sidebar_border_color': u'C0DEED',\n",
       "    u'profile_sidebar_fill_color': u'DDEEF6',\n",
       "    u'profile_text_color': u'333333',\n",
       "    u'profile_use_background_image': True,\n",
       "    u'protected': False,\n",
       "    u'screen_name': u'miabmustdie',\n",
       "    u'statuses_count': 4132,\n",
       "    u'time_zone': None,\n",
       "    u'translator_type': u'none',\n",
       "    u'url': u'https://t.co/z5bWyhOv8f',\n",
       "    u'utc_offset': None,\n",
       "    u'verified': False}}]}"
      ]
     },
     "execution_count": 84,
     "metadata": {},
     "output_type": "execute_result"
    }
   ],
   "source": [
    "response"
   ]
  },
  {
   "cell_type": "markdown",
   "metadata": {},
   "source": [
    "# Dictionaries are { key : value pairs }\n",
    "Remember they're like lists, except you use the key to access the value, instead of using the integer position. They are between curly brackets { }, separated by a colon : \n",
    "e.g. \n",
    "<pre> example_dict = { \"name\" : \"John Doe\" } \n",
    "</pre>\n",
    "So Twitter's response is just a dictionary of dictionaries (with some lists). Too hard to read, though. We can use th \n",
    "**type** function and **keys** attribute to dive deep into the structure."
   ]
  },
  {
   "cell_type": "code",
   "execution_count": 85,
   "metadata": {},
   "outputs": [
    {
     "data": {
      "text/plain": [
       "'Tom Brady'"
      ]
     },
     "execution_count": 85,
     "metadata": {},
     "output_type": "execute_result"
    }
   ],
   "source": [
    "example_dict = { 'name' : \"Tom Brady\" \n",
    "                , 'city' : \"Boston\"}\n",
    "example_dict[\"name\"]  #use the key (left of the :) to get the value on the right hand side"
   ]
  },
  {
   "cell_type": "code",
   "execution_count": 86,
   "metadata": {},
   "outputs": [
    {
     "data": {
      "text/plain": [
       "'Boston'"
      ]
     },
     "execution_count": 86,
     "metadata": {},
     "output_type": "execute_result"
    }
   ],
   "source": [
    "example_dict['city']"
   ]
  },
  {
   "cell_type": "code",
   "execution_count": 88,
   "metadata": {},
   "outputs": [
    {
     "data": {
      "text/plain": [
       "'Boston'"
      ]
     },
     "execution_count": 88,
     "metadata": {},
     "output_type": "execute_result"
    }
   ],
   "source": [
    "example_dict['city']"
   ]
  },
  {
   "cell_type": "code",
   "execution_count": 89,
   "metadata": {},
   "outputs": [
    {
     "data": {
      "text/plain": [
       "dict"
      ]
     },
     "execution_count": 89,
     "metadata": {},
     "output_type": "execute_result"
    }
   ],
   "source": [
    "type(response)"
   ]
  },
  {
   "cell_type": "code",
   "execution_count": 90,
   "metadata": {},
   "outputs": [
    {
     "name": "stdout",
     "output_type": "stream",
     "text": [
      "[u'search_metadata', u'statuses']\n"
     ]
    }
   ],
   "source": [
    "print response.keys()"
   ]
  },
  {
   "cell_type": "code",
   "execution_count": 91,
   "metadata": {},
   "outputs": [
    {
     "data": {
      "text/plain": [
       "list"
      ]
     },
     "execution_count": 91,
     "metadata": {},
     "output_type": "execute_result"
    }
   ],
   "source": [
    "type ( response['statuses'])"
   ]
  },
  {
   "cell_type": "code",
   "execution_count": 92,
   "metadata": {},
   "outputs": [
    {
     "data": {
      "text/plain": [
       "1"
      ]
     },
     "execution_count": 92,
     "metadata": {},
     "output_type": "execute_result"
    }
   ],
   "source": [
    "len(response['statuses'])"
   ]
  },
  {
   "cell_type": "code",
   "execution_count": 93,
   "metadata": {},
   "outputs": [],
   "source": [
    "tweet  = response['statuses'][0]  #the tweet is in the statuses key"
   ]
  },
  {
   "cell_type": "code",
   "execution_count": 94,
   "metadata": {},
   "outputs": [
    {
     "data": {
      "text/plain": [
       "dict"
      ]
     },
     "execution_count": 94,
     "metadata": {},
     "output_type": "execute_result"
    }
   ],
   "source": [
    "type(tweet)"
   ]
  },
  {
   "cell_type": "code",
   "execution_count": 95,
   "metadata": {},
   "outputs": [
    {
     "data": {
      "text/plain": [
       "[u'contributors',\n",
       " u'truncated',\n",
       " u'text',\n",
       " u'is_quote_status',\n",
       " u'in_reply_to_status_id',\n",
       " u'id',\n",
       " u'favorite_count',\n",
       " u'entities',\n",
       " u'retweeted',\n",
       " u'coordinates',\n",
       " u'source',\n",
       " u'in_reply_to_screen_name',\n",
       " u'in_reply_to_user_id',\n",
       " u'retweet_count',\n",
       " u'id_str',\n",
       " u'favorited',\n",
       " u'retweeted_status',\n",
       " u'user',\n",
       " u'geo',\n",
       " u'in_reply_to_user_id_str',\n",
       " u'lang',\n",
       " u'created_at',\n",
       " u'in_reply_to_status_id_str',\n",
       " u'place',\n",
       " u'metadata']"
      ]
     },
     "execution_count": 95,
     "metadata": {},
     "output_type": "execute_result"
    }
   ],
   "source": [
    "tweet.keys()"
   ]
  },
  {
   "cell_type": "code",
   "execution_count": 96,
   "metadata": {},
   "outputs": [
    {
     "data": {
      "text/plain": [
       "u'Sun Dec 17 05:03:35 +0000 2017'"
      ]
     },
     "execution_count": 96,
     "metadata": {},
     "output_type": "execute_result"
    }
   ],
   "source": [
    "response['statuses'][0]['created_at']"
   ]
  },
  {
   "cell_type": "code",
   "execution_count": 97,
   "metadata": {},
   "outputs": [
    {
     "data": {
      "text/plain": [
       "u'Sun Dec 17 05:03:35 +0000 2017'"
      ]
     },
     "execution_count": 97,
     "metadata": {},
     "output_type": "execute_result"
    }
   ],
   "source": [
    "tweet['created_at']"
   ]
  },
  {
   "cell_type": "code",
   "execution_count": 98,
   "metadata": {},
   "outputs": [
    {
     "data": {
      "text/plain": [
       "u'RT @EmersonCollege: Congratulations to all of our Fall 2018 Early Action Accepted Students! Welcome to Emerson. Celebrate with us by using\\u2026'"
      ]
     },
     "execution_count": 98,
     "metadata": {},
     "output_type": "execute_result"
    }
   ],
   "source": [
    "tweet['text']"
   ]
  },
  {
   "cell_type": "code",
   "execution_count": 99,
   "metadata": {},
   "outputs": [
    {
     "data": {
      "text/plain": [
       "[u'follow_request_sent',\n",
       " u'has_extended_profile',\n",
       " u'profile_use_background_image',\n",
       " u'default_profile_image',\n",
       " u'id',\n",
       " u'profile_background_image_url_https',\n",
       " u'verified',\n",
       " u'translator_type',\n",
       " u'profile_text_color',\n",
       " u'profile_image_url_https',\n",
       " u'profile_sidebar_fill_color',\n",
       " u'entities',\n",
       " u'followers_count',\n",
       " u'profile_sidebar_border_color',\n",
       " u'id_str',\n",
       " u'profile_background_color',\n",
       " u'listed_count',\n",
       " u'is_translation_enabled',\n",
       " u'utc_offset',\n",
       " u'statuses_count',\n",
       " u'description',\n",
       " u'friends_count',\n",
       " u'location',\n",
       " u'profile_link_color',\n",
       " u'profile_image_url',\n",
       " u'following',\n",
       " u'geo_enabled',\n",
       " u'profile_banner_url',\n",
       " u'profile_background_image_url',\n",
       " u'screen_name',\n",
       " u'lang',\n",
       " u'profile_background_tile',\n",
       " u'favourites_count',\n",
       " u'name',\n",
       " u'notifications',\n",
       " u'url',\n",
       " u'created_at',\n",
       " u'contributors_enabled',\n",
       " u'time_zone',\n",
       " u'protected',\n",
       " u'default_profile',\n",
       " u'is_translator']"
      ]
     },
     "execution_count": 99,
     "metadata": {},
     "output_type": "execute_result"
    }
   ],
   "source": [
    "tweet['user'].keys()"
   ]
  },
  {
   "cell_type": "code",
   "execution_count": 100,
   "metadata": {},
   "outputs": [
    {
     "data": {
      "text/plain": [
       "u'en'"
      ]
     },
     "execution_count": 100,
     "metadata": {},
     "output_type": "execute_result"
    }
   ],
   "source": [
    "response['statuses'][0]['user']['lang']"
   ]
  },
  {
   "cell_type": "code",
   "execution_count": 101,
   "metadata": {},
   "outputs": [
    {
     "data": {
      "text/plain": [
       "u'mia!'"
      ]
     },
     "execution_count": 101,
     "metadata": {},
     "output_type": "execute_result"
    }
   ],
   "source": [
    "response['statuses'][0]['user']['name']"
   ]
  },
  {
   "cell_type": "markdown",
   "metadata": {},
   "source": [
    "# Grab twenty most recent tweets about Emerson College\n",
    "View the code examples below and make your own Twitter query\n"
   ]
  },
  {
   "cell_type": "code",
   "execution_count": 102,
   "metadata": {},
   "outputs": [
    {
     "name": "stdout",
     "output_type": "stream",
     "text": [
      "RT @EmersonCollege: Congratulations to all of our Fall 2018 Early Action Accepted Students! Welcome to Emerson. Celebrate with us by using…\n",
      "@EmersonCollege I LOVE YOU I LOVE YOU I LOVE YOU. THANK YOU FOR MAKING MY DREAMS COME TRUE. https://t.co/fogAcSnFU2\n",
      "RT @christinax11: @EmersonCollege @karsickram  THAT’S MY BEST FRIEND💜\n",
      "RT @EmersonUGAdmis: Welcome Class of 2⃣0⃣2⃣2⃣! #IntoEmerson https://t.co/qgCfPwDqnL\n",
      "RT @joedwinell: Reinventing Journalism class final day for #BostonHerald #EmersonCollege team; see their work here https://t.co/SOCPYK2umm…\n",
      "RT @JuliaMargaret5: @EmersonCollege !! I got in to my #1 school 😍 lets goooo #INTOEMERSON #Emerson2022\n",
      "@_megnificent_ @EmersonCollege THANK YOU I LOVE YOU ❤️\n",
      "@violette2018 @EmersonCollege CONGRATS VIOLETTE!!! sending love from Virginia ❤️❤️❤️❤️\n",
      "@2Dsoldthegeep @EmersonCollege THANK YOU!!\n",
      "@violette2018 @EmersonCollege OMG CONGRATS\n",
      "@Ancilla_beater @EmersonCollege ❤️❤️\n",
      "@DBohmanWNEP @EmersonCollege Good move! 😃\n",
      "@EmersonCollege @karsickram  THAT’S MY BEST FRIEND💜\n",
      "@anissagardizy8 @EmersonCollege @EmersonUGAdmis @ecjrn Congrats 🎈\n",
      "RT @EmersonUGAdmis: @crypticconnor @EmersonCollege @JoeyGraceffa @AustinDodge We'd like to thank them as well! #IntoEmerson #Emerson2022\n",
      "RT @karsickram: Beyond ecstatic and proud to be accepted into @EmersonCollege for Theatre &amp; Performance! #Emerson2022\n",
      "RT @EmersonCollege: Congratulations to all of our Fall 2018 Early Action Accepted Students! Welcome to Emerson. Celebrate with us by using…\n",
      "RT @EmersonCollege: Congratulations to all of our Fall 2018 Early Action Accepted Students! Welcome to Emerson. Celebrate with us by using…\n",
      "#Emerson2022 you got a good one @EmersonCollege! @Mollree_18 Molly Reeves, media production arts. Our family is bey… https://t.co/rEhhUubsrn\n",
      "RT @EmersonCollege: Congratulations to all of our Fall 2018 Early Action Accepted Students! Welcome to Emerson. Celebrate with us by using…\n"
     ]
    }
   ],
   "source": [
    "twitter = twython.Twython(api_key, api_secret, access_token, token_secret)\n",
    "\n",
    "#create a search term\n",
    "query = \"Emersoncollege\"\n",
    "\n",
    "#use twitter's api to search for most *recent* tweets\n",
    "response = twitter.search(q=query, result_type=\"recent\", count=20)\n",
    "\n",
    "for tweet in response['statuses']:\n",
    "    print tweet['text']"
   ]
  },
  {
   "cell_type": "code",
   "execution_count": 103,
   "metadata": {},
   "outputs": [
    {
     "data": {
      "text/plain": [
       "u'RT @EmersonCollege: Congratulations to all of our Fall 2018 Early Action Accepted Students! Welcome to Emerson. Celebrate with us by using\\u2026'"
      ]
     },
     "execution_count": 103,
     "metadata": {},
     "output_type": "execute_result"
    }
   ],
   "source": [
    "response['statuses'][0]['text']"
   ]
  },
  {
   "cell_type": "code",
   "execution_count": 104,
   "metadata": {},
   "outputs": [
    {
     "name": "stdout",
     "output_type": "stream",
     "text": [
      "RT @EmersonCollege: Congratulations to all of our Fall 2018 Early Action Accepted Students! Welcome to Emerson. Celebrate with us by using…\n",
      "RT @BrightLightFilm: We're excited to announce that MOTHER! will open our Spring 2018 season! Join us TUE, Jan. 30 at 7PM! FREE and open to…\n",
      "RT @EmersonCollege: Women at Emerson are working to end gender bias in the #film industry—from writing &amp; producing their own shows to headi…\n",
      "Proud of Nancy Kwong! Speechwriter - Mayor Walsh! @ec_commstudies emersoncollegesoc https://t.co/rGI75SNEWW\n",
      "RT @ZachSvobodny: STEM  major: Good luck on ur finals\n",
      "\n",
      "Liberal Arts major: You too\n",
      "\n",
      "Plato’s Closet Employee: is that a REAL Coach purse? Cu…\n",
      "RT @smartereveryday: HAPPENING NOW LIVE https://t.co/cImij2vIr6\n"
     ]
    }
   ],
   "source": [
    "twitter = twython.Twython(api_key, api_secret, access_token, token_secret)\n",
    "\n",
    "source_words = [\"EmersonCollege\", \"Leemlp\", \"EmersonVMA\", \"ECSoArts\", \"EC_CommStudies\",\\\n",
    "                \"EmersonLA\", \"ImmersiveEmerson\", \"liberal arts\", \"EVVY\", \"Evvys\" \\\n",
    "               \"TheEVVYs\"]\n",
    "\n",
    "for word in source_words:\n",
    "    response = twitter.search(q=word, result_type=\"recent\", count=1)\n",
    "    for tweet in response['statuses']:  #make it look more readable\n",
    "        print tweet['text']"
   ]
  },
  {
   "cell_type": "code",
   "execution_count": 105,
   "metadata": {},
   "outputs": [
    {
     "name": "stdout",
     "output_type": "stream",
     "text": [
      "rose and purple hair lady.\n",
      "revive: admiral akbar\n",
      "\n",
      "i just fixed star wars, you're welcome!\n",
      "harsh jokes. be it in…\n",
      "marred by the disgust h… https://t.co/a914rfd83g\n",
      "with success and bury them with a smile.\n",
      "stint in asap chillout is canceled since maymay is not feeling well. their asap stage perfo…\n",
      "of his driveway 😂 https://t.co/slihhx64vg\n",
      "petal fortune said your dreams will come true!\n",
      "sky look at corgis https://t.co/dg4pklk2ff\n",
      "native american indian traditional flute drum cassettes  https://t.co/ihcfgkmmvb via @ebay\n"
     ]
    }
   ],
   "source": [
    "#MASHUP  BY ALLISON PARRISH\n",
    "source_words = [\"rose\", \"harsh\",\"marred\", \"and\", \"with\", \"stint\",\n",
    "        \"of\", \"petal\",\"sky\",\"native\"]\n",
    "\n",
    "for word in source_words:\n",
    "    response = twitter.search(q=word, result_type=\"recent\", count=1)\n",
    "    if len(response['statuses']) > 0:\n",
    "        first_tweet = response['statuses'][0]  #look in status\n",
    "        tweet_text = first_tweet['text'].lower()     #make the tweet text all lower caste\n",
    "        if word in tweet_text:\n",
    "            pos = tweet_text.find(word)  #find the word location \n",
    "            print  tweet_text[pos:]  #just print the nnd of it"
   ]
  },
  {
   "cell_type": "code",
   "execution_count": 106,
   "metadata": {},
   "outputs": [
    {
     "name": "stdout",
     "output_type": "stream",
     "text": [
      "music will stutter and lag. it just happened one day and now i can’t play for shit :/\n",
      "humanities to learn ethics\" but not enough is said about \"contrarian…\n",
      "liberal arts major: you too\n",
      "\n",
      "plato’s closet employee: is that a real coach purse? cu…\n",
      "digital marketing manager - parkdean resorts https://t.co/lrkabbv7di https://t.co/olg4xh5pvu\n"
     ]
    }
   ],
   "source": [
    "source_words = [\"Emerson\", \"music\", \"code\", \"python\", \"programming\",\\\n",
    "                \"exploratory\", \"humanities\", \"liberal arts\", \"digital\", \"pelton\" \\\n",
    "               \"EVVY\", 'Boylston']\n",
    "\n",
    "\n",
    "for word in source_words:\n",
    "    response = twitter.search(q=word, result_type=\"recent\", count=1)\n",
    "    if len(response['statuses']) > 0:\n",
    "        first_tweet = response['statuses'][0]\n",
    "        tweet_text = first_tweet['text'].lower()\n",
    "        if word in tweet_text:\n",
    "            pos = tweet_text.find(word)\n",
    "            print tweet_text[pos:]"
   ]
  },
  {
   "cell_type": "markdown",
   "metadata": {},
   "source": [
    "# Tutorial to reading twitter data\n",
    "https://aparrish.neocities.org/twitter.html\n",
    "\n",
    "http://mike.teczno.com/notes/streaming-data-from-twitter.html\n",
    "\n",
    "# Tutorial for tweeting\n",
    "https://www.raspberrypi.org/learning/getting-started-with-the-twitter-api/worksheet/\n",
    "\n",
    "# Twython documentation\n",
    "\n",
    "https://twython.readthedocs.io/en/latest/usage/advanced_usage.html"
   ]
  },
  {
   "cell_type": "code",
   "execution_count": 107,
   "metadata": {},
   "outputs": [
    {
     "name": "stdout",
     "output_type": "stream",
     "text": [
      "Tweeted: Hello Emerson!\n"
     ]
    }
   ],
   "source": [
    "message = \"Hello Emerson!\"\n",
    "twitter.update_status(status=message)\n",
    "print(\"Tweeted: %s\" % message)"
   ]
  },
  {
   "cell_type": "code",
   "execution_count": 108,
   "metadata": {},
   "outputs": [],
   "source": [
    "import random"
   ]
  },
  {
   "cell_type": "code",
   "execution_count": 109,
   "metadata": {},
   "outputs": [
    {
     "name": "stdout",
     "output_type": "stream",
     "text": [
      "Tweeted: Does not commute, does lot compute\n"
     ]
    }
   ],
   "source": [
    "messages = [\n",
    "    \"Snow then rain then ice cold freeze\",\n",
    "    \"Multisensory SensoryMulti\",\n",
    "    \"Asynchronous Syncrhonicity\",\n",
    "    \"Disconnected Connected Diss\",\n",
    "    \"For some reason, I couldn't resist editing the musicgenius entry about Shriekback's Nemesis.\",\n",
    "    \"Does not commute, does lot compute\",\n",
    "]\n",
    "message = random.choice(messages)\n",
    "twitter.update_status(status=message)\n",
    "print(\"Tweeted: %s\" % message)"
   ]
  },
  {
   "cell_type": "code",
   "execution_count": 114,
   "metadata": {},
   "outputs": [
    {
     "name": "stdout",
     "output_type": "stream",
     "text": [
      " Volume in drive C has no label.\n",
      " Volume Serial Number is C609-9CBC\n",
      "\n",
      " Directory of C:\\Users\\thebe\\Dropbox\\Code-Class\\Class 15\n",
      "\n",
      "12/17/2017  12:41 AM             8,433 PCSpecs.jpg\n",
      "               1 File(s)          8,433 bytes\n",
      "               0 Dir(s)  147,196,825,600 bytes free\n"
     ]
    }
   ],
   "source": [
    "%ls *.jpg"
   ]
  },
  {
   "cell_type": "markdown",
   "metadata": {},
   "source": [
    "__Q__ Create your own twitter post"
   ]
  },
  {
   "cell_type": "code",
   "execution_count": 115,
   "metadata": {},
   "outputs": [
    {
     "data": {
      "text/plain": [
       "{u'contributors': None,\n",
       " u'coordinates': None,\n",
       " u'created_at': u'Sun Dec 17 05:42:50 +0000 2017',\n",
       " u'entities': {u'hashtags': [],\n",
       "  u'media': [{u'display_url': u'pic.twitter.com/r05fuKwrxD',\n",
       "    u'expanded_url': u'https://twitter.com/bepstein111/status/942268831032102912/photo/1',\n",
       "    u'id': 942268828721057792L,\n",
       "    u'id_str': u'942268828721057792',\n",
       "    u'indices': [32, 55],\n",
       "    u'media_url': u'http://pbs.twimg.com/media/DROcgeLXkAAAsUA.jpg',\n",
       "    u'media_url_https': u'https://pbs.twimg.com/media/DROcgeLXkAAAsUA.jpg',\n",
       "    u'sizes': {u'large': {u'h': 22, u'resize': u'fit', u'w': 350},\n",
       "     u'medium': {u'h': 22, u'resize': u'fit', u'w': 350},\n",
       "     u'small': {u'h': 22, u'resize': u'fit', u'w': 350},\n",
       "     u'thumb': {u'h': 22, u'resize': u'crop', u'w': 22}},\n",
       "    u'type': u'photo',\n",
       "    u'url': u'https://t.co/r05fuKwrxD'}],\n",
       "  u'symbols': [],\n",
       "  u'urls': [],\n",
       "  u'user_mentions': []},\n",
       " u'extended_entities': {u'media': [{u'display_url': u'pic.twitter.com/r05fuKwrxD',\n",
       "    u'expanded_url': u'https://twitter.com/bepstein111/status/942268831032102912/photo/1',\n",
       "    u'id': 942268828721057792L,\n",
       "    u'id_str': u'942268828721057792',\n",
       "    u'indices': [32, 55],\n",
       "    u'media_url': u'http://pbs.twimg.com/media/DROcgeLXkAAAsUA.jpg',\n",
       "    u'media_url_https': u'https://pbs.twimg.com/media/DROcgeLXkAAAsUA.jpg',\n",
       "    u'sizes': {u'large': {u'h': 22, u'resize': u'fit', u'w': 350},\n",
       "     u'medium': {u'h': 22, u'resize': u'fit', u'w': 350},\n",
       "     u'small': {u'h': 22, u'resize': u'fit', u'w': 350},\n",
       "     u'thumb': {u'h': 22, u'resize': u'crop', u'w': 22}},\n",
       "    u'type': u'photo',\n",
       "    u'url': u'https://t.co/r05fuKwrxD'}]},\n",
       " u'favorite_count': 0,\n",
       " u'favorited': False,\n",
       " u'geo': None,\n",
       " u'id': 942268831032102912L,\n",
       " u'id_str': u'942268831032102912',\n",
       " u'in_reply_to_screen_name': None,\n",
       " u'in_reply_to_status_id': None,\n",
       " u'in_reply_to_status_id_str': None,\n",
       " u'in_reply_to_user_id': None,\n",
       " u'in_reply_to_user_id_str': None,\n",
       " u'is_quote_status': False,\n",
       " u'lang': u'en',\n",
       " u'place': None,\n",
       " u'possibly_sensitive': False,\n",
       " u'retweet_count': 0,\n",
       " u'retweeted': False,\n",
       " u'source': u'<a href=\"http://bepste.in\" rel=\"nofollow\">Bepstein111Testing</a>',\n",
       " u'text': u'Recently finished my PC upgrade https://t.co/r05fuKwrxD',\n",
       " u'truncated': False,\n",
       " u'user': {u'contributors_enabled': False,\n",
       "  u'created_at': u'Thu Jul 10 03:32:58 +0000 2008',\n",
       "  u'default_profile': False,\n",
       "  u'default_profile_image': False,\n",
       "  u'description': u'Ben Epstein is a computer geek from Connecticut wishing he was in Boston. He plays drums and enjoys long walks on the beach. Emerson - Film',\n",
       "  u'entities': {u'description': {u'urls': []},\n",
       "   u'url': {u'urls': [{u'display_url': u'bepstein111.tumblr.com',\n",
       "      u'expanded_url': u'http://bepstein111.tumblr.com',\n",
       "      u'indices': [0, 23],\n",
       "      u'url': u'https://t.co/hjEL6586xc'}]}},\n",
       "  u'favourites_count': 2054,\n",
       "  u'follow_request_sent': False,\n",
       "  u'followers_count': 513,\n",
       "  u'following': False,\n",
       "  u'friends_count': 479,\n",
       "  u'geo_enabled': True,\n",
       "  u'has_extended_profile': True,\n",
       "  u'id': 15373645,\n",
       "  u'id_str': u'15373645',\n",
       "  u'is_translation_enabled': False,\n",
       "  u'is_translator': False,\n",
       "  u'lang': u'en',\n",
       "  u'listed_count': 11,\n",
       "  u'location': u'Cheshire, CT',\n",
       "  u'name': u'Ben Epstein',\n",
       "  u'notifications': False,\n",
       "  u'profile_background_color': u'9AE4E8',\n",
       "  u'profile_background_image_url': u'http://pbs.twimg.com/profile_background_images/4787840/black_mosaic_by_seikq.jpg',\n",
       "  u'profile_background_image_url_https': u'https://pbs.twimg.com/profile_background_images/4787840/black_mosaic_by_seikq.jpg',\n",
       "  u'profile_background_tile': True,\n",
       "  u'profile_banner_url': u'https://pbs.twimg.com/profile_banners/15373645/1487255149',\n",
       "  u'profile_image_url': u'http://pbs.twimg.com/profile_images/901855545224826880/RrbcGqcE_normal.jpg',\n",
       "  u'profile_image_url_https': u'https://pbs.twimg.com/profile_images/901855545224826880/RrbcGqcE_normal.jpg',\n",
       "  u'profile_link_color': u'3941B8',\n",
       "  u'profile_sidebar_border_color': u'000000',\n",
       "  u'profile_sidebar_fill_color': u'B2B7D1',\n",
       "  u'profile_text_color': u'000000',\n",
       "  u'profile_use_background_image': True,\n",
       "  u'protected': False,\n",
       "  u'screen_name': u'bepstein111',\n",
       "  u'statuses_count': 3921,\n",
       "  u'time_zone': u'Eastern Time (US & Canada)',\n",
       "  u'translator_type': u'none',\n",
       "  u'url': u'https://t.co/hjEL6586xc',\n",
       "  u'utc_offset': -18000,\n",
       "  u'verified': False}}"
      ]
     },
     "execution_count": 115,
     "metadata": {},
     "output_type": "execute_result"
    }
   ],
   "source": [
    "# Change your message and your file path to reflect your twitter\n",
    "\n",
    "message = \"Recently finished my PC upgrade\"\n",
    "photo = open('PCSpecs.jpg', 'rb')\n",
    "response = twitter.upload_media(media=photo)\n",
    "twitter.update_status(\n",
    "    status=message ,\n",
    "    media_ids=[response['media_id']]\n",
    ")"
   ]
  },
  {
   "cell_type": "markdown",
   "metadata": {},
   "source": [
    "__Q__ Try uploading  video"
   ]
  },
  {
   "cell_type": "code",
   "execution_count": 78,
   "metadata": {},
   "outputs": [
    {
     "data": {
      "text/plain": [
       "{u'contributors': None,\n",
       " u'coordinates': None,\n",
       " u'created_at': u'Mon Oct 30 15:38:49 +0000 2017',\n",
       " u'entities': {u'hashtags': [],\n",
       "  u'media': [{u'display_url': u'pic.twitter.com/uzPZaIMD03',\n",
       "    u'expanded_url': u'https://twitter.com/anjchang/status/925024199244177409/video/1',\n",
       "    u'id': 925024187931955201,\n",
       "    u'id_str': u'925024187931955201',\n",
       "    u'indices': [26, 49],\n",
       "    u'media_url': u'http://pbs.twimg.com/ext_tw_video_thumb/925024187931955201/pu/img/wBdqtKgVZwNAJDNo.jpg',\n",
       "    u'media_url_https': u'https://pbs.twimg.com/ext_tw_video_thumb/925024187931955201/pu/img/wBdqtKgVZwNAJDNo.jpg',\n",
       "    u'sizes': {u'large': {u'h': 960, u'resize': u'fit', u'w': 544},\n",
       "     u'medium': {u'h': 960, u'resize': u'fit', u'w': 544},\n",
       "     u'small': {u'h': 600, u'resize': u'fit', u'w': 340},\n",
       "     u'thumb': {u'h': 150, u'resize': u'crop', u'w': 150}},\n",
       "    u'type': u'photo',\n",
       "    u'url': u'https://t.co/uzPZaIMD03'}],\n",
       "  u'symbols': [],\n",
       "  u'urls': [],\n",
       "  u'user_mentions': []},\n",
       " u'extended_entities': {u'media': [{u'additional_media_info': {u'monetizable': False},\n",
       "    u'display_url': u'pic.twitter.com/uzPZaIMD03',\n",
       "    u'expanded_url': u'https://twitter.com/anjchang/status/925024199244177409/video/1',\n",
       "    u'id': 925024187931955201,\n",
       "    u'id_str': u'925024187931955201',\n",
       "    u'indices': [26, 49],\n",
       "    u'media_url': u'http://pbs.twimg.com/ext_tw_video_thumb/925024187931955201/pu/img/wBdqtKgVZwNAJDNo.jpg',\n",
       "    u'media_url_https': u'https://pbs.twimg.com/ext_tw_video_thumb/925024187931955201/pu/img/wBdqtKgVZwNAJDNo.jpg',\n",
       "    u'sizes': {u'large': {u'h': 960, u'resize': u'fit', u'w': 544},\n",
       "     u'medium': {u'h': 960, u'resize': u'fit', u'w': 544},\n",
       "     u'small': {u'h': 600, u'resize': u'fit', u'w': 340},\n",
       "     u'thumb': {u'h': 150, u'resize': u'crop', u'w': 150}},\n",
       "    u'type': u'video',\n",
       "    u'url': u'https://t.co/uzPZaIMD03',\n",
       "    u'video_info': {u'aspect_ratio': [17, 30],\n",
       "     u'duration_millis': 10001,\n",
       "     u'variants': [{u'content_type': u'application/x-mpegURL',\n",
       "       u'url': u'https://video.twimg.com/ext_tw_video/925024187931955201/pu/pl/Ass_DkRw1bRbcTwB.m3u8'},\n",
       "      {u'bitrate': 832000,\n",
       "       u'content_type': u'video/mp4',\n",
       "       u'url': u'https://video.twimg.com/ext_tw_video/925024187931955201/pu/vid/362x640/8RWtniDWL-8vL5wF.mp4'},\n",
       "      {u'bitrate': 320000,\n",
       "       u'content_type': u'video/mp4',\n",
       "       u'url': u'https://video.twimg.com/ext_tw_video/925024187931955201/pu/vid/180x320/QBLa6RsKbiChHvAU.mp4'}]}}]},\n",
       " u'favorite_count': 0,\n",
       " u'favorited': False,\n",
       " u'geo': None,\n",
       " u'id': 925024199244177409,\n",
       " u'id_str': u'925024199244177409',\n",
       " u'in_reply_to_screen_name': None,\n",
       " u'in_reply_to_status_id': None,\n",
       " u'in_reply_to_status_id_str': None,\n",
       " u'in_reply_to_user_id': None,\n",
       " u'in_reply_to_user_id_str': None,\n",
       " u'is_quote_status': False,\n",
       " u'lang': u'en',\n",
       " u'place': None,\n",
       " u'possibly_sensitive': False,\n",
       " u'retweet_count': 0,\n",
       " u'retweeted': False,\n",
       " u'source': u'<a href=\"http://codeculturepractice2016.emerson.build/\" rel=\"nofollow\">EmersonTweetTwython</a>',\n",
       " u'text': u'Checkout this cool video! https://t.co/uzPZaIMD03',\n",
       " u'truncated': False,\n",
       " u'user': {u'contributors_enabled': False,\n",
       "  u'created_at': u'Sat Mar 10 03:28:55 +0000 2007',\n",
       "  u'default_profile': False,\n",
       "  u'default_profile_image': False,\n",
       "  u'description': u'Helping people reach out and touch someone, feel connected and appreciate the beauty of human senses.',\n",
       "  u'entities': {u'description': {u'urls': []},\n",
       "   u'url': {u'urls': [{u'display_url': u'anjchangblog.blogspot.com',\n",
       "      u'expanded_url': u'http://anjchangblog.blogspot.com/',\n",
       "      u'indices': [0, 22],\n",
       "      u'url': u'http://t.co/cIgCZboKV1'}]}},\n",
       "  u'favourites_count': 123,\n",
       "  u'follow_request_sent': False,\n",
       "  u'followers_count': 565,\n",
       "  u'following': False,\n",
       "  u'friends_count': 1455,\n",
       "  u'geo_enabled': True,\n",
       "  u'has_extended_profile': False,\n",
       "  u'id': 859841,\n",
       "  u'id_str': u'859841',\n",
       "  u'is_translation_enabled': False,\n",
       "  u'is_translator': False,\n",
       "  u'lang': u'en',\n",
       "  u'listed_count': 5,\n",
       "  u'location': u'@TinkerStories ',\n",
       "  u'name': u'Angela Chang',\n",
       "  u'notifications': False,\n",
       "  u'profile_background_color': u'9AE4E8',\n",
       "  u'profile_background_image_url': u'http://abs.twimg.com/images/themes/theme1/bg.png',\n",
       "  u'profile_background_image_url_https': u'https://abs.twimg.com/images/themes/theme1/bg.png',\n",
       "  u'profile_background_tile': False,\n",
       "  u'profile_image_url': u'http://pbs.twimg.com/profile_images/499457770370781184/F0gu65o5_normal.jpeg',\n",
       "  u'profile_image_url_https': u'https://pbs.twimg.com/profile_images/499457770370781184/F0gu65o5_normal.jpeg',\n",
       "  u'profile_link_color': u'1C5294',\n",
       "  u'profile_sidebar_border_color': u'87BC44',\n",
       "  u'profile_sidebar_fill_color': u'E0FF92',\n",
       "  u'profile_text_color': u'000000',\n",
       "  u'profile_use_background_image': True,\n",
       "  u'protected': False,\n",
       "  u'screen_name': u'anjchang',\n",
       "  u'statuses_count': 949,\n",
       "  u'time_zone': u'Eastern Time (US & Canada)',\n",
       "  u'translator_type': u'none',\n",
       "  u'url': u'http://t.co/cIgCZboKV1',\n",
       "  u'utc_offset': -14400,\n",
       "  u'verified': False}}"
      ]
     },
     "execution_count": 78,
     "metadata": {},
     "output_type": "execute_result"
    }
   ],
   "source": [
    "## Try uploading a video, you need to change the file path for your system\n",
    "video = open('video.mp4', 'rb')\n",
    "response = twitter.upload_video(media=video, media_type='video/mp4')\n",
    "twitter.update_status(status='Checkout this cool video!', media_ids=[response['media_id']])"
   ]
  },
  {
   "cell_type": "code",
   "execution_count": null,
   "metadata": {
    "collapsed": true
   },
   "outputs": [],
   "source": []
  }
 ],
 "metadata": {
  "kernelspec": {
   "display_name": "Python 2",
   "language": "python",
   "name": "python2"
  },
  "language_info": {
   "codemirror_mode": {
    "name": "ipython",
    "version": 2
   },
   "file_extension": ".py",
   "mimetype": "text/x-python",
   "name": "python",
   "nbconvert_exporter": "python",
   "pygments_lexer": "ipython2",
   "version": "2.7.14"
  }
 },
 "nbformat": 4,
 "nbformat_minor": 1
}
