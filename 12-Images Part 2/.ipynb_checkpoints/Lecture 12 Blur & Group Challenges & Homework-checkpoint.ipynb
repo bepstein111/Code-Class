{
 "cells": [
  {
   "cell_type": "code",
   "execution_count": 1,
   "metadata": {
    "collapsed": true
   },
   "outputs": [],
   "source": [
    "from PIL import Image"
   ]
  },
  {
   "cell_type": "markdown",
   "metadata": {},
   "source": [
    "### Q. How would you create an image that inverts all the colors?"
   ]
  },
  {
   "cell_type": "code",
   "execution_count": null,
   "metadata": {
    "collapsed": true
   },
   "outputs": [],
   "source": [
    "def invert(pngimage):  \n",
    "    for x in range(pngimage.size[0]):\n",
    "        for y in range(pngimage.size[1]):\n",
    "            (r, g, b) = pngimage.getpixel((x,y))[:3]\n",
    "            alpha = pngimage.getpixel((x,y))[3:]\n",
    "            pngimage.putpixel((x, y), ( 255 - r, 255 - g, 255 - b) + alpha)6"
   ]
  },
  {
   "cell_type": "code",
   "execution_count": null,
   "metadata": {
    "collapsed": true
   },
   "outputs": [],
   "source": []
  },
  {
   "cell_type": "markdown",
   "metadata": {},
   "source": [
    "### Q. How would you create an image that makes the image look like an oldschool green monochrome monitor?"
   ]
  },
  {
   "cell_type": "code",
   "execution_count": null,
   "metadata": {
    "collapsed": true
   },
   "outputs": [],
   "source": []
  },
  {
   "cell_type": "code",
   "execution_count": null,
   "metadata": {
    "collapsed": true
   },
   "outputs": [],
   "source": []
  },
  {
   "cell_type": "markdown",
   "metadata": {},
   "source": [
    "### Q. How would you create an image that looks sick (is tinted brownish)?"
   ]
  },
  {
   "cell_type": "code",
   "execution_count": null,
   "metadata": {
    "collapsed": true
   },
   "outputs": [],
   "source": []
  },
  {
   "cell_type": "code",
   "execution_count": null,
   "metadata": {
    "collapsed": true
   },
   "outputs": [],
   "source": []
  },
  {
   "cell_type": "code",
   "execution_count": null,
   "metadata": {
    "collapsed": true
   },
   "outputs": [],
   "source": []
  },
  {
   "cell_type": "markdown",
   "metadata": {},
   "source": [
    "### How to write the blur function"
   ]
  },
  {
   "cell_type": "code",
   "execution_count": null,
   "metadata": {},
   "outputs": [],
   "source": [
    "img = Image.new('RGB',(100,100),'white')"
   ]
  },
  {
   "cell_type": "code",
   "execution_count": null,
   "metadata": {},
   "outputs": [],
   "source": [
    "img.getpixel((40,50))#get RGB value"
   ]
  },
  {
   "cell_type": "code",
   "execution_count": null,
   "metadata": {},
   "outputs": [],
   "source": [
    "img.getpixel((40,50))[0]#get the red value"
   ]
  },
  {
   "cell_type": "code",
   "execution_count": null,
   "metadata": {},
   "outputs": [],
   "source": [
    "for i in range(0,3):   #get a pixels R, G, B values using iteration\n",
    "    print img.getpixel((40,50))[i]"
   ]
  },
  {
   "cell_type": "code",
   "execution_count": null,
   "metadata": {},
   "outputs": [],
   "source": [
    "#generalize getpixel to grab the red of any x,y value\n",
    "x = 10\n",
    "y = 20\n",
    "img.getpixel((x , y)) [0]"
   ]
  },
  {
   "cell_type": "code",
   "execution_count": null,
   "metadata": {},
   "outputs": [],
   "source": [
    "#now sum up all the pixel values around a particular location\n",
    "around = img.getpixel((x - 1 , y - 1)) [0] + \\\n",
    "         img.getpixel((x     , y - 1)) [0] + \\\n",
    "         img.getpixel((x + 1 , y - 1)) [0] + \\\n",
    "         img.getpixel((x - 1 , y   )) [0] + \\\n",
    "            img.getpixel((x + 1 , y   )) [0] + \\\n",
    "            img.getpixel((x - 1 , y + 1)) [0] + \\\n",
    "            img.getpixel((x     , y + 1)) [0] + \\\n",
    "            img.getpixel((x + 1 , y + 1)) [0] "
   ]
  },
  {
   "cell_type": "code",
   "execution_count": null,
   "metadata": {
    "collapsed": true
   },
   "outputs": [],
   "source": [
    "#note that the backslash allows us to break a long expression to a new line"
   ]
  },
  {
   "cell_type": "code",
   "execution_count": null,
   "metadata": {
    "collapsed": true
   },
   "outputs": [],
   "source": [
    "img.show()"
   ]
  },
  {
   "cell_type": "code",
   "execution_count": null,
   "metadata": {
    "collapsed": true
   },
   "outputs": [],
   "source": [
    "img.putpixel((50,50),(0,0,0))"
   ]
  },
  {
   "cell_type": "code",
   "execution_count": null,
   "metadata": {
    "collapsed": true
   },
   "outputs": [],
   "source": [
    "img.show()"
   ]
  },
  {
   "cell_type": "code",
   "execution_count": null,
   "metadata": {},
   "outputs": [],
   "source": [
    "x = 50\n",
    "y = 50\n",
    "print around / 8.0"
   ]
  },
  {
   "cell_type": "code",
   "execution_count": null,
   "metadata": {},
   "outputs": [],
   "source": [
    "#make a black square only around our pixel\n",
    "img.putpixel((49,49),(0,0,0))\n",
    "img.putpixel((49,50),(0,0,0))\n",
    "img.putpixel((49,51),(0,0,0))\n",
    "img.putpixel((50,51),(0,0,0))\n",
    "img.putpixel((50,49),(0,0,0))\n",
    "img.putpixel((51,49),(0,0,0))\n",
    "img.putpixel((51,50),(0,0,0))\n",
    "img.putpixel((51,51),(0,0,0))\n",
    "img.show()"
   ]
  },
  {
   "cell_type": "code",
   "execution_count": null,
   "metadata": {},
   "outputs": [],
   "source": [
    "#go up and run the around cell again\n",
    "around"
   ]
  },
  {
   "cell_type": "code",
   "execution_count": null,
   "metadata": {
    "collapsed": true
   },
   "outputs": [],
   "source": [
    "x = 50\n",
    "y = 50\n"
   ]
  },
  {
   "cell_type": "code",
   "execution_count": null,
   "metadata": {
    "collapsed": true
   },
   "outputs": [],
   "source": [
    "#so we've verified the neighbor checking works in around"
   ]
  },
  {
   "cell_type": "code",
   "execution_count": null,
   "metadata": {
    "collapsed": true
   },
   "outputs": [],
   "source": [
    "#now go through all the colors\n",
    "around = 0\n",
    "for c in [0,1,2]:\n",
    "    around = around + \\\n",
    "    img.getpixel((x - 1 , y - 1)) [c] + \\\n",
    "    img.getpixel((x     , y - 1)) [c] + \\\n",
    "    img.getpixel((x + 1 , y - 1)) [c] + \\\n",
    "    img.getpixel((x - 1 , y )) [c] + \\\n",
    "    img.getpixel((x + 1 , y )) [c] + \\\n",
    "    img.getpixel((x - 1 , y + 1)) [c] + \\\n",
    "    img.getpixel((x     , y + 1)) [c] + \\\n",
    "    img.getpixel((x + 1 , y + 1)) [c] \n",
    "around = around / 24.0"
   ]
  },
  {
   "cell_type": "code",
   "execution_count": null,
   "metadata": {},
   "outputs": [],
   "source": [
    "print around"
   ]
  },
  {
   "cell_type": "code",
   "execution_count": null,
   "metadata": {
    "collapsed": true
   },
   "outputs": [],
   "source": [
    "img = Image.new('RGB', (100,100), 'white')\n",
    "#run the above two lines again and verify what we expect"
   ]
  },
  {
   "cell_type": "code",
   "execution_count": null,
   "metadata": {},
   "outputs": [],
   "source": [
    "#now bundle it all up into a function for checking all the values\n",
    "#nearby a location of an image\n",
    "def nearby(img,(x,y)):\n",
    "    around = 0\n",
    "    for c in [0,1,2]:\n",
    "        around = around + \\\n",
    "        img.getpixel((x - 1 , y - 1)) [c] + \\\n",
    "        img.getpixel((x     , y - 1)) [c] + \\\n",
    "        img.getpixel((x + 1 , y - 1)) [c] + \\\n",
    "        img.getpixel((x - 1 , y )) [c] + \\\n",
    "        img.getpixel((x + 1 , y )) [c] + \\\n",
    "        img.getpixel((x - 1 , y + 1)) [c] + \\\n",
    "        img.getpixel((x     , y + 1)) [c] + \\\n",
    "        img.getpixel((x + 1 , y + 1)) [c] \n",
    "    around = around / 24.0\n",
    "    return around"
   ]
  },
  {
   "cell_type": "code",
   "execution_count": null,
   "metadata": {},
   "outputs": [],
   "source": [
    "#note nearby takes two arguments, the first is the image\n",
    "#and the xecond is the tuple coordinate\n",
    "ourimage  = Image.open('apple.png')"
   ]
  },
  {
   "cell_type": "code",
   "execution_count": null,
   "metadata": {},
   "outputs": [],
   "source": [
    "ourimage.size"
   ]
  },
  {
   "cell_type": "code",
   "execution_count": null,
   "metadata": {},
   "outputs": [],
   "source": [
    "nearby(ourimage,(72,72))"
   ]
  },
  {
   "cell_type": "code",
   "execution_count": null,
   "metadata": {},
   "outputs": [],
   "source": [
    "#no errors, seems believable"
   ]
  },
  {
   "cell_type": "code",
   "execution_count": null,
   "metadata": {
    "collapsed": true
   },
   "outputs": [],
   "source": [
    "#rename to differ\n",
    "#return the difference between current pixel value and neighbors"
   ]
  },
  {
   "cell_type": "code",
   "execution_count": null,
   "metadata": {
    "collapsed": true
   },
   "outputs": [],
   "source": [
    "def differ(img,(x,y)):\n",
    "    current = 0\n",
    "    around = 0\n",
    "    for c in [0,1,2]:\n",
    "        current = current + img.getpixel((x,y))[c]  #grab the color value\n",
    "        around = around + \\\n",
    "        img.getpixel((x - 1 , y - 1)) [c] + \\\n",
    "        img.getpixel((x     , y - 1)) [c] + \\\n",
    "        img.getpixel((x + 1 , y - 1)) [c] + \\\n",
    "        img.getpixel((x - 1 , y )) [c] + \\\n",
    "        img.getpixel((x + 1 , y )) [c] + \\\n",
    "        img.getpixel((x - 1 , y + 1)) [c] + \\\n",
    "        img.getpixel((x     , y + 1)) [c] + \\\n",
    "        img.getpixel((x + 1 , y + 1)) [c] \n",
    "    around = around / 24.0\n",
    "    return around - (current/3.0)"
   ]
  },
  {
   "cell_type": "code",
   "execution_count": null,
   "metadata": {},
   "outputs": [],
   "source": [
    "differ(ourimage,(72,72))"
   ]
  },
  {
   "cell_type": "code",
   "execution_count": null,
   "metadata": {},
   "outputs": [],
   "source": [
    "ourimage.show()\n"
   ]
  },
  {
   "cell_type": "code",
   "execution_count": null,
   "metadata": {
    "collapsed": true
   },
   "outputs": [],
   "source": [
    "#now we can continue with blurring\n",
    "#we can change the pixel value by half the difference"
   ]
  },
  {
   "cell_type": "code",
   "execution_count": null,
   "metadata": {},
   "outputs": [],
   "source": [
    "#also note that because we're changing the image a lot, we need\n",
    "#to make a copy\n",
    "def blur(img):\n",
    "    blurred = Image.new('RGB', img.size) #create a copy\n",
    "    for x in range( 1,img.size[0]-1):\n",
    "        for y in range( 1, img.size[1] - 1):\n",
    "            (r , g ,b) = img.getpixel((x,y))[:3]\n",
    "            change =  differ(img, (x,y)) / 2\n",
    "            blurred.putpixel((x,y), (r + change, g + change, b + change))\n",
    "    return blurred"
   ]
  },
  {
   "cell_type": "code",
   "execution_count": null,
   "metadata": {},
   "outputs": [],
   "source": [
    "blur(ourimage)"
   ]
  },
  {
   "cell_type": "code",
   "execution_count": null,
   "metadata": {
    "collapsed": true
   },
   "outputs": [],
   "source": []
  },
  {
   "cell_type": "code",
   "execution_count": null,
   "metadata": {},
   "outputs": [],
   "source": [
    "#remove that index error!\n",
    "def blur(img):\n",
    "    blurred = Image.new('RGB', img.size) #create a copy\n",
    "    for x in range( 1, img.size[0] - 1):\n",
    "        for y in range(1, img.size[1] - 1):\n",
    "            (r , g ,b) = img.getpixel((x,y))[:3]\n",
    "            change =  int(differ(img, (x,y)) / 2.0)\n",
    "            blurred.putpixel((x,y), (r + change, g + change, b + change))\n",
    "    return blurred"
   ]
  },
  {
   "cell_type": "code",
   "execution_count": null,
   "metadata": {},
   "outputs": [],
   "source": [
    "blur(ourimage)"
   ]
  },
  {
   "cell_type": "code",
   "execution_count": null,
   "metadata": {},
   "outputs": [],
   "source": [
    "#how to change a floating point value to an integer\n",
    "#use an int() conversion method\n",
    "int(500.2) "
   ]
  },
  {
   "cell_type": "code",
   "execution_count": null,
   "metadata": {},
   "outputs": [],
   "source": [
    "#works for variables too\n",
    "ratio = 120.7\n",
    "int(ratio)"
   ]
  },
  {
   "cell_type": "code",
   "execution_count": null,
   "metadata": {},
   "outputs": [],
   "source": [
    "#but we don't want to truncate the decimal, \n",
    "#we want it to round to nearest integer\n",
    "round(ratio)"
   ]
  },
  {
   "cell_type": "code",
   "execution_count": null,
   "metadata": {
    "collapsed": true
   },
   "outputs": [],
   "source": [
    "#integer argument expected... the solution is pixel color values need to be integers\n",
    "def blur(img):\n",
    "    blurred = Image.new('RGB', img.size) \n",
    "    for x in range( 1, img.size[0] - 1):\n",
    "        for y in range(1, img.size[1] - 1):\n",
    "            (r , g ,b) = img.getpixel((x,y))[:3]\n",
    "            change =  differ(img, (x,y)) / 2.0\n",
    "            change = int(round(change))\n",
    "            blurred.putpixel((x,y), (r + change, g + change, b + change))\n",
    "    return blurred"
   ]
  },
  {
   "cell_type": "code",
   "execution_count": null,
   "metadata": {},
   "outputs": [],
   "source": [
    "twoline = Image.new('RGB',(100,100),'white')"
   ]
  },
  {
   "cell_type": "code",
   "execution_count": null,
   "metadata": {
    "collapsed": true
   },
   "outputs": [],
   "source": [
    "for x in range(0, twoline.size[0]):\n",
    "    for y in range(0, twoline.size[1]):\n",
    "        twoline.putpixel((x,50),(0,0,0))\n",
    "        twoline.putpixel((50,y),(255,0,0))\n",
    "        \n",
    "twoline.save('twoline.png')\n",
    "twoline.show()"
   ]
  },
  {
   "cell_type": "code",
   "execution_count": null,
   "metadata": {},
   "outputs": [],
   "source": [
    "twoline = blur(twoline)"
   ]
  },
  {
   "cell_type": "code",
   "execution_count": null,
   "metadata": {},
   "outputs": [],
   "source": [
    "twoline.show()\n",
    "twoline.save('twoline_blurred.png')"
   ]
  },
  {
   "cell_type": "code",
   "execution_count": null,
   "metadata": {},
   "outputs": [],
   "source": [
    "apple = Image.open('apple.png')\n",
    "apple.show()"
   ]
  },
  {
   "cell_type": "code",
   "execution_count": null,
   "metadata": {},
   "outputs": [],
   "source": [
    "apple = blur(apple)"
   ]
  },
  {
   "cell_type": "code",
   "execution_count": null,
   "metadata": {
    "collapsed": true
   },
   "outputs": [],
   "source": [
    "apple.show()\n",
    "apple.save('apple_blurred.png')"
   ]
  },
  {
   "cell_type": "code",
   "execution_count": null,
   "metadata": {},
   "outputs": [],
   "source": [
    "#preserve transparency\n",
    "def blur(img):\n",
    "    blurred = Image.new('RGBA', img.size) \n",
    "    for x in range( 1, img.size[0] - 1):\n",
    "        for y in range(1, img.size[1] - 1):\n",
    "            (r , g ,b) = img.getpixel((x,y))[:3]\n",
    "            alpha = img.getpixel((x,y))[3:]\n",
    "            change =  differ(img, (x,y)) / 2.0\n",
    "            change = int(round(change))\n",
    "            newpixel = (r + change, g + change, b + change) + alpha\n",
    "            blurred.putpixel((x,y),  newpixel )\n",
    "    return blurred"
   ]
  },
  {
   "cell_type": "code",
   "execution_count": null,
   "metadata": {},
   "outputs": [],
   "source": [
    "apple = Image.open('apple.png')\n",
    "apple.show()"
   ]
  },
  {
   "cell_type": "code",
   "execution_count": null,
   "metadata": {
    "collapsed": true
   },
   "outputs": [],
   "source": [
    "apple = blur(apple)\n",
    "apple.show()\n",
    "apple.save('apple_blurred_trans.png')"
   ]
  },
  {
   "cell_type": "code",
   "execution_count": null,
   "metadata": {
    "collapsed": true
   },
   "outputs": [],
   "source": [
    "for i in range(0,20):\n",
    "    apple = blur(apple)\n",
    "    apple.save('apple_20blur.png')"
   ]
  },
  {
   "cell_type": "code",
   "execution_count": null,
   "metadata": {
    "collapsed": true
   },
   "outputs": [],
   "source": [
    "apple.show()"
   ]
  },
  {
   "cell_type": "code",
   "execution_count": null,
   "metadata": {
    "collapsed": true
   },
   "outputs": [],
   "source": []
  },
  {
   "cell_type": "code",
   "execution_count": null,
   "metadata": {
    "collapsed": true
   },
   "outputs": [],
   "source": [
    "black = 0\n",
    "white = 255"
   ]
  },
  {
   "cell_type": "code",
   "execution_count": null,
   "metadata": {},
   "outputs": [],
   "source": [
    "#what arithmetic is needed to change black to white?\n",
    "255-black"
   ]
  },
  {
   "cell_type": "code",
   "execution_count": null,
   "metadata": {},
   "outputs": [],
   "source": [
    "#white into black\n",
    "255-white"
   ]
  },
  {
   "cell_type": "code",
   "execution_count": null,
   "metadata": {
    "collapsed": true
   },
   "outputs": [],
   "source": [
    "#inverting an image\n",
    "#white will become black, black becomes white\n",
    "def invert(pngimage):  #copied from modify function\n",
    "    for x in range(pngimage.size[0]):\n",
    "        for y in range(pngimage.size[1]):\n",
    "            (r, g, b) = pngimage.getpixel((x,y))\n",
    "            pngimage.putpixel((x, y), ( 255 - r, 255 - g, 255 - b))"
   ]
  },
  {
   "cell_type": "code",
   "execution_count": null,
   "metadata": {},
   "outputs": [],
   "source": [
    "invert(apple) #uh oh, error about alpha"
   ]
  },
  {
   "cell_type": "code",
   "execution_count": null,
   "metadata": {
    "collapsed": true
   },
   "outputs": [],
   "source": [
    "def invert(pngimage):  \n",
    "    for x in range(pngimage.size[0]):\n",
    "        for y in range(pngimage.size[1]):\n",
    "            (r, g, b) = pngimage.getpixel((x,y))[:3]\n",
    "            alpha = pngimage.getpixel((x,y))[3:]\n",
    "            pngimage.putpixel((x, y), ( 255 - r, 255 - g, 255 - b) + alpha)"
   ]
  },
  {
   "cell_type": "code",
   "execution_count": null,
   "metadata": {
    "collapsed": true
   },
   "outputs": [],
   "source": [
    "apple.show()\n",
    "invert(apple)"
   ]
  },
  {
   "cell_type": "code",
   "execution_count": null,
   "metadata": {
    "collapsed": true
   },
   "outputs": [],
   "source": [
    "apple.save('apple_inverted.png')"
   ]
  },
  {
   "cell_type": "code",
   "execution_count": null,
   "metadata": {
    "collapsed": true
   },
   "outputs": [],
   "source": []
  },
  {
   "cell_type": "code",
   "execution_count": null,
   "metadata": {
    "collapsed": true
   },
   "outputs": [],
   "source": []
  },
  {
   "cell_type": "code",
   "execution_count": null,
   "metadata": {
    "collapsed": true
   },
   "outputs": [],
   "source": [
    "#old skool\n",
    "def old_skool(pngimage):  \n",
    "    for x in range(pngimage.size[0]):\n",
    "        for y in range(pngimage.size[1]):\n",
    "            (r, g, b) = pngimage.getpixel((x,y))[:3]\n",
    "            alpha = pngimage.getpixel((x,y))[3:]\n",
    "            pngimage.putpixel((x, y), ( r , g + 122, b ) + alpha)"
   ]
  },
  {
   "cell_type": "code",
   "execution_count": null,
   "metadata": {},
   "outputs": [],
   "source": [
    "apple = Image.open('apple.png')"
   ]
  },
  {
   "cell_type": "code",
   "execution_count": null,
   "metadata": {
    "collapsed": true
   },
   "outputs": [],
   "source": [
    "old_skool(apple)"
   ]
  },
  {
   "cell_type": "code",
   "execution_count": null,
   "metadata": {
    "collapsed": true
   },
   "outputs": [],
   "source": [
    "apple.show()\n",
    "apple.save('apple_oldskool.png')"
   ]
  },
  {
   "cell_type": "code",
   "execution_count": null,
   "metadata": {
    "collapsed": true
   },
   "outputs": [],
   "source": []
  },
  {
   "cell_type": "code",
   "execution_count": null,
   "metadata": {
    "collapsed": true
   },
   "outputs": [],
   "source": []
  },
  {
   "cell_type": "markdown",
   "metadata": {
    "collapsed": true
   },
   "source": [
    "### Q.  can you make a cool filter that takes out all the blue?\n"
   ]
  },
  {
   "cell_type": "code",
   "execution_count": null,
   "metadata": {},
   "outputs": [],
   "source": []
  },
  {
   "cell_type": "code",
   "execution_count": null,
   "metadata": {
    "collapsed": true
   },
   "outputs": [],
   "source": []
  }
 ],
 "metadata": {
  "kernelspec": {
   "display_name": "Python 2",
   "language": "python",
   "name": "python2"
  },
  "language_info": {
   "codemirror_mode": {
    "name": "ipython",
    "version": 2
   },
   "file_extension": ".py",
   "mimetype": "text/x-python",
   "name": "python",
   "nbconvert_exporter": "python",
   "pygments_lexer": "ipython2",
   "version": "2.7.13"
  }
 },
 "nbformat": 4,
 "nbformat_minor": 1
}
