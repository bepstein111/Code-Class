{
 "cells": [
  {
   "cell_type": "code",
   "execution_count": 1,
   "metadata": {
    "collapsed": true
   },
   "outputs": [],
   "source": [
    "from PIL import Image"
   ]
  },
  {
   "cell_type": "code",
   "execution_count": null,
   "metadata": {
    "collapsed": true
   },
   "outputs": [],
   "source": []
  },
  {
   "cell_type": "markdown",
   "metadata": {},
   "source": [
    "## Things to recall from last class"
   ]
  },
  {
   "cell_type": "markdown",
   "metadata": {},
   "source": [
    "<pre>How to do a 2-dimensional iteration through an image\n",
    "How to read a pixel’s color value and store it in a tuple\n",
    "How to write a pixel’s color value\n",
    "How to create a function to process an image globally (invert, lighten, darken)\n",
    "define a function to process the each pixel by scanning every row and column\n",
    "move each pixel’s color closer or farther to end of range (0, 255)\n",
    "How processes pixels conditionally   by test (r,g,b) value and do something based on that\n",
    "How to return the image from the function?</pre>\n",
    "Look for these answers as you recall what we did last time:"
   ]
  },
  {
   "cell_type": "markdown",
   "metadata": {},
   "source": [
    "#### Modfy each pixel Template\n",
    "Use the following function template for modifying all the pixels in an image.  Note that modify doesn't realy modify."
   ]
  },
  {
   "cell_type": "code",
   "execution_count": 2,
   "metadata": {},
   "outputs": [],
   "source": [
    "def modify(pngimage):  #not really modifying, but just making sure we have the right form\n",
    "    for x in range(pngimage.size[0]):  #go through each x value for pixel horizontally\n",
    "        for y in range(pngimage.size[1]):  #go through each y values for pixel vertically\n",
    "            (r, g, b) = pngimage.getpixel((x,y))   # grab the pixel color from a location x,y\n",
    "            pngimage.putpixel((x, y), (r, g, b))   #put the pixel color back in the same location x,y"
   ]
  },
  {
   "cell_type": "code",
   "execution_count": 3,
   "metadata": {
    "collapsed": true
   },
   "outputs": [],
   "source": [
    "ourimage = Image.open('balloons.png') #open an image"
   ]
  },
  {
   "cell_type": "code",
   "execution_count": 4,
   "metadata": {},
   "outputs": [],
   "source": [
    "modify(ourimage)  #run our 'not'-modify function"
   ]
  },
  {
   "cell_type": "code",
   "execution_count": 14,
   "metadata": {},
   "outputs": [],
   "source": [
    "ourimage.save('ourballoons.png')  #save out the imag"
   ]
  },
  {
   "cell_type": "markdown",
   "metadata": {},
   "source": [
    "We expect that this image is the ame as the one we opened. if it is, that means the loops for processing all the pixels works correctly and the getpixel and putpixel functions work correctly."
   ]
  },
  {
   "cell_type": "markdown",
   "metadata": {},
   "source": [
    "#### Lighten - move pixels closer to 255,255,255 (all white)"
   ]
  },
  {
   "cell_type": "code",
   "execution_count": 12,
   "metadata": {
    "collapsed": true
   },
   "outputs": [],
   "source": [
    "def lighten(pngimage):  #now we decide to lighten\n",
    "    for x in range(pngimage.size[0]):\n",
    "        for y in range(pngimage.size[1]):\n",
    "            (r, g, b) = pngimage.getpixel((x,y))\n",
    "            pngimage.putpixel((x, y), (r + 64, g + 64, b + 64))"
   ]
  },
  {
   "cell_type": "code",
   "execution_count": 13,
   "metadata": {},
   "outputs": [],
   "source": [
    "lighten(ourimage)\n",
    "ourimage.save('lightenedballoons.png')\n",
    "ourimage = Image.open('balloons.png')"
   ]
  },
  {
   "cell_type": "markdown",
   "metadata": {},
   "source": [
    "#### Darken - move pixels closer to 0,0,0"
   ]
  },
  {
   "cell_type": "code",
   "execution_count": 15,
   "metadata": {
    "collapsed": true
   },
   "outputs": [],
   "source": [
    "def darken(pngimage):  #now we decide to lighten\n",
    "    for x in range(pngimage.size[0]):\n",
    "        for y in range(pngimage.size[1]):\n",
    "            (r, g, b) = pngimage.getpixel((x,y))\n",
    "            pngimage.putpixel((x, y), (r - 64, g - 64, b - 64))"
   ]
  },
  {
   "cell_type": "code",
   "execution_count": 16,
   "metadata": {},
   "outputs": [],
   "source": [
    "darken(ourimage)\n",
    "ourimage.save('darkenedballoons.png')"
   ]
  },
  {
   "cell_type": "markdown",
   "metadata": {
    "collapsed": true
   },
   "source": [
    "#### putpixel is 'forgiving'-- it doesn't complain if the values given to it are outside the acceptable range.\n",
    "Note there was no error in the lighten or darken functions even though the pixel values must have become out of range\n",
    "This is an example of __'saturation aritmetic'__ - the supplied values are bounded (0,255)\n",
    "Putpixel will simply use the maximum or minumum value that it can handle."
   ]
  },
  {
   "cell_type": "code",
   "execution_count": 17,
   "metadata": {},
   "outputs": [],
   "source": [
    "#now lets generalize to handle transparency\n",
    "def lighten(pngimage):  #now we decide to lighten\n",
    "    for x in range(pngimage.size[0]):\n",
    "        for y in range(pngimage.size[1]):\n",
    "            (r, g, b) = pngimage.getpixel((x,y))[:3]\n",
    "            newcolor = (r + 64, g + 64, b + 64)\n",
    "            alpha = pngimage.getpixel((x,y))[3:]\n",
    "            pngimage.putpixel((x, y),(newcolor+alpha) )"
   ]
  },
  {
   "cell_type": "code",
   "execution_count": 18,
   "metadata": {
    "collapsed": true
   },
   "outputs": [],
   "source": [
    "ourimage = Image.open('cake.png') #choose an image with transparency"
   ]
  },
  {
   "cell_type": "code",
   "execution_count": 19,
   "metadata": {},
   "outputs": [],
   "source": [
    "lighten(ourimage)"
   ]
  },
  {
   "cell_type": "code",
   "execution_count": 20,
   "metadata": {
    "collapsed": true
   },
   "outputs": [],
   "source": [
    "ourimage.save('lightcake.png')"
   ]
  },
  {
   "cell_type": "markdown",
   "metadata": {
    "collapsed": true
   },
   "source": [
    "#### Darken modified to handle Alpha"
   ]
  },
  {
   "cell_type": "code",
   "execution_count": null,
   "metadata": {
    "collapsed": true
   },
   "outputs": [],
   "source": [
    "def darken(pngimage):  \n",
    "    for x in range(pngimage.size[0]):\n",
    "        for y in range(pngimage.size[1]):\n",
    "            (r, g, b) = pngimage.getpixel((x,y))[:3]\n",
    "            newcolor = (r - 64, g - 64, b - 64)\n",
    "            alpha = pngimage.getpixel((x,y))[3:]\n",
    "            pngimage.putpixel((x, y),(newcolor+alpha) )"
   ]
  },
  {
   "cell_type": "code",
   "execution_count": null,
   "metadata": {
    "collapsed": true
   },
   "outputs": [],
   "source": [
    "ourimage = Image.open('cake.png')\n",
    "darken(ourimage)\n",
    "ourimage.save('darkcake.png')"
   ]
  },
  {
   "cell_type": "code",
   "execution_count": null,
   "metadata": {},
   "outputs": [],
   "source": [
    "255*3/2.0"
   ]
  },
  {
   "cell_type": "code",
   "execution_count": null,
   "metadata": {
    "collapsed": true
   },
   "outputs": [],
   "source": [
    "#great, now we can do something more sophisticated, like \n",
    "#incrase contrast by\n",
    "#increase/decrease RGB based on the initial pixel value\n",
    "#For each pixel \n",
    "#   IF R+G+B > 255*3/2 then the pixel should be lightened\n",
    "#   IF R+G+B < 382.5 then the pixel should be lightened"
   ]
  },
  {
   "cell_type": "code",
   "execution_count": null,
   "metadata": {},
   "outputs": [],
   "source": [
    "def contrast(pngimage):  #now we decide to lighten\n",
    "    for x in range(pngimage.size[0]):\n",
    "        for y in range(pngimage.size[1]):\n",
    "            (r, g, b) = pngimage.getpixel((x,y))[:3]\n",
    "            if (r + g + b) > 382.5:\n",
    "                newcolor = (r + 64, g + 64, b + 64)\n",
    "            else:\n",
    "                newcolor = (r - 64, g - 64, b - 64)\n",
    "            alpha = pngimage.getpixel((x,y))[3:]\n",
    "            pngimage.putpixel((x, y),(newcolor+alpha) )"
   ]
  },
  {
   "cell_type": "code",
   "execution_count": null,
   "metadata": {
    "collapsed": true
   },
   "outputs": [],
   "source": [
    "ourimage = Image.open('cake.png')\n",
    "contrast(ourimage)\n",
    "ourimage.save('contrastcake.png')"
   ]
  },
  {
   "cell_type": "code",
   "execution_count": null,
   "metadata": {
    "collapsed": true
   },
   "outputs": [],
   "source": [
    "ourimage = Image.open('balloons.png')\n",
    "contrast(ourimage)\n",
    "ourimage.save('contrastballoons.png')"
   ]
  },
  {
   "cell_type": "code",
   "execution_count": null,
   "metadata": {
    "collapsed": true
   },
   "outputs": [],
   "source": [
    "#and now we've learned how to iterate over each pixel\n",
    "#so now lets try flipping pixels\n",
    "\n",
    "\n",
    " #Horizontal flip, we want the left pixels to swap with the right"
   ]
  },
  {
   "cell_type": "code",
   "execution_count": null,
   "metadata": {
    "collapsed": true
   },
   "outputs": [],
   "source": [
    "def hflip(pngimage):\n",
    "    width = pngimage.size[0]\n",
    "    for x in range(width):\n",
    "        for y in range(pngimage.size[1]):\n",
    "            left = pngimage.getpixel((x,y))\n",
    "            right = pngimage.getpixel(( width-x-1, y)) #note width-1 is right edge\n",
    "            pngimage.putpixel((x,y),right)\n",
    "            pngimage.putpixel( ( width - x - 1, y), left)\n",
    "    #print 'done'"
   ]
  },
  {
   "cell_type": "code",
   "execution_count": null,
   "metadata": {
    "collapsed": true
   },
   "outputs": [],
   "source": [
    "ourimage = Image.open('balloons.png')"
   ]
  },
  {
   "cell_type": "code",
   "execution_count": null,
   "metadata": {},
   "outputs": [],
   "source": [
    "hflip(ourimage)"
   ]
  },
  {
   "cell_type": "code",
   "execution_count": null,
   "metadata": {
    "collapsed": true
   },
   "outputs": [],
   "source": [
    "ourimage.save('flippedballoons.png')"
   ]
  },
  {
   "cell_type": "code",
   "execution_count": null,
   "metadata": {
    "collapsed": true
   },
   "outputs": [],
   "source": [
    "#whoops need to go back and save it\n",
    "def hflip(pngimage):\n",
    "    width = pngimage.size[0]\n",
    "    for x in range(width/2):  #note we will only process half of the image\n",
    "        for y in range(pngimage.size[1]):\n",
    "            left = pngimage.getpixel((x,y))\n",
    "            right = pngimage.getpixel(( width-x-1, y)) #note width-1 is right edge\n",
    "            pngimage.putpixel((x,y),right)\n",
    "            pngimage.putpixel( ( width - x - 1, y), left)"
   ]
  },
  {
   "cell_type": "code",
   "execution_count": null,
   "metadata": {},
   "outputs": [],
   "source": [
    "ourimage = Image.open('balloons.png')\n",
    "hflip(ourimage)\n",
    "ourimage.save('reallyflippedballoons.png')"
   ]
  },
  {
   "cell_type": "code",
   "execution_count": null,
   "metadata": {
    "collapsed": true
   },
   "outputs": [],
   "source": [
    "ourimage = Image.open('cake.png')\n",
    "hflip(ourimage)\n",
    "ourimage.save('flippedcake.png')"
   ]
  },
  {
   "cell_type": "code",
   "execution_count": null,
   "metadata": {
    "collapsed": true
   },
   "outputs": [],
   "source": [
    "#great now try vertical flip\n",
    "def vflip(pngimage):\n",
    "    height = pngimage.size[1]\n",
    "    for x in range(pngimage.size[0]):\n",
    "        for y in range(int(height/2)):\n",
    "            top = pngimage.getpixel((x,y))\n",
    "            bottom = pngimage.getpixel(( x, height - y - 1)) #note height-1 is bottom edge\n",
    "            pngimage.putpixel((x,y),bottom)\n",
    "            pngimage.putpixel( (x, height - y - 1 ), top)"
   ]
  },
  {
   "cell_type": "code",
   "execution_count": null,
   "metadata": {
    "collapsed": true
   },
   "outputs": [],
   "source": [
    "ourimage = Image.open('balloons.png')\n",
    "vflip(ourimage)\n",
    "ourimage.save('upsidedownballoons.png')"
   ]
  },
  {
   "cell_type": "code",
   "execution_count": null,
   "metadata": {
    "collapsed": true
   },
   "outputs": [],
   "source": [
    "ourimage = Image.open('cake.png')\n",
    "vflip(ourimage)\n",
    "ourimage.save('upsidedowncake.png')"
   ]
  },
  {
   "cell_type": "markdown",
   "metadata": {},
   "source": [
    "### Animating a flip"
   ]
  },
  {
   "cell_type": "code",
   "execution_count": null,
   "metadata": {
    "collapsed": true
   },
   "outputs": [],
   "source": [
    "### Our original flip from Monday\n",
    "def flipxy(pngimage):\n",
    "    print pngimage.size\n",
    "    width = pngimage.size[0]\n",
    "    height = pngimage.size[1]\n",
    "    newimage = Image.new('RGB',(height,width),'white')\n",
    "    count = 0    #make a variable to count each iteration step\n",
    "    for y in range(height):\n",
    "        for x in range(width):\n",
    "            newpixel = pngimage.getpixel((x,y)) \n",
    "            newimage.putpixel((height-y-1,width-x-1),newpixel)\n",
    "            newimage.save( str(count)+\".png\") #save each iteration as a new file\n",
    "            count+=1 #increment the counter\n",
    "    pngimage = newimage\n",
    "    return newimage"
   ]
  },
  {
   "cell_type": "code",
   "execution_count": null,
   "metadata": {
    "collapsed": true
   },
   "outputs": [],
   "source": [
    "## What's happening- let's animate it"
   ]
  },
  {
   "cell_type": "code",
   "execution_count": null,
   "metadata": {
    "collapsed": true
   },
   "outputs": [],
   "source": [
    "#make a tiny, non square image\n",
    "test = Image.new('RGB',(3,5),'white')\n",
    "for x in range(3):\n",
    "    for y in range(5):\n",
    "        if (x+y)%2 == 0:\n",
    "            test.putpixel((x,y),(x*60,y*60,(x+y)*30))\n",
    "            \n",
    "test.save('original.png')\n",
    "test.show() #see your image\n",
    "## You might have to ZOOM in to see each little pixel"
   ]
  },
  {
   "cell_type": "code",
   "execution_count": null,
   "metadata": {},
   "outputs": [],
   "source": [
    "def flip90(pngimage):\n",
    "    print pngimage.size\n",
    "    width = pngimage.size[0]\n",
    "    height = pngimage.size[1]\n",
    "    newimage = Image.new('RGB',(height,width),'white')\n",
    "    count = 0    #make a variable to count each iteration step\n",
    "    for y in range(height):\n",
    "        for x in range(width):\n",
    "            newpixel = pngimage.getpixel((x,y)) \n",
    "            newimage.putpixel((height-y-1,width-x-1),newpixel)\n",
    "            newimage.save( str(count)+\".png\") #save each iteration as a new file\n",
    "            count+=1 #increment the counter\n",
    "    pngimage = newimage\n",
    "    return newimage\n",
    "\n",
    "test = flip90(test)"
   ]
  },
  {
   "cell_type": "code",
   "execution_count": null,
   "metadata": {},
   "outputs": [],
   "source": [
    "#You can check the directory and look at the sequential images\n",
    "width = test.size[0]\n",
    "height = test.size[1]\n",
    "count =0\n",
    "animations = Image.new('RGB', (5*22,height*2),'lightpink') #create a big image to display our frames\n",
    "animations.paste(Image.open('original.png'),(0,0))  #show the original frame\n",
    "for i in range(width*height):\n",
    "    frame = Image.open(str(count)+'.png')  #find every numbered image that we saved\n",
    "    animations.paste(frame,((i*(height+3)),height+1)) #paste it into a bigger image\n",
    "    count += 1\n",
    "    \n",
    "animations    #looks like frames were saved"
   ]
  },
  {
   "cell_type": "code",
   "execution_count": null,
   "metadata": {
    "scrolled": true
   },
   "outputs": [],
   "source": [
    "animations.resize((animations.size[0]*10,animations.size[1]*10)) #resize so each frame is big"
   ]
  },
  {
   "cell_type": "code",
   "execution_count": null,
   "metadata": {
    "collapsed": true
   },
   "outputs": [],
   "source": [
    "animations.show()"
   ]
  },
  {
   "cell_type": "code",
   "execution_count": null,
   "metadata": {},
   "outputs": [],
   "source": []
  },
  {
   "cell_type": "code",
   "execution_count": null,
   "metadata": {
    "collapsed": true
   },
   "outputs": [],
   "source": []
  }
 ],
 "metadata": {
  "kernelspec": {
   "display_name": "Python 2",
   "language": "python",
   "name": "python2"
  },
  "language_info": {
   "codemirror_mode": {
    "name": "ipython",
    "version": 2
   },
   "file_extension": ".py",
   "mimetype": "text/x-python",
   "name": "python",
   "nbconvert_exporter": "python",
   "pygments_lexer": "ipython2",
   "version": "2.7.13"
  }
 },
 "nbformat": 4,
 "nbformat_minor": 1
}
