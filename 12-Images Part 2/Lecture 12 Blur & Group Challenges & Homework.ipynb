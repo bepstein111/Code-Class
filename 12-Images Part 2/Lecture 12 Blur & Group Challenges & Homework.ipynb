{
 "cells": [
  {
   "cell_type": "code",
   "execution_count": 2,
   "metadata": {},
   "outputs": [],
   "source": [
    "from PIL import Image"
   ]
  },
  {
   "cell_type": "markdown",
   "metadata": {},
   "source": [
    "### Q. How would you create an image that inverts all the colors?"
   ]
  },
  {
   "cell_type": "code",
   "execution_count": 4,
   "metadata": {},
   "outputs": [],
   "source": [
    "def invert(pngimage):  \n",
    "    for x in range(pngimage.size[0]):\n",
    "        for y in range(pngimage.size[1]):\n",
    "            (r, g, b) = pngimage.getpixel((x,y))[:3]\n",
    "            alpha = pngimage.getpixel((x,y))[3:]\n",
    "            pngimage.putpixel((x, y), ( 255 - r, 255 - g, 255 - b) + alpha)"
   ]
  },
  {
   "cell_type": "code",
   "execution_count": 18,
   "metadata": {},
   "outputs": [],
   "source": [
    "img = Image.open('cake.png')\n",
    "invert(img)\n",
    "img.save('cakeinvert.png')"
   ]
  },
  {
   "cell_type": "markdown",
   "metadata": {},
   "source": [
    "### Q. How would you create an image that makes the image look like an oldschool green monochrome monitor?"
   ]
  },
  {
   "cell_type": "code",
   "execution_count": 23,
   "metadata": {},
   "outputs": [],
   "source": [
    "def oldskool(pngimage):  \n",
    "    for x in range(pngimage.size[0]):\n",
    "        for y in range(pngimage.size[1]):\n",
    "            (r, g, b) = pngimage.getpixel((x,y))[:3]\n",
    "            alpha = pngimage.getpixel((x,y))[3:]\n",
    "            if y%2 == 1:\n",
    "                pngimage.putpixel((x, y), ( r - 100, g, b - 100) + alpha)\n",
    "            else:\n",
    "                pngimage.putpixel((x, y), ( 0,0,0))\n",
    "            "
   ]
  },
  {
   "cell_type": "code",
   "execution_count": 24,
   "metadata": {},
   "outputs": [],
   "source": [
    "img = Image.open('cake.png')\n",
    "oldskool(img)\n",
    "img.save('cakeoldskool.png')"
   ]
  },
  {
   "cell_type": "markdown",
   "metadata": {},
   "source": [
    "### Q. How would you create an image that looks sick (is tinted brownish)?"
   ]
  },
  {
   "cell_type": "code",
   "execution_count": 32,
   "metadata": {},
   "outputs": [],
   "source": [
    "def sickly(pngimage):  \n",
    "    for x in range(pngimage.size[0]):\n",
    "        for y in range(pngimage.size[1]):\n",
    "            (r, g, b) = pngimage.getpixel((x,y))[:3]\n",
    "            alpha = pngimage.getpixel((x,y))[3:]\n",
    "            pngimage.putpixel((x, y), ( r - 80, g - 80, b - 150) + alpha)"
   ]
  },
  {
   "cell_type": "code",
   "execution_count": 33,
   "metadata": {},
   "outputs": [],
   "source": [
    "img = Image.open('cake.png')\n",
    "sickly(img)\n",
    "img.save('cakesick.png')"
   ]
  },
  {
   "cell_type": "code",
   "execution_count": null,
   "metadata": {
    "collapsed": true
   },
   "outputs": [],
   "source": []
  },
  {
   "cell_type": "markdown",
   "metadata": {},
   "source": [
    "### How to write the blur function"
   ]
  },
  {
   "cell_type": "code",
   "execution_count": 34,
   "metadata": {},
   "outputs": [],
   "source": [
    "img = Image.new('RGB',(100,100),'white')"
   ]
  },
  {
   "cell_type": "code",
   "execution_count": 35,
   "metadata": {},
   "outputs": [
    {
     "data": {
      "text/plain": [
       "(255, 255, 255)"
      ]
     },
     "execution_count": 35,
     "metadata": {},
     "output_type": "execute_result"
    }
   ],
   "source": [
    "img.getpixel((40,50))#get RGB value"
   ]
  },
  {
   "cell_type": "code",
   "execution_count": 36,
   "metadata": {},
   "outputs": [
    {
     "data": {
      "text/plain": [
       "255"
      ]
     },
     "execution_count": 36,
     "metadata": {},
     "output_type": "execute_result"
    }
   ],
   "source": [
    "img.getpixel((40,50))[0]#get the red value"
   ]
  },
  {
   "cell_type": "code",
   "execution_count": 37,
   "metadata": {},
   "outputs": [
    {
     "name": "stdout",
     "output_type": "stream",
     "text": [
      "255\n",
      "255\n",
      "255\n"
     ]
    }
   ],
   "source": [
    "for i in range(0,3):   #get a pixels R, G, B values using iteration\n",
    "    print img.getpixel((40,50))[i]"
   ]
  },
  {
   "cell_type": "code",
   "execution_count": 38,
   "metadata": {},
   "outputs": [
    {
     "data": {
      "text/plain": [
       "255"
      ]
     },
     "execution_count": 38,
     "metadata": {},
     "output_type": "execute_result"
    }
   ],
   "source": [
    "#generalize getpixel to grab the red of any x,y value\n",
    "x = 10\n",
    "y = 20\n",
    "img.getpixel((x , y)) [0]"
   ]
  },
  {
   "cell_type": "code",
   "execution_count": 39,
   "metadata": {},
   "outputs": [],
   "source": [
    "#now sum up all the pixel values around a particular location\n",
    "around = img.getpixel((x - 1 , y - 1)) [0] + \\\n",
    "         img.getpixel((x     , y - 1)) [0] + \\\n",
    "         img.getpixel((x + 1 , y - 1)) [0] + \\\n",
    "         img.getpixel((x - 1 , y   )) [0] + \\\n",
    "            img.getpixel((x + 1 , y   )) [0] + \\\n",
    "            img.getpixel((x - 1 , y + 1)) [0] + \\\n",
    "            img.getpixel((x     , y + 1)) [0] + \\\n",
    "            img.getpixel((x + 1 , y + 1)) [0] "
   ]
  },
  {
   "cell_type": "code",
   "execution_count": 40,
   "metadata": {},
   "outputs": [],
   "source": [
    "#note that the backslash allows us to break a long expression to a new line"
   ]
  },
  {
   "cell_type": "code",
   "execution_count": 47,
   "metadata": {},
   "outputs": [],
   "source": [
    "img.show()"
   ]
  },
  {
   "cell_type": "code",
   "execution_count": 42,
   "metadata": {},
   "outputs": [],
   "source": [
    "img.putpixel((50,50),(0,0,0))"
   ]
  },
  {
   "cell_type": "code",
   "execution_count": 43,
   "metadata": {},
   "outputs": [],
   "source": [
    "img.show()"
   ]
  },
  {
   "cell_type": "code",
   "execution_count": 44,
   "metadata": {},
   "outputs": [
    {
     "name": "stdout",
     "output_type": "stream",
     "text": [
      "255.0\n"
     ]
    }
   ],
   "source": [
    "x = 50\n",
    "y = 50\n",
    "print around / 8.0"
   ]
  },
  {
   "cell_type": "code",
   "execution_count": 48,
   "metadata": {},
   "outputs": [],
   "source": [
    "#make a black square only around our pixel\n",
    "img.putpixel((49,49),(0,0,0))\n",
    "img.putpixel((49,50),(0,0,0))\n",
    "img.putpixel((49,51),(0,0,0))\n",
    "img.putpixel((50,51),(0,0,0))\n",
    "img.putpixel((50,49),(0,0,0))\n",
    "img.putpixel((51,49),(0,0,0))\n",
    "img.putpixel((51,50),(0,0,0))\n",
    "img.putpixel((51,51),(0,0,0))\n",
    "img.show()"
   ]
  },
  {
   "cell_type": "code",
   "execution_count": 49,
   "metadata": {},
   "outputs": [
    {
     "data": {
      "text/plain": [
       "2040"
      ]
     },
     "execution_count": 49,
     "metadata": {},
     "output_type": "execute_result"
    }
   ],
   "source": [
    "#go up and run the around cell again\n",
    "around"
   ]
  },
  {
   "cell_type": "code",
   "execution_count": 50,
   "metadata": {},
   "outputs": [],
   "source": [
    "x = 50\n",
    "y = 50\n"
   ]
  },
  {
   "cell_type": "code",
   "execution_count": 51,
   "metadata": {},
   "outputs": [],
   "source": [
    "#so we've verified the neighbor checking works in around"
   ]
  },
  {
   "cell_type": "code",
   "execution_count": 52,
   "metadata": {},
   "outputs": [],
   "source": [
    "#now go through all the colors\n",
    "around = 0\n",
    "for c in [0,1,2]:\n",
    "    around = around + \\\n",
    "    img.getpixel((x - 1 , y - 1)) [c] + \\\n",
    "    img.getpixel((x     , y - 1)) [c] + \\\n",
    "    img.getpixel((x + 1 , y - 1)) [c] + \\\n",
    "    img.getpixel((x - 1 , y )) [c] + \\\n",
    "    img.getpixel((x + 1 , y )) [c] + \\\n",
    "    img.getpixel((x - 1 , y + 1)) [c] + \\\n",
    "    img.getpixel((x     , y + 1)) [c] + \\\n",
    "    img.getpixel((x + 1 , y + 1)) [c] \n",
    "around = around / 24.0"
   ]
  },
  {
   "cell_type": "code",
   "execution_count": 53,
   "metadata": {},
   "outputs": [
    {
     "name": "stdout",
     "output_type": "stream",
     "text": [
      "0.0\n"
     ]
    }
   ],
   "source": [
    "print around"
   ]
  },
  {
   "cell_type": "code",
   "execution_count": 54,
   "metadata": {},
   "outputs": [],
   "source": [
    "img = Image.new('RGB', (100,100), 'white')\n",
    "#run the above two lines again and verify what we expect"
   ]
  },
  {
   "cell_type": "code",
   "execution_count": 55,
   "metadata": {},
   "outputs": [],
   "source": [
    "#now bundle it all up into a function for checking all the values\n",
    "#nearby a location of an image\n",
    "def nearby(img,(x,y)):\n",
    "    around = 0\n",
    "    for c in [0,1,2]:\n",
    "        around = around + \\\n",
    "        img.getpixel((x - 1 , y - 1)) [c] + \\\n",
    "        img.getpixel((x     , y - 1)) [c] + \\\n",
    "        img.getpixel((x + 1 , y - 1)) [c] + \\\n",
    "        img.getpixel((x - 1 , y )) [c] + \\\n",
    "        img.getpixel((x + 1 , y )) [c] + \\\n",
    "        img.getpixel((x - 1 , y + 1)) [c] + \\\n",
    "        img.getpixel((x     , y + 1)) [c] + \\\n",
    "        img.getpixel((x + 1 , y + 1)) [c] \n",
    "    around = around / 24.0\n",
    "    return around"
   ]
  },
  {
   "cell_type": "code",
   "execution_count": 58,
   "metadata": {},
   "outputs": [],
   "source": [
    "#note nearby takes two arguments, the first is the image\n",
    "#and the xecond is the tuple coordinate\n",
    "ourimage  = Image.open('apples.png')"
   ]
  },
  {
   "cell_type": "code",
   "execution_count": 59,
   "metadata": {},
   "outputs": [
    {
     "data": {
      "text/plain": [
       "(100, 100)"
      ]
     },
     "execution_count": 59,
     "metadata": {},
     "output_type": "execute_result"
    }
   ],
   "source": [
    "ourimage.size"
   ]
  },
  {
   "cell_type": "code",
   "execution_count": 60,
   "metadata": {},
   "outputs": [
    {
     "data": {
      "text/plain": [
       "59.958333333333336"
      ]
     },
     "execution_count": 60,
     "metadata": {},
     "output_type": "execute_result"
    }
   ],
   "source": [
    "nearby(ourimage,(72,72))"
   ]
  },
  {
   "cell_type": "code",
   "execution_count": 61,
   "metadata": {},
   "outputs": [],
   "source": [
    "#no errors, seems believable"
   ]
  },
  {
   "cell_type": "code",
   "execution_count": 62,
   "metadata": {},
   "outputs": [],
   "source": [
    "#rename to differ\n",
    "#return the difference between current pixel value and neighbors"
   ]
  },
  {
   "cell_type": "code",
   "execution_count": 63,
   "metadata": {},
   "outputs": [],
   "source": [
    "def differ(img,(x,y)):\n",
    "    current = 0\n",
    "    around = 0\n",
    "    for c in [0,1,2]:\n",
    "        current = current + img.getpixel((x,y))[c]  #grab the color value\n",
    "        around = around + \\\n",
    "        img.getpixel((x - 1 , y - 1)) [c] + \\\n",
    "        img.getpixel((x     , y - 1)) [c] + \\\n",
    "        img.getpixel((x + 1 , y - 1)) [c] + \\\n",
    "        img.getpixel((x - 1 , y )) [c] + \\\n",
    "        img.getpixel((x + 1 , y )) [c] + \\\n",
    "        img.getpixel((x - 1 , y + 1)) [c] + \\\n",
    "        img.getpixel((x     , y + 1)) [c] + \\\n",
    "        img.getpixel((x + 1 , y + 1)) [c] \n",
    "    around = around / 24.0\n",
    "    return around - (current/3.0)"
   ]
  },
  {
   "cell_type": "code",
   "execution_count": 64,
   "metadata": {},
   "outputs": [
    {
     "data": {
      "text/plain": [
       "1.2916666666666714"
      ]
     },
     "execution_count": 64,
     "metadata": {},
     "output_type": "execute_result"
    }
   ],
   "source": [
    "differ(ourimage,(72,72))"
   ]
  },
  {
   "cell_type": "code",
   "execution_count": 65,
   "metadata": {},
   "outputs": [],
   "source": [
    "ourimage.show()\n"
   ]
  },
  {
   "cell_type": "code",
   "execution_count": 66,
   "metadata": {},
   "outputs": [],
   "source": [
    "#now we can continue with blurring\n",
    "#we can change the pixel value by half the difference"
   ]
  },
  {
   "cell_type": "code",
   "execution_count": 67,
   "metadata": {},
   "outputs": [],
   "source": [
    "#also note that because we're changing the image a lot, we need\n",
    "#to make a copy\n",
    "def blur(img):\n",
    "    blurred = Image.new('RGB', img.size) #create a copy\n",
    "    for x in range( 1,img.size[0]-1):\n",
    "        for y in range( 1, img.size[1] - 1):\n",
    "            (r , g ,b) = img.getpixel((x,y))[:3]\n",
    "            change =  differ(img, (x,y)) / 2\n",
    "            blurred.putpixel((x,y), (r + change, g + change, b + change))\n",
    "    return blurred"
   ]
  },
  {
   "cell_type": "code",
   "execution_count": 68,
   "metadata": {},
   "outputs": [
    {
     "ename": "TypeError",
     "evalue": "integer argument expected, got float",
     "output_type": "error",
     "traceback": [
      "\u001b[1;31m---------------------------------------------------------------------------\u001b[0m",
      "\u001b[1;31mTypeError\u001b[0m                                 Traceback (most recent call last)",
      "\u001b[1;32m<ipython-input-68-479e9c7b8db4>\u001b[0m in \u001b[0;36m<module>\u001b[1;34m()\u001b[0m\n\u001b[1;32m----> 1\u001b[1;33m \u001b[0mblur\u001b[0m\u001b[1;33m(\u001b[0m\u001b[0mourimage\u001b[0m\u001b[1;33m)\u001b[0m\u001b[1;33m\u001b[0m\u001b[0m\n\u001b[0m",
      "\u001b[1;32m<ipython-input-67-8a206267f88c>\u001b[0m in \u001b[0;36mblur\u001b[1;34m(img)\u001b[0m\n\u001b[0;32m      7\u001b[0m             \u001b[1;33m(\u001b[0m\u001b[0mr\u001b[0m \u001b[1;33m,\u001b[0m \u001b[0mg\u001b[0m \u001b[1;33m,\u001b[0m\u001b[0mb\u001b[0m\u001b[1;33m)\u001b[0m \u001b[1;33m=\u001b[0m \u001b[0mimg\u001b[0m\u001b[1;33m.\u001b[0m\u001b[0mgetpixel\u001b[0m\u001b[1;33m(\u001b[0m\u001b[1;33m(\u001b[0m\u001b[0mx\u001b[0m\u001b[1;33m,\u001b[0m\u001b[0my\u001b[0m\u001b[1;33m)\u001b[0m\u001b[1;33m)\u001b[0m\u001b[1;33m[\u001b[0m\u001b[1;33m:\u001b[0m\u001b[1;36m3\u001b[0m\u001b[1;33m]\u001b[0m\u001b[1;33m\u001b[0m\u001b[0m\n\u001b[0;32m      8\u001b[0m             \u001b[0mchange\u001b[0m \u001b[1;33m=\u001b[0m  \u001b[0mdiffer\u001b[0m\u001b[1;33m(\u001b[0m\u001b[0mimg\u001b[0m\u001b[1;33m,\u001b[0m \u001b[1;33m(\u001b[0m\u001b[0mx\u001b[0m\u001b[1;33m,\u001b[0m\u001b[0my\u001b[0m\u001b[1;33m)\u001b[0m\u001b[1;33m)\u001b[0m \u001b[1;33m/\u001b[0m \u001b[1;36m2\u001b[0m\u001b[1;33m\u001b[0m\u001b[0m\n\u001b[1;32m----> 9\u001b[1;33m             \u001b[0mblurred\u001b[0m\u001b[1;33m.\u001b[0m\u001b[0mputpixel\u001b[0m\u001b[1;33m(\u001b[0m\u001b[1;33m(\u001b[0m\u001b[0mx\u001b[0m\u001b[1;33m,\u001b[0m\u001b[0my\u001b[0m\u001b[1;33m)\u001b[0m\u001b[1;33m,\u001b[0m \u001b[1;33m(\u001b[0m\u001b[0mr\u001b[0m \u001b[1;33m+\u001b[0m \u001b[0mchange\u001b[0m\u001b[1;33m,\u001b[0m \u001b[0mg\u001b[0m \u001b[1;33m+\u001b[0m \u001b[0mchange\u001b[0m\u001b[1;33m,\u001b[0m \u001b[0mb\u001b[0m \u001b[1;33m+\u001b[0m \u001b[0mchange\u001b[0m\u001b[1;33m)\u001b[0m\u001b[1;33m)\u001b[0m\u001b[1;33m\u001b[0m\u001b[0m\n\u001b[0m\u001b[0;32m     10\u001b[0m     \u001b[1;32mreturn\u001b[0m \u001b[0mblurred\u001b[0m\u001b[1;33m\u001b[0m\u001b[0m\n",
      "\u001b[1;32mc:\\python27\\lib\\site-packages\\PIL\\Image.pyc\u001b[0m in \u001b[0;36mputpixel\u001b[1;34m(self, xy, value)\u001b[0m\n\u001b[0;32m   1619\u001b[0m         \u001b[1;32mif\u001b[0m \u001b[0mself\u001b[0m\u001b[1;33m.\u001b[0m\u001b[0mpyaccess\u001b[0m\u001b[1;33m:\u001b[0m\u001b[1;33m\u001b[0m\u001b[0m\n\u001b[0;32m   1620\u001b[0m             \u001b[1;32mreturn\u001b[0m \u001b[0mself\u001b[0m\u001b[1;33m.\u001b[0m\u001b[0mpyaccess\u001b[0m\u001b[1;33m.\u001b[0m\u001b[0mputpixel\u001b[0m\u001b[1;33m(\u001b[0m\u001b[0mxy\u001b[0m\u001b[1;33m,\u001b[0m \u001b[0mvalue\u001b[0m\u001b[1;33m)\u001b[0m\u001b[1;33m\u001b[0m\u001b[0m\n\u001b[1;32m-> 1621\u001b[1;33m         \u001b[1;32mreturn\u001b[0m \u001b[0mself\u001b[0m\u001b[1;33m.\u001b[0m\u001b[0mim\u001b[0m\u001b[1;33m.\u001b[0m\u001b[0mputpixel\u001b[0m\u001b[1;33m(\u001b[0m\u001b[0mxy\u001b[0m\u001b[1;33m,\u001b[0m \u001b[0mvalue\u001b[0m\u001b[1;33m)\u001b[0m\u001b[1;33m\u001b[0m\u001b[0m\n\u001b[0m\u001b[0;32m   1622\u001b[0m \u001b[1;33m\u001b[0m\u001b[0m\n\u001b[0;32m   1623\u001b[0m     \u001b[1;32mdef\u001b[0m \u001b[0mremap_palette\u001b[0m\u001b[1;33m(\u001b[0m\u001b[0mself\u001b[0m\u001b[1;33m,\u001b[0m \u001b[0mdest_map\u001b[0m\u001b[1;33m,\u001b[0m \u001b[0msource_palette\u001b[0m\u001b[1;33m=\u001b[0m\u001b[0mNone\u001b[0m\u001b[1;33m)\u001b[0m\u001b[1;33m:\u001b[0m\u001b[1;33m\u001b[0m\u001b[0m\n",
      "\u001b[1;31mTypeError\u001b[0m: integer argument expected, got float"
     ]
    }
   ],
   "source": [
    "blur(ourimage)"
   ]
  },
  {
   "cell_type": "code",
   "execution_count": null,
   "metadata": {},
   "outputs": [],
   "source": []
  },
  {
   "cell_type": "code",
   "execution_count": 69,
   "metadata": {},
   "outputs": [],
   "source": [
    "#remove that index error!\n",
    "def blur(img):\n",
    "    blurred = Image.new('RGB', img.size) #create a copy\n",
    "    for x in range( 1, img.size[0] - 1):\n",
    "        for y in range(1, img.size[1] - 1):\n",
    "            (r , g ,b) = img.getpixel((x,y))[:3]\n",
    "            change =  int(differ(img, (x,y)) / 2.0)\n",
    "            blurred.putpixel((x,y), (r + change, g + change, b + change))\n",
    "    return blurred"
   ]
  },
  {
   "cell_type": "code",
   "execution_count": 70,
   "metadata": {},
   "outputs": [
    {
     "data": {
      "image/png": "[encoded data removed]",
      "text/plain": [
       "<PIL.Image.Image image mode=RGB size=100x100 at 0x6711438>"
      ]
     },
     "execution_count": 70,
     "metadata": {},
     "output_type": "execute_result"
    }
   ],
   "source": [
    "blur(ourimage)"
   ]
  },
  {
   "cell_type": "code",
   "execution_count": 71,
   "metadata": {},
   "outputs": [
    {
     "data": {
      "text/plain": [
       "500"
      ]
     },
     "execution_count": 71,
     "metadata": {},
     "output_type": "execute_result"
    }
   ],
   "source": [
    "#how to change a floating point value to an integer\n",
    "#use an int() conversion method\n",
    "int(500.2) "
   ]
  },
  {
   "cell_type": "code",
   "execution_count": 72,
   "metadata": {},
   "outputs": [
    {
     "data": {
      "text/plain": [
       "120"
      ]
     },
     "execution_count": 72,
     "metadata": {},
     "output_type": "execute_result"
    }
   ],
   "source": [
    "#works for variables too\n",
    "ratio = 120.7\n",
    "int(ratio)"
   ]
  },
  {
   "cell_type": "code",
   "execution_count": 73,
   "metadata": {},
   "outputs": [
    {
     "data": {
      "text/plain": [
       "121.0"
      ]
     },
     "execution_count": 73,
     "metadata": {},
     "output_type": "execute_result"
    }
   ],
   "source": [
    "#but we don't want to truncate the decimal, \n",
    "#we want it to round to nearest integer\n",
    "round(ratio)"
   ]
  },
  {
   "cell_type": "code",
   "execution_count": 74,
   "metadata": {},
   "outputs": [],
   "source": [
    "#integer argument expected... the solution is pixel color values need to be integers\n",
    "def blur(img):\n",
    "    blurred = Image.new('RGB', img.size) \n",
    "    for x in range( 1, img.size[0] - 1):\n",
    "        for y in range(1, img.size[1] - 1):\n",
    "            (r , g ,b) = img.getpixel((x,y))[:3]\n",
    "            change =  differ(img, (x,y)) / 2.0\n",
    "            change = int(round(change))\n",
    "            blurred.putpixel((x,y), (r + change, g + change, b + change))\n",
    "    return blurred"
   ]
  },
  {
   "cell_type": "code",
   "execution_count": 75,
   "metadata": {},
   "outputs": [],
   "source": [
    "twoline = Image.new('RGB',(100,100),'white')"
   ]
  },
  {
   "cell_type": "code",
   "execution_count": 76,
   "metadata": {},
   "outputs": [],
   "source": [
    "for x in range(0, twoline.size[0]):\n",
    "    for y in range(0, twoline.size[1]):\n",
    "        twoline.putpixel((x,50),(0,0,0))\n",
    "        twoline.putpixel((50,y),(255,0,0))\n",
    "        \n",
    "twoline.save('twoline.png')\n",
    "twoline.show()"
   ]
  },
  {
   "cell_type": "code",
   "execution_count": 77,
   "metadata": {},
   "outputs": [],
   "source": [
    "twoline = blur(twoline)"
   ]
  },
  {
   "cell_type": "code",
   "execution_count": 78,
   "metadata": {},
   "outputs": [],
   "source": [
    "twoline.show()\n",
    "twoline.save('twoline_blurred.png')"
   ]
  },
  {
   "cell_type": "code",
   "execution_count": 81,
   "metadata": {},
   "outputs": [],
   "source": [
    "apple = Image.open('apples.png')\n",
    "apple.show()"
   ]
  },
  {
   "cell_type": "code",
   "execution_count": 82,
   "metadata": {},
   "outputs": [],
   "source": [
    "apple = blur(apple)"
   ]
  },
  {
   "cell_type": "code",
   "execution_count": 83,
   "metadata": {},
   "outputs": [],
   "source": [
    "apple.show()\n",
    "apple.save('apple_blurred.png')"
   ]
  },
  {
   "cell_type": "code",
   "execution_count": 84,
   "metadata": {},
   "outputs": [],
   "source": [
    "#preserve transparency\n",
    "def blur(img):\n",
    "    blurred = Image.new('RGBA', img.size) \n",
    "    for x in range( 1, img.size[0] - 1):\n",
    "        for y in range(1, img.size[1] - 1):\n",
    "            (r , g ,b) = img.getpixel((x,y))[:3]\n",
    "            alpha = img.getpixel((x,y))[3:]\n",
    "            change =  differ(img, (x,y)) / 2.0\n",
    "            change = int(round(change))\n",
    "            newpixel = (r + change, g + change, b + change) + alpha\n",
    "            blurred.putpixel((x,y),  newpixel )\n",
    "    return blurred"
   ]
  },
  {
   "cell_type": "code",
   "execution_count": 86,
   "metadata": {},
   "outputs": [],
   "source": [
    "apple = Image.open('apples.png')\n",
    "apple.show()"
   ]
  },
  {
   "cell_type": "code",
   "execution_count": 87,
   "metadata": {},
   "outputs": [],
   "source": [
    "apple = blur(apple)\n",
    "apple.show()\n",
    "apple.save('apple_blurred_trans.png')"
   ]
  },
  {
   "cell_type": "code",
   "execution_count": 88,
   "metadata": {},
   "outputs": [],
   "source": [
    "for i in range(0,20):\n",
    "    apple = blur(apple)\n",
    "    apple.save('apple_20blur.png')"
   ]
  },
  {
   "cell_type": "code",
   "execution_count": 89,
   "metadata": {},
   "outputs": [],
   "source": [
    "apple.show()"
   ]
  },
  {
   "cell_type": "code",
   "execution_count": null,
   "metadata": {
    "collapsed": true
   },
   "outputs": [],
   "source": []
  },
  {
   "cell_type": "code",
   "execution_count": 90,
   "metadata": {},
   "outputs": [],
   "source": [
    "black = 0\n",
    "white = 255"
   ]
  },
  {
   "cell_type": "code",
   "execution_count": 91,
   "metadata": {},
   "outputs": [
    {
     "data": {
      "text/plain": [
       "255"
      ]
     },
     "execution_count": 91,
     "metadata": {},
     "output_type": "execute_result"
    }
   ],
   "source": [
    "#what arithmetic is needed to change black to white?\n",
    "255-black"
   ]
  },
  {
   "cell_type": "code",
   "execution_count": 92,
   "metadata": {},
   "outputs": [
    {
     "data": {
      "text/plain": [
       "0"
      ]
     },
     "execution_count": 92,
     "metadata": {},
     "output_type": "execute_result"
    }
   ],
   "source": [
    "#white into black\n",
    "255-white"
   ]
  },
  {
   "cell_type": "code",
   "execution_count": 93,
   "metadata": {},
   "outputs": [],
   "source": [
    "#inverting an image\n",
    "#white will become black, black becomes white\n",
    "def invert(pngimage):  #copied from modify function\n",
    "    for x in range(pngimage.size[0]):\n",
    "        for y in range(pngimage.size[1]):\n",
    "            (r, g, b) = pngimage.getpixel((x,y))\n",
    "            pngimage.putpixel((x, y), ( 255 - r, 255 - g, 255 - b))"
   ]
  },
  {
   "cell_type": "code",
   "execution_count": 94,
   "metadata": {},
   "outputs": [
    {
     "ename": "ValueError",
     "evalue": "too many values to unpack",
     "output_type": "error",
     "traceback": [
      "\u001b[1;31m---------------------------------------------------------------------------\u001b[0m",
      "\u001b[1;31mValueError\u001b[0m                                Traceback (most recent call last)",
      "\u001b[1;32m<ipython-input-94-cc7f843654a1>\u001b[0m in \u001b[0;36m<module>\u001b[1;34m()\u001b[0m\n\u001b[1;32m----> 1\u001b[1;33m \u001b[0minvert\u001b[0m\u001b[1;33m(\u001b[0m\u001b[0mapple\u001b[0m\u001b[1;33m)\u001b[0m \u001b[1;31m#uh oh, error about alpha\u001b[0m\u001b[1;33m\u001b[0m\u001b[0m\n\u001b[0m",
      "\u001b[1;32m<ipython-input-93-563b5cac4209>\u001b[0m in \u001b[0;36minvert\u001b[1;34m(pngimage)\u001b[0m\n\u001b[0;32m      4\u001b[0m     \u001b[1;32mfor\u001b[0m \u001b[0mx\u001b[0m \u001b[1;32min\u001b[0m \u001b[0mrange\u001b[0m\u001b[1;33m(\u001b[0m\u001b[0mpngimage\u001b[0m\u001b[1;33m.\u001b[0m\u001b[0msize\u001b[0m\u001b[1;33m[\u001b[0m\u001b[1;36m0\u001b[0m\u001b[1;33m]\u001b[0m\u001b[1;33m)\u001b[0m\u001b[1;33m:\u001b[0m\u001b[1;33m\u001b[0m\u001b[0m\n\u001b[0;32m      5\u001b[0m         \u001b[1;32mfor\u001b[0m \u001b[0my\u001b[0m \u001b[1;32min\u001b[0m \u001b[0mrange\u001b[0m\u001b[1;33m(\u001b[0m\u001b[0mpngimage\u001b[0m\u001b[1;33m.\u001b[0m\u001b[0msize\u001b[0m\u001b[1;33m[\u001b[0m\u001b[1;36m1\u001b[0m\u001b[1;33m]\u001b[0m\u001b[1;33m)\u001b[0m\u001b[1;33m:\u001b[0m\u001b[1;33m\u001b[0m\u001b[0m\n\u001b[1;32m----> 6\u001b[1;33m             \u001b[1;33m(\u001b[0m\u001b[0mr\u001b[0m\u001b[1;33m,\u001b[0m \u001b[0mg\u001b[0m\u001b[1;33m,\u001b[0m \u001b[0mb\u001b[0m\u001b[1;33m)\u001b[0m \u001b[1;33m=\u001b[0m \u001b[0mpngimage\u001b[0m\u001b[1;33m.\u001b[0m\u001b[0mgetpixel\u001b[0m\u001b[1;33m(\u001b[0m\u001b[1;33m(\u001b[0m\u001b[0mx\u001b[0m\u001b[1;33m,\u001b[0m\u001b[0my\u001b[0m\u001b[1;33m)\u001b[0m\u001b[1;33m)\u001b[0m\u001b[1;33m\u001b[0m\u001b[0m\n\u001b[0m\u001b[0;32m      7\u001b[0m             \u001b[0mpngimage\u001b[0m\u001b[1;33m.\u001b[0m\u001b[0mputpixel\u001b[0m\u001b[1;33m(\u001b[0m\u001b[1;33m(\u001b[0m\u001b[0mx\u001b[0m\u001b[1;33m,\u001b[0m \u001b[0my\u001b[0m\u001b[1;33m)\u001b[0m\u001b[1;33m,\u001b[0m \u001b[1;33m(\u001b[0m \u001b[1;36m255\u001b[0m \u001b[1;33m-\u001b[0m \u001b[0mr\u001b[0m\u001b[1;33m,\u001b[0m \u001b[1;36m255\u001b[0m \u001b[1;33m-\u001b[0m \u001b[0mg\u001b[0m\u001b[1;33m,\u001b[0m \u001b[1;36m255\u001b[0m \u001b[1;33m-\u001b[0m \u001b[0mb\u001b[0m\u001b[1;33m)\u001b[0m\u001b[1;33m)\u001b[0m\u001b[1;33m\u001b[0m\u001b[0m\n",
      "\u001b[1;31mValueError\u001b[0m: too many values to unpack"
     ]
    }
   ],
   "source": [
    "invert(apple) #uh oh, error about alpha"
   ]
  },
  {
   "cell_type": "code",
   "execution_count": 95,
   "metadata": {},
   "outputs": [],
   "source": [
    "def invert(pngimage):  \n",
    "    for x in range(pngimage.size[0]):\n",
    "        for y in range(pngimage.size[1]):\n",
    "            (r, g, b) = pngimage.getpixel((x,y))[:3]\n",
    "            alpha = pngimage.getpixel((x,y))[3:]\n",
    "            pngimage.putpixel((x, y), ( 255 - r, 255 - g, 255 - b) + alpha)"
   ]
  },
  {
   "cell_type": "code",
   "execution_count": 96,
   "metadata": {},
   "outputs": [],
   "source": [
    "apple.show()\n",
    "invert(apple)"
   ]
  },
  {
   "cell_type": "code",
   "execution_count": 97,
   "metadata": {},
   "outputs": [],
   "source": [
    "apple.save('apple_inverted.png')"
   ]
  },
  {
   "cell_type": "code",
   "execution_count": null,
   "metadata": {},
   "outputs": [],
   "source": []
  },
  {
   "cell_type": "code",
   "execution_count": null,
   "metadata": {
    "collapsed": true
   },
   "outputs": [],
   "source": []
  },
  {
   "cell_type": "code",
   "execution_count": null,
   "metadata": {
    "collapsed": true
   },
   "outputs": [],
   "source": [
    "#old skool\n",
    "def old_skool(pngimage):  \n",
    "    for x in range(pngimage.size[0]):\n",
    "        for y in range(pngimage.size[1]):\n",
    "            (r, g, b) = pngimage.getpixel((x,y))[:3]\n",
    "            alpha = pngimage.getpixel((x,y))[3:]\n",
    "            pngimage.putpixel((x, y), ( r , g + 122, b ) + alpha)"
   ]
  },
  {
   "cell_type": "code",
   "execution_count": null,
   "metadata": {},
   "outputs": [],
   "source": [
    "apple = Image.open('apple.png')"
   ]
  },
  {
   "cell_type": "code",
   "execution_count": null,
   "metadata": {
    "collapsed": true
   },
   "outputs": [],
   "source": [
    "old_skool(apple)"
   ]
  },
  {
   "cell_type": "code",
   "execution_count": null,
   "metadata": {
    "collapsed": true
   },
   "outputs": [],
   "source": [
    "apple.show()\n",
    "apple.save('apple_oldskool.png')"
   ]
  },
  {
   "cell_type": "code",
   "execution_count": null,
   "metadata": {
    "collapsed": true
   },
   "outputs": [],
   "source": []
  },
  {
   "cell_type": "code",
   "execution_count": null,
   "metadata": {
    "collapsed": true
   },
   "outputs": [],
   "source": []
  },
  {
   "cell_type": "markdown",
   "metadata": {
    "collapsed": true
   },
   "source": [
    "### Q.  can you make a cool filter that takes out all the blue?\n"
   ]
  },
  {
   "cell_type": "code",
   "execution_count": 101,
   "metadata": {},
   "outputs": [],
   "source": [
    "def notblue(pngimage):  \n",
    "    for x in range(pngimage.size[0]):\n",
    "        for y in range(pngimage.size[1]):\n",
    "            (r, g, b) = pngimage.getpixel((x,y))[:3]\n",
    "            alpha = pngimage.getpixel((x,y))[3:]\n",
    "            pngimage.putpixel((x, y), ( r , g , b - b ) + alpha)"
   ]
  },
  {
   "cell_type": "code",
   "execution_count": 102,
   "metadata": {},
   "outputs": [],
   "source": [
    "apple = Image.open('apples.png')\n",
    "notblue(apple)\n",
    "apple.save('apples_notblue.png')"
   ]
  },
  {
   "cell_type": "code",
   "execution_count": null,
   "metadata": {},
   "outputs": [],
   "source": []
  }
 ],
 "metadata": {
  "kernelspec": {
   "display_name": "Python 2",
   "language": "python",
   "name": "python2"
  },
  "language_info": {
   "codemirror_mode": {
    "name": "ipython",
    "version": 2
   },
   "file_extension": ".py",
   "mimetype": "text/x-python",
   "name": "python",
   "nbconvert_exporter": "python",
   "pygments_lexer": "ipython2",
   "version": "2.7.14"
  }
 },
 "nbformat": 4,
 "nbformat_minor": 1
}
