{
 "cells": [
  {
   "cell_type": "markdown",
   "metadata": {
    "deletable": true,
    "editable": true
   },
   "source": [
    "# Image processing that evaluates more than one pixel at a time\n",
    "\n",
    "Today we're going to look at a slightly more complex image filter, the __blur__ function.\n",
    "\n",
    "First, we'll remind ourselvss how to work with Image objects. \n",
    "\n",
    "Please answer all Questions, marked with __Q__."
   ]
  },
  {
   "cell_type": "code",
   "execution_count": null,
   "metadata": {
    "collapsed": true,
    "deletable": true,
    "editable": true
   },
   "outputs": [],
   "source": [
    "from PIL import Image       #need to import the Image Library"
   ]
  },
  {
   "cell_type": "code",
   "execution_count": null,
   "metadata": {
    "collapsed": false,
    "deletable": true,
    "editable": true
   },
   "outputs": [],
   "source": [
    "img = Image.new('RGB',(100,100),'white')   #Create a square, white image"
   ]
  },
  {
   "cell_type": "markdown",
   "metadata": {
    "deletable": true,
    "editable": true
   },
   "source": [
    "How do you find the color in an image at a specific location?\n",
    "Remember its something like <pre>\n",
    "img.getpixel(( x,y )) </pre>\n",
    "### Q Use __getpixel()__ to find the value of the red, green, and blue color channels at a particular x,y location."
   ]
  },
  {
   "cell_type": "code",
   "execution_count": null,
   "metadata": {
    "collapsed": false,
    "deletable": true,
    "editable": true
   },
   "outputs": [],
   "source": []
  },
  {
   "cell_type": "markdown",
   "metadata": {
    "deletable": true,
    "editable": true
   },
   "source": [
    "If you only want the Red value, what do you do?  \n",
    "You get the first element in the tuple (by using a 0 in square brackets like this:)\n",
    "\n",
    "<pre>\n",
    "img.getpixel((40,50))[0]\n",
    "</pre> \n",
    "### Q. What is the red channel value at location x=40, y= 50?"
   ]
  },
  {
   "cell_type": "code",
   "execution_count": null,
   "metadata": {
    "collapsed": true,
    "deletable": true,
    "editable": true
   },
   "outputs": [],
   "source": []
  },
  {
   "cell_type": "markdown",
   "metadata": {
    "deletable": true,
    "editable": true
   },
   "source": [
    "Now how would we iterate through the red, green, and blue values from a pixel?  \n",
    "Since _getpixel_ returns at tuple with three values (r,g,b), we can use a for loop to grab the red value at index 0, the green value at index 1, and the blue value at index 2."
   ]
  },
  {
   "cell_type": "code",
   "execution_count": null,
   "metadata": {
    "collapsed": false,
    "deletable": true,
    "editable": true
   },
   "outputs": [],
   "source": [
    "for i in range(0,3):   #get an arbitrary pixels R, G, B values using iteration\n",
    "    print img.getpixel((40,50))[i]"
   ]
  },
  {
   "cell_type": "markdown",
   "metadata": {
    "collapsed": false,
    "deletable": true,
    "editable": true
   },
   "source": [
    "In order to write a _blur_ function, we will have to think about what blurring an image means on the pixel level.\n",
    "If an image is _sharp_, its pixels are distinct from nearby pixels. If an image is _blurry_, that means nearby pixels are similar in value. So that means we'll ahve to write a filter to look at all the surrounding pixels of a location, and try to change the pixel at that location to be more similar to the color of the pixels around it.\n",
    "\n",
    "So first, we are going to rewrite our getpixel code so that it is generalized for any x,y value.\n",
    "This just means using variables for _x_ and _y_ instead of the actual location."
   ]
  },
  {
   "cell_type": "code",
   "execution_count": null,
   "metadata": {
    "collapsed": false,
    "deletable": true,
    "editable": true
   },
   "outputs": [],
   "source": [
    "x = 10\n",
    "y = 20\n",
    "img.getpixel((x , y)) [0]"
   ]
  },
  {
   "cell_type": "markdown",
   "metadata": {
    "deletable": true,
    "editable": true
   },
   "source": [
    "So we can iterate each separate color value, try it for a red image and\n",
    "confirm that isolating the channels is working."
   ]
  },
  {
   "cell_type": "code",
   "execution_count": null,
   "metadata": {
    "collapsed": false,
    "deletable": true,
    "editable": true
   },
   "outputs": [],
   "source": [
    "red = Image.new('RGB',(100,100),'red') # a red image\n",
    "for i in range(0,3):   #get an arbitrary pixels R, G, B values using iteration\n",
    "    print red.getpixel((40,50))[i]"
   ]
  },
  {
   "cell_type": "code",
   "execution_count": null,
   "metadata": {
    "collapsed": true,
    "deletable": true,
    "editable": true
   },
   "outputs": [],
   "source": []
  },
  {
   "cell_type": "markdown",
   "metadata": {
    "deletable": true,
    "editable": true
   },
   "source": [
    "## Create the around function to get a value for the surrounding pixels\n",
    "What it needs to do? For each pixel, make all the surrounding pixels more similar in color.\n",
    "\n",
    "So create an expression for the colors in one channel of the _8_ surrounding pixels (i-viii).\n",
    "<pre>\n",
    "      x-1, x, x +1  < x location\n",
    "     _____________\n",
    "y-1 | i   ii  iii \n",
    "y   | iv  x,y  v\n",
    "y+1 | vi  vii viii\n",
    "^ \n",
    "y locations\n",
    "</pre>\n",
    "\n",
    "Using **getpixel(x,y) and the index[color_channel]**\n",
    "\n",
    "The following function totals all the red values from the 8 pixels surrounding an x,y location.\n",
    "\n",
    "Notice how the code is spcead out using \\  backslash for continuing long lines so that \n",
    "this exprsion is easy to read"
   ]
  },
  {
   "cell_type": "code",
   "execution_count": null,
   "metadata": {
    "collapsed": false,
    "deletable": true,
    "editable": true
   },
   "outputs": [],
   "source": [
    "# Total of all the colors in the pixels surrounding x,y\n",
    "around = img.getpixel((x - 1 , y - 1)) [0] + \\\n",
    "         img.getpixel((x     , y - 1)) [0] + \\\n",
    "         img.getpixel((x + 1 , y - 1)) [0] + \\\n",
    "         img.getpixel((x - 1 , y   )) [0] + \\\n",
    "         img.getpixel((x + 1 , y   )) [0] + \\\n",
    "         img.getpixel((x - 1 , y + 1)) [0] + \\\n",
    "         img.getpixel((x     , y + 1)) [0] + \\\n",
    "         img.getpixel((x + 1 , y + 1)) [0] "
   ]
  },
  {
   "cell_type": "code",
   "execution_count": null,
   "metadata": {
    "collapsed": true,
    "deletable": true,
    "editable": true
   },
   "outputs": [],
   "source": [
    "img.show()  #confirm we have an all white image"
   ]
  },
  {
   "cell_type": "code",
   "execution_count": null,
   "metadata": {
    "collapsed": true,
    "deletable": true,
    "editable": true
   },
   "outputs": [],
   "source": [
    "img.putpixel((50,50),(0,0,0))  #add a black pixel in the middle of our white canvas"
   ]
  },
  {
   "cell_type": "code",
   "execution_count": null,
   "metadata": {
    "collapsed": true,
    "deletable": true,
    "editable": true
   },
   "outputs": [],
   "source": [
    "img.show()  #confirm that we have a black dot in the middle"
   ]
  },
  {
   "cell_type": "markdown",
   "metadata": {
    "deletable": true,
    "editable": true
   },
   "source": [
    "Now we run __around__ to find he total value of the red channels around the black pixel should be 255 (full white)"
   ]
  },
  {
   "cell_type": "code",
   "execution_count": null,
   "metadata": {
    "collapsed": false,
    "deletable": true,
    "editable": true
   },
   "outputs": [],
   "source": [
    "x = 50\n",
    "y = 50\n",
    "print around   "
   ]
  },
  {
   "cell_type": "markdown",
   "metadata": {
    "collapsed": true,
    "deletable": true,
    "editable": true
   },
   "source": [
    "To get the average red channel of the pixels around the black pixel, we divide by a 8 (since there were 8 points we totalled up). Notice we use a float for precision."
   ]
  },
  {
   "cell_type": "code",
   "execution_count": null,
   "metadata": {
    "collapsed": false,
    "deletable": true,
    "editable": true
   },
   "outputs": [],
   "source": [
    "print around / 8.0"
   ]
  },
  {
   "cell_type": "markdown",
   "metadata": {
    "deletable": true,
    "editable": true
   },
   "source": [
    "But this location's color value should still be 0,0,0 (black)"
   ]
  },
  {
   "cell_type": "code",
   "execution_count": null,
   "metadata": {
    "collapsed": false,
    "deletable": true,
    "editable": true
   },
   "outputs": [],
   "source": [
    "img.getpixel((50,50) ) "
   ]
  },
  {
   "cell_type": "markdown",
   "metadata": {
    "deletable": true,
    "editable": true
   },
   "source": [
    "## Verify that we are doing the right math for addressing the surrounding pixels\n",
    "<pre>\n",
    "x-1, x, x +1\n",
    "y-1  i   ii  iii \n",
    "y    iv  x,y  v\n",
    "y+1  vi  vii viii\n",
    "</pre>\n",
    "\n",
    "We'll grab the pixel addresses around the pixel of interest x = 50, y = 50"
   ]
  },
  {
   "cell_type": "code",
   "execution_count": null,
   "metadata": {
    "collapsed": false,
    "deletable": true,
    "editable": true
   },
   "outputs": [],
   "source": [
    "print x-1, y-1\n",
    "print  x , y-1\n",
    "print x+1, y-1\n",
    "print x-1, y\n",
    "print  x , y\n",
    "print x+1, y\n",
    "print x-1, y+1\n",
    "print  x , y+1\n",
    "print x+1, y+1"
   ]
  },
  {
   "cell_type": "markdown",
   "metadata": {
    "deletable": true,
    "editable": true
   },
   "source": [
    "And we'll confirm those values to make a square around our pixel, by manually adding a black pixel to show where around() took its data from."
   ]
  },
  {
   "cell_type": "code",
   "execution_count": null,
   "metadata": {
    "collapsed": false,
    "deletable": true,
    "editable": true
   },
   "outputs": [],
   "source": [
    "img.putpixel((49,49),(0,0,0))\n",
    "img.putpixel((49,50),(0,0,0))\n",
    "img.putpixel((49,51),(0,0,0))\n",
    "img.putpixel((50,51),(0,0,0))\n",
    "img.putpixel((50,49),(0,0,0))\n",
    "img.putpixel((51,49),(0,0,0))\n",
    "img.putpixel((51,50),(0,0,0))\n",
    "img.putpixel((51,51),(0,0,0))"
   ]
  },
  {
   "cell_type": "code",
   "execution_count": null,
   "metadata": {
    "collapsed": true,
    "deletable": true,
    "editable": true
   },
   "outputs": [],
   "source": [
    "# This should now show a 3x3 black square in the middle\n",
    "img.show()"
   ]
  },
  {
   "cell_type": "markdown",
   "metadata": {
    "collapsed": true,
    "deletable": true,
    "editable": true
   },
   "source": [
    "Now that we hav a working around function for red, we'll copy that and write a more genera expression for all the color channels area based on x,y.  Below we use an iterator to print out that we are getting the colors for the surrounding pixels (the black square).\n",
    "\n",
    "What do we expect for each r,g,b value if we look at the pixels in the black box around our middle pixel?"
   ]
  },
  {
   "cell_type": "code",
   "execution_count": null,
   "metadata": {
    "collapsed": true,
    "deletable": true,
    "editable": true
   },
   "outputs": [],
   "source": [
    "x = 50\n",
    "y = 50"
   ]
  },
  {
   "cell_type": "code",
   "execution_count": null,
   "metadata": {
    "collapsed": false,
    "deletable": true,
    "editable": true
   },
   "outputs": [],
   "source": [
    "for c in range(0,3):\n",
    "    print '\\t',c\n",
    "    print img.getpixel((x - 1 , y - 1)) [c] \n",
    "    print img.getpixel((x     , y - 1)) [c] \n",
    "    print img.getpixel((x + 1 , y - 1)) [c] \n",
    "    print img.getpixel((x - 1 , y )) [c]\n",
    "    print img.getpixel((x + 1 , y )) [c]\n",
    "    print img.getpixel((x - 1 , y + 1)) [c] \n",
    "    print img.getpixel((x     , y + 1)) [c] \n",
    "    print img.getpixel((x + 1 , y + 1)) [c] "
   ]
  },
  {
   "cell_type": "markdown",
   "metadata": {
    "deletable": true,
    "editable": true
   },
   "source": [
    "Now when we run the around function (copied below) again, our value for the middle pixel should be 0 (all black surrounding x,y)"
   ]
  },
  {
   "cell_type": "code",
   "execution_count": null,
   "metadata": {
    "collapsed": false,
    "deletable": true,
    "editable": true
   },
   "outputs": [],
   "source": [
    "around = img.getpixel((x - 1 , y - 1)) [0] + \\\n",
    "         img.getpixel((x     , y - 1)) [0] + \\\n",
    "         img.getpixel((x + 1 , y - 1)) [0] + \\\n",
    "         img.getpixel((x - 1 , y   )) [0] + \\\n",
    "            img.getpixel((x + 1 , y   )) [0] + \\\n",
    "            img.getpixel((x - 1 , y + 1)) [0] + \\\n",
    "            img.getpixel((x     , y + 1)) [0] + \\\n",
    "            img.getpixel((x + 1 , y + 1)) [0] \n",
    "around"
   ]
  },
  {
   "cell_type": "markdown",
   "metadata": {
    "deletable": true,
    "editable": true
   },
   "source": [
    "Looking anywhere else in the image should give us a full red channel (155 for a white pixel)."
   ]
  },
  {
   "cell_type": "code",
   "execution_count": null,
   "metadata": {
    "collapsed": false,
    "deletable": true,
    "editable": true
   },
   "outputs": [],
   "source": [
    "x=25\n",
    "y=25\n",
    "around/8.0"
   ]
  },
  {
   "cell_type": "markdown",
   "metadata": {
    "deletable": true,
    "editable": true
   },
   "source": [
    "## Q. Fill in the around function variables\n",
    "So how do we write _around_ to iterate through all the colors?  Hint, you want to grab the first, second, and third values of the tuple using a list of integers."
   ]
  },
  {
   "cell_type": "code",
   "execution_count": null,
   "metadata": {
    "collapsed": false,
    "deletable": true,
    "editable": true
   },
   "outputs": [],
   "source": [
    "#now go through all the colors\n",
    "x=50\n",
    "y=50\n",
    "around = 0\n",
    "for c in #__fill_in_this :\n",
    "    around = around + \\\n",
    "    img.getpixel((x - 1 , y - 1)) [c] + \\\n",
    "    img.getpixel((x     , y - 1)) [c] + \\\n",
    "    img.getpixel((x + 1 , y - 1)) [c] + \\\n",
    "    img.getpixel((x - 1 , y )) [c] + \\\n",
    "    img.getpixel((x + 1 , y )) [c] + \\\n",
    "    img.getpixel((x - 1 , y + 1)) [c] + \\\n",
    "    img.getpixel((x     , y + 1)) [c] + \\\n",
    "    img.getpixel((x + 1 , y + 1)) [c] \n",
    "around = around / #how_many_values_we_added_hint_8_times_3 "
   ]
  },
  {
   "cell_type": "code",
   "execution_count": null,
   "metadata": {
    "collapsed": false,
    "deletable": true,
    "editable": true
   },
   "outputs": [],
   "source": [
    "print around"
   ]
  },
  {
   "cell_type": "markdown",
   "metadata": {
    "deletable": true,
    "editable": true
   },
   "source": [
    "### Convert into a function\n",
    "Bundle the around code up into a function named _nearby_ for checking all the values nearby a location of an image.\n",
    "__Note__ nearby takes two arguments, the 1st is the image and the 2nd is a tuple location inside the image."
   ]
  },
  {
   "cell_type": "code",
   "execution_count": null,
   "metadata": {
    "collapsed": false,
    "deletable": true,
    "editable": true
   },
   "outputs": [],
   "source": [
    "def nearby(img,(x,y)):\n",
    "    around = 0\n",
    "    #we're going to add all the channels together for each surrounding pixel\n",
    "    for c in [0,1,2]:     \n",
    "        around = around + \\\n",
    "        img.getpixel((x - 1 , y - 1)) [c] + \\\n",
    "        img.getpixel((x     , y - 1)) [c] + \\\n",
    "        img.getpixel((x + 1 , y - 1)) [c] + \\\n",
    "        img.getpixel((x - 1 , y )) [c] + \\\n",
    "        img.getpixel((x + 1 , y )) [c] + \\\n",
    "        img.getpixel((x - 1 , y + 1)) [c] + \\\n",
    "        img.getpixel((x     , y + 1)) [c] + \\\n",
    "        img.getpixel((x + 1 , y + 1)) [c] \n",
    "    around = around / 24.0     #divide by 24 to get the average\n",
    "    return around"
   ]
  },
  {
   "cell_type": "code",
   "execution_count": null,
   "metadata": {
    "collapsed": true,
    "deletable": true,
    "editable": true
   },
   "outputs": [],
   "source": [
    "img = Image.new('RGB', (100,100), 'white')  #get a white image"
   ]
  },
  {
   "cell_type": "code",
   "execution_count": null,
   "metadata": {
    "collapsed": false,
    "deletable": true,
    "editable": true
   },
   "outputs": [],
   "source": [
    "nearby(img,(40,50))"
   ]
  },
  {
   "cell_type": "markdown",
   "metadata": {
    "deletable": true,
    "editable": true
   },
   "source": [
    "Try it on a non-obvious image"
   ]
  },
  {
   "cell_type": "code",
   "execution_count": null,
   "metadata": {
    "collapsed": false,
    "deletable": true,
    "editable": true
   },
   "outputs": [],
   "source": [
    "ourimage  = Image.open('apple.png')"
   ]
  },
  {
   "cell_type": "code",
   "execution_count": null,
   "metadata": {
    "collapsed": false,
    "deletable": true,
    "editable": true
   },
   "outputs": [],
   "source": [
    "ourimage.size  #need to make sure our nearby function operates inside the image boundaries"
   ]
  },
  {
   "cell_type": "code",
   "execution_count": null,
   "metadata": {
    "collapsed": false,
    "deletable": true,
    "editable": true
   },
   "outputs": [],
   "source": [
    "nearby(ourimage,(62,65))"
   ]
  },
  {
   "cell_type": "markdown",
   "metadata": {
    "collapsed": false,
    "deletable": true,
    "editable": true
   },
   "source": [
    "No errors, seems believable"
   ]
  },
  {
   "cell_type": "code",
   "execution_count": null,
   "metadata": {
    "collapsed": true,
    "deletable": true,
    "editable": true
   },
   "outputs": [],
   "source": []
  },
  {
   "cell_type": "markdown",
   "metadata": {
    "deletable": true,
    "editable": true
   },
   "source": [
    "Now, in order for us to make the pixel more like the surrounding pixels, we actually want to change the pixel by the difference betwen it and the surrounding average. "
   ]
  },
  {
   "cell_type": "markdown",
   "metadata": {
    "collapsed": true,
    "deletable": true,
    "editable": true
   },
   "source": [
    "## Difference function\n",
    "So for this reason, we'll alter our nearby frunction to keep track of the pixel color at the loation we are looking at and return the difference between that pixel value and the average of its neighbors. We'll later change the pixel in question by that amount."
   ]
  },
  {
   "cell_type": "code",
   "execution_count": null,
   "metadata": {
    "collapsed": true,
    "deletable": true,
    "editable": true
   },
   "outputs": [],
   "source": [
    "def differ(img,(x,y)):\n",
    "    current = 0\n",
    "    around = 0\n",
    "    for c in [0,1,2]:\n",
    "        current = current + img.getpixel((x,y))[c]  #grab the color at that location\n",
    "        around = around + \\\n",
    "        img.getpixel((x - 1 , y - 1)) [c] + \\\n",
    "        img.getpixel((x     , y - 1)) [c] + \\\n",
    "        img.getpixel((x + 1 , y - 1)) [c] + \\\n",
    "        img.getpixel((x - 1 , y )) [c] + \\\n",
    "        img.getpixel((x + 1 , y )) [c] + \\\n",
    "        img.getpixel((x - 1 , y + 1)) [c] + \\\n",
    "        img.getpixel((x     , y + 1)) [c] + \\\n",
    "        img.getpixel((x + 1 , y + 1)) [c] \n",
    "    around = around / 24.0\n",
    "    return around - (current/3.0)  #returns how different it is from its neighbors"
   ]
  },
  {
   "cell_type": "code",
   "execution_count": null,
   "metadata": {
    "collapsed": false,
    "deletable": true,
    "editable": true
   },
   "outputs": [],
   "source": [
    "differ(ourimage,(56,82)) #somewhere surrounded by black"
   ]
  },
  {
   "cell_type": "code",
   "execution_count": null,
   "metadata": {
    "collapsed": false,
    "deletable": true,
    "editable": true
   },
   "outputs": [],
   "source": [
    "differ(ourimage,(72,62)) #somewhere where its very different from neighbors"
   ]
  },
  {
   "cell_type": "code",
   "execution_count": null,
   "metadata": {
    "collapsed": false,
    "deletable": true,
    "editable": true
   },
   "outputs": [],
   "source": [
    "differ(ourimage,(71,61))"
   ]
  },
  {
   "cell_type": "code",
   "execution_count": null,
   "metadata": {
    "collapsed": false,
    "deletable": true,
    "editable": true
   },
   "outputs": [],
   "source": [
    "ourimage.show() #use IRFanview to confirm"
   ]
  },
  {
   "cell_type": "markdown",
   "metadata": {
    "collapsed": true,
    "deletable": true,
    "editable": true
   },
   "source": [
    "## Now we can continue with writing the blur function.\n",
    "The blur function will look at every pixel and modify the pixel to be like its neighbors according to the differ function.  \n",
    "__Note we need to make a new image to write into.__ We'll have to write our modificationss into a new image, otherwise our calucations might take into account surounding pixels that have already been blurred."
   ]
  },
  {
   "cell_type": "code",
   "execution_count": null,
   "metadata": {
    "collapsed": false,
    "deletable": true,
    "editable": true
   },
   "outputs": [],
   "source": [
    "def blur(img):\n",
    "    blurred = Image.new('RGB', img.size) #create a new image\n",
    "    for x in range( 1,img.size[0] ):\n",
    "        for y in range( 1, img.size[1] ):\n",
    "            (r , g ,b) = img.getpixel((x,y))[:3]\n",
    "            change =  differ(img, (x,y)) / 2  #use our differ function to get change, divide by 2\n",
    "            blurred.putpixel((x,y), (r + change, g + change, b + change))\n",
    "    return blurred"
   ]
  },
  {
   "cell_type": "code",
   "execution_count": null,
   "metadata": {
    "collapsed": false,
    "deletable": true,
    "editable": true
   },
   "outputs": [],
   "source": [
    "blur(ourimage)"
   ]
  },
  {
   "cell_type": "markdown",
   "metadata": {
    "deletable": true,
    "editable": true
   },
   "source": [
    "### Note the 'integer argument' error. Remember that pixel color values need to be integers. A pixel location with a float value wouldn't make any sense."
   ]
  },
  {
   "cell_type": "code",
   "execution_count": null,
   "metadata": {
    "collapsed": false,
    "deletable": true,
    "editable": true
   },
   "outputs": [],
   "source": [
    "#how to change a floating point value to an integer\n",
    "#use an int() conversion method\n",
    "int(500.2) "
   ]
  },
  {
   "cell_type": "code",
   "execution_count": null,
   "metadata": {
    "collapsed": true,
    "deletable": true,
    "editable": true
   },
   "outputs": [],
   "source": [
    "def blur(img):\n",
    "    blurred = Image.new('RGB', img.size) #create a copy because we want to refer to a clean copy\n",
    "    for x in range( 1,img.size[0] ):\n",
    "        for y in range( 1, img.size[1] ):\n",
    "            (r , g ,b) = img.getpixel((x,y))[:3]\n",
    "            change =  int(differ(img, (x,y)) / 2 ) #use our differ function to get change\n",
    "            blurred.putpixel((x,y), (r + change, g + change, b + change))\n",
    "    return blurred"
   ]
  },
  {
   "cell_type": "code",
   "execution_count": null,
   "metadata": {
    "collapsed": false,
    "deletable": true,
    "editable": true
   },
   "outputs": [],
   "source": [
    "blur(ourimage)"
   ]
  },
  {
   "cell_type": "markdown",
   "metadata": {
    "deletable": true,
    "editable": true
   },
   "source": [
    "### Note the index out of range error. Are we trying to query something out of the bounds of the image?\n",
    "\n",
    "Take a look at the solution below. Notice anything interesting about the input to the range function?"
   ]
  },
  {
   "cell_type": "code",
   "execution_count": null,
   "metadata": {
    "collapsed": false,
    "deletable": true,
    "editable": true
   },
   "outputs": [],
   "source": [
    "#remove that index error!\n",
    "def blur(img):\n",
    "    blurred = Image.new('RGB', img.size)  \n",
    "    for x in range( 1, img.size[0] - 1):\n",
    "        for y in range(1, img.size[1] - 1):\n",
    "            (r , g ,b) = img.getpixel((x,y))[:3]\n",
    "            change =  int(differ(img, (x,y)) / 2.0)\n",
    "            blurred.putpixel((x,y), (r + change, g + change, b + change))\n",
    "    return blurred"
   ]
  },
  {
   "cell_type": "code",
   "execution_count": null,
   "metadata": {
    "collapsed": false,
    "deletable": true,
    "editable": true
   },
   "outputs": [],
   "source": [
    "blur(ourimage)"
   ]
  },
  {
   "cell_type": "code",
   "execution_count": null,
   "metadata": {
    "collapsed": false,
    "deletable": true,
    "editable": true
   },
   "outputs": [],
   "source": [
    "blurred = blur(ourimage)   \n",
    "blurred.save('blurredapple.png') #save it out and compare"
   ]
  },
  {
   "cell_type": "markdown",
   "metadata": {
    "deletable": true,
    "editable": true
   },
   "source": [
    "### Note on integer division-- its truncating the decimal instaed of rounding\n",
    "We don't want to truncate the decimal, so need to round to nearest integer, so use round"
   ]
  },
  {
   "cell_type": "code",
   "execution_count": null,
   "metadata": {
    "collapsed": false,
    "deletable": true,
    "editable": true
   },
   "outputs": [],
   "source": [
    "ratio = 120.7\n",
    "int(ratio)"
   ]
  },
  {
   "cell_type": "code",
   "execution_count": null,
   "metadata": {
    "collapsed": false,
    "deletable": true,
    "editable": true
   },
   "outputs": [],
   "source": [
    "round(ratio)  #Much better"
   ]
  },
  {
   "cell_type": "code",
   "execution_count": null,
   "metadata": {
    "collapsed": true,
    "deletable": true,
    "editable": true
   },
   "outputs": [],
   "source": [
    "#Our rounded off change\n",
    "def blur(img):\n",
    "    blurred = Image.new('RGB', img.size) \n",
    "    for x in range( 1, img.size[0] - 1):\n",
    "        for y in range(1, img.size[1] - 1):\n",
    "            (r , g ,b) = img.getpixel((x,y))[:3]\n",
    "            change =  differ(img, (x,y)) / 2.0\n",
    "            change = int(round(change))  #so we cast to integer after we round off\n",
    "            blurred.putpixel((x,y), (r + change, g + change, b + change))\n",
    "    return blurred"
   ]
  },
  {
   "cell_type": "markdown",
   "metadata": {
    "deletable": true,
    "editable": true
   },
   "source": [
    "### Now lets play with a new image where we can more clearly see the blur effect."
   ]
  },
  {
   "cell_type": "code",
   "execution_count": null,
   "metadata": {
    "collapsed": false,
    "deletable": true,
    "editable": true
   },
   "outputs": [],
   "source": [
    "twoline = Image.new('RGB',(100,100),'white')"
   ]
  },
  {
   "cell_type": "code",
   "execution_count": null,
   "metadata": {
    "collapsed": true,
    "deletable": true,
    "editable": true
   },
   "outputs": [],
   "source": [
    "for x in range(0, twoline.size[0]):\n",
    "    for y in range(0, twoline.size[1]):\n",
    "        twoline.putpixel((x,50),(0,0,0))\n",
    "        twoline.putpixel((50,y),(255,0,0))\n",
    "        \n",
    "twoline.save('twoline.png')\n",
    "twoline.show()"
   ]
  },
  {
   "cell_type": "code",
   "execution_count": null,
   "metadata": {
    "collapsed": false,
    "deletable": true,
    "editable": true
   },
   "outputs": [],
   "source": [
    "twoline = blur(twoline)"
   ]
  },
  {
   "cell_type": "code",
   "execution_count": null,
   "metadata": {
    "collapsed": false,
    "deletable": true,
    "editable": true
   },
   "outputs": [],
   "source": [
    "twoline.show()\n",
    "twoline.save('twoline_blurred.png')"
   ]
  },
  {
   "cell_type": "code",
   "execution_count": null,
   "metadata": {
    "collapsed": false,
    "deletable": true,
    "editable": true
   },
   "outputs": [],
   "source": [
    "apple = Image.open('apple.png')\n",
    "apple.show()"
   ]
  },
  {
   "cell_type": "code",
   "execution_count": null,
   "metadata": {
    "collapsed": false,
    "deletable": true,
    "editable": true
   },
   "outputs": [],
   "source": [
    "apple = blur(apple)"
   ]
  },
  {
   "cell_type": "code",
   "execution_count": null,
   "metadata": {
    "collapsed": true,
    "deletable": true,
    "editable": true
   },
   "outputs": [],
   "source": [
    "apple.show()\n",
    "apple.save('apple_blurred.png')"
   ]
  },
  {
   "cell_type": "markdown",
   "metadata": {
    "deletable": true,
    "editable": true
   },
   "source": [
    "### Preserve transparency by isolating the alpha and adding it back in.\n",
    "\n",
    "Recall hat alpha is the fourth element in a tuple. So we'll use a slice to first grab only the first three channels with the RGB [:3] and then grab the alpha [3:] (the fourth element)\n",
    "\n",
    "Also note that we will crate a nw image that contains the Alpha channel (mode 'RGBA')"
   ]
  },
  {
   "cell_type": "code",
   "execution_count": null,
   "metadata": {
    "collapsed": false,
    "deletable": true,
    "editable": true
   },
   "outputs": [],
   "source": [
    "#preserve transparency\n",
    "def blur(img):\n",
    "    blurred = Image.new('RGBA', img.size) \n",
    "    for x in range( 1, img.size[0] - 1):\n",
    "        for y in range(1, img.size[1] - 1):\n",
    "            (r , g ,b) = img.getpixel((x,y))[:3]   #Grab only the RGB\n",
    "            alpha = img.getpixel((x,y))[3:]       #Isolat ethe Alpha\n",
    "            change =  differ(img, (x,y)) / 2.0\n",
    "            change = int(round(change))\n",
    "            newpixel = (r + change, g + change, b + change) + alpha  #add it back in\n",
    "            blurred.putpixel((x,y),  newpixel )\n",
    "    return blurred"
   ]
  },
  {
   "cell_type": "code",
   "execution_count": null,
   "metadata": {
    "collapsed": false,
    "deletable": true,
    "editable": true
   },
   "outputs": [],
   "source": [
    "apple = Image.open('apple.png')\n",
    "apple.show()"
   ]
  },
  {
   "cell_type": "code",
   "execution_count": null,
   "metadata": {
    "collapsed": true,
    "deletable": true,
    "editable": true
   },
   "outputs": [],
   "source": [
    "apple = blur(apple) #this takes some time to process\n",
    "apple.show()  #note that preview doesn't show alpha well\n",
    "apple.save('apple_blurred_trans.png')"
   ]
  },
  {
   "cell_type": "code",
   "execution_count": null,
   "metadata": {
    "collapsed": true,
    "deletable": true,
    "editable": true
   },
   "outputs": [],
   "source": [
    "for i in range(0,20):  #do it a bunch of times to make sure its happening\n",
    "    apple = blur(apple)\n",
    "    apple.save('apple_20blur.png')"
   ]
  },
  {
   "cell_type": "code",
   "execution_count": null,
   "metadata": {
    "collapsed": true,
    "deletable": true,
    "editable": true
   },
   "outputs": [],
   "source": []
  },
  {
   "cell_type": "markdown",
   "metadata": {
    "collapsed": true,
    "deletable": true,
    "editable": true
   },
   "source": [
    "__Bonus Point Q__ Which of the image manipulations have we worked on in the past that does not require every pixel to be visited? In what cases must every pixel be read and/or written and in what cases can some pixels ignored."
   ]
  },
  {
   "cell_type": "code",
   "execution_count": null,
   "metadata": {
    "collapsed": true,
    "deletable": true,
    "editable": true
   },
   "outputs": [],
   "source": []
  },
  {
   "cell_type": "markdown",
   "metadata": {
    "deletable": true,
    "editable": true
   },
   "source": [
    "You might think someone should have already written invert, flipping, bluring, etc. You are right!\n",
    "Use the ImageOps module (functions) from the Python Imaging Library"
   ]
  },
  {
   "cell_type": "code",
   "execution_count": null,
   "metadata": {
    "collapsed": false,
    "deletable": true,
    "editable": true
   },
   "outputs": [],
   "source": [
    "from PIL import Image"
   ]
  },
  {
   "cell_type": "code",
   "execution_count": null,
   "metadata": {
    "collapsed": true,
    "deletable": true,
    "editable": true
   },
   "outputs": [],
   "source": [
    "import PIL.ImageOps"
   ]
  },
  {
   "cell_type": "code",
   "execution_count": null,
   "metadata": {
    "collapsed": true,
    "deletable": true,
    "editable": true
   },
   "outputs": [],
   "source": [
    "img = Image.open('twoline.png')"
   ]
  },
  {
   "cell_type": "code",
   "execution_count": null,
   "metadata": {
    "collapsed": false,
    "deletable": true,
    "editable": true
   },
   "outputs": [],
   "source": [
    "inverted = PIL.ImageOps.invert(img)"
   ]
  },
  {
   "cell_type": "code",
   "execution_count": null,
   "metadata": {
    "collapsed": false,
    "deletable": true,
    "editable": true
   },
   "outputs": [],
   "source": [
    "inverted.save('inverted.png')"
   ]
  },
  {
   "cell_type": "markdown",
   "metadata": {
    "deletable": true,
    "editable": true
   },
   "source": [
    "So why did we just do all that low-level pixel toggling? Because its good to know how to do it if you ever want to write your own custom filter, and also givs us experience with loops and tuples. ImageOps is optimized and well tested, and well documented\n",
    "\n",
    "http://pillow.readthedocs.io/en/3.1.x/reference/ImageOps.html\n",
    "and\n",
    "\n",
    "http://effbot.org/imagingbook/imageops.htm"
   ]
  },
  {
   "cell_type": "markdown",
   "metadata": {
    "deletable": true,
    "editable": true
   },
   "source": [
    "### Download an image file through code"
   ]
  },
  {
   "cell_type": "markdown",
   "metadata": {
    "deletable": true,
    "editable": true
   },
   "source": [
    "How to __download a file from the internet using python__.  In a previous class, you saw \n",
    "wget from the command line.   You can also use the __urllib__  (URL Library) with two string arguements:\n",
    "\n",
    "<pre>import urllib\n",
    "urllib.retriev('http://remoteaddres.com/image.jpg\",'localfile.jpg')\n",
    "the first is the url and the second the local filename you want it to save to:"
   ]
  },
  {
   "cell_type": "code",
   "execution_count": null,
   "metadata": {
    "collapsed": false,
    "deletable": true,
    "editable": true
   },
   "outputs": [],
   "source": [
    "import urllib\n",
    "\n",
    "urllib.urlretrieve(\"http://web.engr.oregonstate.edu/~mjb/glman/rainbow3.jpg\", \"teapot.jpg\")"
   ]
  },
  {
   "cell_type": "code",
   "execution_count": null,
   "metadata": {
    "collapsed": true,
    "deletable": true,
    "editable": true
   },
   "outputs": [],
   "source": [
    "img = Image.open('teapot.jpg')"
   ]
  },
  {
   "cell_type": "code",
   "execution_count": null,
   "metadata": {
    "collapsed": false,
    "deletable": true,
    "editable": true
   },
   "outputs": [],
   "source": [
    "apple = Image.open('apple.png')"
   ]
  },
  {
   "cell_type": "markdown",
   "metadata": {
    "deletable": true,
    "editable": true
   },
   "source": [
    "### Q. Download 2 image files from the internet using python"
   ]
  },
  {
   "cell_type": "code",
   "execution_count": null,
   "metadata": {
    "collapsed": true,
    "deletable": true,
    "editable": true
   },
   "outputs": [],
   "source": []
  },
  {
   "cell_type": "code",
   "execution_count": null,
   "metadata": {
    "collapsed": true,
    "deletable": true,
    "editable": true
   },
   "outputs": [],
   "source": []
  },
  {
   "cell_type": "code",
   "execution_count": null,
   "metadata": {
    "collapsed": true,
    "deletable": true,
    "editable": true
   },
   "outputs": [],
   "source": []
  },
  {
   "cell_type": "markdown",
   "metadata": {
    "deletable": true,
    "editable": true
   },
   "source": [
    "###  Checkerboard code, bundled up into a function."
   ]
  },
  {
   "cell_type": "code",
   "execution_count": null,
   "metadata": {
    "collapsed": true,
    "deletable": true,
    "editable": true
   },
   "outputs": [],
   "source": [
    "def checkerboard(img1,img2):\n",
    "    img1 = img1.resize((200,200))\n",
    "    img2 = img2.resize((200,200))\n",
    "    background = Image.new('RGB',(1000,1000),'white')\n",
    "    #background.show()\n",
    "    print background.size  #we made a big background\n",
    "    i = 0  #counter\n",
    "    for left in range( 0, 1000 , 200):\n",
    "        for top in range( 0, 1000, 200):\n",
    "            if i%2 == 0:\n",
    "                background.paste(img1,(left,top))  #every even number, paste the pig\n",
    "            else:\n",
    "                background.paste(img2,(left,top)) #ever odd number, paste the duck\n",
    "            i+=1  #increment the counter\n",
    "    return background"
   ]
  },
  {
   "cell_type": "code",
   "execution_count": null,
   "metadata": {
    "collapsed": false,
    "deletable": true,
    "editable": true
   },
   "outputs": [],
   "source": [
    "mycheck = checkerboard(apple,img)"
   ]
  },
  {
   "cell_type": "code",
   "execution_count": null,
   "metadata": {
    "collapsed": true,
    "deletable": true,
    "editable": true
   },
   "outputs": [],
   "source": [
    "mycheck.save('appleteapots.jpg')"
   ]
  },
  {
   "cell_type": "markdown",
   "metadata": {
    "deletable": true,
    "editable": true
   },
   "source": [
    "### Optional Q. Make a checkerboard imagee and save it.  (If you didn't get to this in Lecture 11)"
   ]
  },
  {
   "cell_type": "code",
   "execution_count": null,
   "metadata": {
    "collapsed": true,
    "deletable": true,
    "editable": true
   },
   "outputs": [],
   "source": []
  },
  {
   "cell_type": "code",
   "execution_count": null,
   "metadata": {
    "collapsed": true,
    "deletable": true,
    "editable": true
   },
   "outputs": [],
   "source": []
  },
  {
   "cell_type": "code",
   "execution_count": null,
   "metadata": {
    "collapsed": true,
    "deletable": true,
    "editable": true
   },
   "outputs": [],
   "source": []
  },
  {
   "cell_type": "code",
   "execution_count": null,
   "metadata": {
    "collapsed": true,
    "deletable": true,
    "editable": true
   },
   "outputs": [],
   "source": []
  },
  {
   "cell_type": "code",
   "execution_count": null,
   "metadata": {
    "collapsed": true,
    "deletable": true,
    "editable": true
   },
   "outputs": [],
   "source": []
  },
  {
   "cell_type": "markdown",
   "metadata": {
    "deletable": true,
    "editable": true
   },
   "source": [
    "### Meme generator"
   ]
  },
  {
   "cell_type": "code",
   "execution_count": null,
   "metadata": {
    "collapsed": true,
    "deletable": true,
    "editable": true
   },
   "outputs": [],
   "source": [
    "from PIL import Image\n",
    "from PIL import ImageDraw\n",
    "from PIL import ImageFont"
   ]
  },
  {
   "cell_type": "code",
   "execution_count": null,
   "metadata": {
    "collapsed": true,
    "deletable": true,
    "editable": true
   },
   "outputs": [],
   "source": [
    "# package up into a function\n",
    "def memerson(myimage,caption):\n",
    "    \"memerson(image, string) -  takes an image and a string caption, and returns a meme\"\n",
    "    # create a canvas for the overlay text\n",
    "    draw = ImageDraw.Draw(myimage)\n",
    "    # configure text propoerties\n",
    "    font = ImageFont.truetype('Arial.ttf', 20)\n",
    "    textwidth, textheight = draw.textsize(caption, font)\n",
    "    color = \"navy\"\n",
    "    margin = 10\n",
    "    x = myimage.size[0] - textwidth - margin\n",
    "    y = myimage.size[1] - textheight - margin\n",
    "    # draw text on top of our image\n",
    "    draw.text((x, y), caption, fill=color, font=font)\n",
    "    return myimage"
   ]
  },
  {
   "cell_type": "code",
   "execution_count": null,
   "metadata": {
    "collapsed": false,
    "deletable": true,
    "editable": true
   },
   "outputs": [],
   "source": [
    "mymeme = memerson(apple,\"think tank\")"
   ]
  },
  {
   "cell_type": "code",
   "execution_count": null,
   "metadata": {
    "collapsed": false,
    "deletable": true,
    "editable": true
   },
   "outputs": [],
   "source": [
    "mymeme.save('thinkapple.png')"
   ]
  },
  {
   "cell_type": "markdown",
   "metadata": {
    "deletable": true,
    "editable": true
   },
   "source": [
    "### Q.  Create a meme using an image of your choice.  Feel free to change the margin, color, and other parameters of the function above. \n",
    "Here's an example of how you call it:"
   ]
  },
  {
   "cell_type": "code",
   "execution_count": null,
   "metadata": {
    "collapsed": true,
    "deletable": true,
    "editable": true
   },
   "outputs": [],
   "source": [
    "## Your turn!"
   ]
  },
  {
   "cell_type": "code",
   "execution_count": null,
   "metadata": {
    "collapsed": true,
    "deletable": true,
    "editable": true
   },
   "outputs": [],
   "source": []
  },
  {
   "cell_type": "code",
   "execution_count": null,
   "metadata": {
    "collapsed": true,
    "deletable": true,
    "editable": true
   },
   "outputs": [],
   "source": []
  },
  {
   "cell_type": "code",
   "execution_count": null,
   "metadata": {
    "collapsed": true,
    "deletable": true,
    "editable": true
   },
   "outputs": [],
   "source": []
  },
  {
   "cell_type": "markdown",
   "metadata": {
    "deletable": true,
    "editable": true
   },
   "source": [
    "# Processing many images in a directory\n",
    "We're going to create  directory first so that we don't overwrite something we care about.\n",
    "Then we'll import the _glob_ library to help us get very file in a directory."
   ]
  },
  {
   "cell_type": "code",
   "execution_count": null,
   "metadata": {
    "collapsed": true,
    "deletable": true,
    "editable": true
   },
   "outputs": [],
   "source": [
    "mkdir lotsofimages  #Only run this once"
   ]
  },
  {
   "cell_type": "markdown",
   "metadata": {
    "deletable": true,
    "editable": true
   },
   "source": [
    "### Copy some images into this directory \n",
    "(but make sure you __keep a copy because these images may be altered by what we do next). \n",
    "You can download an example \"lots of images\" form here:"
   ]
  },
  {
   "cell_type": "code",
   "execution_count": null,
   "metadata": {
    "collapsed": false,
    "deletable": true,
    "editable": true
   },
   "outputs": [],
   "source": [
    "cd lotsofimages    #change into that directory"
   ]
  },
  {
   "cell_type": "code",
   "execution_count": null,
   "metadata": {
    "collapsed": false,
    "deletable": true,
    "editable": true
   },
   "outputs": [],
   "source": [
    "ls       #Verify you're in the correct directory"
   ]
  },
  {
   "cell_type": "code",
   "execution_count": null,
   "metadata": {
    "collapsed": false,
    "deletable": true,
    "editable": true
   },
   "outputs": [],
   "source": [
    "import glob       # Use python to get a list of all the files\n",
    "mask = r'*.[jp][pn][g]'  # a little regex to se the files-- I only have jpg, but ou might have  mix\n",
    "file_list = glob.glob(mask)\n",
    "for filename in file_list:\n",
    "    print filename"
   ]
  },
  {
   "cell_type": "markdown",
   "metadata": {
    "deletable": true,
    "editable": true
   },
   "source": [
    "### Now run a custom filter on the list of files that glob found in that directory"
   ]
  },
  {
   "cell_type": "code",
   "execution_count": null,
   "metadata": {
    "collapsed": true,
    "deletable": true,
    "editable": true
   },
   "outputs": [],
   "source": [
    "def old_skool(pngimage):  \n",
    "    for x in range(pngimage.size[0]):\n",
    "        for y in range(pngimage.size[1]):\n",
    "            (r, g, b) = pngimage.getpixel((x,y))[:3]\n",
    "            alpha = pngimage.getpixel((x,y))[3:]\n",
    "            pngimage.putpixel((x, y), ( r - 122 , g + 122, b - 122 ) + alpha)"
   ]
  },
  {
   "cell_type": "code",
   "execution_count": null,
   "metadata": {
    "collapsed": true,
    "deletable": true,
    "editable": true
   },
   "outputs": [],
   "source": [
    "import glob  \n",
    "file_list = glob.glob('*.jpg')\n",
    "for filename in file_list:\n",
    "    current = Image.open(filename)\n",
    "    old_skool(current)\n",
    "    current.save('oldskool'+filename)"
   ]
  },
  {
   "cell_type": "code",
   "execution_count": null,
   "metadata": {
    "collapsed": true,
    "deletable": true,
    "editable": true
   },
   "outputs": [],
   "source": []
  },
  {
   "cell_type": "code",
   "execution_count": null,
   "metadata": {
    "collapsed": true,
    "deletable": true,
    "editable": true
   },
   "outputs": [],
   "source": []
  },
  {
   "cell_type": "markdown",
   "metadata": {
    "deletable": true,
    "editable": true
   },
   "source": [
    "### Q. Submit this file  and accompanying generated images\n",
    "Include this file, all images generated in this file, along with the \"lotsofimagess\" folder.\n",
    "\n",
    "See here if you don't know how to do this:\n",
    "On Mac:   http://osxdaily.com/2012/01/10/how-to-zip-files-in-mac-os-x/\n",
    "On Windows: https://www.lifewire.com/how-to-zip-files-in-windows-3507020"
   ]
  },
  {
   "cell_type": "code",
   "execution_count": null,
   "metadata": {
    "collapsed": false,
    "deletable": true,
    "editable": true
   },
   "outputs": [],
   "source": [
    "cd .."
   ]
  },
  {
   "cell_type": "code",
   "execution_count": null,
   "metadata": {
    "collapsed": false,
    "deletable": true,
    "editable": true
   },
   "outputs": [],
   "source": [
    "## Check your output\n",
    "import webbrowser as wb\n",
    "path = %pwd"
   ]
  },
  {
   "cell_type": "code",
   "execution_count": null,
   "metadata": {
    "collapsed": false,
    "deletable": true,
    "editable": true
   },
   "outputs": [],
   "source": [
    "wb.open(path)   #on Windows"
   ]
  },
  {
   "cell_type": "code",
   "execution_count": null,
   "metadata": {
    "collapsed": false,
    "deletable": true,
    "editable": true
   },
   "outputs": [],
   "source": [
    "wb.open('file:///'+path)  #on Macs"
   ]
  },
  {
   "cell_type": "markdown",
   "metadata": {
    "deletable": true,
    "editable": true
   },
   "source": []
  },
  {
   "cell_type": "code",
   "execution_count": null,
   "metadata": {
    "collapsed": false,
    "deletable": true,
    "editable": true
   },
   "outputs": [],
   "source": []
  },
  {
   "cell_type": "code",
   "execution_count": null,
   "metadata": {
    "collapsed": false,
    "deletable": true,
    "editable": true
   },
   "outputs": [],
   "source": []
  },
  {
   "cell_type": "code",
   "execution_count": null,
   "metadata": {
    "collapsed": true,
    "deletable": true,
    "editable": true
   },
   "outputs": [],
   "source": []
  }
 ],
 "metadata": {
  "kernelspec": {
   "display_name": "Python 2",
   "language": "python",
   "name": "python2"
  },
  "language_info": {
   "codemirror_mode": {
    "name": "ipython",
    "version": 2
   },
   "file_extension": ".py",
   "mimetype": "text/x-python",
   "name": "python",
   "nbconvert_exporter": "python",
   "pygments_lexer": "ipython2",
   "version": "2.7.12"
  }
 },
 "nbformat": 4,
 "nbformat_minor": 0
}
