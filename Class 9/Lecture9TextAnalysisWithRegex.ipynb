{
 "cells": [
  {
   "cell_type": "code",
   "execution_count": 1,
   "metadata": {
    "collapsed": true
   },
   "outputs": [],
   "source": [
    "import re"
   ]
  },
  {
   "cell_type": "markdown",
   "metadata": {},
   "source": [
    "Find the plain text version of Pride and Prejudice from Project Gutenberg.\n",
    "https://www.gutenberg.org/files/1342/\n",
    "\n",
    "you want to RIght-Click \"Save as\"\n",
    "https://www.gutenberg.org/files/1342/1342.txt\n",
    "    \n",
    "and rename it as __pride1342.txt__\n",
    "\n",
    "In the file, it should say:\n",
    "Character set encoding: ASCII\n",
    "\n",
    "Otherwise your regex might not work.  "
   ]
  },
  {
   "cell_type": "code",
   "execution_count": 7,
   "metadata": {},
   "outputs": [
    {
     "name": "stdout",
     "output_type": "stream",
     "text": [
      "ls: *.txt: No such file or directory\r\n"
     ]
    }
   ],
   "source": [
    "#you should be able to see the file in your directory\n",
    "%ls *.txt "
   ]
  },
  {
   "cell_type": "code",
   "execution_count": 8,
   "metadata": {},
   "outputs": [],
   "source": [
    "source = open('pride1342.txt')"
   ]
  },
  {
   "cell_type": "code",
   "execution_count": 9,
   "metadata": {
    "collapsed": true
   },
   "outputs": [],
   "source": [
    "#read in your file\n",
    "pride = source.read()"
   ]
  },
  {
   "cell_type": "code",
   "execution_count": 10,
   "metadata": {},
   "outputs": [
    {
     "name": "stdout",
     "output_type": "stream",
     "text": [
      "The Project Gutenberg EBook of Pride and Prejudice, by Jane Austen\n",
      "\n",
      "This eBook is for the use of anyone anywhere at no cost and with\n",
      "almost no restrictions whatsoever.  You may copy it, give it away or\n",
      "re-use it under the terms of the Project Gutenberg License included\n",
      "with this eBook or online at www.gutenberg.org\n",
      "\n",
      "\n",
      "Title: Pride and Prejudice\n",
      "\n",
      "Author: Jane Austen\n",
      "\n",
      "Posting Date: August 26, 2008 [EBook #1342]\n",
      "Release Date: June, 1998\n",
      "Last updated: February 15, 2015]\n",
      "\n",
      "Language: English\n",
      "\n",
      "Character set encoding: ASCII\n",
      "\n",
      "*** START OF THIS PROJECT GUTENBERG EBOOK PRIDE AND PREJUDICE ***\n",
      "\n",
      "\n",
      "\n",
      "\n",
      "Produced by Anonymous Volunteers\n",
      "\n",
      "\n",
      "\n",
      "\n",
      "\n",
      "PRIDE AND PREJUDICE\n",
      "\n",
      "By Jane Austen\n",
      "\n",
      "\n",
      "\n",
      "Chapter 1\n",
      "\n",
      "\n",
      "It is a truth universally acknowledged, that a single man in possession\n",
      "of a good fortune, must be in want of a wife.\n",
      "\n",
      "However little known the feelings or views of such a man may be on his\n",
      "first entering a neighbourhood, this truth is so well fixed in the minds\n",
      "of the surrounding families, that he is considered the ri\n"
     ]
    }
   ],
   "source": [
    "#check your text, up to the first 1000 characters\n",
    "print pride[:1000]  "
   ]
  },
  {
   "cell_type": "code",
   "execution_count": null,
   "metadata": {
    "collapsed": true
   },
   "outputs": [],
   "source": [
    "#How vocalic is it?\n",
    "\n",
    "result = re.findall('[aeiou]',pride) #find and create a list of vowels"
   ]
  },
  {
   "cell_type": "code",
   "execution_count": null,
   "metadata": {},
   "outputs": [],
   "source": [
    "len(result)"
   ]
  },
  {
   "cell_type": "code",
   "execution_count": null,
   "metadata": {
    "collapsed": true
   },
   "outputs": [],
   "source": [
    "result = re.findall('[aeiouAEIOU]',pride)  #include uppercase"
   ]
  },
  {
   "cell_type": "code",
   "execution_count": null,
   "metadata": {},
   "outputs": [],
   "source": [
    "len(result)"
   ]
  },
  {
   "cell_type": "code",
   "execution_count": null,
   "metadata": {},
   "outputs": [],
   "source": [
    "result[:10]"
   ]
  },
  {
   "cell_type": "code",
   "execution_count": null,
   "metadata": {
    "collapsed": true
   },
   "outputs": [],
   "source": [
    "quotes = re.findall('\"[^\"]*\\r\\n\\r\\n|\"[^\"]*\"',pride)"
   ]
  },
  {
   "cell_type": "code",
   "execution_count": null,
   "metadata": {},
   "outputs": [],
   "source": [
    "len(quotes)"
   ]
  },
  {
   "cell_type": "code",
   "execution_count": null,
   "metadata": {},
   "outputs": [],
   "source": [
    "quotes[:10]"
   ]
  },
  {
   "cell_type": "code",
   "execution_count": null,
   "metadata": {},
   "outputs": [],
   "source": [
    "len(\"\".join(quotes)) #how long are all the quotes joined toether"
   ]
  },
  {
   "cell_type": "code",
   "execution_count": null,
   "metadata": {},
   "outputs": [],
   "source": [
    "len(\"\".join(quotes))/ len(pride)   #average length of quote "
   ]
  },
  {
   "cell_type": "code",
   "execution_count": null,
   "metadata": {
    "collapsed": true
   },
   "outputs": [],
   "source": [
    "#Why is this a ZERO?  Integer division"
   ]
  },
  {
   "cell_type": "code",
   "execution_count": null,
   "metadata": {},
   "outputs": [],
   "source": [
    "# For float division need to conver to float\n",
    "len(\"\".join(quotes))/ float(len(pride) )"
   ]
  },
  {
   "cell_type": "code",
   "execution_count": null,
   "metadata": {
    "collapsed": true
   },
   "outputs": [],
   "source": [
    "#now we can get percentage\n",
    "pride_percent = len(\"\".join(quotes))/ float(len(pride) ) * 100"
   ]
  },
  {
   "cell_type": "code",
   "execution_count": null,
   "metadata": {},
   "outputs": [],
   "source": [
    "print pride_percent"
   ]
  },
  {
   "cell_type": "code",
   "execution_count": null,
   "metadata": {
    "collapsed": true
   },
   "outputs": [],
   "source": [
    "###Now let's compare it to something else\n",
    "## Go to http://www.gutenberg.org/files/1322/  and download the\n",
    "## ASCII version of Leaves of grass\n",
    "\n",
    "# Save it as leaves1322.txt"
   ]
  },
  {
   "cell_type": "code",
   "execution_count": null,
   "metadata": {},
   "outputs": [],
   "source": [
    "#now we can compare with Leaves of Grass\n",
    "source = open('leaves1322.txt')"
   ]
  },
  {
   "cell_type": "code",
   "execution_count": null,
   "metadata": {},
   "outputs": [],
   "source": [
    "leaves = source.read() "
   ]
  },
  {
   "cell_type": "code",
   "execution_count": null,
   "metadata": {},
   "outputs": [],
   "source": [
    "print leaves[:1000]   #aleays check what you're getting"
   ]
  },
  {
   "cell_type": "code",
   "execution_count": null,
   "metadata": {
    "collapsed": true
   },
   "outputs": [],
   "source": [
    "quotes = re.findall('\"[^\"]*\"',leaves)"
   ]
  },
  {
   "cell_type": "code",
   "execution_count": null,
   "metadata": {
    "collapsed": true
   },
   "outputs": [],
   "source": [
    "leaves_percent = len(\"\".join(quotes))/ float(len(leaves) ) * 100"
   ]
  },
  {
   "cell_type": "code",
   "execution_count": null,
   "metadata": {
    "collapsed": true
   },
   "outputs": [],
   "source": [
    "print leaves_percent"
   ]
  },
  {
   "cell_type": "code",
   "execution_count": null,
   "metadata": {
    "collapsed": true
   },
   "outputs": [],
   "source": [
    "#now we can think about how useful regular expressions are\n",
    "#for validating text"
   ]
  },
  {
   "cell_type": "code",
   "execution_count": null,
   "metadata": {
    "collapsed": true
   },
   "outputs": [],
   "source": [
    "pride_words = pride.split()"
   ]
  },
  {
   "cell_type": "code",
   "execution_count": null,
   "metadata": {
    "collapsed": true
   },
   "outputs": [],
   "source": [
    "re.findall('three-and-twenty',pride)"
   ]
  },
  {
   "cell_type": "code",
   "execution_count": null,
   "metadata": {
    "collapsed": true
   },
   "outputs": [],
   "source": [
    "len(pride_words)   #\"three-and-twenty counted \"as one word"
   ]
  },
  {
   "cell_type": "code",
   "execution_count": null,
   "metadata": {
    "collapsed": true
   },
   "outputs": [],
   "source": [
    "pride_words_2 = re.findall('[A-Za-z]+',pride)"
   ]
  },
  {
   "cell_type": "code",
   "execution_count": null,
   "metadata": {
    "collapsed": true
   },
   "outputs": [],
   "source": [
    "len(pride_words_2)  #\"words stripped of punctuation are counted\""
   ]
  },
  {
   "cell_type": "code",
   "execution_count": null,
   "metadata": {
    "collapsed": true
   },
   "outputs": [],
   "source": [
    "pride_words_2[4000:4050]"
   ]
  },
  {
   "cell_type": "code",
   "execution_count": null,
   "metadata": {
    "collapsed": true
   },
   "outputs": [],
   "source": [
    "#no one method is better, its just different depnds on how you define 'words' \n",
    "#for the research you are doing (e.g. 'White\" \"House\" vs \"White House\")"
   ]
  },
  {
   "cell_type": "code",
   "execution_count": null,
   "metadata": {
    "collapsed": true
   },
   "outputs": [],
   "source": [
    "#back to palindromes\n",
    "def pal(text):\n",
    "    return text == text[::-1]"
   ]
  },
  {
   "cell_type": "code",
   "execution_count": null,
   "metadata": {
    "collapsed": true
   },
   "outputs": [],
   "source": [
    "pal('civic')"
   ]
  },
  {
   "cell_type": "code",
   "execution_count": null,
   "metadata": {
    "collapsed": true
   },
   "outputs": [],
   "source": [
    "pal('kia')"
   ]
  },
  {
   "cell_type": "code",
   "execution_count": null,
   "metadata": {
    "collapsed": true
   },
   "outputs": [],
   "source": [
    "text = 'Here is a nice string, lalala'"
   ]
  },
  {
   "cell_type": "code",
   "execution_count": null,
   "metadata": {
    "collapsed": true
   },
   "outputs": [],
   "source": [
    "re.sub('\\W+','',text)"
   ]
  },
  {
   "cell_type": "code",
   "execution_count": null,
   "metadata": {
    "collapsed": true
   },
   "outputs": [],
   "source": [
    "def prep(text):\n",
    "    return re.sub('\\W+','', text)"
   ]
  },
  {
   "cell_type": "code",
   "execution_count": null,
   "metadata": {
    "collapsed": true
   },
   "outputs": [],
   "source": [
    "prep(text)"
   ]
  },
  {
   "cell_type": "code",
   "execution_count": null,
   "metadata": {
    "collapsed": true
   },
   "outputs": [],
   "source": [
    "pal(prep(text))"
   ]
  },
  {
   "cell_type": "code",
   "execution_count": null,
   "metadata": {
    "collapsed": true
   },
   "outputs": [],
   "source": [
    "text = 'Star comedy, by Democrats!!!'"
   ]
  },
  {
   "cell_type": "code",
   "execution_count": null,
   "metadata": {
    "collapsed": true
   },
   "outputs": [],
   "source": [
    "pal(prep(text))"
   ]
  },
  {
   "cell_type": "code",
   "execution_count": null,
   "metadata": {
    "collapsed": true
   },
   "outputs": [],
   "source": [
    "##we still need to work on lowercase\n",
    "pal(prep(text.lower()))"
   ]
  },
  {
   "cell_type": "code",
   "execution_count": null,
   "metadata": {
    "collapsed": true
   },
   "outputs": [],
   "source": [
    "def devowel(text):\n",
    "    return re.sub('[aeiou]','',text)"
   ]
  },
  {
   "cell_type": "code",
   "execution_count": null,
   "metadata": {
    "collapsed": true
   },
   "outputs": [],
   "source": [
    "re.sub('[aeiou]','',\"Man its cold out there!\")"
   ]
  },
  {
   "cell_type": "code",
   "execution_count": null,
   "metadata": {
    "collapsed": true
   },
   "outputs": [],
   "source": [
    "devowel(\"How is it Tuesday today?\")"
   ]
  },
  {
   "cell_type": "code",
   "execution_count": null,
   "metadata": {
    "collapsed": true
   },
   "outputs": [],
   "source": []
  },
  {
   "cell_type": "markdown",
   "metadata": {},
   "source": [
    "At home, watch Trevor Payne's Regex Video https://www.youtube.com/watch?v=ZdDOauFIDkw\n",
    "\n",
    "I'm using Python 2.7 Kernel, so not sure if it will work on Python 3 kernel"
   ]
  },
  {
   "cell_type": "code",
   "execution_count": null,
   "metadata": {
    "collapsed": true
   },
   "outputs": [],
   "source": [
    "import re  #regular expression module"
   ]
  },
  {
   "cell_type": "code",
   "execution_count": null,
   "metadata": {},
   "outputs": [],
   "source": [
    "print (re.split(r'\\s*','here are some words'))\n",
    "\n",
    "#split by zero or more occurences of spaces\n",
    "#   \\s = space\n",
    "#   * = 0 or more occurences\n",
    "#   (  ) parenthesis grouping or including"
   ]
  },
  {
   "cell_type": "code",
   "execution_count": null,
   "metadata": {},
   "outputs": [],
   "source": [
    "print (re.split(r'(\\s*)','here are some words'))\n",
    "# the parenthesis () means to include the space character in the results"
   ]
  },
  {
   "cell_type": "code",
   "execution_count": null,
   "metadata": {},
   "outputs": [],
   "source": [
    "print (re.split(r'(s*)','here are some words'))\n",
    "# removing the backslash chacacter makes the 's' a regular character, not a space\n",
    "# so regex will split when it sees a 's', just like text.split()"
   ]
  },
  {
   "cell_type": "code",
   "execution_count": null,
   "metadata": {},
   "outputs": [],
   "source": [
    "print (re.split(r'[a-f]','akfjdskaaejfSkdsjfkdjsafkFGjdsafkjas'))\n",
    "#  [a-z]  square brackets finds a range of characters... \n",
    "#   so above we are looking to split when it encounterscharacters a,b,c,d,e,f"
   ]
  },
  {
   "cell_type": "raw",
   "metadata": {},
   "source": []
  },
  {
   "cell_type": "code",
   "execution_count": null,
   "metadata": {},
   "outputs": [],
   "source": [
    "# add flags to change the mode for regex seraches\n",
    "# re.I - ignore case\n",
    "# re.M - evaluate multiline, don't stop evaluating at newlines\n",
    "# flags = re.I|re.M\n",
    "print (re.split(r'[a-f]','akfjdskaaejfSkdsjfkdjsafkFGjdsafkjas'),re.I|re.M)  "
   ]
  },
  {
   "cell_type": "code",
   "execution_count": null,
   "metadata": {},
   "outputs": [],
   "source": [
    "print (re.split(r'[a-fA-F]','akfjdskaaejfSkdsjfkdjsafkFGjdsafkjas'),re.I|re.M) \n",
    "#break up whe capital encountered\n",
    "#can chain together ranges to look for"
   ]
  },
  {
   "cell_type": "code",
   "execution_count": null,
   "metadata": {},
   "outputs": [],
   "source": [
    "print (re.split(r'[a-f][a-f]','akfjdskaaejfSkdsjfkdjsafkFGjdsafkjas'),re.I|re.M)\n",
    "#can chain ranges -- two characters from [a-f] next to each other e.g. add search for ae"
   ]
  },
  {
   "cell_type": "code",
   "execution_count": null,
   "metadata": {},
   "outputs": [],
   "source": [
    "#   looking for an address\n",
    "#  /d = digits  0-9, same as [0-9]\n",
    "#  /D = non-digits -- Everything except digits\n",
    "#  /S = non-space\n",
    "#  /s = spaces\n",
    "\n",
    "# The following will split based on number\n",
    "print (re.split(r'\\d','finqwen324 main st.iwewasd'),re.I|re.M)"
   ]
  },
  {
   "cell_type": "code",
   "execution_count": null,
   "metadata": {},
   "outputs": [],
   "source": [
    "#  re.findall  Finds all the numbers\n",
    "print (re.findall(r'\\d','finqwen324 main st.iwewasd'),re.I|re.M)"
   ]
  },
  {
   "cell_type": "code",
   "execution_count": null,
   "metadata": {},
   "outputs": [],
   "source": [
    "# ranges of numbers\n",
    "# * = 0 or more \n",
    "# + = 1 or more\n",
    "# ? = 0 or 1 of\n",
    "# {5} = exact number of\n",
    "# {1,60} = range of numbr of...\n",
    "\n",
    "#\\d{1,5}  minimum of 1, maximum of 5 digits\n",
    "print (re.findall(r'\\d{1,5}','finqwen324 main st.iwewasd'),re.I|re.M)"
   ]
  },
  {
   "cell_type": "code",
   "execution_count": null,
   "metadata": {},
   "outputs": [],
   "source": [
    "# now we've got the house number, we need the street name\n",
    "# \\s  - space\n",
    "# \\w  = numbers or letters -- non-whitespace\n",
    "# we want the number, then a whitespace, with alphanumeric sequence after it\n",
    "print (re.findall(r'\\d{1,5}\\s\\w+','finqwen324 main st.iwewasd'),re.I|re.M)"
   ]
  },
  {
   "cell_type": "code",
   "execution_count": null,
   "metadata": {},
   "outputs": [],
   "source": [
    "# we want the road, so add a whitespace and more alphanumeric characters and a period\n",
    "# the \\ turnes the metacharacter . (anything except a newline) back into a regular period\n",
    "print (re.findall(r'\\d{1,5}\\s\\w+\\s\\w+\\.','finqwen324 main st.iwewasd'),re.I|re.M)"
   ]
  },
  {
   "cell_type": "code",
   "execution_count": null,
   "metadata": {
    "collapsed": true
   },
   "outputs": [],
   "source": [
    "# we got the address!"
   ]
  },
  {
   "cell_type": "markdown",
   "metadata": {},
   "source": [
    "### Practical example"
   ]
  },
  {
   "cell_type": "code",
   "execution_count": null,
   "metadata": {},
   "outputs": [],
   "source": [
    "import urllib\n",
    "try: \n",
    "    import urllib.request\n",
    "except:\n",
    "    pass\n",
    "    \n",
    "sites = 'google yahoo cnn msn'.split()  #a list of sites to esarch"
   ]
  },
  {
   "cell_type": "code",
   "execution_count": null,
   "metadata": {},
   "outputs": [],
   "source": [
    "for s in sites:\n",
    "    print ('Searching: '+s)\n",
    "    try:\n",
    "        u = urllib.urlopen('http://'+s+'.com')  #open the site\n",
    "    except:\n",
    "        u = urllib.request.urlopen('http://'+s+'.com')  #open the site\n",
    "    pass\n",
    "    text = u.read()       #read in the text\n",
    "    title=re.findall(r'<title>+.*</title>+',str(text),re.I|re.M)  #get text between title tag\n",
    "    print (title[0])"
   ]
  },
  {
   "cell_type": "code",
   "execution_count": null,
   "metadata": {},
   "outputs": [],
   "source": [
    "# now make a pattern so its more efficient\n",
    "pat = re.compile(r'<title>+.*</title>+', re.I|re.M)\n",
    "for s in sites:\n",
    "    print ('Searching: '+s)\n",
    "    try:\n",
    "        u = urllib.urlopen('http://'+s+'.com')  #open the site\n",
    "    except:\n",
    "        u = urllib.request.urlopen('http://'+s+'.com')  #open the site\n",
    "    pass\n",
    "    text = u.read()       #read in the text\n",
    "    title=re.findall(pat,str(text))  #get text between title tag\n",
    "    print (title[0])"
   ]
  },
  {
   "cell_type": "code",
   "execution_count": null,
   "metadata": {},
   "outputs": [],
   "source": [
    "text[:400]  #checking out the html"
   ]
  },
  {
   "cell_type": "code",
   "execution_count": null,
   "metadata": {},
   "outputs": [],
   "source": [
    "pat = re.compile(r'<title>+.*</title>+', re.I|re.M)\n",
    "pat2 = re.compile(r'\\d{1,5}\\s\\w+\\s\\w+', re.I|re.M)\n",
    "pat3 = re.compile(r'Cambridge,\\sMA\\s\\d{5}\\-\\d{4}', re.I|re.M)\n",
    "\n",
    "u = urllib.urlopen('http://www.mit.edu/')  #open the site\n",
    "text = u.read()       #read in the text\n",
    "title=re.findall(pat,str(text))  #get text between title tag\n",
    "address=re.findall(pat2,str(text))  #get street addres\n",
    "citystatezip = re.findall(pat3,str(text))  \n",
    "print (title)\n",
    "print (address[0])\n",
    "print (citystatezip)"
   ]
  },
  {
   "cell_type": "code",
   "execution_count": null,
   "metadata": {},
   "outputs": [],
   "source": [
    "#see what th string for \"Cambridge\" looks like in the text, then look at the slice around it\n",
    "text.find('Cambridge')\n",
    "text[17000:18000]"
   ]
  },
  {
   "cell_type": "code",
   "execution_count": null,
   "metadata": {},
   "outputs": [],
   "source": [
    "#because I know I\"m using Python2, i just want to call urllib2, skip the try/except/pass block\n",
    "import urllib2\n",
    "pat3 = re.compile(r'^[\\w\\s]+,\\s\\w{2}\\s\\d{5}', re.I|re.M)\n",
    "pat4 = re.compile(r'\\w+\\@\\w+\\.\\w{3}', re.I|re.M)\n",
    "sites = 'www.emerson.edu/liberal-arts-interdisciplinary-studies/contact-us \\\n",
    "cmsw.mit.edu/contact/  cis.tufts.edu/'.split()\n",
    "\n",
    "\n",
    "for s in sites:\n",
    "    print ('\\nSearching: '+s)\n",
    "    u = urllib2.urlopen('http://'+s)  #open the site\n",
    "    text = u.read()       #read in the text\n",
    "    email = re.findall(pat4,str(text))\n",
    "    address=re.findall(pat2,str(text))\n",
    "    zipcode = re.findall(pat3,str(text))\n",
    "    #in different pages, you can see that the regex has varying success\n",
    "    print (address)  \n",
    "    print (zipcode)\n",
    "    print (email)\n"
   ]
  },
  {
   "cell_type": "code",
   "execution_count": null,
   "metadata": {
    "collapsed": true
   },
   "outputs": [],
   "source": []
  },
  {
   "cell_type": "code",
   "execution_count": null,
   "metadata": {
    "collapsed": true
   },
   "outputs": [],
   "source": []
  }
 ],
 "metadata": {
  "kernelspec": {
   "display_name": "Python 2",
   "language": "python",
   "name": "python2"
  },
  "language_info": {
   "codemirror_mode": {
    "name": "ipython",
    "version": 2
   },
   "file_extension": ".py",
   "mimetype": "text/x-python",
   "name": "python",
   "nbconvert_exporter": "python",
   "pygments_lexer": "ipython2",
   "version": "2.7.13"
  }
 },
 "nbformat": 4,
 "nbformat_minor": 1
}
