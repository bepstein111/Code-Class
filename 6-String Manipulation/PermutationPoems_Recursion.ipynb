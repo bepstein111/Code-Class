{
 "cells": [
  {
   "cell_type": "code",
   "execution_count": 1,
   "metadata": {},
   "outputs": [
    {
     "name": "stdout",
     "output_type": "stream",
     "text": [
      "KICK THAT HABIT MAN\n",
      "KICK THAT MAN HABIT\n",
      "KICK HABIT THAT MAN\n",
      "KICK HABIT MAN THAT\n",
      "KICK MAN THAT HABIT\n",
      "KICK MAN HABIT THAT\n",
      "THAT KICK HABIT MAN\n",
      "THAT KICK MAN HABIT\n",
      "THAT HABIT KICK MAN\n",
      "THAT HABIT MAN KICK\n",
      "THAT MAN KICK HABIT\n",
      "THAT MAN HABIT KICK\n",
      "HABIT KICK THAT MAN\n",
      "HABIT KICK MAN THAT\n",
      "HABIT THAT KICK MAN\n",
      "HABIT THAT MAN KICK\n",
      "HABIT MAN KICK THAT\n",
      "HABIT MAN THAT KICK\n",
      "MAN KICK THAT HABIT\n",
      "MAN KICK HABIT THAT\n",
      "MAN THAT KICK HABIT\n",
      "MAN THAT HABIT KICK\n",
      "MAN HABIT KICK THAT\n",
      "MAN HABIT THAT KICK\n"
     ]
    }
   ],
   "source": [
    "#!/usr/bin/python\n",
    "\n",
    "# Permutation Poems, copyright (c) 2014 Nick Montfort <nickm@nickm.com>\n",
    "# Original by Brion Gysin & Ian Sommerville, 1960\n",
    "#\n",
    "# Permission to use, copy, modify, and/or distribute this software for any\n",
    "# purpose with or without fee is hereby granted, provided that the above\n",
    "# copyright notice and this permission notice appear in all copies.\n",
    "#\n",
    "# THE SOFTWARE IS PROVIDED \"AS IS\" AND THE AUTHOR DISCLAIMS ALL WARRANTIES\n",
    "# WITH REGARD TO THIS SOFTWARE INCLUDING ALL IMPLIED WARRANTIES OF\n",
    "# MERCHANTABILITY AND FITNESS. IN NO EVENT SHALL THE AUTHOR BE LIABLE FOR ANY\n",
    "# SPECIAL, DIRECT, INDIRECT, OR CONSEQUENTIAL DAMAGES OR ANY DAMAGES\n",
    "# WHATSOEVER RESULTING FROM LOSS OF USE, DATA OR PROFITS, WHETHER IN AN\n",
    "# ACTION OF CONTRACT, NEGLIGENCE OR OTHER TORTIOUS ACTION, ARISING OUT OF OR\n",
    "# IN CONNECTION WITH THE USE OR PERFORMANCE OF THIS SOFTWARE.\n",
    "\n",
    "def permutations(elements):\n",
    "    if len(elements) < 2:\n",
    "        yield elements\n",
    "    else:\n",
    "        for i in range(len(elements)):\n",
    "            for result in permutations(elements[:i] + elements[i+1:]):\n",
    "                yield [elements[i]] + result\n",
    "\n",
    "words = ['KICK', 'THAT', 'HABIT', 'MAN']\n",
    "\n",
    "for parts in list(permutations(words)):\n",
    "    print ' '.join(parts)\n"
   ]
  },
  {
   "cell_type": "markdown",
   "metadata": {},
   "source": [
    "Try the permutations function with a small list of numbers to get a sense of how it continually returns\n",
    "<b>the first element</b> and the results of <b>permutating the rest of the list</b> until it has finished iterating through the whole list."
   ]
  },
  {
   "cell_type": "code",
   "execution_count": 11,
   "metadata": {},
   "outputs": [
    {
     "name": "stdout",
     "output_type": "stream",
     "text": [
      "0\n",
      "2\n",
      "4\n",
      "6\n",
      "8\n"
     ]
    }
   ],
   "source": [
    "the_list = [2**x for x in range(5)]\n",
    "the_generator = (x+x for x in range(5))\n",
    "for element in the_generator:\n",
    "    print element"
   ]
  },
  {
   "cell_type": "code",
   "execution_count": 12,
   "metadata": {},
   "outputs": [
    {
     "data": {
      "text/plain": [
       "[['0', '1', '2'],\n",
       " ['0', '2', '1'],\n",
       " ['1', '0', '2'],\n",
       " ['1', '2', '0'],\n",
       " ['2', '0', '1'],\n",
       " ['2', '1', '0']]"
      ]
     },
     "execution_count": 12,
     "metadata": {},
     "output_type": "execute_result"
    }
   ],
   "source": [
    "smalllist = ['0','1','2']  \n",
    "list(permutations(smalllist)) #three things can be arranged in 3 ways"
   ]
  },
  {
   "cell_type": "code",
   "execution_count": 10,
   "metadata": {},
   "outputs": [
    {
     "data": {
      "text/plain": [
       "[[0, 1], [1, 0]]"
      ]
     },
     "execution_count": 10,
     "metadata": {},
     "output_type": "execute_result"
    }
   ],
   "source": [
    "list(permutations([0,1])) #two things can be arranged in two ways"
   ]
  },
  {
   "cell_type": "code",
   "execution_count": 11,
   "metadata": {},
   "outputs": [
    {
     "data": {
      "text/plain": [
       "[[1]]"
      ]
     },
     "execution_count": 11,
     "metadata": {},
     "output_type": "execute_result"
    }
   ],
   "source": [
    "list(permutations([1]))  #one thing can be arranged in one way"
   ]
  },
  {
   "cell_type": "markdown",
   "metadata": {},
   "source": [
    "<pre>\n",
    "def permutations(elements):  #takes a list as an argument\n",
    "    if len(elements) < 2:  #if the length is 0, just return the element\n",
    "        yield elements\n",
    "    else:\n",
    "        for i in range(len(elements)):   #otherwise, loop through the list\n",
    "            for result in permutations(elements[:i] + elements[i+1:]):\n",
    "                yield [elements[i]] + result\n",
    "                 #return the element at the position and evaluate permutation on the rest of the list with this element removed.\n",
    "                 \n",
    "\n",
    "for each position i of the elements in [0,1,2]:\n",
    "i = 0  \n",
    "    0 , permutation([1,2])  ##first element returned + permutations([1,2])\n",
    "        permutations([1,2]) (now element[0]=1, element[1:]=[2])\n",
    "        1,  permutation ([2])  #return first element,permute the remainder\n",
    "        0, 1, 2  ##length is less than 2, return just element, 2\n",
    "        2, permutation ([1])(now element[1]=2, element[:1]= [1])\n",
    "        0, 2, 1 \n",
    "i = 1\n",
    "    1 , permutation([0,2])\n",
    "    1, 0 + permutation[2]\n",
    "    1, 0 , 2\n",
    "    1, 2 + permutation[1]\n",
    "    1, 2 , 1\n",
    "i = 2\n",
    "    2, permutation([0,1])\n",
    "    2, 0 , permutation [1]\n",
    "    2, 0, 1\n",
    "    2, 1 , permutation [0]\n",
    "    2, 1, 0\n",
    "</pre>"
   ]
  },
  {
   "cell_type": "code",
   "execution_count": null,
   "metadata": {
    "collapsed": true
   },
   "outputs": [],
   "source": []
  },
  {
   "cell_type": "code",
   "execution_count": null,
   "metadata": {
    "collapsed": true
   },
   "outputs": [],
   "source": []
  }
 ],
 "metadata": {
  "anaconda-cloud": {},
  "kernelspec": {
   "display_name": "Python 2",
   "language": "python",
   "name": "python2"
  },
  "language_info": {
   "codemirror_mode": {
    "name": "ipython",
    "version": 2
   },
   "file_extension": ".py",
   "mimetype": "text/x-python",
   "name": "python",
   "nbconvert_exporter": "python",
   "pygments_lexer": "ipython2",
   "version": "2.7.13"
  }
 },
 "nbformat": 4,
 "nbformat_minor": 1
}
