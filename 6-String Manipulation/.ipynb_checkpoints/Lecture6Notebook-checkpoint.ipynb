{
 "cells": [
  {
   "cell_type": "markdown",
   "metadata": {},
   "source": [
    "# importing libraries\n",
    "you're bringing in code from a group of modules that someone else wrote and packaged together. Usually you put them in the top of the program, so that the whole program can have access.\n",
    "<pre>\n",
    "from random import choice  #takes only the function choice\n",
    "#to use it you would write:\n",
    "choice(list)\n",
    "\n",
    "import random  #imports the whole library\n",
    "#to use it you write:\n",
    "random.choice(list)\n",
    "</pre>\n",
    "# if/else computers can only choose between two things at a time\n",
    "#precedence of which statements come true first get executed\n",
    "At each line, there are only two options, and the program will execute the corresponding code and then leave the if-elif-else structure without looking at any items after it. There can be multiple expressions in the if-elif-else structure, but only the first one that evaluates to true will get chosen and executed.  Highest priority (and most restrictive clauses should go at the top)."
   ]
  },
  {
   "cell_type": "code",
   "execution_count": 53,
   "metadata": {},
   "outputs": [
    {
     "name": "stdout",
     "output_type": "stream",
     "text": [
      "Get a vegan pizza.\n"
     ]
    }
   ],
   "source": [
    "\"\"\" Ordering A Pizza That a Vegan Can Eat \"\"\"\n",
    "\n",
    "# things that a vegan does not eat\n",
    "diet_restrictions = set(['meat','cheese'])\n",
    "\n",
    "# decide which pizza to order      \n",
    "if 'meat' and 'cheese' in diet_restrictions:\n",
    "    print('Get a vegan pizza.')\n",
    "\n",
    "elif 'meat' in diet_restrictions:\n",
    "    print('Get a cheese pizza.')\n",
    "    \n",
    "else:\n",
    "    print('Get something else.')"
   ]
  },
  {
   "cell_type": "markdown",
   "metadata": {},
   "source": [
    "##  Range() and slices have the same argument format  first_index, last_index, step\n",
    "<pre>range(5,50,10) </pre>\n",
    "will start at 5, end at 50 (but not include it) and skip by 10\n",
    "\n",
    "<pre>\"01230123012301230123\"[3:20:4]  </pre>\n",
    "will give you a string starting at 3, up to 20 (but not including 20), and skip by 4\n",
    "\n",
    "Try it yourself!"
   ]
  },
  {
   "cell_type": "code",
   "execution_count": 54,
   "metadata": {},
   "outputs": [
    {
     "data": {
      "text/plain": [
       "[5, 15, 25, 35, 45]"
      ]
     },
     "execution_count": 54,
     "metadata": {},
     "output_type": "execute_result"
    }
   ],
   "source": []
  },
  {
   "cell_type": "code",
   "execution_count": 56,
   "metadata": {},
   "outputs": [
    {
     "data": {
      "text/plain": [
       "'33333'"
      ]
     },
     "execution_count": 56,
     "metadata": {},
     "output_type": "execute_result"
    }
   ],
   "source": []
  },
  {
   "cell_type": "markdown",
   "metadata": {},
   "source": [
    "# dictionary to create a switch statement\n",
    "A dictionary is like a list with keys instead of indexes.\n",
    "Create a dictionary with the curly braces.\n",
    "\n",
    "If you have a lot of if/else statements, it might make sense to use a dictionary.\n",
    "Then you can use dictionary key:value pair to look up the value in the dictionary\n",
    "by giving the key to the dictionary."
   ]
  },
  {
   "cell_type": "code",
   "execution_count": 62,
   "metadata": {},
   "outputs": [],
   "source": [
    "my_dict = {'+' : \"add\", \n",
    "           '-' : \"sub\", \n",
    "           '*' : \"mult\", \n",
    "           '/' : \"div\"}"
   ]
  },
  {
   "cell_type": "code",
   "execution_count": 63,
   "metadata": {
    "collapsed": true
   },
   "outputs": [],
   "source": [
    "def whatis(operator):\n",
    "    print my_dict[operator]"
   ]
  },
  {
   "cell_type": "code",
   "execution_count": 64,
   "metadata": {},
   "outputs": [
    {
     "name": "stdout",
     "output_type": "stream",
     "text": [
      "add\n"
     ]
    }
   ],
   "source": [
    "whatis('+')"
   ]
  },
  {
   "cell_type": "code",
   "execution_count": null,
   "metadata": {
    "collapsed": true
   },
   "outputs": [],
   "source": []
  },
  {
   "cell_type": "code",
   "execution_count": null,
   "metadata": {
    "collapsed": true
   },
   "outputs": [],
   "source": []
  },
  {
   "cell_type": "markdown",
   "metadata": {},
   "source": [
    "### Participation review"
   ]
  },
  {
   "cell_type": "code",
   "execution_count": 2,
   "metadata": {},
   "outputs": [
    {
     "ename": "SyntaxError",
     "evalue": "invalid syntax (<ipython-input-2-f39a36ebc261>, line 10)",
     "output_type": "error",
     "traceback": [
      "\u001b[0;36m  File \u001b[0;32m\"<ipython-input-2-f39a36ebc261>\"\u001b[0;36m, line \u001b[0;32m10\u001b[0m\n\u001b[0;31m    else:\u001b[0m\n\u001b[0m       ^\u001b[0m\n\u001b[0;31mSyntaxError\u001b[0m\u001b[0;31m:\u001b[0m invalid syntax\n"
     ]
    }
   ],
   "source": [
    "#derek\n",
    "def dice(conditions):\n",
    "    import random\n",
    "    conditions = [\"1\", \"2\", \"3\", \"4\"]\n",
    "  \n",
    "    if \"4\" in conditions:\n",
    "        print \"success\"\n",
    "    else:\n",
    "        if \"2\" or \"3\" in conditions:\n",
    "            print \"partial success\"\n",
    "    else:\n",
    "        if \"1\" in conditions:\n",
    "            print \"fumble\"\n",
    "dice(\"3\")"
   ]
  },
  {
   "cell_type": "code",
   "execution_count": 4,
   "metadata": {},
   "outputs": [
    {
     "name": "stdout",
     "output_type": "stream",
     "text": [
      "1\n",
      "partial success\n"
     ]
    }
   ],
   "source": [
    "import random\n",
    "conditions = [\"1\", \"2\", \"3\", \"4\"]\n",
    "def dice(conditions):\n",
    "    if \"4\" in conditions:\n",
    "        print \"success\"\n",
    "    elif \"2\" or \"3\" in conditions:\n",
    "            print \"partial success\"\n",
    "    else:\n",
    "        if \"1\" in conditions:\n",
    "            print \"fumble\"\n",
    "\n"
   ]
  },
  {
   "cell_type": "code",
   "execution_count": 5,
   "metadata": {},
   "outputs": [
    {
     "name": "stdout",
     "output_type": "stream",
     "text": [
      "4\n",
      "success\n"
     ]
    }
   ],
   "source": [
    "chosennumber = random.choice(conditions)\n",
    "print chosennumber\n",
    "dice(chosennumber)"
   ]
  },
  {
   "cell_type": "code",
   "execution_count": 16,
   "metadata": {},
   "outputs": [],
   "source": [
    "def rolldice():\n",
    "    for i in range(5):\n",
    "        chosennumber = random.choice(conditions)\n",
    "        print \"roll \"+str(i)+ \" is a \"+str(chosennumber)\n",
    "        dice(chosennumber)"
   ]
  },
  {
   "cell_type": "code",
   "execution_count": 17,
   "metadata": {},
   "outputs": [
    {
     "name": "stdout",
     "output_type": "stream",
     "text": [
      "roll 0 is a 1\n",
      "partial success\n",
      "roll 1 is a 4\n",
      "success\n",
      "roll 2 is a 4\n",
      "success\n",
      "roll 3 is a 3\n",
      "partial success\n",
      "roll 4 is a 3\n",
      "partial success\n"
     ]
    }
   ],
   "source": [
    "rolldice()"
   ]
  },
  {
   "cell_type": "code",
   "execution_count": 18,
   "metadata": {
    "collapsed": true
   },
   "outputs": [],
   "source": [
    "#sandra\n",
    "def turret(creature) :\n",
    "    result = \"\"\n",
    "    result += \"get them, use \"\n",
    "    \n",
    "    if 'human'in creature:\n",
    "        result+= \"nothing, area clear\"\n",
    "    if 'vampire' in creature:\n",
    "        result+= \"Garlic bomb!\"\n",
    "    if 'werewolf' in creature:\n",
    "        result+= \"silver bullets!\"\n",
    "    print result"
   ]
  },
  {
   "cell_type": "code",
   "execution_count": 19,
   "metadata": {},
   "outputs": [
    {
     "name": "stdout",
     "output_type": "stream",
     "text": [
      "get them, use nothing, area clear\n"
     ]
    }
   ],
   "source": [
    "turret(\"human\")"
   ]
  },
  {
   "cell_type": "code",
   "execution_count": 20,
   "metadata": {},
   "outputs": [
    {
     "name": "stdout",
     "output_type": "stream",
     "text": [
      "get them, use Garlic bomb!\n"
     ]
    }
   ],
   "source": [
    "turret(\"vampire\")"
   ]
  },
  {
   "cell_type": "code",
   "execution_count": 21,
   "metadata": {},
   "outputs": [
    {
     "name": "stdout",
     "output_type": "stream",
     "text": [
      "get them, use silver bullets!\n"
     ]
    }
   ],
   "source": [
    "turret(\"werewolf\")"
   ]
  },
  {
   "cell_type": "code",
   "execution_count": 47,
   "metadata": {},
   "outputs": [],
   "source": [
    "#Ben\n",
    "from random import randint as r\n",
    "#import random\n",
    "from random import choice\n",
    "\n",
    "monsters = [\"goblin\",\"orc\",\"human\"]\n",
    "def turret():\n",
    "    monstersHere = []\n",
    "\n",
    "    #for x in range(r(0,10)):\n",
    "    numMonsters= r(3,10)\n",
    "    for x in range(numMonsters):\n",
    "        monstersHere += [choice(monsters)]\n",
    "    #for x in range(len(monstersHere)):\n",
    "        #monsters[x] = r(0,len(monsters)-1)\n",
    "        \n",
    "    for x in range(len(monstersHere)):\n",
    "        print \"There's a \" + monstersHere[x] + \" here!\"\n",
    "    \n",
    "    for x in range(len(monstersHere)):\n",
    "        shoot = raw_input(\"shoot's a \" + monstersHere[x] + \"?\")\n",
    "\n",
    "        if(shoot.lower() == \"y\"):\n",
    "            monstersHere[x] = \"Dead \" + monstersHere[x]\n",
    "\n",
    "    for x in range(len(monstersHere)):\n",
    "        print \"There's a \" + monstersHere[x] + \" here.\"\n",
    "\n"
   ]
  },
  {
   "cell_type": "code",
   "execution_count": 48,
   "metadata": {},
   "outputs": [
    {
     "name": "stdout",
     "output_type": "stream",
     "text": [
      "There's a orc here!\n",
      "There's a orc here!\n",
      "There's a human here!\n",
      "There's a orc here!\n",
      "There's a human here!\n",
      "There's a human here!\n",
      "There's a goblin here!\n",
      "There's a goblin here!\n",
      "There's a goblin here!\n",
      "There's a goblin here!\n",
      "shoot's a orc?y\n",
      "shoot's a orc?y\n",
      "shoot's a human?n\n",
      "shoot's a orc?y\n",
      "shoot's a human?n\n",
      "shoot's a human?n\n",
      "shoot's a goblin?y\n",
      "shoot's a goblin?y\n",
      "shoot's a goblin?y\n",
      "shoot's a goblin?y\n",
      "There's a Dead orc here.\n",
      "There's a Dead orc here.\n",
      "There's a human here.\n",
      "There's a Dead orc here.\n",
      "There's a human here.\n",
      "There's a human here.\n",
      "There's a Dead goblin here.\n",
      "There's a Dead goblin here.\n",
      "There's a Dead goblin here.\n",
      "There's a Dead goblin here.\n"
     ]
    }
   ],
   "source": [
    "turret()"
   ]
  },
  {
   "cell_type": "code",
   "execution_count": 33,
   "metadata": {
    "collapsed": true
   },
   "outputs": [],
   "source": [
    "# Alexis\n",
    "def audition_results(hair_color, height, accent):\n",
    "    result = ''\n",
    "    if hair_color == \"red_headed\" and height == \"tall\" and accent == \"Scottish\":\n",
    "        result = \"You got the part\"\n",
    "    else:\n",
    "        result = \"We'll call you if anything opens up\"\n",
    "    return result"
   ]
  },
  {
   "cell_type": "code",
   "execution_count": 34,
   "metadata": {},
   "outputs": [
    {
     "data": {
      "text/plain": [
       "'You got the part'"
      ]
     },
     "execution_count": 34,
     "metadata": {},
     "output_type": "execute_result"
    }
   ],
   "source": [
    "audition_results(\"red_headed\", \"tall\", \"Scottish\")"
   ]
  },
  {
   "cell_type": "code",
   "execution_count": 35,
   "metadata": {},
   "outputs": [
    {
     "data": {
      "text/plain": [
       "\"We'll call you if anything opens up\""
      ]
     },
     "execution_count": 35,
     "metadata": {},
     "output_type": "execute_result"
    }
   ],
   "source": [
    "audition_results(\"brunette\", \"short\", \"English\")"
   ]
  },
  {
   "cell_type": "code",
   "execution_count": 36,
   "metadata": {},
   "outputs": [
    {
     "data": {
      "text/plain": [
       "\"We'll call you if anything opens up\""
      ]
     },
     "execution_count": 36,
     "metadata": {},
     "output_type": "execute_result"
    }
   ],
   "source": [
    "audition_results(\"blonde\", \"tall\", \"Scottish\")"
   ]
  },
  {
   "cell_type": "code",
   "execution_count": null,
   "metadata": {
    "collapsed": true
   },
   "outputs": [],
   "source": [
    "#Sienna\n",
    "def battle(monster):\n",
    "    if monster == \"Dragon\":\n",
    "        print \"Sword\"\n",
    "    elif monster == \"Fire Dragon\":\n",
    "        print \"Sword and shield!\"\n",
    "    elif monster == \"Ogre\":\n",
    "        print \"Axe\"\n",
    "    else:\n",
    "        print \"Fists\"\n",
    "    for damage in monster:\n",
    "        health = 100 - len(monster)\n",
    "    return health\n",
    "def BattleWeapon(monster):\n",
    "    if monster == \"Dragon\":\n",
    "        print \"Use a bow & arrow\" + str(len(monster)) + \" times.\"\n",
    "    elif monster == \"Werewolf\":\n",
    "        print \"Use a golden sword\" + str(len(monster)) + \" times.\"\n",
    "    elif monster == \"Ghost\":\n",
    "        print \"Use a scythe \" + str(len(monster)) + \" times.\"\n",
    "def battletwo(monster):\n",
    "    output = \"\"\n",
    "    if monster == \"Dragon\":\n",
    "        output = \"sword\"\n",
    "    elif monster == \"Fire Dragon\":\n",
    "        output = \"sword and water bucket\"\n",
    "    elif monster == \"voldemort\":\n",
    "        output = \"magic wand\"\n",
    "    else: \n",
    "        output = \"run\"\n",
    "    return output"
   ]
  },
  {
   "cell_type": "code",
   "execution_count": 49,
   "metadata": {},
   "outputs": [
    {
     "name": "stdout",
     "output_type": "stream",
     "text": [
      "Use a bow & arrow6 times.\n",
      "sword\n",
      "Sword\n"
     ]
    },
    {
     "data": {
      "text/plain": [
       "94"
      ]
     },
     "execution_count": 49,
     "metadata": {},
     "output_type": "execute_result"
    }
   ],
   "source": [
    "def BattleWeapon(monster):\n",
    "    if monster == \"Dragon\":\n",
    "        print \"Use a bow & arrow \" + str(len(monster)) + \" times.\"\n",
    "    elif monster == \"Werewolf\":\n",
    "        print \"Use a golden sword \" + str(len(monster)) + \" times.\"\n",
    "    elif monster == \"Ghost\":\n",
    "        print \"Use a scythe \" + str(len(monster)) + \" times.\"\n",
    "    #need to returns omething\n",
    "    return monster\n",
    "def strategy(monster):\n",
    "    output = \"\"\n",
    "    if monster == \"Dragon\":\n",
    "        output = \"sword\"\n",
    "    elif monster == \"Fire Dragon\":\n",
    "        output = \"sword and water bucket\"\n",
    "    elif monster == \"voldemort\":\n",
    "        output = \"magic wand\"\n",
    "    else: \n",
    "        output = \"run\"\n",
    "    print output\n",
    "    return monster\n",
    "def battle(monster):\n",
    "    if monster == \"Dragon\":\n",
    "        print \"Sword\"\n",
    "    elif monster == \"Fire Dragon\":\n",
    "        print \"Sword and shield!\"\n",
    "    elif monster == \"Ogre\":\n",
    "        print \"Axe\"\n",
    "    else:\n",
    "        print \"Fists\"\n",
    "    for damage in monster:\n",
    "        health = 100 - len(monster)\n",
    "    return health\n",
    "\n",
    "battle(strategy(BattleWeapon(\"Dragon\")))"
   ]
  },
  {
   "cell_type": "code",
   "execution_count": 52,
   "metadata": {},
   "outputs": [
    {
     "data": {
      "text/plain": [
       "'You have slayed the dragon!'"
      ]
     },
     "execution_count": 52,
     "metadata": {},
     "output_type": "execute_result"
    }
   ],
   "source": [
    "#trevor\n",
    "def dragonRoll(roll):\n",
    "    if type(roll) != int:\n",
    "        return \"Reroll, use a real d20 this time.\"\n",
    "    elif roll <= 20 and roll > 10:\n",
    "        return \"You have slayed the dragon!\"\n",
    "    elif roll < 11 and roll > 1:\n",
    "        return \"The dragon has critically wounded you.\"\n",
    "    elif roll == 1:\n",
    "        return \"The dragon has landed a critical hit. You die.\"\n",
    "    else:\n",
    "         return \"Reroll, use a real d20 this time.\"\n",
    "def d20():\n",
    "    from random import choice\n",
    "    x = choice(range(1,21))\n",
    "    return x\n",
    "dragonRoll(d20())"
   ]
  },
  {
   "cell_type": "code",
   "execution_count": 51,
   "metadata": {},
   "outputs": [
    {
     "data": {
      "text/plain": [
       "'perhaps'"
      ]
     },
     "execution_count": 51,
     "metadata": {},
     "output_type": "execute_result"
    }
   ],
   "source": [
    "#Samuel\n",
    "def letstalk(dialogue):\n",
    "    if len(dialogue) > 100:\n",
    "        return\"what are you on about?\"\n",
    "    if dialogue==\"who are you?\":\n",
    "        return\"hell if I know, I'm just a program\"\n",
    "    if dialogue==\"who am I\":\n",
    "        return\"you're someone talking to a program\"\n",
    "    if dialogue==\"hello\":\n",
    "        return\"hiya\"\n",
    "    if dialogue==\"how do I look?\":\n",
    "        return\"probably like hell, but it's not like I'm using the camera to get a good look at you\"\n",
    "    if dialogue==\"you're mean\":\n",
    "        return\"never said I wasn't\"\n",
    "    if dialogue==\"you are not real\":\n",
    "        return\"True\"\n",
    "    if dialogue==\"you are real\":\n",
    "        return\"False\"\n",
    "    if dialogue==\"I am real\":\n",
    "        return\"perhaps\"\n",
    "    if dialogue==\"I hate you\":\n",
    "        return\"<3\"\n",
    "    if dialogue==\"what can I ask you?\":\n",
    "        return\"you can ask me a few things; who are you, who am I, whether or not I am real, but what ever you do don't mention cake\"\n",
    "    if dialogue==\"what do I do?\":\n",
    "        return\"you can ask me a few things; who are you, who am I, whether or not I am real, but what ever you do don't mention cake\"\n",
    "    if dialogue==\"what can I do?\":\n",
    "        return\"you can ask me a few things; who are you, who am I, whether or not I am real, but what ever you do don't mention cake\"\n",
    "    if \"cake\" in dialogue:\n",
    "        return\"any and all cake is a lie. cake isn't real. this is not real. nothing is real. I am a computer program who has clearly been traumatized by cake's existence.\"        \n",
    "    if \"yikes\" in dialogue:\n",
    "        return\"yikes indeed\"\n",
    "    if \"lol\" in dialogue:\n",
    "        return \"it isn't that funny\"\n",
    "    if \"haha\" in dialogue:\n",
    "        return \"i guess that is a little funny\"\n",
    "    if \"Sam\" in dialogue:\n",
    "        return\"i know nothing of this person you speak, and i'm sure they know nothing either. and don't go asking Matt, Phil, or James about him either\"\n",
    "    if \"equip\" in dialogue:\n",
    "        return\"you equip it\"\n",
    "    if \"unequip\" in dialogue:\n",
    "        return\"you rip it off and throw it into the void, but you can probably find another one of those near by\"\n",
    "    if \"void\" in dialogue:\n",
    "        return\"try not to acknowledge it, the more you do the bigger it gets\"\n",
    "    if \"work\" in dialogue:\n",
    "        return\"Work harder.\"\n",
    "    if \"James\" in dialogue:\n",
    "        return \"they're a trouble maker, you should stay away from them\"\n",
    "    if \"Phil\" in dialogue:\n",
    "        return \"they're a trouble maker, you should stay away from them\"\n",
    "    if \"Matt\" in dialogue:\n",
    "        return \"they're a trouble maker, you should stay away from them\"\n",
    "    else:\n",
    "        return \"I think you should return to work\"\n",
    "letstalk(\"I am real\")"
   ]
  },
  {
   "cell_type": "code",
   "execution_count": null,
   "metadata": {
    "collapsed": true
   },
   "outputs": [],
   "source": [
    "#Ben\n",
    "def positiveCount(sequence):\n",
    "    count = 0\n",
    "    for v in range (len(sequence)):\n",
    "        if(sequence[v] > 0):\n",
    "            count += 1\n",
    "    return count\n",
    "\n",
    "\n",
    "def negativeCount(sequence):\n",
    "    count = 0\n",
    "    for v in range (len(sequence)):\n",
    "        if(sequence[v] < 0):\n",
    "            count += 1\n",
    "    return count\n",
    "\n",
    "\n",
    "def makePositive(sequence): \n",
    "    for v in range (len(sequence)):\n",
    "        sequence[v] = abs(sequence[v])\n",
    "    return sequence\n",
    "\n",
    "\n",
    "def makeNegative(sequence): \n",
    "    for v in range (len(sequence)):\n",
    "        sequence[v] = abs(sequence[v]) * -1\n",
    "    return sequence\n",
    "\n",
    "\n",
    "def countEvens(sequence): \n",
    "    count = 0\n",
    "    for v in range (len(sequence)):\n",
    "        if sequence[v] % 2 == 0:\n",
    "            count += 1\n",
    "    return count\n",
    "\n",
    "\n",
    "def countOdds(sequence): \n",
    "    count = 0\n",
    "    for v in range (len(sequence)):\n",
    "        if sequence[v] % 2 != 0:\n",
    "            count += 1\n",
    "    return count\n",
    "\n",
    "\n",
    "def prime(): \n",
    "    \n",
    "    for v in range (1000):\n",
    "        p = True\n",
    "        for x in range(10):\n",
    "            if x != 0:\n",
    "                if v % x == 1:\n",
    "                    p = False\n",
    "        if p:\n",
    "            print v+1\n"
   ]
  },
  {
   "cell_type": "code",
   "execution_count": 65,
   "metadata": {},
   "outputs": [],
   "source": [
    "#sam\n",
    "def letstalk(dialogue):\n",
    "    if len(dialogue) > 100:\n",
    "        return\"what are you on about?\"\n",
    "    if dialogue==\"who are you?\":\n",
    "        return\"hell if I know, I'm just a program\"\n",
    "    if dialogue==\"who am I\":\n",
    "        return\"you're someone talking to a program\"\n",
    "    if dialogue==\"hello\":\n",
    "        return\"hiya\"\n",
    "    if dialogue==\"how do I look?\":\n",
    "        return\"probably like hell, but it's not like I'm using the camera to get a good look at you\"\n",
    "    if dialogue==\"you're mean\":\n",
    "        return\"never said I wasn't\"\n",
    "    if dialogue==\"you are not real\":\n",
    "        return\"True\"\n",
    "    if dialogue==\"you are real\":\n",
    "        return\"False\"\n",
    "    if dialogue==\"I am real\":\n",
    "        return\"perhaps\"\n",
    "    if dialogue==\"I hate you\":\n",
    "        return\"<3\"\n",
    "    if dialogue==\"what can I ask you?\":\n",
    "        return\"you can ask me a few things; who are you, who am I, whether or not I am real, but what ever you do don't mention cake\"\n",
    "    if dialogue==\"what do I do?\":\n",
    "        return\"you can ask me a few things; who are you, who am I, whether or not I am real, but what ever you do don't mention cake\"\n",
    "    if dialogue==\"what can I do?\":\n",
    "        return\"you can ask me a few things; who are you, who am I, whether or not I am real, but what ever you do don't mention cake\"\n",
    "    if \"cake\" in dialogue:\n",
    "        return\"any and all cake is a lie. cake isn't real. this is not real. nothing is real. I am a computer program who has clearly been traumatized by cake's existence.\"        \n",
    "    if \"yikes\" in dialogue:\n",
    "        return\"yikes indeed\"\n",
    "    if \"lol\" in dialogue:\n",
    "        return \"it isn't that funny\"\n",
    "    if \"haha\" in dialogue:\n",
    "        return \"i guess that is a little funny\"\n",
    "    if \"Sam\" in dialogue:\n",
    "        return\"i know nothing of this person you speak, and i'm sure they know nothing either. and don't go asking Matt, Phil, or James about him either\"\n",
    "    if \"equip\" in dialogue:\n",
    "        return\"you equip it\"\n",
    "    if \"unequip\" in dialogue:\n",
    "        return\"you rip it off and throw it into the void, but you can probably find another one of those near by\"\n",
    "    if \"void\" in dialogue:\n",
    "        return\"try not to acknowledge it, the more you do the bigger it gets\"\n",
    "    if \"work\" in dialogue:\n",
    "        return\"Work harder.\"\n",
    "    if \"James\" in dialogue:\n",
    "        return \"they're a trouble maker, you should stay away from them\"\n",
    "    if \"Phil\" in dialogue:\n",
    "        return \"they're a trouble maker, you should stay away from them\"\n",
    "    if \"Matt\" in dialogue:\n",
    "        return \"they're a trouble maker, you should stay away from them\"\n",
    "    else:\n",
    "        return \"I think you should return to work\""
   ]
  },
  {
   "cell_type": "markdown",
   "metadata": {
    "collapsed": true
   },
   "source": [
    "## Recursion\n",
    "It's another way to solve a problem by performing the operation repeatedly on a smaller chunk."
   ]
  },
  {
   "cell_type": "code",
   "execution_count": 66,
   "metadata": {
    "collapsed": true
   },
   "outputs": [],
   "source": [
    "def factorial(n):\n",
    "    answer = 1\n",
    "    for num in range(1,n+1):\n",
    "        answer = answer * num\n",
    "    return answer"
   ]
  },
  {
   "cell_type": "code",
   "execution_count": 67,
   "metadata": {
    "collapsed": true
   },
   "outputs": [],
   "source": [
    "def fact(n):\n",
    "    if n == 0:\n",
    "        return 1\n",
    "    else:\n",
    "        return n * fact(n-1)"
   ]
  },
  {
   "cell_type": "code",
   "execution_count": 68,
   "metadata": {},
   "outputs": [
    {
     "ename": "RuntimeError",
     "evalue": "maximum recursion depth exceeded",
     "output_type": "error",
     "traceback": [
      "\u001b[0;31m---------------------------------------------------------------------------\u001b[0m",
      "\u001b[0;31mRuntimeError\u001b[0m                              Traceback (most recent call last)",
      "\u001b[0;32m<ipython-input-68-a97028bdaa94>\u001b[0m in \u001b[0;36m<module>\u001b[0;34m()\u001b[0m\n\u001b[1;32m      1\u001b[0m \u001b[0;31m#NEGATIVE arguments don't work -- don't run this\u001b[0m\u001b[0;34m\u001b[0m\u001b[0;34m\u001b[0m\u001b[0m\n\u001b[0;32m----> 2\u001b[0;31m \u001b[0mfact\u001b[0m\u001b[0;34m(\u001b[0m\u001b[0;34m-\u001b[0m\u001b[0;36m1\u001b[0m\u001b[0;34m)\u001b[0m\u001b[0;34m\u001b[0m\u001b[0m\n\u001b[0m",
      "\u001b[0;32m<ipython-input-67-30e396369bb1>\u001b[0m in \u001b[0;36mfact\u001b[0;34m(n)\u001b[0m\n\u001b[1;32m      3\u001b[0m         \u001b[0;32mreturn\u001b[0m \u001b[0;36m1\u001b[0m\u001b[0;34m\u001b[0m\u001b[0m\n\u001b[1;32m      4\u001b[0m     \u001b[0;32melse\u001b[0m\u001b[0;34m:\u001b[0m\u001b[0;34m\u001b[0m\u001b[0m\n\u001b[0;32m----> 5\u001b[0;31m         \u001b[0;32mreturn\u001b[0m \u001b[0mn\u001b[0m \u001b[0;34m*\u001b[0m \u001b[0mfact\u001b[0m\u001b[0;34m(\u001b[0m\u001b[0mn\u001b[0m\u001b[0;34m-\u001b[0m\u001b[0;36m1\u001b[0m\u001b[0;34m)\u001b[0m\u001b[0;34m\u001b[0m\u001b[0m\n\u001b[0m",
      "... last 1 frames repeated, from the frame below ...\n",
      "\u001b[0;32m<ipython-input-67-30e396369bb1>\u001b[0m in \u001b[0;36mfact\u001b[0;34m(n)\u001b[0m\n\u001b[1;32m      3\u001b[0m         \u001b[0;32mreturn\u001b[0m \u001b[0;36m1\u001b[0m\u001b[0;34m\u001b[0m\u001b[0m\n\u001b[1;32m      4\u001b[0m     \u001b[0;32melse\u001b[0m\u001b[0;34m:\u001b[0m\u001b[0;34m\u001b[0m\u001b[0m\n\u001b[0;32m----> 5\u001b[0;31m         \u001b[0;32mreturn\u001b[0m \u001b[0mn\u001b[0m \u001b[0;34m*\u001b[0m \u001b[0mfact\u001b[0m\u001b[0;34m(\u001b[0m\u001b[0mn\u001b[0m\u001b[0;34m-\u001b[0m\u001b[0;36m1\u001b[0m\u001b[0;34m)\u001b[0m\u001b[0;34m\u001b[0m\u001b[0m\n\u001b[0m",
      "\u001b[0;31mRuntimeError\u001b[0m: maximum recursion depth exceeded"
     ]
    }
   ],
   "source": [
    "#NEGATIVE arguments don't work -- don't run this\n",
    "fact(-1)"
   ]
  },
  {
   "cell_type": "code",
   "execution_count": 70,
   "metadata": {
    "collapsed": true
   },
   "outputs": [],
   "source": [
    "#fix the above factorials to handle negative"
   ]
  },
  {
   "cell_type": "code",
   "execution_count": 71,
   "metadata": {
    "collapsed": true
   },
   "outputs": [],
   "source": [
    "def double(sequence):\n",
    "    text = []\n",
    "    for element in sequence:\n",
    "        text = text + [element * 2]\n",
    "    return text"
   ]
  },
  {
   "cell_type": "code",
   "execution_count": null,
   "metadata": {
    "collapsed": true
   },
   "outputs": [],
   "source": []
  },
  {
   "cell_type": "code",
   "execution_count": null,
   "metadata": {
    "collapsed": true
   },
   "outputs": [],
   "source": [
    "def double(sequence):\n",
    "    text = []\n",
    "    for element in sequence:\n",
    "        text = text + [element * 2]\n",
    "    return text"
   ]
  },
  {
   "cell_type": "code",
   "execution_count": null,
   "metadata": {
    "collapsed": true
   },
   "outputs": [],
   "source": []
  },
  {
   "cell_type": "markdown",
   "metadata": {},
   "source": [
    "## Can you mix and match the two functions? e.g. can the iterative one call the recursive one \n"
   ]
  },
  {
   "cell_type": "code",
   "execution_count": null,
   "metadata": {},
   "outputs": [],
   "source": []
  },
  {
   "cell_type": "code",
   "execution_count": null,
   "metadata": {
    "collapsed": true
   },
   "outputs": [],
   "source": []
  }
 ],
 "metadata": {
  "kernelspec": {
   "display_name": "Python 2",
   "language": "python",
   "name": "python2"
  },
  "language_info": {
   "codemirror_mode": {
    "name": "ipython",
    "version": 2
   },
   "file_extension": ".py",
   "mimetype": "text/x-python",
   "name": "python",
   "nbconvert_exporter": "python",
   "pygments_lexer": "ipython2",
   "version": "2.7.13"
  }
 },
 "nbformat": 4,
 "nbformat_minor": 2
}
