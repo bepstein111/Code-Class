{
 "cells": [
  {
   "cell_type": "code",
   "execution_count": null,
   "metadata": {
    "collapsed": true
   },
   "outputs": [],
   "source": [
    "#Chance\n",
    "def password(test):\n",
    "    if test == 'Dope':\n",
    "        print 'Nice'\n",
    "\n",
    "password('Dope')"
   ]
  },
  {
   "cell_type": "code",
   "execution_count": null,
   "metadata": {
    "collapsed": true
   },
   "outputs": [],
   "source": [
    "#RyanL\n",
    "def secret(word):\n",
    "    if word == 'pupper':\n",
    "        return 'doggo'\n",
    "\n",
    "secret(\"dude!\")"
   ]
  },
  {
   "cell_type": "code",
   "execution_count": null,
   "metadata": {
    "collapsed": true
   },
   "outputs": [],
   "source": [
    "secret(\"pupper\")"
   ]
  },
  {
   "cell_type": "code",
   "execution_count": null,
   "metadata": {
    "collapsed": true
   },
   "outputs": [],
   "source": [
    "def name(noun):\n",
    "    if (noun) == 'rey':\n",
    "        return 'rey sawan'\n",
    "name('rey')"
   ]
  },
  {
   "cell_type": "code",
   "execution_count": null,
   "metadata": {
    "collapsed": true
   },
   "outputs": [],
   "source": [
    "#Jude\n",
    "def password(word):\n",
    "    if word <> (\"Laddies\"):\n",
    "        return \"Oi mate!\"\n",
    "    if word == (\"Laddies\"):\n",
    "        return \"Wanker!\"\n",
    "    \n",
    "password(\"Laddies\")"
   ]
  },
  {
   "cell_type": "code",
   "execution_count": null,
   "metadata": {
    "collapsed": true
   },
   "outputs": [],
   "source": [
    "#Natalie\n",
    "def secret(word):\n",
    "    if word == 'naruto':\n",
    "        return 'i will be the next hokage'\n",
    "    else:\n",
    "        return 'no!'\n",
    "    \n",
    "secret('naruto')"
   ]
  },
  {
   "cell_type": "code",
   "execution_count": null,
   "metadata": {
    "collapsed": true
   },
   "outputs": [],
   "source": [
    "secret('sauska?')"
   ]
  },
  {
   "cell_type": "code",
   "execution_count": null,
   "metadata": {
    "collapsed": true
   },
   "outputs": [],
   "source": [
    "#Chance\n",
    "def pizzaselector(people):\n",
    "    print \"Uhhhhhhhh...\"\n",
    "    if len(people) > 6 and len(people) < 14:\n",
    "        print \"Ok, so two large cheese pizzas... \"\n",
    "        if \"Jenny\" in people:\n",
    "            print \"One of those with a gluten free crust.\"\n",
    "        \n",
    "    elif len(people) <= 6:\n",
    "        print \"Ok, so a large pepperoni... \"\n",
    "        if \"Jenny\" in people:\n",
    "            print \"With like half a gluten free crust... Can you do that?\"\n",
    "            \n",
    "pizzaselector(['Brad', 'Tom', 'Jenny', 'Four', 'Five', 'Six', 'Seven'])\n",
    "    "
   ]
  },
  {
   "cell_type": "code",
   "execution_count": null,
   "metadata": {
    "collapsed": true
   },
   "outputs": [],
   "source": [
    "#cameron\n",
    "def pizzatime(pizzappl):\n",
    "    if len(pizzappl) == 4:\n",
    "        print \"large cheese\"\n",
    "    if len(pizzappl)== 2 or len(pizzappl) == 3:\n",
    "        print \"probably get a medium? id get some buffalo chicken on there\"\n",
    "    if len(pizzappl) == 1:\n",
    "        print \"just get a calzone\"\n",
    "    if \"Alex\" in pizzappl:\n",
    "        print \"Get garlic knots\"\n",
    "pizzatime([\"Alex\",\"Cameron\",\"Chloe\",\"Victoria\"])\n"
   ]
  },
  {
   "cell_type": "code",
   "execution_count": null,
   "metadata": {
    "collapsed": true
   },
   "outputs": [],
   "source": [
    "#nataliea\n",
    "def pizzaOrder(people):\n",
    "    if people == \"vegan\":\n",
    "        print \"veggie pizza\"\n",
    "    elif people == \"vegetarian\":\n",
    "        print \"just cheese\"\n",
    "    elif people == \"I don't like pizza\":\n",
    "        print \"please leave\"\n",
    "    elif people == \"gluten free\":\n",
    "        print \"salad\"\n",
    "    else:\n",
    "        print \"meat lovers pizza\""
   ]
  },
  {
   "cell_type": "code",
   "execution_count": null,
   "metadata": {
    "collapsed": true
   },
   "outputs": [],
   "source": [
    "pizzaOrder(\"I don't like pizza\")"
   ]
  },
  {
   "cell_type": "code",
   "execution_count": null,
   "metadata": {
    "collapsed": true
   },
   "outputs": [],
   "source": [
    "pizzaOrder(\"gluten free\")"
   ]
  },
  {
   "cell_type": "code",
   "execution_count": null,
   "metadata": {
    "collapsed": true
   },
   "outputs": [],
   "source": [
    "pizzaOrder(\"I don't care\")"
   ]
  },
  {
   "cell_type": "code",
   "execution_count": null,
   "metadata": {
    "collapsed": true
   },
   "outputs": [],
   "source": [
    "#Vivi\n",
    "def secret(word):\n",
    "    if word == 'charm': \n",
    "        return 'magic'\n",
    "secret(\"charm\")"
   ]
  },
  {
   "cell_type": "code",
   "execution_count": null,
   "metadata": {
    "collapsed": true
   },
   "outputs": [],
   "source": [
    "secret(\"wand\")"
   ]
  },
  {
   "cell_type": "code",
   "execution_count": null,
   "metadata": {
    "collapsed": true
   },
   "outputs": [],
   "source": [
    "#Evan\n",
    "def secret(word):\n",
    "        if word == 'Batman':\n",
    "            return 'Where is he?'\n",
    "        else:\n",
    "            return 'Joker'\n",
    "secret('Batman')"
   ]
  },
  {
   "cell_type": "code",
   "execution_count": null,
   "metadata": {
    "collapsed": true
   },
   "outputs": [],
   "source": [
    "secret(\"Heath\")"
   ]
  },
  {
   "cell_type": "code",
   "execution_count": null,
   "metadata": {
    "collapsed": true
   },
   "outputs": [],
   "source": [
    "# original sums\n",
    "def sums(addto):\n",
    "    result = 0\n",
    "    for number in range(addto + 1)[1:]:\n",
    "        print number\n",
    "        result = result + number\n",
    "    print \"result \"+ str (result)\n"
   ]
  },
  {
   "cell_type": "code",
   "execution_count": null,
   "metadata": {
    "collapsed": true
   },
   "outputs": [],
   "source": [
    "#RyanL\n",
    "def sums(x):\n",
    "    z = 0\n",
    "    for item in range(len(x)):\n",
    "        z = z + x[item]\n",
    "    print z\n"
   ]
  },
  {
   "cell_type": "code",
   "execution_count": null,
   "metadata": {
    "collapsed": true
   },
   "outputs": [],
   "source": [
    "#cameron  -- note tabs\n",
    "stuff = 0\n",
    "for number in range(5):\n",
    "        stuff= stuff + number\n",
    "print stuff"
   ]
  },
  {
   "cell_type": "code",
   "execution_count": null,
   "metadata": {
    "collapsed": true
   },
   "outputs": [],
   "source": [
    "#Vivi\n",
    "def pizzanight(people): \n",
    "    if len(people) == 4:\n",
    "        print (\"order large cheese\")\n",
    "    if len(people) == 3:\n",
    "        print (\"order small cheese\")\n",
    "        \n",
    "pizzanight([\"Victoria\", \"alex\",\"name\"])\n"
   ]
  },
  {
   "cell_type": "code",
   "execution_count": null,
   "metadata": {
    "collapsed": true
   },
   "outputs": [],
   "source": [
    "pizzanight([\"Rudolph\",\"Donner\",\"Blitzen\",\"Vixen\"])"
   ]
  },
  {
   "cell_type": "code",
   "execution_count": null,
   "metadata": {
    "collapsed": true
   },
   "outputs": [],
   "source": [
    "pizzanight([\"Santa\"])"
   ]
  },
  {
   "cell_type": "code",
   "execution_count": null,
   "metadata": {
    "collapsed": true
   },
   "outputs": [],
   "source": [
    "#Derek\n",
    "def pizzaTime(people):\n",
    "    if len(people) > 7:\n",
    "        print \"14 personal pizzas\"\n",
    "    elif len(people) < 3:\n",
    "        print \"6 calzones\" \n",
    "    if \"Derek\" in people:\n",
    "        print \"and at least 3 ultra cheesey pizzas\"\n",
    "            \n",
    "pizzaTime([\"Derek\",\"Jake\", \"Kayla\", \"Niko\"])"
   ]
  },
  {
   "cell_type": "code",
   "execution_count": null,
   "metadata": {
    "collapsed": true
   },
   "outputs": [],
   "source": [
    "#jude & Evan\n",
    "def PizzaOrder(diet):\n",
    "    if diet == \"Vegan\":\n",
    "        print \"Order veggie pizza with no cheese\"\n",
    "    elif diet == \"Vegitarian\":\n",
    "        print \"Order veggie pizza\"\n",
    "    else:\n",
    "        print \"Order \" + str(len(diet)) + \" pepperoni pizza\"\n",
    "PizzaOrder(\"John\")"
   ]
  },
  {
   "cell_type": "code",
   "execution_count": null,
   "metadata": {
    "collapsed": true
   },
   "outputs": [],
   "source": [
    "def pizzaOrder(diet):\n",
    "    if diet == 'vegan':\n",
    "        print 'Veggie Pizza'\n",
    "    elif diet == 'lactose intolerant':\n",
    "        print 'Dairy Free Pizza'\n",
    "    else:\n",
    "        print '4 Cheese and 2 Pepperoni'#Type your function in here\n",
    "pizzaOrder('vegan')"
   ]
  },
  {
   "cell_type": "code",
   "execution_count": null,
   "metadata": {
    "collapsed": true
   },
   "outputs": [],
   "source": [
    "def kosherPizza(people):\n",
    "    if people == \"Kosher\":\n",
    "        print \"no pork\"\n",
    "    elif people != \"Kosher\":\n",
    "        print \"hawaii\"\n",
    "    else:\n",
    "        print \"no pizza\"  #we'll never get to this branch\n",
    "\n",
    "kosherPizza(\"Kosher\")"
   ]
  },
  {
   "cell_type": "code",
   "execution_count": null,
   "metadata": {
    "collapsed": true
   },
   "outputs": [],
   "source": [
    "kosherPizza(\"Greek\")"
   ]
  },
  {
   "cell_type": "code",
   "execution_count": null,
   "metadata": {
    "collapsed": true
   },
   "outputs": [],
   "source": [
    "pizzaOrder('lactose intolerant')"
   ]
  },
  {
   "cell_type": "code",
   "execution_count": null,
   "metadata": {
    "collapsed": true
   },
   "outputs": [],
   "source": [
    "pizzaOrder('none')"
   ]
  },
  {
   "cell_type": "code",
   "execution_count": null,
   "metadata": {
    "collapsed": true
   },
   "outputs": [],
   "source": [
    "#Ryan L\n",
    "def tuesdayNight(people):\n",
    "    if len(people) > 20 and len(people) < 300:\n",
    "        print \"buy a Bertucci's restaurant\"\n",
    "    elif len(people)<= 1:\n",
    "        print \"10 combo deep dish pizzas\"\n",
    "    else:\n",
    "        if \"Angela\" in people:\n",
    "            print \"at least one pizza with snake eggs\"\n",
    "        else:\n",
    "            print \"order \"+str(len(people)/4) + \" Bertucci's pizzas\""
   ]
  },
  {
   "cell_type": "code",
   "execution_count": null,
   "metadata": {
    "collapsed": true
   },
   "outputs": [],
   "source": [
    "tuesdayNight(['a','b','c','d','e','f','g','h','i','j','k','l','m','n','o','p','q','r','s','t','u','v','w','x','y','z'])"
   ]
  },
  {
   "cell_type": "code",
   "execution_count": null,
   "metadata": {
    "collapsed": true
   },
   "outputs": [],
   "source": [
    "#rey\n",
    "def tuesdayNight(people):\n",
    "    if len(people) > 20 and len(people) < 300:\n",
    "        print \"buy a Bertuci's restaurant\"\n",
    "    elif len(people)<= 1:\n",
    "        print \"order 10 Chicago deep dish pizzas\"\n",
    "    else:\n",
    "        if \"Angela\" in people:\n",
    "            print \"order 10 million pizzas for her favorite students\"\n",
    "        else:\n",
    "            print \"order \"+str(len(people)/4) + \" Bertucci's pizzas\"\n",
    "\n",
    "tuesdayNight([\"Angela\", \"Ryan\", \"Alexis\", \"Rey'\"])"
   ]
  },
  {
   "cell_type": "code",
   "execution_count": null,
   "metadata": {
    "collapsed": true
   },
   "outputs": [],
   "source": [
    "tuesdayNight ([\"Rey\"])"
   ]
  },
  {
   "cell_type": "code",
   "execution_count": null,
   "metadata": {
    "collapsed": true
   },
   "outputs": [],
   "source": [
    "tuesdayNight([\"Rey\"]*250)"
   ]
  },
  {
   "cell_type": "code",
   "execution_count": null,
   "metadata": {
    "collapsed": true
   },
   "outputs": [],
   "source": [
    "def nightPlans(people):\n",
    "    if len(people) > 10 and len(people) < 15:\n",
    "        print \"hit the cleeerbbb\"\n",
    "    elif len(people)<= 1:\n",
    "        print \"where are your friends?\"\n",
    "    else:\n",
    "        if \"Julia\" in people:\n",
    "            print \"you'll probably end up sleeping early\"\n",
    "        else:\n",
    "            print \"you'll need \"+str(len(people)/4) + \" Ubers / cars.\"\n",
    "\n",
    "nightPlans([\"Rey\", \"Peter\", \"Steve\", \"Syd\", \"Servanne\", \"David\", \"Tim\", \"Rick\", \"Tom\", \"Ahmad\", \"Saif\"])"
   ]
  },
  {
   "cell_type": "code",
   "execution_count": null,
   "metadata": {
    "collapsed": true
   },
   "outputs": [],
   "source": [
    "nightPlans([\"Tom\"])"
   ]
  },
  {
   "cell_type": "code",
   "execution_count": null,
   "metadata": {
    "collapsed": true
   },
   "outputs": [],
   "source": [
    "nightPlans([\"Peter\", \"Julia\", \"Rey\"])"
   ]
  },
  {
   "cell_type": "code",
   "execution_count": null,
   "metadata": {
    "collapsed": true
   },
   "outputs": [],
   "source": []
  },
  {
   "cell_type": "code",
   "execution_count": null,
   "metadata": {
    "collapsed": true
   },
   "outputs": [],
   "source": [
    "#alexis        \n",
    "def tuesdayNight(people):\n",
    "    if len(people) > 20 and len(people) < 300:\n",
    "        print \"buy a Bertucci's pizza hut\"\n",
    "    elif len(people)< 1:\n",
    "        print \"ten deep dish pizzas\"\n",
    "    else:\n",
    "        if \"Angela\" in people:\n",
    "            print \"half the pizzas must have mushrooms\"\n",
    "        else:\n",
    "            print \"order \"+str(len(people)/4) + \" Bertucci's pizzas\"\n",
    "tuesdayNight([\"Angela\"])"
   ]
  },
  {
   "cell_type": "code",
   "execution_count": null,
   "metadata": {
    "collapsed": true
   },
   "outputs": [],
   "source": [
    "#Alexis\n",
    "\"\"\"I made the function half everything but didn't change it to floats so it rounded up or down\"\"\"\n",
    "def half(sequence):\n",
    "    result = [];\n",
    "    for element in sequence:\n",
    "        result = result + [element*1/2]\n",
    "    return result\n",
    "half([5,7,6,3,9])"
   ]
  },
  {
   "cell_type": "code",
   "execution_count": null,
   "metadata": {
    "collapsed": true
   },
   "outputs": [],
   "source": [
    "half([\"hi\"])"
   ]
  },
  {
   "cell_type": "code",
   "execution_count": null,
   "metadata": {
    "collapsed": true
   },
   "outputs": [],
   "source": [
    "#david\n",
    "def myfunction(sequence):\n",
    "    #change some of the following lines, no more than 10 lines please\n",
    "    result = [];\n",
    "    for element in sequence:\n",
    "        result = result + [element*3]\n",
    "    return result\n",
    "myfunction(range(4))"
   ]
  },
  {
   "cell_type": "code",
   "execution_count": null,
   "metadata": {
    "collapsed": true
   },
   "outputs": [],
   "source": [
    "#ryanL\n",
    "def triple(inputthinggy):\n",
    "    #change some of the following lines, no more than 10 lines please\n",
    "    thefinalthing = [];\n",
    "    for thing in inputthinggy:\n",
    "        thefinalthing = thefinalthing + [thing*3]\n",
    "    return thefinalthing\n",
    "\n",
    "triple([1,2,3])"
   ]
  },
  {
   "cell_type": "code",
   "execution_count": null,
   "metadata": {
    "collapsed": true
   },
   "outputs": [],
   "source": [
    "triple('hi')"
   ]
  },
  {
   "cell_type": "code",
   "execution_count": null,
   "metadata": {
    "collapsed": true
   },
   "outputs": [],
   "source": [
    "#Jude\n",
    "\"\"\"#It takes a string and triples each character and seperates it into a list\"\"\"\n",
    "def myTriple(sequence):\n",
    "    #change some of the following lines, no more than 10 lines please\n",
    "    result = [];\n",
    "    for element in sequence:\n",
    "        result = result + [element*3]\n",
    "    return result\n",
    "\n",
    "myTriple(\"Go\")"
   ]
  },
  {
   "cell_type": "code",
   "execution_count": null,
   "metadata": {
    "collapsed": true
   },
   "outputs": [],
   "source": [
    "myTriple(\"Laddie\")"
   ]
  },
  {
   "cell_type": "code",
   "execution_count": null,
   "metadata": {
    "collapsed": true
   },
   "outputs": [],
   "source": [
    "#rey\n",
    "\"\"\"it multiplies the elements and adds another element that is multiplied by 2.\"\"\"\n",
    "def reysNOTdouble(bigboylist):\n",
    "    result = [];\n",
    "    for influence in bigboylist:\n",
    "         result = result + [influence * influence + (influence*2)]\n",
    "    return result\n",
    "\n",
    "x = [1,2,3,4,5]\n",
    "reysNOTdouble(x)"
   ]
  },
  {
   "cell_type": "code",
   "execution_count": null,
   "metadata": {
    "collapsed": true
   },
   "outputs": [],
   "source": [
    "x = [23,48]\n",
    "reysNOTdouble(x)"
   ]
  },
  {
   "cell_type": "code",
   "execution_count": null,
   "metadata": {
    "collapsed": true
   },
   "outputs": [],
   "source": [
    "def ryansNOTdouble (ryanslist):\n",
    "    answer = [];\n",
    "    for thing2 in ryanslist:\n",
    "        answer = answer + [(thing2 *6)/2]\n",
    "    return answer\n",
    "ryansNOTdouble(x)"
   ]
  },
  {
   "cell_type": "code",
   "execution_count": null,
   "metadata": {
    "collapsed": true
   },
   "outputs": [],
   "source": [
    "def alexisNOTdouble (alexislist):\n",
    "    answer = [];\n",
    "    for thing3 in alexislist:\n",
    "        answer = answer + [thing3/2]\n",
    "    return answer\n",
    "\n",
    "alexisNOTdouble(x)"
   ]
  },
  {
   "cell_type": "code",
   "execution_count": null,
   "metadata": {
    "collapsed": true
   },
   "outputs": [],
   "source": [
    "reysNOTdouble(  alexisNOTdouble( ryansNOTdouble(x)  )  )"
   ]
  },
  {
   "cell_type": "code",
   "execution_count": null,
   "metadata": {
    "collapsed": true
   },
   "outputs": [],
   "source": [
    "(reysNOTdouble(x)+alexisNOTdouble(x)+ryansNOTdouble(x))*2"
   ]
  },
  {
   "cell_type": "code",
   "execution_count": null,
   "metadata": {
    "collapsed": true
   },
   "outputs": [],
   "source": [
    "#Chance\\\n",
    "\"\"\"It takes each element in the entered list and multiplies it by 2, \n",
    "then adds the element multiplied by 3 + 5\"\"\"\n",
    "\n",
    "def mydouble(sequence):\n",
    "    #change some of the following lines, no more than 10 lines please\n",
    "    result = [];\n",
    "    for element in sequence:\n",
    "        result = result + [element*2 + (element*3 + 5)]\n",
    "    return result\n",
    "\n",
    "mydouble([1,2,3,4])"
   ]
  },
  {
   "cell_type": "code",
   "execution_count": null,
   "metadata": {
    "collapsed": true
   },
   "outputs": [],
   "source": [
    "def samsequence(sequence):\n",
    "    result = [];\n",
    "    for element in sequence:\n",
    "        result = result + [(element*3 - 4)/2.0]\n",
    "    return result"
   ]
  },
  {
   "cell_type": "code",
   "execution_count": null,
   "metadata": {
    "collapsed": true
   },
   "outputs": [],
   "source": [
    "samsequence(mydouble([1,2,3]))"
   ]
  },
  {
   "cell_type": "code",
   "execution_count": null,
   "metadata": {
    "collapsed": true
   },
   "outputs": [],
   "source": [
    "#RyanL\n",
    "def triple(inputthinggy):\n",
    "    #change some of the following lines, no more than 10 lines please\n",
    "    thefinalthing = [];\n",
    "    for thing in inputthinggy:\n",
    "        thefinalthing = thefinalthing + [thing*3]\n",
    "    return thefinalthing\n",
    "triple([\"hey\"])"
   ]
  },
  {
   "cell_type": "code",
   "execution_count": null,
   "metadata": {
    "collapsed": true
   },
   "outputs": [],
   "source": [
    "\"\"\"#My function multiples the second element on in the secequence by 10\"\"\"\n",
    "def vividouble(sequence):\n",
    "    #change some of the following lines, no more than 10 lines please\n",
    "    result = [];\n",
    "    for element in sequence [1:]:\n",
    "        result = result + [element*10]\n",
    "    return result\n",
    "\n",
    "vividouble(range(5))"
   ]
  },
  {
   "cell_type": "code",
   "execution_count": null,
   "metadata": {
    "collapsed": true
   },
   "outputs": [],
   "source": [
    "vividouble(\"Morgan\")"
   ]
  },
  {
   "cell_type": "code",
   "execution_count": null,
   "metadata": {
    "collapsed": true
   },
   "outputs": [],
   "source": [
    "#Natalie\n",
    "def TheOleDouble(sequence):\n",
    "    result = [];\n",
    "    for element in sequence:\n",
    "        result = result + [element*3]\n",
    "    return result"
   ]
  },
  {
   "cell_type": "code",
   "execution_count": null,
   "metadata": {
    "collapsed": true
   },
   "outputs": [],
   "source": [
    "def mytriple(sequence):  #note tabs don't compile\n",
    "    result = [];\n",
    "    for element in sequence:\n",
    "        result = result + [element*3]\n",
    "    return result"
   ]
  },
  {
   "cell_type": "code",
   "execution_count": null,
   "metadata": {
    "collapsed": true
   },
   "outputs": [],
   "source": [
    "TheOleDouble(mytriple)('hi')  #note syntax"
   ]
  },
  {
   "cell_type": "code",
   "execution_count": null,
   "metadata": {
    "collapsed": true
   },
   "outputs": [],
   "source": []
  },
  {
   "cell_type": "code",
   "execution_count": null,
   "metadata": {
    "collapsed": true
   },
   "outputs": [],
   "source": []
  },
  {
   "cell_type": "code",
   "execution_count": 20,
   "metadata": {
    "collapsed": true
   },
   "outputs": [],
   "source": [
    "### Define a fantasy function\n",
    "###Create a function you would like to see. Make sure to use meaningful function names, arguments, and \n",
    "from random import choice\n",
    "fantasyOps = ['Orc ', 'Man ', 'Elf ', 'Dwarf ', 'God ']\n",
    "def benFantasy(inputName):\n",
    "    result = \"\"\n",
    "    result +=\"You are a \"\n",
    "    if \"j\" in inputName:\n",
    "        result +=\"horrifying \"\n",
    "    else:\n",
    "        result +=\"not-too-ugly \"\n",
    "    if \"q\" in inputName:\n",
    "        result +='rawk\\'n\\'rollin '\n",
    "    else:\n",
    "        result = result\n",
    "    species = choice(fantasyOps)\n",
    "    result += species\n",
    "    result += \"named \"\n",
    "    result += inputName\n",
    "    return result\n",
    "    \n",
    "        "
   ]
  },
  {
   "cell_type": "code",
   "execution_count": 21,
   "metadata": {},
   "outputs": [
    {
     "data": {
      "text/plain": [
       "'You are a not-too-ugly Orc named Ben'"
      ]
     },
     "execution_count": 21,
     "metadata": {},
     "output_type": "execute_result"
    }
   ],
   "source": [
    "benFantasy('Ben')"
   ]
  },
  {
   "cell_type": "code",
   "execution_count": 9,
   "metadata": {
    "collapsed": true
   },
   "outputs": [],
   "source": [
    "def positives(sequence):\n",
    "    count = 0\n",
    "    for num in sequence:\n",
    "        if num > 0:\n",
    "            count = count + 1\n",
    "    return count"
   ]
  },
  {
   "cell_type": "code",
   "execution_count": 11,
   "metadata": {
    "collapsed": true
   },
   "outputs": [],
   "source": [
    "def pluses(sequence):\n",
    "    count = 0\n",
    "    for num in sequence:\n",
    "        if num > 0:\n",
    "            count = count + num\n",
    "    return count"
   ]
  },
  {
   "cell_type": "code",
   "execution_count": 10,
   "metadata": {},
   "outputs": [
    {
     "data": {
      "text/plain": [
       "3"
      ]
     },
     "execution_count": 10,
     "metadata": {},
     "output_type": "execute_result"
    }
   ],
   "source": [
    "positives([0,-1,3,2,1])"
   ]
  },
  {
   "cell_type": "code",
   "execution_count": 12,
   "metadata": {},
   "outputs": [
    {
     "data": {
      "text/plain": [
       "6"
      ]
     },
     "execution_count": 12,
     "metadata": {},
     "output_type": "execute_result"
    }
   ],
   "source": [
    "pluses([0,-1,3,2,1])"
   ]
  },
  {
   "cell_type": "code",
   "execution_count": null,
   "metadata": {
    "collapsed": true
   },
   "outputs": [],
   "source": [
    "def plusesByBen(sequence):\n",
    "    count = 0\n",
    "    for num in sequence:\n",
    "        if num > 0:\n",
    "            count = count + num\n",
    "        else\n",
    "            count = count * count\n",
    "    return count\n",
    "    return \"Is that what you wanted, sir?\""
   ]
  }
 ],
 "metadata": {
  "kernelspec": {
   "display_name": "Python 2",
   "language": "python",
   "name": "python2"
  },
  "language_info": {
   "codemirror_mode": {
    "name": "ipython",
    "version": 2
   },
   "file_extension": ".py",
   "mimetype": "text/x-python",
   "name": "python",
   "nbconvert_exporter": "python",
   "pygments_lexer": "ipython2",
   "version": "2.7.13"
  }
 },
 "nbformat": 4,
 "nbformat_minor": 2
}
