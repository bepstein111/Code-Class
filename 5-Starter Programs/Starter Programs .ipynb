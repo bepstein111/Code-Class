{
 "cells": [
  {
   "cell_type": "markdown",
   "metadata": {},
   "source": [
    "Please run the following cells (by pressing Shift+Enter) and read about the pedagogical, social, and historical context behind programs for beginning coders. Most of this text is copied from Chapter 5 of Montfort's book <I> Exploratory Programming for The Arts and Humanities</I>, except where its  quoted as coming from other sources."
   ]
  },
  {
   "cell_type": "markdown",
   "metadata": {},
   "source": [
    "# Hello World (1972)\n",
    "Making the computer “speak,” and say hello, is often the first task done when learning to program in an imperative programming language. The “Hello World” program, on some levels, frames the computer as obedient, autonomous, and able to communicate verbally, albeit in a very simple way. It is a simple program to show that a programming environment has been set up and running properly. \n",
    "\n",
    "### Background\n",
    "The line is a reference to Miranda’s exclamation “O brave new world” in <i>The Tempest</i>. While “Hello World” (with or without a comma or exclamation point, capitalized variously) is the most famous first text to have the computer display, alternate traditions have arisen.\n",
    "\n",
    "At the Stanford Artificial Intelligence Lab (SAIL), a different text was some- times substituted: “Hello Sailor.” While helping to establish a distinct body of Stanford computing lore and customs, this was also a loaded phrase, evoking a sexual proposition that was often thought to be used by prostitutes soliciting nautical customers. It may also suggest a sexual solicitation by someone, male or female, who is not a prostitute. \n",
    "\n",
    "If “Hello World” suggests the wonder of Miranda, finally in contact with the amazing wide and inhabited environment, “Hello, Sailor” suggests a very different, jaded perspective—and perhaps a campy one. The phrase is well-known enough to have been in used as a book title more than once, in the 1997 book “Hello, Sailor”: Changing Perspectives of Japanese Prostitution: A Historical Analysis and the 2003 book Hello Sailor!: The Hidden History of Gay Life at Sea. -p84, Montfort"
   ]
  },
  {
   "cell_type": "code",
   "execution_count": 1,
   "metadata": {},
   "outputs": [
    {
     "name": "stdout",
     "output_type": "stream",
     "text": [
      "hello world\n"
     ]
    }
   ],
   "source": [
    "print 'hello world'"
   ]
  },
  {
   "cell_type": "markdown",
   "metadata": {
    "collapsed": true
   },
   "source": [
    "<b>Environment & Command Line:</b>\n",
    "\n",
    "You can set the code to run from the command line (or shell), a a standalone program.\n",
    "1. Go to your terminal (cmd.exe on Windows, or Mac's Terminal program)\n",
    "2. At the prompt, cd to change to the directory you are working in\n",
    "(To find your directory in jupyter, you can type %cd and copy the string into the command prompt)\n",
    "3.Save the above code into a new file\n",
    "4. name it \"hi.py\"\n",
    "5. type 'python hi.py'\n",
    "The shell should run the line in your hi.py file, print out 'hello world' and exit."
   ]
  },
  {
   "cell_type": "markdown",
   "metadata": {},
   "source": [
    "<b>Make it a standalone program asks the user for input.</b>\n",
    "1. Erase your hi.py\n",
    "2. Copy the above function into it.\n",
    "3. Save the file.\n",
    "4. Run the program by typing:  python run.py\n",
    "5. You should see the input prompt \"Enter your name: \"\n",
    "6. A message is printed that says hello to you."
   ]
  },
  {
   "cell_type": "markdown",
   "metadata": {},
   "source": [
    "Now try replacing “Hello World” with a different text.  Now, we'll bundle the command into a function:"
   ]
  },
  {
   "cell_type": "code",
   "execution_count": 2,
   "metadata": {},
   "outputs": [
    {
     "name": "stdout",
     "output_type": "stream",
     "text": [
      "Enter your name: Ben Epstein\n",
      "Hello Ben Epstein\n"
     ]
    }
   ],
   "source": [
    "def HelloWorld():\n",
    "    hello = raw_input(\"Enter your name: \")  \n",
    "    print \"Hello \"+hello\n",
    "    \n",
    "HelloWorld()"
   ]
  },
  {
   "cell_type": "code",
   "execution_count": 3,
   "metadata": {},
   "outputs": [
    {
     "name": "stdout",
     "output_type": "stream",
     "text": [
      "What's yr name, friend?Ben\n",
      "Waddup Ben\n"
     ]
    }
   ],
   "source": [
    "def starter1():\n",
    "    start = raw_input(\"What's yr name, friend?\")  \n",
    "    print \"Waddup \"+start\n",
    "    \n",
    "starter1()"
   ]
  },
  {
   "cell_type": "markdown",
   "metadata": {},
   "source": [
    "<b>Question 1 Customize this hello world() further!</b><p>\n",
    "Go on to customize it again in a more programmaticaly interesting way. One that doesn’t just involve exchanging one string for another, but which also involves some additional, different sort of computation. \n",
    "\n",
    "For instance, there was a 1994 Saturday Night Live skit, “Total B*st#rd Airlines,” that presented the scene of passengers exiting an airplane. As the passengers left, members of the flight crew repeatedly said “Buh-bye!” The actors playing passengers ran around the set, getting on the plane again and exiting the plane again, so that the flight crew was standing there and saying, apparently without end, “Buh-bye.” To get a program to infinitely say “Buh-bye,” it is necessary to do something computationally different than is seen in “Hello World.” Perhaps add a __conditional, iteration, or add a return value__. It’s not enough to just exchange one string for another. The eternal “Buh-bye” program, with a justification for why it is a valuable introduction to computing, would be one legitimate solution."
   ]
  },
  {
   "cell_type": "code",
   "execution_count": 90,
   "metadata": {},
   "outputs": [
    {
     "data": {
      "text/plain": [
       "\"(((((((((((((((((((((((((((((('Shame!', 'Shame!'), 'Shame!'), 'Shame!'), 'Shame!'), 'Shame!'), 'Shame!'), 'Shame!'), 'Shame!'), 'Shame!'), 'Shame!'), 'Shame!'), 'Shame!'), 'Shame!'), 'Shame!'), 'Shame!'), 'Shame!'), 'Shame!'), 'Shame!'), 'Shame!'), 'Shame!'), 'Shame!'), 'Shame!'), 'Shame!'), 'Shame!'), 'Shame!'), 'Shame!'), 'Shame!'), 'Shame!'), 'Shame!'), 'Shame!')\""
      ]
     },
     "execution_count": 90,
     "metadata": {},
     "output_type": "execute_result"
    }
   ],
   "source": [
    "def cersei(n):\n",
    "    text = \"Shame!\"\n",
    "    howmany = range(1,n+1)\n",
    "    for i in howmany:\n",
    "        text = text,\"Shame!\"\n",
    "    return str(text)\n",
    "    \n",
    "    \n",
    "cersei(30)"
   ]
  },
  {
   "cell_type": "code",
   "execution_count": null,
   "metadata": {},
   "outputs": [],
   "source": []
  },
  {
   "cell_type": "markdown",
   "metadata": {},
   "source": [
    "# Double Double\n",
    "“Double, Double” is a reference to the weird sisters in <i>Macbeth</i>. “Double, Double” also indicates a coffee with two sugars and two creams at Tim Hortons (a Canadian fast food chain). The function displays twice the value of every element of a  list.  \n",
    "\n",
    "This function demonstrates the fundamentals of computation in a myriad of ways. First, it is an example of the accumulator recipe where a value is initialized and changes as computation is performed for every item in the sequence. Second, it demonstrates how an iterator works. The function is polymorphic, and can be used on different data types (lists of integer and characters). "
   ]
  },
  {
   "cell_type": "code",
   "execution_count": 20,
   "metadata": {
    "collapsed": true
   },
   "outputs": [],
   "source": [
    "def double(sequence):\n",
    "    text = []\n",
    "    for element in sequence:\n",
    "        text = text + [element * 2]\n",
    "    return text"
   ]
  },
  {
   "cell_type": "code",
   "execution_count": 21,
   "metadata": {},
   "outputs": [
    {
     "data": {
      "text/plain": [
       "[0, 2, 4, 6, 8]"
      ]
     },
     "execution_count": 21,
     "metadata": {},
     "output_type": "execute_result"
    }
   ],
   "source": [
    "double(range(5))"
   ]
  },
  {
   "cell_type": "markdown",
   "metadata": {},
   "source": [
    "__Question 2__ What programming concepts in double() are the most interesting or curious to you?"
   ]
  },
  {
   "cell_type": "code",
   "execution_count": 24,
   "metadata": {},
   "outputs": [
    {
     "data": {
      "text/plain": [
       "'Variable initialization is one aspect I find interesting. Different languages seem to have different requirements about initializing variables, where and how to declare types, and whether to do it at all. For example, we made sure to initialize the text variable, but not element.'"
      ]
     },
     "execution_count": 24,
     "metadata": {},
     "output_type": "execute_result"
    }
   ],
   "source": [
    "\"Variable initialization is one aspect I find interesting. Different languages seem to have different requirements about initializing variables, where and how to declare types, and whether to do it at all. For example, we made sure to initialize the text variable, but not element.\""
   ]
  },
  {
   "cell_type": "code",
   "execution_count": null,
   "metadata": {
    "collapsed": true
   },
   "outputs": [],
   "source": []
  },
  {
   "cell_type": "markdown",
   "metadata": {},
   "source": [
    "# Temperature Conversion\n",
    "Converting between Fahrenheit and Celsius is often the first mathematical function implemented by new programmers. A conversion program demonstrates how compu- tation is general—how it can work on arbitrary values. But this is also a very practical program, for an important reason: measurement systems are culturally situated and, when people encounter a temperature display or a fixed value from particular different culture, it is necessary to convert from one scale to another.\n",
    "The United States and a very few other places still use the Fahrenheit scale. "
   ]
  },
  {
   "cell_type": "markdown",
   "metadata": {},
   "source": [
    "### Background\n",
    "The Celsius measurement system, devised by astronomer Anders Celsius, seems to be particularly well-calibrated in a culturally neutral way. The scale was set (until the middle of the twentieth century) so that 0 is the freezing point of water and 100 is the boiling point. Water freezes and boils at different altitudes and pressures, so sea level and mean barometric pressure was specified. This scale was first formulated in 1742.\n",
    "\n",
    "The older Fahrenheit scale, is also calibrated with regard to the natural world, but somewhat differently. Daniel Gabriel Fahrenheit, the inventor of the glass-contained mercury thermometer, devised this temperature scale based on the human body. In 1724, he determined that 0 would be set to the temperature which was thought, at the time, to be the coldest possible— the freezing point of brine (a mixture of equal parts ice, water, and ammonium chloride). The 32-degree point was the freezing point of water (measured by the same process, just without the ammonium chloride), and the 96-degree point was set at the temperature of a healthy human body, or “blood-heat.” The scale was later recalibrated, but this seems to be how it was set up initially. \n",
    "\n",
    "Although we might consider a scale running from 0 to 100 as more obviously useful today, the 64 points between 32 degrees Fahrenheit and 96 degrees Fahrenheit were carefully considered in the construction of the scale. Fahrenheit could simply determine the midpoint of that interval, physically marked on glass, and then divide each segment in half again. After six such divisions, he would have all the markings from 32 to 96 made.\n",
    "\n",
    "While Celsius certainly seems to be the more reasonable and well-grounded temperature scale, the Fahrenheit scale has some advantages for everyday use. If a person is wondering what temperature it is outside, it’s usually enough, to know that the Fahrenheit measurement is in the twenties, thirties, forties, fifties, sixties, seventies, eighties, or nineties. A single digit (the first one) captures enough to inform someone about what to wear. \n",
    "\n",
    "In Celsius, that range extends from about -7 to 37, and it’s not very helpful to know only the first digit of the temperature. So, awkwardly calibrated as the Fahrenheit scale is, it arguably is better suited to at least some of our common experiences of temperature, at least in this one way. One could make the argument that it’s on a more human scale, good for distinguishing between temperatures that we usually encounter.\n",
    "\n",
    "The specifics of these temperature scales are somewhat interesting, but perhaps most interesting is that they, like so many measurement systems, do not exist as mathematical abstractions. They are determined by <i>convention, law, and national norms</i>. As soon as we encounter the power of the computer as a pure calculating machine and begin to imagine its rarefied existence apart from matters of mere humanity— we are shown an example of how <b>computation can be used for mediating between the cultural norms of different measurement systems</b>. While we might want to imagine detached, abstract, perfect and pure logic and mathematics, what we have instead is Daniel Gabriel Fahrenheit slapping a thermometer up against a healthy man’s armpit.\n",
    "\n",
    "This code also demonstrates an example of polymorphism. To  explictly ensure that precision arithmetic calculation is performed rather than integer aritmetic, we use a floating point decimal in the function definition.  \n"
   ]
  },
  {
   "cell_type": "markdown",
   "metadata": {},
   "source": [
    "__Question 3a__ There is an error in the code below. Can you make the function more accurate?"
   ]
  },
  {
   "cell_type": "code",
   "execution_count": 28,
   "metadata": {
    "collapsed": true
   },
   "outputs": [],
   "source": [
    "#make this function more accurate\n",
    "def to_f(c):\n",
    "    return (((9/5)*c)+32)"
   ]
  },
  {
   "cell_type": "markdown",
   "metadata": {},
   "source": [
    "The Fahrenheit scale is offset 32 degrees because the freezing point of water is 0 C and 32 F. Between freezing and boiling there are 180 degrees on the Fahrenheit scale (from 32 to 212) and, of course, there are 100 on the Celsius scale. So, to convert, we simply multiply the Celsius temperature by 180/100 and add 32. We can simplify this further: 180/100 is 9/5. \n"
   ]
  },
  {
   "cell_type": "code",
   "execution_count": 29,
   "metadata": {},
   "outputs": [
    {
     "data": {
      "text/plain": [
       "69"
      ]
     },
     "execution_count": 29,
     "metadata": {},
     "output_type": "execute_result"
    }
   ],
   "source": [
    "to_f(37)\n",
    "#that's not right"
   ]
  },
  {
   "cell_type": "code",
   "execution_count": 36,
   "metadata": {},
   "outputs": [
    {
     "data": {
      "text/plain": [
       "98.60000000000001"
      ]
     },
     "execution_count": 36,
     "metadata": {},
     "output_type": "execute_result"
    }
   ],
   "source": [
    "def to_f(c):\n",
    "    return (((9.0/5.0)*c)+32)\n",
    "to_f(37)"
   ]
  },
  {
   "cell_type": "markdown",
   "metadata": {},
   "source": [
    "<b> Question 3b</b>\n",
    "How would you convert to celsius?  Fill out the function template below:"
   ]
  },
  {
   "cell_type": "code",
   "execution_count": 38,
   "metadata": {},
   "outputs": [],
   "source": [
    "def to_c(f):\n",
    "    return ((f-32)/(9.0/5.0))"
   ]
  },
  {
   "cell_type": "code",
   "execution_count": 39,
   "metadata": {},
   "outputs": [
    {
     "data": {
      "text/plain": [
       "36.99999999999999"
      ]
     },
     "execution_count": 39,
     "metadata": {},
     "output_type": "execute_result"
    }
   ],
   "source": [
    "to_c(98.6)"
   ]
  },
  {
   "cell_type": "markdown",
   "metadata": {},
   "source": [
    "<b> Question 3c Confirm your code is correct by chaining. </b>\n",
    "If to_c() works propertly,  you should be able to get your initial temperature back by calling both functions:\n",
    "\n",
    "<pre>\n",
    "to_c(to_f(temperature)\n",
    "</pre>\n",
    "Assign the temperature below and see if your conversion function is working correctly. Remember to use float arithmetic."
   ]
  },
  {
   "cell_type": "code",
   "execution_count": 40,
   "metadata": {},
   "outputs": [
    {
     "data": {
      "text/plain": [
       "37.00000000000001"
      ]
     },
     "execution_count": 40,
     "metadata": {},
     "output_type": "execute_result"
    }
   ],
   "source": [
    "temperature = 37 #put a number to the right of the equal sign\n",
    "to_c(to_f(temperature))"
   ]
  },
  {
   "cell_type": "code",
   "execution_count": 41,
   "metadata": {},
   "outputs": [
    {
     "data": {
      "text/plain": [
       "'Rock and roll'"
      ]
     },
     "execution_count": 41,
     "metadata": {},
     "output_type": "execute_result"
    }
   ],
   "source": [
    "\"Rock and roll\""
   ]
  },
  {
   "cell_type": "markdown",
   "metadata": {},
   "source": [
    "__Question 3d Conversion Experience__ Create a _simple_ function that converts between units of measurement of any sort. They can be culinary units, currency, computational (e.g. gigabyte (10,003 bytes) to gibibyte (10,243 bytes)), fanciful ( human years to dog years), etc. REmember that you can cast a numerical value to string using __str()__ and from string to number using __int()__ functions."
   ]
  },
  {
   "cell_type": "code",
   "execution_count": 43,
   "metadata": {},
   "outputs": [],
   "source": [
    "def to_yrs(min):\n",
    "    return min/525600.0"
   ]
  },
  {
   "cell_type": "code",
   "execution_count": 45,
   "metadata": {},
   "outputs": [
    {
     "data": {
      "text/plain": [
       "1.0"
      ]
     },
     "execution_count": 45,
     "metadata": {},
     "output_type": "execute_result"
    }
   ],
   "source": [
    "min = 525600 #minutes in a year\n",
    "to_yrs(min)"
   ]
  },
  {
   "cell_type": "markdown",
   "metadata": {},
   "source": [
    "### Question 4 Object oriented Temperature\n",
    "The temperature conversion example is a good way to explore object-oriented programming. Below is ane example of how to take the temperature conversion code and make it into a temperature class, or a blueprint for temperature objects.\n",
    "\n",
    "\n",
    "<pre>\n",
    "Classes always have an __init__ method, where the first argument is self.\n",
    "__init__is always called when the class is instantiated (created)\n",
    "\n",
    "</pre> \n",
    "\n",
    "Objects are programming models for building things. By having these classes, we can avoid duplication and reuse code. For example, when you call some common library functions, like __len()__ and __range()__ you are using class methods for those object types that others have written.\n",
    "\n",
    "For more information on objects and how they are used in python, see Programming Fundamentals in the Real World by Barron Stone. Login through http://emerson.lynda.com and then go to https://www.lynda.com/Python-tutorials/Programming-Fundamentals-Real-World/418249-2.html"
   ]
  },
  {
   "cell_type": "code",
   "execution_count": 46,
   "metadata": {
    "collapsed": true
   },
   "outputs": [],
   "source": [
    "#to define a class, just use the keyword class\n",
    "class Temperature(object): \n",
    "\n",
    "    def __init__(self,value):   \n",
    "        #create a property (object variable) called celsius\n",
    "        self._celsius = float(value)   \n",
    "    \n",
    "    #the following two \"methods\" are functions the Temperature object can do\n",
    "    def c(self):\n",
    "        return str(self._celsius)+ ' C'   \n",
    "    def f(self):\n",
    "        return str((self._celsius * 9.0/5.0)+32.0) + ' F'"
   ]
  },
  {
   "cell_type": "code",
   "execution_count": 47,
   "metadata": {
    "collapsed": true
   },
   "outputs": [],
   "source": [
    "boil = Temperature(100)  # make an object called boil that is a temperature object at 100C"
   ]
  },
  {
   "cell_type": "code",
   "execution_count": 48,
   "metadata": {},
   "outputs": [
    {
     "data": {
      "text/plain": [
       "'212.0 F'"
      ]
     },
     "execution_count": 48,
     "metadata": {},
     "output_type": "execute_result"
    }
   ],
   "source": [
    "boil.f()  #convert that to Fahrenheit"
   ]
  },
  {
   "cell_type": "code",
   "execution_count": 49,
   "metadata": {
    "collapsed": true
   },
   "outputs": [],
   "source": [
    "freeze = Temperature(0)  # make an object called boil that is a temperature object at 0C"
   ]
  },
  {
   "cell_type": "code",
   "execution_count": 50,
   "metadata": {},
   "outputs": [
    {
     "data": {
      "text/plain": [
       "'32.0 F'"
      ]
     },
     "execution_count": 50,
     "metadata": {},
     "output_type": "execute_result"
    }
   ],
   "source": [
    "freeze.f()"
   ]
  },
  {
   "cell_type": "code",
   "execution_count": 51,
   "metadata": {},
   "outputs": [
    {
     "data": {
      "text/plain": [
       "'80.6 F'"
      ]
     },
     "execution_count": 51,
     "metadata": {},
     "output_type": "execute_result"
    }
   ],
   "source": [
    "Temperature(27).f() #make a temperature object, convert to F"
   ]
  },
  {
   "cell_type": "code",
   "execution_count": 52,
   "metadata": {},
   "outputs": [
    {
     "ename": "TypeError",
     "evalue": "unsupported operand type(s) for +: 'Temperature' and 'Temperature'",
     "output_type": "error",
     "traceback": [
      "\u001b[1;31m---------------------------------------------------------------------------\u001b[0m",
      "\u001b[1;31mTypeError\u001b[0m                                 Traceback (most recent call last)",
      "\u001b[1;32m<ipython-input-52-7432009b744f>\u001b[0m in \u001b[0;36m<module>\u001b[1;34m()\u001b[0m\n\u001b[1;32m----> 1\u001b[1;33m \u001b[0mboil\u001b[0m \u001b[1;33m+\u001b[0m \u001b[0mfreeze\u001b[0m\u001b[1;33m\u001b[0m\u001b[0m\n\u001b[0m",
      "\u001b[1;31mTypeError\u001b[0m: unsupported operand type(s) for +: 'Temperature' and 'Temperature'"
     ]
    }
   ],
   "source": [
    "boil + freeze"
   ]
  },
  {
   "cell_type": "markdown",
   "metadata": {},
   "source": [
    "__Question 5a.__ Why can't you add two temperatures together?'"
   ]
  },
  {
   "cell_type": "code",
   "execution_count": 53,
   "metadata": {},
   "outputs": [
    {
     "data": {
      "text/plain": [
       "\"Those objects are part of a class that returns strings as output, and you can't add strings together\""
      ]
     },
     "execution_count": 53,
     "metadata": {},
     "output_type": "execute_result"
    }
   ],
   "source": [
    "\"Those objects are part of a class that returns strings as output, and you can't add strings together\""
   ]
  },
  {
   "cell_type": "code",
   "execution_count": null,
   "metadata": {
    "collapsed": true
   },
   "outputs": [],
   "source": []
  },
  {
   "cell_type": "markdown",
   "metadata": {},
   "source": [
    "#  Classifier programs\n",
    "\n",
    "Understanding how computers model human society is integral to any study of computer science. \n",
    "Computers are increasingly used to classify humans and activity, for example, in driver license and immigration applications.  These programs are often used as examples to demonstrate conditional branches (if/elif/else). \n",
    "\n",
    "Human laws, a system of rules to defined by society, is often modeled by computers. At login prompts, one types in passwords to ask permission for access. The yesno and secret functions allude to this power that computers have to enforce human behavior.  The problem, as we'll see at the end of this section, is that humans are not as easy to generalize as other entities, like mathematics or scientific principles.  \n",
    "\n",
    "These functions may not seem very similar to the temperature conversion function, but they are performing a type of conversion. At least, it’s possible to think of these function as doing conversions. They map input strings to output strings.  Similarly, the sign function changes numbers into signs, mapping between data types (numbers and test).  Pregnancy tests, HIV tests, and \n"
   ]
  },
  {
   "cell_type": "code",
   "execution_count": 54,
   "metadata": {
    "collapsed": true
   },
   "outputs": [],
   "source": [
    "def yesno(word):\n",
    "    if word == 'yes':\n",
    "        return True\n",
    "    return False"
   ]
  },
  {
   "cell_type": "code",
   "execution_count": 55,
   "metadata": {},
   "outputs": [
    {
     "data": {
      "text/plain": [
       "True"
      ]
     },
     "execution_count": 55,
     "metadata": {},
     "output_type": "execute_result"
    }
   ],
   "source": [
    "yesno('yes')"
   ]
  },
  {
   "cell_type": "code",
   "execution_count": 56,
   "metadata": {
    "collapsed": true
   },
   "outputs": [],
   "source": [
    "def secret(word):\n",
    "    if word=='please':\n",
    "        return 'Yes!'\n",
    "    else:\n",
    "        return 'No.'"
   ]
  },
  {
   "cell_type": "code",
   "execution_count": 57,
   "metadata": {},
   "outputs": [
    {
     "data": {
      "text/plain": [
       "'Yes!'"
      ]
     },
     "execution_count": 57,
     "metadata": {},
     "output_type": "execute_result"
    }
   ],
   "source": [
    "secret(\"please\")"
   ]
  },
  {
   "cell_type": "code",
   "execution_count": 58,
   "metadata": {},
   "outputs": [
    {
     "data": {
      "text/plain": [
       "'No.'"
      ]
     },
     "execution_count": 58,
     "metadata": {},
     "output_type": "execute_result"
    }
   ],
   "source": [
    "secret('forgot')"
   ]
  },
  {
   "cell_type": "code",
   "execution_count": 59,
   "metadata": {
    "collapsed": true
   },
   "outputs": [],
   "source": [
    "def sign(num):\n",
    "    answer ='?'\n",
    "    if num > 0:\n",
    "        answer = '+'\n",
    "    elif num < 0:\n",
    "        answer = '-'\n",
    "    else:\n",
    "        answer = ''\n",
    "    return answer"
   ]
  },
  {
   "cell_type": "code",
   "execution_count": 60,
   "metadata": {},
   "outputs": [
    {
     "data": {
      "text/plain": [
       "'-'"
      ]
     },
     "execution_count": 60,
     "metadata": {},
     "output_type": "execute_result"
    }
   ],
   "source": [
    "sign(-1)"
   ]
  },
  {
   "cell_type": "markdown",
   "metadata": {},
   "source": [
    "Now consider another function, gender, that takes a string as its argument. This function determines what gender a particular name signifies, based on the naming system used in the land of Binaria. In this country, which uses the Latin alphabet, all boys are given names ending in ‘o’ and all girls are given names ending in ‘a’—and of course, only two genders are possible in this land of twofold determinations."
   ]
  },
  {
   "cell_type": "code",
   "execution_count": 61,
   "metadata": {},
   "outputs": [
    {
     "data": {
      "text/plain": [
       "'male'"
      ]
     },
     "execution_count": 61,
     "metadata": {},
     "output_type": "execute_result"
    }
   ],
   "source": [
    "def gender(name):\n",
    "    if name[-1]  == 'a':\n",
    "        return  'female'\n",
    "    if name[-1]  == 'o':\n",
    "        return  'male'\n",
    "\n",
    "gender('Apollo')"
   ]
  },
  {
   "cell_type": "markdown",
   "metadata": {},
   "source": [
    "If you try this function out on “Francisco,” “Clara,” “Gonzalo,” “Ola,” “Roberto,” and “Vanessa,” you may be perfectly satisfied with it. But perhaps Binaria has some immigration, and because of that, a list of Binarian names may at times contain some names that do not end in “a” or “o,” as all native names do. For instance, let’s say that I moved to Binaria and somehow avoided having my first name changed to “Nicko” at the immigration screening station. If you try gender('Nick') you’ll see that the function, with this argument, returns nothing at all. This could cause problems for me if I need to use the bathroom. While this might be a joke when it’s part of a contrived example like this, <b>people do concretely suffer from binary classifications all the time. Understanding how computer programs categorize, and how to build more sensitive systems for categorization, has positive social potential.</b>"
   ]
  },
  {
   "cell_type": "code",
   "execution_count": 62,
   "metadata": {
    "collapsed": true
   },
   "outputs": [],
   "source": [
    "gender('Nick')  #Nothing is returned"
   ]
  },
  {
   "cell_type": "markdown",
   "metadata": {},
   "source": [
    "Here's another versionof the function, similar in structure to sign() that is improved to consider alternate genders."
   ]
  },
  {
   "cell_type": "code",
   "execution_count": 63,
   "metadata": {},
   "outputs": [
    {
     "data": {
      "text/plain": [
       "'male'"
      ]
     },
     "execution_count": 63,
     "metadata": {},
     "output_type": "execute_result"
    }
   ],
   "source": [
    "def gender(name):\n",
    "    indicated = '?'\n",
    "    if name[-1]  == 'a':\n",
    "        indicated = 'female'\n",
    "    if name[-1]  == 'o':\n",
    "        indicated = 'male'\n",
    "    return indicated\n",
    "\n",
    "gender('Apollo')"
   ]
  },
  {
   "cell_type": "markdown",
   "metadata": {},
   "source": [
    "At the cost of just a few additional characters, this function is a bit more honest about what it is doing. If any string is passed in that doesn’t end in an ‘o’ or an ‘a’, the func- tion now returns a question mark to indicate that it cannot determine the gender of the name using its rule system.\n",
    "There’s also a new variable in this longer function, one named indicated This is hardly a clear and well-commented function—it doesn’t actually have any comments at all—but thanks to this variable and its name, there is at least more of a clue that the function is figuring out the gender indicated by the name. This may not be the same as the gender actually assigned to an individual by society, or the gender an individual might choose in terms of self-presentation.\n",
    "\n",
    "The way society defines gender, including our stereotypes and laws related to it and constructing gendered subjects in our society, is a serious issue."
   ]
  },
  {
   "cell_type": "markdown",
   "metadata": {},
   "source": [
    "__Question 4__  How might you redesign a computational model for gender classification?\n"
   ]
  },
  {
   "cell_type": "code",
   "execution_count": 64,
   "metadata": {},
   "outputs": [
    {
     "name": "stdout",
     "output_type": "stream",
     "text": [
      "What is your gender?Gender Fluid\n"
     ]
    },
    {
     "data": {
      "text/plain": [
       "'Gender Fluid'"
      ]
     },
     "execution_count": 64,
     "metadata": {},
     "output_type": "execute_result"
    }
   ],
   "source": [
    "#Use if, elif, else statements exhaustively and as last resort, ask user for guidance \n",
    "def gender(name):\n",
    "    if name[-1]  == 'a':\n",
    "        return  'female'\n",
    "    elif name[-1]  == 'o':\n",
    "        return  'male'\n",
    "    else:\n",
    "        temp = raw_input(\"What is your gender?\")\n",
    "        return temp\n",
    "\n",
    "gender('Apollof')"
   ]
  },
  {
   "cell_type": "markdown",
   "metadata": {},
   "source": [
    "# Factorial"
   ]
  },
  {
   "cell_type": "markdown",
   "metadata": {},
   "source": [
    "Computing the factorial is a reasonably common thing to do early on in various programming languages. \n",
    "The factorial of a number n, written <b>n!</b>, describes how many ways n item can be arranged in a sequence. In other words, <b>n!</b> is the number of permutations of n. For instance, <b>1!</b> is the number of ways that a single item can be arranged—only one way, of course, so <b>1!</b> is 1. Next, <b>2!</b> is how many ways two items can be arranged: they can be set up as 12 or 21, two different ways. For <b>3!</b>, we can pick any of the three items for the first spot, either of the two remaining items for the second spot, and then we don’t really have a choice for the third spot, which will have to hold the one remaining item. So <b>3!</b> is 3 × 2 × 1 = 6.\n",
    "\n",
    "<b>Background</b>\n",
    "\"In his book on The Art of Computer Progamming, Donald Knuth points to an example of the factorial (in particular 8!) in the Hebrew book of creation.\n",
    "The first use of a multiplication of long strings of successive digits for a specific problem may have been by Euler in solving the questions of derangements. \"The Game of Recontre (coincidence), also called the game of treize (thirteen), involves shuffling 13 numbered cards, then dealing them one at a time, counting aloud to 13. If the nth card is dealt when the player says the number 'n,' the dealer wins (this is known in combinatorics as a derangement of 13 objects.). Euler calculated the probability that the dealer will win.\"\n",
    "\n",
    "The name factorial and its representation by a ! sign is French. \"David Wells tells the following story: \"Augustus de Morgan ... was most upset when the \" ! \" made its way to England. He wrote:'Among the worst of barbarisms is that of introducing symbols which are quite new in mathematical, but perfectly understood in common, language. Writers have borrowed from the Germans the abbreviation n! ... which gives their pages the appearance of expressing admiration that 2, 3, 4, etc should be found in mathematical results.'\"  http://pballew.blogspot.com/2014/01/notes-on-history-of-factorial.html"
   ]
  },
  {
   "cell_type": "code",
   "execution_count": 65,
   "metadata": {
    "collapsed": true
   },
   "outputs": [],
   "source": [
    "def factorial(n):\n",
    "    answer = 1\n",
    "    for num in range(1,n+1):\n",
    "        answer = answer * num\n",
    "    return answer\n",
    "        "
   ]
  },
  {
   "cell_type": "markdown",
   "metadata": {},
   "source": [
    "__Q6 Factorial modification. __ Try out the factorial function below a few times. Modify the factorial function to output the number being multiplied at each step in the iteration by adding a print statement."
   ]
  },
  {
   "cell_type": "code",
   "execution_count": 66,
   "metadata": {},
   "outputs": [
    {
     "data": {
      "text/plain": [
       "120"
      ]
     },
     "execution_count": 66,
     "metadata": {},
     "output_type": "execute_result"
    }
   ],
   "source": [
    "factorial(5)"
   ]
  },
  {
   "cell_type": "code",
   "execution_count": 67,
   "metadata": {},
   "outputs": [
    {
     "data": {
      "text/plain": [
       "120"
      ]
     },
     "execution_count": 67,
     "metadata": {},
     "output_type": "execute_result"
    }
   ],
   "source": [
    "5*4*3*2*1  #checking it works"
   ]
  },
  {
   "cell_type": "code",
   "execution_count": 68,
   "metadata": {},
   "outputs": [
    {
     "data": {
      "text/plain": [
       "1"
      ]
     },
     "execution_count": 68,
     "metadata": {},
     "output_type": "execute_result"
    }
   ],
   "source": [
    "factorial(0)  #only one way to have zero arranged"
   ]
  },
  {
   "cell_type": "code",
   "execution_count": 69,
   "metadata": {},
   "outputs": [
    {
     "data": {
      "text/plain": [
       "1"
      ]
     },
     "execution_count": 69,
     "metadata": {},
     "output_type": "execute_result"
    }
   ],
   "source": [
    "factorial(-1)"
   ]
  },
  {
   "cell_type": "code",
   "execution_count": null,
   "metadata": {
    "collapsed": true
   },
   "outputs": [],
   "source": []
  },
  {
   "cell_type": "markdown",
   "metadata": {
    "collapsed": true
   },
   "source": [
    "__Q Bonus challenge question:__ In programming languages like Haskell and Lisp, it is more common to define factorial using recursion (referring to itself). Can you think of a way to do this?"
   ]
  },
  {
   "cell_type": "code",
   "execution_count": null,
   "metadata": {
    "collapsed": true
   },
   "outputs": [],
   "source": []
  },
  {
   "cell_type": "markdown",
   "metadata": {
    "collapsed": true
   },
   "source": [
    "### Homework Question 1 Create your own \"starter program\" of similar simplicity to the ones described above. \n",
    "The program you create should do one simple thing. In a short paragraph, you should justify why this program is good for an initial introduction to programming and computation. Make sure that the program is computationally different from the ones seen above. It is not enough to just change strings in __hello_world()__, Remember, its a program for beginners, so not too elaborate. Just write a simple new program that can be justified as a good introduction to programming that does something computationally different from the programs introduced so far."
   ]
  },
  {
   "cell_type": "code",
   "execution_count": null,
   "metadata": {
    "collapsed": true
   },
   "outputs": [],
   "source": [
    "def starterBen():\n",
    "    exresult = input(\"What result are you expecting?\")\n",
    "    testeq = input(\"Enter the equation:\")\n",
    "    if exresult == testeq:\n",
    "        return \"All good\"\n",
    "    else:\n",
    "        return \"Something went wrong\"\n",
    "\n",
    "starterBen()"
   ]
  },
  {
   "cell_type": "markdown",
   "metadata": {},
   "source": [
    "__Homework Question 2__: Provide your rationale for your \"starter program.\" How does it compare to the ones introduced so far?"
   ]
  },
  {
   "cell_type": "code",
   "execution_count": 94,
   "metadata": {},
   "outputs": [
    {
     "data": {
      "text/plain": [
       "'This starter function is intended to be a second, third, or fourth step after \"Hello, World\". In addition to testing the computation ability of the environment, it is useful for learning the differences between floats and integers and the uses of if, else statements, as well as providing an introduction to user input.'"
      ]
     },
     "execution_count": 94,
     "metadata": {},
     "output_type": "execute_result"
    }
   ],
   "source": [
    "\"This starter function is intended to be a second, third, or fourth step after \\\"Hello, World\\\". In addition to testing the computation ability of the environment, it is useful for learning the differences between floats and integers and the uses of if, else statements, as well as providing an introduction to user input.\""
   ]
  },
  {
   "cell_type": "code",
   "execution_count": null,
   "metadata": {
    "collapsed": true
   },
   "outputs": [],
   "source": []
  }
 ],
 "metadata": {
  "kernelspec": {
   "display_name": "Python 2",
   "language": "python",
   "name": "python2"
  },
  "language_info": {
   "codemirror_mode": {
    "name": "ipython",
    "version": 2
   },
   "file_extension": ".py",
   "mimetype": "text/x-python",
   "name": "python",
   "nbconvert_exporter": "python",
   "pygments_lexer": "ipython2",
   "version": "2.7.13"
  }
 },
 "nbformat": 4,
 "nbformat_minor": 1
}
