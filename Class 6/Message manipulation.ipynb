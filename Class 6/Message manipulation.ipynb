{
 "cells": [
  {
   "cell_type": "markdown",
   "metadata": {},
   "source": [
    "Helpful resources:\n",
    "http://www.pythonforbeginners.com/basics/string-manipulation-in-python\n"
   ]
  },
  {
   "cell_type": "code",
   "execution_count": 1,
   "metadata": {
    "collapsed": true
   },
   "outputs": [],
   "source": [
    "def message1(text):\n",
    "    listofstrings = text.split()\n",
    "    result = \"\"\n",
    "    for element in listofstrings:\n",
    "        result = result + element[-1]+element[:-1] + \" \"\n",
    "    return result[:-1]\n"
   ]
  },
  {
   "cell_type": "code",
   "execution_count": 2,
   "metadata": {},
   "outputs": [
    {
     "data": {
      "text/plain": [
       "'ohell dworl'"
      ]
     },
     "execution_count": 2,
     "metadata": {},
     "output_type": "execute_result"
    }
   ],
   "source": [
    "message1(\"hello world\")"
   ]
  },
  {
   "cell_type": "code",
   "execution_count": 3,
   "metadata": {
    "collapsed": true
   },
   "outputs": [],
   "source": [
    "def unmessage(text):\n",
    "    listofstrings = text.split()\n",
    "    result = \"\"\n",
    "    for element in listofstrings:\n",
    "        result = result + element[1:]+element[0] + \" \"\n",
    "    return result[:-1]"
   ]
  },
  {
   "cell_type": "code",
   "execution_count": 4,
   "metadata": {},
   "outputs": [
    {
     "data": {
      "text/plain": [
       "'hello world'"
      ]
     },
     "execution_count": 4,
     "metadata": {},
     "output_type": "execute_result"
    }
   ],
   "source": [
    "unmessage('ohell dworl')"
   ]
  },
  {
   "cell_type": "code",
   "execution_count": 5,
   "metadata": {},
   "outputs": [
    {
     "data": {
      "text/plain": [
       "'man I like feel chicken tonight'"
      ]
     },
     "execution_count": 5,
     "metadata": {},
     "output_type": "execute_result"
    }
   ],
   "source": [
    "unmessage('nma I  elik lfee nchicke ttonigh')"
   ]
  },
  {
   "cell_type": "code",
   "execution_count": 6,
   "metadata": {},
   "outputs": [
    {
     "data": {
      "text/plain": [
       "'how do you do?'"
      ]
     },
     "execution_count": 6,
     "metadata": {},
     "output_type": "execute_result"
    }
   ],
   "source": [
    "message1(unmessage(\"how do you do?\"))"
   ]
  },
  {
   "cell_type": "code",
   "execution_count": 7,
   "metadata": {
    "collapsed": true
   },
   "outputs": [],
   "source": [
    "def reverse_word_order(text):\n",
    "    listofstrings = text.split()\n",
    "    result = listofstrings[::-1]\n",
    "    return \" \".join(result)"
   ]
  },
  {
   "cell_type": "code",
   "execution_count": 8,
   "metadata": {},
   "outputs": [
    {
     "data": {
      "text/plain": [
       "'stuff swap gonna'"
      ]
     },
     "execution_count": 8,
     "metadata": {},
     "output_type": "execute_result"
    }
   ],
   "source": [
    "reverse_word_order(\"gonna swap stuff\")"
   ]
  },
  {
   "cell_type": "code",
   "execution_count": 9,
   "metadata": {},
   "outputs": [
    {
     "data": {
      "text/plain": [
       "'ttonigh nchicke elik lfee I nma'"
      ]
     },
     "execution_count": 9,
     "metadata": {},
     "output_type": "execute_result"
    }
   ],
   "source": [
    "message1(reverse_word_order(\"man I feel like chicken tonight\"))"
   ]
  },
  {
   "cell_type": "code",
   "execution_count": 10,
   "metadata": {},
   "outputs": [
    {
     "data": {
      "text/plain": [
       "'man I feel like chicken tonight'"
      ]
     },
     "execution_count": 10,
     "metadata": {},
     "output_type": "execute_result"
    }
   ],
   "source": [
    "reverse_word_order(unmessage('ttonigh nchicke elik lfee I nma'))"
   ]
  },
  {
   "cell_type": "code",
   "execution_count": 11,
   "metadata": {
    "collapsed": true
   },
   "outputs": [],
   "source": [
    "def unswap(text):\n",
    "    listofstrings = text.split()\n",
    "    result = \"\"\n",
    "    for element in listofstrings:\n",
    "        if len(element)<4:\n",
    "            result = element + \" \"+ result\n",
    "        else:\n",
    "            result = result + \" \"+ element\n",
    "    return result"
   ]
  },
  {
   "cell_type": "code",
   "execution_count": 12,
   "metadata": {},
   "outputs": [
    {
     "data": {
      "text/plain": [
       "'nma I  elik lfee nchicke ttonigh'"
      ]
     },
     "execution_count": 12,
     "metadata": {},
     "output_type": "execute_result"
    }
   ],
   "source": [
    "unswap(' elik lfee I nma nchicke ttonigh')"
   ]
  },
  {
   "cell_type": "code",
   "execution_count": 7,
   "metadata": {},
   "outputs": [
    {
     "name": "stdout",
     "output_type": "stream",
     "text": [
      "What's your name: Angela\n"
     ]
    },
    {
     "data": {
      "text/plain": [
       "\"Hello Angela, you're an awesome coder!\""
      ]
     },
     "execution_count": 7,
     "metadata": {},
     "output_type": "execute_result"
    }
   ],
   "source": [
    "def sayHi():\n",
    "    name = raw_input(\"What's your name: \")\n",
    "    message = \"Hello \"  + name + \", you're an awesome coder!\"\n",
    "    return message\n",
    "\n",
    "sayHi()"
   ]
  },
  {
   "cell_type": "code",
   "execution_count": 13,
   "metadata": {},
   "outputs": [
    {
     "name": "stdout",
     "output_type": "stream",
     "text": [
      "Tell me an adjective, and click enter. hairy\n",
      "Tell me a noun (plural), and click enter. butts\n",
      "Tell me another noun, and click enter. farts\n",
      "Tell me an another adjective, and click enter. smelly\n",
      "\n",
      "Roses are hairy\n",
      "butts are blue\n",
      "farts is smelly\n",
      "And so are you!\n"
     ]
    }
   ],
   "source": [
    "#Madlibs\n",
    "adjective1 = raw_input(\"Tell me an adjective, and click enter. \")\n",
    "noun1 = raw_input(\"Tell me a noun (plural), and click enter. \")\n",
    "noun2 = raw_input(\"Tell me another noun, and click enter. \")\n",
    "adjective2 = raw_input(\"Tell me an another adjective, and click enter. \")\n",
    "print\n",
    "print \"Roses are \" + adjective1\n",
    "print noun1 + \" are blue\"\n",
    "print noun2 + \" is \" + adjective2\n",
    "print \"And so are you!\""
   ]
  },
  {
   "cell_type": "code",
   "execution_count": 1,
   "metadata": {},
   "outputs": [
    {
     "data": {
      "text/plain": [
       "'dgrcodww'"
      ]
     },
     "execution_count": 1,
     "metadata": {},
     "output_type": "execute_result"
    }
   ],
   "source": [
    "#Ben’s Encoder\n",
    "import random\n",
    "alpha = ['a','b','c','d','e','f','g','h','i','j','k','l','m','n','o','p','q','r','s','t','u','v','w','x','y','z']\n",
    "def encode(input):\n",
    "    output = \"\"\n",
    "    for i in input:\n",
    "        output = i + random.choice(alpha) + output\n",
    "    return output\n",
    "        \n",
    "encode(\"word\")\n"
   ]
  },
  {
   "cell_type": "code",
   "execution_count": null,
   "metadata": {
    "collapsed": true
   },
   "outputs": [],
   "source": []
  }
 ],
 "metadata": {
  "anaconda-cloud": {},
  "kernelspec": {
   "display_name": "Python 2",
   "language": "python",
   "name": "python2"
  },
  "language_info": {
   "codemirror_mode": {
    "name": "ipython",
    "version": 2
   },
   "file_extension": ".py",
   "mimetype": "text/x-python",
   "name": "python",
   "nbconvert_exporter": "python",
   "pygments_lexer": "ipython2",
   "version": "2.7.13"
  }
 },
 "nbformat": 4,
 "nbformat_minor": 1
}
