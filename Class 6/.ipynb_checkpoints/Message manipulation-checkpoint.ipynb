{
 "cells": [
  {
   "cell_type": "markdown",
   "metadata": {},
   "source": [
    "Helpful resources:\n",
    "http://www.pythonforbeginners.com/basics/string-manipulation-in-python\n"
   ]
  },
  {
   "cell_type": "code",
   "execution_count": 1,
   "metadata": {
    "collapsed": true
   },
   "outputs": [],
   "source": [
    "def message1(text):\n",
    "    listofstrings = text.split()\n",
    "    result = \"\"\n",
    "    for element in listofstrings:\n",
    "        result = result + element[-1]+element[:-1] + \" \"\n",
    "    return result[:-1]\n"
   ]
  },
  {
   "cell_type": "code",
   "execution_count": 2,
   "metadata": {},
   "outputs": [
    {
     "data": {
      "text/plain": [
       "'ohell dworl'"
      ]
     },
     "execution_count": 2,
     "metadata": {},
     "output_type": "execute_result"
    }
   ],
   "source": [
    "message1(\"hello world\")"
   ]
  },
  {
   "cell_type": "code",
   "execution_count": 3,
   "metadata": {
    "collapsed": true
   },
   "outputs": [],
   "source": [
    "def unmessage(text):\n",
    "    listofstrings = text.split()\n",
    "    result = \"\"\n",
    "    for element in listofstrings:\n",
    "        result = result + element[1:]+element[0] + \" \"\n",
    "    return result[:-1]"
   ]
  },
  {
   "cell_type": "code",
   "execution_count": 4,
   "metadata": {},
   "outputs": [
    {
     "data": {
      "text/plain": [
       "'hello world'"
      ]
     },
     "execution_count": 4,
     "metadata": {},
     "output_type": "execute_result"
    }
   ],
   "source": [
    "unmessage('ohell dworl')"
   ]
  },
  {
   "cell_type": "code",
   "execution_count": null,
   "metadata": {},
   "outputs": [],
   "source": [
    "unmessage('nma I  elik lfee nchicke ttonigh')"
   ]
  },
  {
   "cell_type": "code",
   "execution_count": null,
   "metadata": {},
   "outputs": [],
   "source": [
    "message1(unmessage(\"how do you do?\"))"
   ]
  },
  {
   "cell_type": "code",
   "execution_count": 5,
   "metadata": {},
   "outputs": [],
   "source": [
    "def reverse_word_order(text):\n",
    "    listofstrings = text.split()\n",
    "    result = listofstrings[::-1]\n",
    "    return \" \".join(result)"
   ]
  },
  {
   "cell_type": "code",
   "execution_count": 6,
   "metadata": {},
   "outputs": [
    {
     "data": {
      "text/plain": [
       "'stuff swap gonna'"
      ]
     },
     "execution_count": 6,
     "metadata": {},
     "output_type": "execute_result"
    }
   ],
   "source": [
    "reverse_word_order(\"gonna swap stuff\")"
   ]
  },
  {
   "cell_type": "code",
   "execution_count": null,
   "metadata": {},
   "outputs": [],
   "source": [
    "message1(reverse_word_order(\"man I feel like chicken tonight\"))"
   ]
  },
  {
   "cell_type": "code",
   "execution_count": null,
   "metadata": {},
   "outputs": [],
   "source": [
    "reverse_word_order(unmessage('ttonigh nchicke elik lfee I nma'))"
   ]
  },
  {
   "cell_type": "code",
   "execution_count": null,
   "metadata": {
    "collapsed": true
   },
   "outputs": [],
   "source": [
    "def unswap(text):\n",
    "    listofstrings = text.split()\n",
    "    result = \"\"\n",
    "    for element in listofstrings:\n",
    "        if len(element)<4:\n",
    "            result = element + \" \"+ result\n",
    "        else:\n",
    "            result = result + \" \"+ element\n",
    "    return result"
   ]
  },
  {
   "cell_type": "code",
   "execution_count": null,
   "metadata": {},
   "outputs": [],
   "source": [
    "unswap(' elik lfee I nma nchicke ttonigh')"
   ]
  },
  {
   "cell_type": "code",
   "execution_count": 7,
   "metadata": {},
   "outputs": [
    {
     "name": "stdout",
     "output_type": "stream",
     "text": [
      "What's your name: Angela\n"
     ]
    },
    {
     "data": {
      "text/plain": [
       "\"Hello Angela, you're an awesome coder!\""
      ]
     },
     "execution_count": 7,
     "metadata": {},
     "output_type": "execute_result"
    }
   ],
   "source": [
    "def sayHi():\n",
    "    name = raw_input(\"What's your name: \")\n",
    "    message = \"Hello \"  + name + \", you're an awesome coder!\"\n",
    "    return message\n",
    "\n",
    "sayHi()"
   ]
  },
  {
   "cell_type": "code",
   "execution_count": null,
   "metadata": {},
   "outputs": [],
   "source": [
    "#Madlibs\n",
    "adjective1 = raw_input(\"Tell me an adjective, and click enter. \")\n",
    "noun1 = raw_input(\"Tell me a noun (plural), and click enter. \")\n",
    "noun2 = raw_input(\"Tell me another noun, and click enter. \")\n",
    "adjective2 = raw_input(\"Tell me an another adjective, and click enter. \")\n",
    "print\n",
    "print \"Roses are \" + adjective1\n",
    "print noun1 + \" are blue\"\n",
    "print noun2 + \" is \" + adjective2\n",
    "print \"And so are you!\""
   ]
  },
  {
   "cell_type": "code",
   "execution_count": null,
   "metadata": {
    "collapsed": true
   },
   "outputs": [],
   "source": []
  }
 ],
 "metadata": {
  "anaconda-cloud": {},
  "kernelspec": {
   "display_name": "Python 2",
   "language": "python",
   "name": "python2"
  },
  "language_info": {
   "codemirror_mode": {
    "name": "ipython",
    "version": 2
   },
   "file_extension": ".py",
   "mimetype": "text/x-python",
   "name": "python",
   "nbconvert_exporter": "python",
   "pygments_lexer": "ipython2",
   "version": "2.7.13"
  }
 },
 "nbformat": 4,
 "nbformat_minor": 1
}
