{
 "cells": [
  {
   "cell_type": "markdown",
   "metadata": {},
   "source": [
    "### Natural language processing with TextBlob\n",
    "Please answer all questions marked with __Q__ to receive full credit for class participation.\n",
    "\n",
    "Preliminary steps- Go to the command line and run the following lines\n",
    "<pre>\n",
    "pip install --upgrade pip\n",
    "</pre>\n",
    "\n",
    "then get textblob, by running the following\n",
    "<pre>\n",
    "pip install -U textblob\n",
    "</pre>\n",
    "\n",
    "and finally, download a sample linguistic resource\n",
    "<pre>\n",
    "python -m textblob.download_corpora\n",
    "</pre>\n",
    "\n",
    "Now you should be able to use the TextBlob library, which is a wrapper around the Natural Language Tool Kit (NLTK). FYI- here's more documentation about Textblob: https://pypi.python.org/pypi/textblob\n"
   ]
  },
  {
   "cell_type": "code",
   "execution_count": 13,
   "metadata": {},
   "outputs": [],
   "source": [
    "from textblob import TextBlob"
   ]
  },
  {
   "cell_type": "markdown",
   "metadata": {},
   "source": [
    "Noun Phrases \n",
    "A sentence can be divided into words that work as units, or 'phrasee' that might contain smaller phrases within them.  These noun phrases are useful for classifying declarative sentences (basically a noun and a verb such as 'I know.;) Noun phrases are useful for creating sentence trees.\n",
    "\n",
    "If you have a problem with corpora, make sure you've run the preliminary steps above from the command line.\n",
    "\n",
    "If you get a problem saying you do not have nltk, type this:\n",
    "<pre>\n",
    "pip install nltk\n",
    "</pre>"
   ]
  },
  {
   "cell_type": "markdown",
   "metadata": {},
   "source": [
    "### Create a Textblob so that we can analyze it using natural language tools"
   ]
  },
  {
   "cell_type": "code",
   "execution_count": 4,
   "metadata": {},
   "outputs": [
    {
     "data": {
      "text/plain": [
       "WordList([u'yummy desserts', u'new patisserie'])"
      ]
     },
     "execution_count": 4,
     "metadata": {},
     "output_type": "execute_result"
    }
   ],
   "source": [
    "TextBlob(\"I am really in love with yummy desserts from the new patisserie.\").noun_phrases"
   ]
  },
  {
   "cell_type": "code",
   "execution_count": 5,
   "metadata": {
    "collapsed": true
   },
   "outputs": [],
   "source": [
    "guido = TextBlob(\"Python is an experiment in how much freedom programmers \\\n",
    "need. Too much freedom and nobody can read another's code; too little and \\\n",
    "expressiveness is endangered.\")"
   ]
  },
  {
   "cell_type": "code",
   "execution_count": null,
   "metadata": {
    "collapsed": true
   },
   "outputs": [],
   "source": []
  },
  {
   "cell_type": "code",
   "execution_count": 6,
   "metadata": {},
   "outputs": [
    {
     "data": {
      "text/plain": [
       "WordList(['python', u'freedom programmers need', 'too', u\"'s code\"])"
      ]
     },
     "execution_count": 6,
     "metadata": {},
     "output_type": "execute_result"
    }
   ],
   "source": [
    "guido.noun_phrases"
   ]
  },
  {
   "cell_type": "markdown",
   "metadata": {},
   "source": [
    "__Q__. Create your own Textblob with a phrase below:"
   ]
  },
  {
   "cell_type": "code",
   "execution_count": null,
   "metadata": {
    "collapsed": true
   },
   "outputs": [],
   "source": []
  },
  {
   "cell_type": "code",
   "execution_count": null,
   "metadata": {
    "collapsed": true
   },
   "outputs": [],
   "source": []
  },
  {
   "cell_type": "markdown",
   "metadata": {},
   "source": [
    "### Pluralization"
   ]
  },
  {
   "cell_type": "code",
   "execution_count": 7,
   "metadata": {
    "collapsed": true
   },
   "outputs": [],
   "source": [
    "from textblob import Word"
   ]
  },
  {
   "cell_type": "code",
   "execution_count": 8,
   "metadata": {},
   "outputs": [
    {
     "name": "stdout",
     "output_type": "stream",
     "text": [
      "colleges\n"
     ]
    }
   ],
   "source": [
    "w = Word('college')\n",
    "print w.pluralize()"
   ]
  },
  {
   "cell_type": "code",
   "execution_count": 9,
   "metadata": {},
   "outputs": [
    {
     "name": "stdout",
     "output_type": "stream",
     "text": [
      "children\n"
     ]
    }
   ],
   "source": [
    "w = Word('child')\n",
    "print w.pluralize()"
   ]
  },
  {
   "cell_type": "code",
   "execution_count": 10,
   "metadata": {},
   "outputs": [
    {
     "name": "stdout",
     "output_type": "stream",
     "text": [
      "knives\n"
     ]
    }
   ],
   "source": [
    "w = Word('knife')\n",
    "print w.pluralize()"
   ]
  },
  {
   "cell_type": "markdown",
   "metadata": {},
   "source": [
    "__Q__.  Create your own words and find its plural using code."
   ]
  },
  {
   "cell_type": "code",
   "execution_count": null,
   "metadata": {
    "collapsed": true
   },
   "outputs": [],
   "source": []
  },
  {
   "cell_type": "code",
   "execution_count": null,
   "metadata": {
    "collapsed": true
   },
   "outputs": [],
   "source": []
  },
  {
   "cell_type": "markdown",
   "metadata": {},
   "source": [
    "### Lemmatizer  \n",
    "Retrunng the most common form of that word (eliminating verb tense and noun number)"
   ]
  },
  {
   "cell_type": "code",
   "execution_count": 11,
   "metadata": {},
   "outputs": [
    {
     "name": "stdout",
     "output_type": "stream",
     "text": [
      "woman\n"
     ]
    }
   ],
   "source": [
    "w = Word('women')\n",
    "print w.lemmatize()"
   ]
  },
  {
   "cell_type": "code",
   "execution_count": 12,
   "metadata": {},
   "outputs": [
    {
     "name": "stdout",
     "output_type": "stream",
     "text": [
      "octopus\n"
     ]
    }
   ],
   "source": [
    "w = Word('octopi')\n",
    "print w.lemmatize()"
   ]
  },
  {
   "cell_type": "code",
   "execution_count": 13,
   "metadata": {},
   "outputs": [
    {
     "name": "stdout",
     "output_type": "stream",
     "text": [
      "college\n"
     ]
    }
   ],
   "source": [
    "w = Word('colleges')\n",
    "print w.lemmatize()"
   ]
  },
  {
   "cell_type": "markdown",
   "metadata": {},
   "source": [
    "__Q.__ Lemmatize a work below."
   ]
  },
  {
   "cell_type": "code",
   "execution_count": null,
   "metadata": {
    "collapsed": true
   },
   "outputs": [],
   "source": []
  },
  {
   "cell_type": "markdown",
   "metadata": {
    "collapsed": true
   },
   "source": [
    "## Text Classification: Sentiment Analysis\n",
    "\n",
    "Assume that a text is a \"bag of words\" where the order of the words is ignored.\n",
    "Vocabulary that is enthusiastic and upbeet will differe from negative reviewrs.\n",
    "\n",
    "We can just split a text into sentences using **split().**\n",
    "\n",
    "\"awesome\" is strongly positive\n",
    "\"icky\" is strongly negative\n",
    "\n",
    "length can tell us another feature\n",
    "\n",
    "We'll use a Naive Bayesian Classifier \n",
    "http://textblob.readthedocs.org/en/dev/classifiers.html."
   ]
  },
  {
   "cell_type": "code",
   "execution_count": 15,
   "metadata": {},
   "outputs": [],
   "source": [
    "#http://textblob.readthedocs.org/en/dev/classifiers.html.\n",
    "from textblob.classifiers import NaiveBayesClassifier"
   ]
  },
  {
   "cell_type": "code",
   "execution_count": 16,
   "metadata": {},
   "outputs": [],
   "source": [
    "#data-- notice that each is a tuple witha string, and a pos/negative classification you specify\n",
    "sentiments = [\n",
    "    ('Wittgenstein wrote one of the greatest philosophical works ever, an incredible contribution.','pos'),\n",
    "    ('The Oulipo is a radical, pioneering group that has shaped literary history.','pos'),\n",
    "    ('The latest Katy Perry music video makes my eyes bleed.','neg'),\n",
    "    ('Movies based on comic books are becoming extremely tiresome.','neg'),\n",
    "   ]"
   ]
  },
  {
   "cell_type": "markdown",
   "metadata": {},
   "source": [
    "1. Get the source data, separate into training and test data\n",
    "2. create a new classifier based on training data\n",
    "3. Use the classficier's classify method to give a category\n",
    "    ('pos' or 'neg')\n",
    "3. You can see what the probability the classfier is assigning to each of the categories.\n",
    "4. Run the test data to see how it runs.\n"
   ]
  },
  {
   "cell_type": "markdown",
   "metadata": {},
   "source": [
    "In our test data avove, there are clearly some words that suggest a positive sentiment (“greatest,” “incredible,” “pioneering” as well as possibly “contribution” and “shaped”) and at least one that intuitively suggests a negative sentiment (“tiresome”). Some of the negativity, such as the figuration for crying in the sentence about Katy Perry’s music video, might be very difficult to discern at the word level. And perhaps more disturbingly, if we continued along the same lines and amassed numerous examples like these, we might train our system to find all references to “high cultural” matters to be positive, and all references to popular culture to be negative. That might be quite apt for particular cultural commentators, but again, it would not allow us to correctly classify texts in genera"
   ]
  },
  {
   "cell_type": "code",
   "execution_count": 17,
   "metadata": {},
   "outputs": [
    {
     "data": {
      "text/plain": [
       "4"
      ]
     },
     "execution_count": 17,
     "metadata": {},
     "output_type": "execute_result"
    }
   ],
   "source": [
    "len(sentiments) #there are four sentiments"
   ]
  },
  {
   "cell_type": "markdown",
   "metadata": {
    "collapsed": true
   },
   "source": [
    "__Q__. Practice creating your own list of sentiments, with at least three sentiments below.  Name it mysentiments (as in the example below): <pre>\n",
    "mysentiments = [ \n",
    "('Emerson is awesome!','pos'),\n",
    "('That coffee is the best!','pos'),\n",
    "('The tea was disgusting.','neg')\n",
    "]"
   ]
  },
  {
   "cell_type": "code",
   "execution_count": null,
   "metadata": {
    "collapsed": true
   },
   "outputs": [],
   "source": []
  },
  {
   "cell_type": "code",
   "execution_count": null,
   "metadata": {
    "collapsed": true
   },
   "outputs": [],
   "source": []
  },
  {
   "cell_type": "markdown",
   "metadata": {},
   "source": [
    "__Q__. Use code to find the length of your sentiments, using the len() function."
   ]
  },
  {
   "cell_type": "code",
   "execution_count": null,
   "metadata": {
    "collapsed": true
   },
   "outputs": [],
   "source": []
  },
  {
   "cell_type": "code",
   "execution_count": null,
   "metadata": {
    "collapsed": true
   },
   "outputs": [],
   "source": []
  },
  {
   "cell_type": "markdown",
   "metadata": {},
   "source": [
    "### Now we list our \"training data\" for the classifier.  "
   ]
  },
  {
   "cell_type": "code",
   "execution_count": 18,
   "metadata": {},
   "outputs": [],
   "source": [
    "#Our training data\n",
    "train = [\n",
    "    ('I love this sandwich.', 'pos'),\n",
    "    ('this is an amazing place!', 'pos'),\n",
    "    ('I feel very good about these beers.', 'pos'),\n",
    "    ('this is my best work.', 'pos'),\n",
    "    (\"what an awesome view\", 'pos'),\n",
    "    ('I do not like this restaurant', 'neg'),\n",
    "    ('I am tired of this stuff.', 'neg'),\n",
    "    (\"I can't deal with this\", 'neg'),\n",
    "    ('he is my sworn enemy!', 'neg'),\n",
    "    ('my boss is horrible.', 'neg')\n",
    "    ]"
   ]
  },
  {
   "cell_type": "code",
   "execution_count": 4,
   "metadata": {},
   "outputs": [],
   "source": [
    "#Append your own set of texts to the training data\n",
    "my_data = [('Can you believe how hot this is?', 'pos'),\n",
    "           (\"They didn't scrimped on the production quality\", 'pos'),\n",
    "           (\"I will never get those two hours back\", 'neg'),\n",
    "           (\"Its not my cup of tea\", 'neg')\n",
    "          ]\n",
    "\n",
    "train = train + my_data"
   ]
  },
  {
   "cell_type": "code",
   "execution_count": 5,
   "metadata": {
    "collapsed": true
   },
   "outputs": [],
   "source": [
    "my_data = [('Man, hangovers sure suck!', 'neg'),\n",
    "           (\"I have drunk too much and need a lift home.\", 'neg'),\n",
    "           (\"Sometimes we need to call it quits early.\", 'neg'),\n",
    "           (\"Only drink a moderate amount and you'll be fine\", 'pos')\n",
    "          ]"
   ]
  },
  {
   "cell_type": "code",
   "execution_count": 6,
   "metadata": {},
   "outputs": [],
   "source": [
    "train = train + my_data"
   ]
  },
  {
   "cell_type": "code",
   "execution_count": 7,
   "metadata": {},
   "outputs": [
    {
     "data": {
      "text/plain": [
       "[('I love this sandwich.', 'pos'),\n",
       " ('this is an amazing place!', 'pos'),\n",
       " ('I feel very good about these beers.', 'pos'),\n",
       " ('this is my best work.', 'pos'),\n",
       " ('what an awesome view', 'pos'),\n",
       " ('I do not like this restaurant', 'neg'),\n",
       " ('I am tired of this stuff.', 'neg'),\n",
       " (\"I can't deal with this\", 'neg'),\n",
       " ('he is my sworn enemy!', 'neg'),\n",
       " ('my boss is horrible.', 'neg'),\n",
       " ('Can you believe how hot this is?', 'pos'),\n",
       " (\"They didn't scrimped on the production quality\", 'pos'),\n",
       " ('I will never get those two hours back', 'neg'),\n",
       " ('Its not my cup of tea', 'neg'),\n",
       " ('Man, hangovers sure suck!', 'neg'),\n",
       " ('I have drunk too much and need a lift home.', 'neg'),\n",
       " ('Sometimes we need to call it quits early.', 'neg'),\n",
       " (\"Only drink a moderate amount and you'll be fine\", 'pos')]"
      ]
     },
     "execution_count": 7,
     "metadata": {},
     "output_type": "execute_result"
    }
   ],
   "source": [
    "train"
   ]
  },
  {
   "cell_type": "code",
   "execution_count": 8,
   "metadata": {},
   "outputs": [],
   "source": [
    "#test data\n",
    "test = [\n",
    "    ('the beer was good.', 'pos'),\n",
    "    ('I do not enjoy my job', 'neg'),\n",
    "    (\"I ain't feeling dandy today.\", 'neg'),\n",
    "    (\"I feel amazing!\", 'pos'),\n",
    "    ('Gary is a friend of mine.', 'pos'),\n",
    "    (\"I can't believe I'm doing this.\", 'neg'),\n",
    "    (\"I wabt to hurl chunks.\", 'neg')\n",
    "]"
   ]
  },
  {
   "cell_type": "markdown",
   "metadata": {},
   "source": [
    "## Train your classifier.\n",
    "Yes, it's that simple!\n",
    "<pre>cl = NaiveBayesClassifier(train)</pre>\n",
    "Tben, the classify(text) method to use the classifier. \n",
    "<pre>c1.classify('sentence to be classified' )</pre>\n",
    "\n",
    "Here we name our classifier __cl__ and we train it by passing in an argument of sentiment data named 'train' (defined above)."
   ]
  },
  {
   "cell_type": "code",
   "execution_count": 19,
   "metadata": {},
   "outputs": [],
   "source": [
    "cl = NaiveBayesClassifier(train)"
   ]
  },
  {
   "cell_type": "code",
   "execution_count": 20,
   "metadata": {},
   "outputs": [
    {
     "data": {
      "text/plain": [
       "'pos'"
      ]
     },
     "execution_count": 20,
     "metadata": {},
     "output_type": "execute_result"
    }
   ],
   "source": [
    "cl.classify(\"This is an amazing library!\")"
   ]
  },
  {
   "cell_type": "code",
   "execution_count": 25,
   "metadata": {},
   "outputs": [
    {
     "data": {
      "text/plain": [
       "'pos'"
      ]
     },
     "execution_count": 25,
     "metadata": {},
     "output_type": "execute_result"
    }
   ],
   "source": [
    "cl.classify(\"There was so much rain yesterday!\")"
   ]
  },
  {
   "cell_type": "code",
   "execution_count": 26,
   "metadata": {},
   "outputs": [
    {
     "data": {
      "text/plain": [
       "'neg'"
      ]
     },
     "execution_count": 26,
     "metadata": {},
     "output_type": "execute_result"
    }
   ],
   "source": [
    "cl.classify(\"I hate to shout in order to be heard.\")"
   ]
  },
  {
   "cell_type": "code",
   "execution_count": 27,
   "metadata": {},
   "outputs": [
    {
     "data": {
      "text/plain": [
       "'neg'"
      ]
     },
     "execution_count": 27,
     "metadata": {},
     "output_type": "execute_result"
    }
   ],
   "source": [
    "cl.classify(\"I can't figure out that stupid problem.\")"
   ]
  },
  {
   "cell_type": "code",
   "execution_count": 28,
   "metadata": {},
   "outputs": [
    {
     "data": {
      "text/plain": [
       "'pos'"
      ]
     },
     "execution_count": 28,
     "metadata": {},
     "output_type": "execute_result"
    }
   ],
   "source": [
    "cl.classify(\"I love rainbow kittens and sunshine.\")"
   ]
  },
  {
   "cell_type": "markdown",
   "metadata": {
    "collapsed": true
   },
   "source": [
    "__Q__ Try your own sentences on the clasifier. Look at the examples above."
   ]
  },
  {
   "cell_type": "code",
   "execution_count": null,
   "metadata": {
    "collapsed": true
   },
   "outputs": [],
   "source": []
  },
  {
   "cell_type": "code",
   "execution_count": null,
   "metadata": {
    "collapsed": true
   },
   "outputs": [],
   "source": []
  },
  {
   "cell_type": "code",
   "execution_count": null,
   "metadata": {
    "collapsed": true
   },
   "outputs": [],
   "source": []
  },
  {
   "cell_type": "markdown",
   "metadata": {},
   "source": [
    "Now we can programmatically loop through our list of sentiments. The following code loops through a list of sentiments and gets the classification for each sentiment."
   ]
  },
  {
   "cell_type": "code",
   "execution_count": 30,
   "metadata": {},
   "outputs": [
    {
     "name": "stdout",
     "output_type": "stream",
     "text": [
      "pos ('Wittgenstein wrote one of the greatest philosophical works ever, an incredible contribution.', 'pos')\n",
      "pos ('The Oulipo is a radical, pioneering group that has shaped literary history.', 'pos')\n",
      "pos ('The latest Katy Perry music video makes my eyes bleed.', 'neg')\n",
      "pos ('Movies based on comic books are becoming extremely tiresome.', 'neg')\n"
     ]
    }
   ],
   "source": [
    "for sent in sentiments:\n",
    "    print cl.prob_classify(sent).max(), sent"
   ]
  },
  {
   "cell_type": "markdown",
   "metadata": {},
   "source": [
    "You can get the label probability distribution with the <pre>prob_classify(text) </pre>method. This tells us what the numerical certainty the system has assigned to the positive or negative weight of the sentiment."
   ]
  },
  {
   "cell_type": "code",
   "execution_count": 47,
   "metadata": {},
   "outputs": [],
   "source": [
    "katy = cl.prob_classify('The latest Katy Perry music video makes my eyes bleed.')"
   ]
  },
  {
   "cell_type": "code",
   "execution_count": 49,
   "metadata": {},
   "outputs": [
    {
     "data": {
      "text/plain": [
       "'neg'"
      ]
     },
     "execution_count": 49,
     "metadata": {},
     "output_type": "execute_result"
    }
   ],
   "source": [
    "katy.max()"
   ]
  },
  {
   "cell_type": "code",
   "execution_count": 39,
   "metadata": {},
   "outputs": [
    {
     "data": {
      "text/plain": [
       "(0.2755895634721516, 0.7244104365278483)"
      ]
     },
     "execution_count": 39,
     "metadata": {},
     "output_type": "execute_result"
    }
   ],
   "source": [
    "katy.prob(\"pos\"),katy.prob(\"neg\")"
   ]
  },
  {
   "cell_type": "code",
   "execution_count": 40,
   "metadata": {
    "collapsed": true
   },
   "outputs": [],
   "source": [
    "prob_dist = cl.prob_classify(\"This one's a doozy.\")"
   ]
  },
  {
   "cell_type": "code",
   "execution_count": 67,
   "metadata": {},
   "outputs": [
    {
     "data": {
      "text/plain": [
       "'pos'"
      ]
     },
     "execution_count": 67,
     "metadata": {},
     "output_type": "execute_result"
    }
   ],
   "source": [
    "prob_dist.max()  #what is it"
   ]
  },
  {
   "cell_type": "code",
   "execution_count": 68,
   "metadata": {},
   "outputs": [
    {
     "data": {
      "text/plain": [
       "0.56"
      ]
     },
     "execution_count": 68,
     "metadata": {},
     "output_type": "execute_result"
    }
   ],
   "source": [
    "round(prob_dist.prob(\"pos\"), 2)  #how positive is it?"
   ]
  },
  {
   "cell_type": "code",
   "execution_count": 69,
   "metadata": {},
   "outputs": [
    {
     "data": {
      "text/plain": [
       "0.44"
      ]
     },
     "execution_count": 69,
     "metadata": {},
     "output_type": "execute_result"
    }
   ],
   "source": [
    "round(prob_dist.prob(\"neg\"), 2) #how negative is it?"
   ]
  },
  {
   "cell_type": "markdown",
   "metadata": {},
   "source": [
    "__Q__. Now get the probability distribution of some different sentiments you supplly."
   ]
  },
  {
   "cell_type": "code",
   "execution_count": null,
   "metadata": {
    "collapsed": true
   },
   "outputs": [],
   "source": []
  },
  {
   "cell_type": "code",
   "execution_count": null,
   "metadata": {
    "collapsed": true
   },
   "outputs": [],
   "source": []
  },
  {
   "cell_type": "code",
   "execution_count": null,
   "metadata": {
    "collapsed": true
   },
   "outputs": [],
   "source": []
  },
  {
   "cell_type": "code",
   "execution_count": null,
   "metadata": {
    "collapsed": true
   },
   "outputs": [],
   "source": []
  },
  {
   "cell_type": "markdown",
   "metadata": {},
   "source": [
    "### Classifying Textblobs\n",
    "Another way to classify text is to pass a classifier into the __constructor__ of TextBlob and call its classify() method. This way we don't need multiple steps to get the classification.\n",
    "\n",
    "In the line below, we pass in our classifier, __cl__, that we defined earlier.\n"
   ]
  },
  {
   "cell_type": "code",
   "execution_count": 32,
   "metadata": {},
   "outputs": [
    {
     "data": {
      "text/plain": [
       "'pos'"
      ]
     },
     "execution_count": 32,
     "metadata": {},
     "output_type": "execute_result"
    }
   ],
   "source": [
    "blob = TextBlob(\"The beer is good. But the hangover is horrible.\", classifier=cl)\n",
    "\n",
    "blob.classify()"
   ]
  },
  {
   "cell_type": "code",
   "execution_count": 33,
   "metadata": {},
   "outputs": [
    {
     "name": "stdout",
     "output_type": "stream",
     "text": [
      "The beer is good.\n",
      "pos\n",
      "But the hangover is horrible.\n",
      "neg\n"
     ]
    }
   ],
   "source": [
    "##Classify each sentence.\n",
    "for s in blob.sentences:\n",
    "    print(s)\n",
    "    print(s.classify())"
   ]
  },
  {
   "cell_type": "code",
   "execution_count": 34,
   "metadata": {
    "collapsed": true
   },
   "outputs": [],
   "source": [
    "miss = cl.prob_classify('Do not go to see this travesty of a production.')"
   ]
  },
  {
   "cell_type": "code",
   "execution_count": 35,
   "metadata": {},
   "outputs": [
    {
     "data": {
      "text/plain": [
       "'neg'"
      ]
     },
     "execution_count": 35,
     "metadata": {},
     "output_type": "execute_result"
    }
   ],
   "source": [
    "miss.max()"
   ]
  },
  {
   "cell_type": "code",
   "execution_count": null,
   "metadata": {
    "collapsed": true
   },
   "outputs": [],
   "source": []
  },
  {
   "cell_type": "code",
   "execution_count": null,
   "metadata": {
    "collapsed": true
   },
   "outputs": [],
   "source": []
  },
  {
   "cell_type": "markdown",
   "metadata": {},
   "source": [
    "### Evaluating Classifiers\n",
    "To compute the accuracy on our test set, use the __accuracy(test_data)__ method."
   ]
  },
  {
   "cell_type": "code",
   "execution_count": 68,
   "metadata": {},
   "outputs": [
    {
     "data": {
      "text/plain": [
       "[('the beer was good.', 'pos'),\n",
       " ('I do not enjoy my job', 'neg'),\n",
       " (\"I ain't feeling dandy today.\", 'neg'),\n",
       " ('I feel amazing!', 'pos'),\n",
       " ('Gary is a friend of mine.', 'pos'),\n",
       " (\"I can't believe I'm doing this.\", 'neg'),\n",
       " ('I wabt to hurl chunks.', 'neg')]"
      ]
     },
     "execution_count": 68,
     "metadata": {},
     "output_type": "execute_result"
    }
   ],
   "source": [
    "test"
   ]
  },
  {
   "cell_type": "code",
   "execution_count": 69,
   "metadata": {},
   "outputs": [
    {
     "data": {
      "text/plain": [
       "0.8571428571428571"
      ]
     },
     "execution_count": 69,
     "metadata": {},
     "output_type": "execute_result"
    }
   ],
   "source": [
    "cl.accuracy(test )"
   ]
  },
  {
   "cell_type": "code",
   "execution_count": 70,
   "metadata": {},
   "outputs": [
    {
     "data": {
      "text/plain": [
       "0.75"
      ]
     },
     "execution_count": 70,
     "metadata": {},
     "output_type": "execute_result"
    }
   ],
   "source": [
    "cl.accuracy(sentiments)"
   ]
  },
  {
   "cell_type": "markdown",
   "metadata": {},
   "source": [
    "Use the __show_informative_features()__ method to display a listing of the most informative features."
   ]
  },
  {
   "cell_type": "code",
   "execution_count": 72,
   "metadata": {},
   "outputs": [
    {
     "name": "stdout",
     "output_type": "stream",
     "text": [
      "Most Informative Features\n",
      "            contains(my) = True              neg : pos    =      2.3 : 1.0\n",
      "             contains(I) = True              neg : pos    =      1.8 : 1.0\n",
      "             contains(I) = False             pos : neg    =      1.6 : 1.0\n",
      "            contains(my) = False             pos : neg    =      1.4 : 1.0\n",
      "            contains(is) = True              pos : neg    =      1.4 : 1.0\n",
      "            contains(an) = False             neg : pos    =      1.4 : 1.0\n",
      "            contains(of) = False             pos : neg    =      1.4 : 1.0\n",
      "           contains(not) = False             pos : neg    =      1.4 : 1.0\n",
      "          contains(this) = False             neg : pos    =      1.3 : 1.0\n",
      "          contains(this) = True              pos : neg    =      1.3 : 1.0\n",
      "            contains(is) = False             neg : pos    =      1.2 : 1.0\n",
      "         contains(place) = False             neg : pos    =      1.2 : 1.0\n",
      "           contains(Its) = False             pos : neg    =      1.2 : 1.0\n",
      "           contains(you) = False             neg : pos    =      1.2 : 1.0\n",
      "           contains(how) = False             neg : pos    =      1.2 : 1.0\n",
      "         contains(tired) = False             pos : neg    =      1.2 : 1.0\n",
      "          contains(with) = False             pos : neg    =      1.2 : 1.0\n",
      "    contains(restaurant) = False             pos : neg    =      1.2 : 1.0\n",
      "            contains(he) = False             pos : neg    =      1.2 : 1.0\n",
      "            contains(am) = False             pos : neg    =      1.2 : 1.0\n"
     ]
    }
   ],
   "source": [
    "cl.show_informative_features(20)  "
   ]
  },
  {
   "cell_type": "code",
   "execution_count": 37,
   "metadata": {},
   "outputs": [],
   "source": [
    "new_data = [('She is my best friend.', 'pos'),\n",
    "             (\"I'm happy to have a new friend.\", 'pos'),\n",
    "             (\"Stay thirsty, my friend.\", 'pos'),\n",
    "            (\"He ain't from around here.\", 'neg')]"
   ]
  },
  {
   "cell_type": "code",
   "execution_count": 38,
   "metadata": {},
   "outputs": [
    {
     "data": {
      "text/plain": [
       "True"
      ]
     },
     "execution_count": 38,
     "metadata": {},
     "output_type": "execute_result"
    }
   ],
   "source": [
    "cl.update(new_data)  # now if we add more data to our classifier, we can see if it is more accurate"
   ]
  },
  {
   "cell_type": "code",
   "execution_count": 45,
   "metadata": {},
   "outputs": [
    {
     "data": {
      "text/plain": [
       "0.8571428571428571"
      ]
     },
     "execution_count": 45,
     "metadata": {},
     "output_type": "execute_result"
    }
   ],
   "source": [
    "cl.accuracy(test)  #compare the performance before 0.8571428571428571"
   ]
  },
  {
   "cell_type": "code",
   "execution_count": 41,
   "metadata": {},
   "outputs": [
    {
     "data": {
      "text/plain": [
       "0.5"
      ]
     },
     "execution_count": 41,
     "metadata": {},
     "output_type": "execute_result"
    }
   ],
   "source": [
    "cl.accuracy(sentiments) #compare with before 0.75, its gone down. "
   ]
  },
  {
   "cell_type": "code",
   "execution_count": 42,
   "metadata": {},
   "outputs": [
    {
     "data": {
      "text/plain": [
       "[('Wittgenstein wrote one of the greatest philosophical works ever, an incredible contribution.',\n",
       "  'pos'),\n",
       " ('The Oulipo is a radical, pioneering group that has shaped literary history.',\n",
       "  'pos'),\n",
       " ('The latest Katy Perry music video makes my eyes bleed.', 'neg'),\n",
       " ('Movies based on comic books are becoming extremely tiresome.', 'neg')]"
      ]
     },
     "execution_count": 42,
     "metadata": {},
     "output_type": "execute_result"
    }
   ],
   "source": [
    "sentiments  # note there are some sarcastic "
   ]
  },
  {
   "cell_type": "markdown",
   "metadata": {
    "collapsed": true
   },
   "source": [
    "Read more about classifiers here:\n",
    "http://textblob.readthedocs.io/en/dev/classifiers.html\n"
   ]
  },
  {
   "cell_type": "markdown",
   "metadata": {},
   "source": [
    "### Now lets use twitter to get some data\n",
    "__Preliminary steps:__\n",
    "Install twython if you don't already have it  by typing this in your command line:\n",
    "<pre>\n",
    "pip install twython\n",
    "</pre>\n",
    "Then head over to twitter and grab your own API keys and fill out the strings below:\n",
    "\n",
    "__Objtainig Twitter API credentials__\n",
    "In order to use the Twitter API, you can't just use your normal username and password. Instead, you need four magical strings. We're not even going to discuss what these strings are, or what their names mean; for now, just know that these strings, together, act as a sort of \"password\" for the Twitter API.\n",
    "\n",
    "The four magical strings are called:\n",
    "\n",
    "    API Key\n",
    "    API Secret\n",
    "    Access Token\n",
    "    Access Token Secret\n",
    "\n",
    "In order to obtain these four magical strings, we need to...\n",
    "\n",
    "    Create a Twitter \"application,\" which is associated with a Twitter account; the \"API Key\" and \"API Secret\" are created with this application;\n",
    "    Create an access token and token secret;\n",
    "    Copy all four strings to the command-line when we run a Python script that accesses Twitter.\n",
    "    For more info:\n",
    "https://iag.me/socialmedia/how-to-create-a-twitter-app-in-8-easy-steps/\n"
   ]
  },
  {
   "cell_type": "code",
   "execution_count": 46,
   "metadata": {
    "collapsed": true
   },
   "outputs": [],
   "source": [
    "import json\n",
    "import twython"
   ]
  },
  {
   "cell_type": "code",
   "execution_count": 47,
   "metadata": {
    "collapsed": true
   },
   "outputs": [],
   "source": [
    "# Get these stringss  by making a new app at dev.twitter.com\n",
    "api_key=  ''\n",
    "api_secret =''  \n",
    "access_token = ''  \n",
    "token_secret =  ''\n",
    "#open a twitter stream\n",
    "twitter = twython.Twython(api_key, api_secret, access_token, token_secret)\n",
    "\n",
    "#create a search term\n",
    "query = \"EmersonCollege\"\n",
    "\n",
    "#use twitter's api to search for most recent tweets\n",
    "response = twitter.search(q=query, result_type=\"recent\", count=1)"
   ]
  },
  {
   "cell_type": "code",
   "execution_count": 48,
   "metadata": {},
   "outputs": [
    {
     "data": {
      "text/plain": [
       "{u'search_metadata': {u'completed_in': 0.019,\n",
       "  u'count': 1,\n",
       "  u'max_id': 925020777547751425,\n",
       "  u'max_id_str': u'925020777547751425',\n",
       "  u'next_results': u'?max_id=925020777547751424&q=EmersonCollege&count=1&include_entities=1&result_type=recent',\n",
       "  u'query': u'EmersonCollege',\n",
       "  u'refresh_url': u'?since_id=925020777547751425&q=EmersonCollege&result_type=recent&include_entities=1',\n",
       "  u'since_id': 0,\n",
       "  u'since_id_str': u'0'},\n",
       " u'statuses': [{u'contributors': None,\n",
       "   u'coordinates': None,\n",
       "   u'created_at': u'Mon Oct 30 15:25:14 +0000 2017',\n",
       "   u'entities': {u'hashtags': [{u'indices': [53, 61], u'text': u'polling'},\n",
       "     {u'indices': [76, 89], u'text': u'presidential'},\n",
       "     {u'indices': [90, 99], u'text': u'election'},\n",
       "     {u'indices': [109, 114], u'text': u'LIVE'}],\n",
       "    u'symbols': [],\n",
       "    u'urls': [{u'display_url': u'twitter.com/i/web/status/9\\u2026',\n",
       "      u'expanded_url': u'https://twitter.com/i/web/status/925020777547751425',\n",
       "      u'indices': [116, 139],\n",
       "      u'url': u'https://t.co/uCuNnbDWCU'}],\n",
       "    u'user_mentions': [{u'id': 103060784,\n",
       "      u'id_str': u'103060784',\n",
       "      u'indices': [1, 16],\n",
       "      u'name': u'Spencer Kimball',\n",
       "      u'screen_name': u'SpencerPolling'}]},\n",
       "   u'favorite_count': 0,\n",
       "   u'favorited': False,\n",
       "   u'geo': None,\n",
       "   u'id': 925020777547751425,\n",
       "   u'id_str': u'925020777547751425',\n",
       "   u'in_reply_to_screen_name': None,\n",
       "   u'in_reply_to_status_id': None,\n",
       "   u'in_reply_to_status_id_str': None,\n",
       "   u'in_reply_to_user_id': None,\n",
       "   u'in_reply_to_user_id_str': None,\n",
       "   u'is_quote_status': False,\n",
       "   u'lang': u'en',\n",
       "   u'metadata': {u'iso_language_code': u'en', u'result_type': u'recent'},\n",
       "   u'place': None,\n",
       "   u'possibly_sensitive': False,\n",
       "   u'retweet_count': 0,\n",
       "   u'retweeted': False,\n",
       "   u'source': u'<a href=\"http://www.hootsuite.com\" rel=\"nofollow\">Hootsuite</a>',\n",
       "   u'text': u'.@SpencerPolling Tune in today at noon as we examine #polling and the 2016  #presidential #election results. #LIVE\\u2026 https://t.co/uCuNnbDWCU',\n",
       "   u'truncated': True,\n",
       "   u'user': {u'contributors_enabled': False,\n",
       "    u'created_at': u'Mon Dec 08 04:02:22 +0000 2008',\n",
       "    u'default_profile': False,\n",
       "    u'default_profile_image': False,\n",
       "    u'description': u'Where independent minds give voice to daring ideas.',\n",
       "    u'entities': {u'description': {u'urls': []},\n",
       "     u'url': {u'urls': [{u'display_url': u'emerson.edu',\n",
       "        u'expanded_url': u'http://www.emerson.edu',\n",
       "        u'indices': [0, 22],\n",
       "        u'url': u'http://t.co/HEoS62gvw1'}]}},\n",
       "    u'favourites_count': 1797,\n",
       "    u'follow_request_sent': False,\n",
       "    u'followers_count': 22307,\n",
       "    u'following': True,\n",
       "    u'friends_count': 4945,\n",
       "    u'geo_enabled': False,\n",
       "    u'has_extended_profile': False,\n",
       "    u'id': 17955507,\n",
       "    u'id_str': u'17955507',\n",
       "    u'is_translation_enabled': False,\n",
       "    u'is_translator': False,\n",
       "    u'lang': u'en',\n",
       "    u'listed_count': 640,\n",
       "    u'location': u'Boston, MA',\n",
       "    u'name': u'Emerson College',\n",
       "    u'notifications': False,\n",
       "    u'profile_background_color': u'2F438F',\n",
       "    u'profile_background_image_url': u'http://pbs.twimg.com/profile_background_images/671011427/1500e247538b4e3ff3873ec24c86e855.jpeg',\n",
       "    u'profile_background_image_url_https': u'https://pbs.twimg.com/profile_background_images/671011427/1500e247538b4e3ff3873ec24c86e855.jpeg',\n",
       "    u'profile_background_tile': False,\n",
       "    u'profile_banner_url': u'https://pbs.twimg.com/profile_banners/17955507/1487274648',\n",
       "    u'profile_image_url': u'http://pbs.twimg.com/profile_images/887688949031882752/rjbAP0G-_normal.jpg',\n",
       "    u'profile_image_url_https': u'https://pbs.twimg.com/profile_images/887688949031882752/rjbAP0G-_normal.jpg',\n",
       "    u'profile_link_color': u'62259D',\n",
       "    u'profile_sidebar_border_color': u'000000',\n",
       "    u'profile_sidebar_fill_color': u'DDEEF6',\n",
       "    u'profile_text_color': u'333333',\n",
       "    u'profile_use_background_image': True,\n",
       "    u'protected': False,\n",
       "    u'screen_name': u'EmersonCollege',\n",
       "    u'statuses_count': 14922,\n",
       "    u'time_zone': u'Eastern Time (US & Canada)',\n",
       "    u'translator_type': u'none',\n",
       "    u'url': u'http://t.co/HEoS62gvw1',\n",
       "    u'utc_offset': -14400,\n",
       "    u'verified': True}}]}"
      ]
     },
     "execution_count": 48,
     "metadata": {},
     "output_type": "execute_result"
    }
   ],
   "source": [
    "response"
   ]
  },
  {
   "cell_type": "markdown",
   "metadata": {},
   "source": [
    "# Dictionaries are { key : value pairs }\n",
    "Remember they're like lists, except you use the key to access the value, instead of using the integer position. They are between curly brackets { }, separated by a colon : \n",
    "e.g. \n",
    "<pre> example_dict = { \"name\" : \"John Doe\" } \n",
    "</pre>\n",
    "So Twitter's response is just a dictionary of dictionaries (with some lists). Too hard to read, though. We can use th \n",
    "**type** function and **keys** attribute to dive deep into the structure."
   ]
  },
  {
   "cell_type": "code",
   "execution_count": 49,
   "metadata": {},
   "outputs": [
    {
     "data": {
      "text/plain": [
       "'Tom Brady'"
      ]
     },
     "execution_count": 49,
     "metadata": {},
     "output_type": "execute_result"
    }
   ],
   "source": [
    "example_dict = { 'name' : \"Tom Brady\" \n",
    "                , 'city' : \"Boston\"}\n",
    "example_dict[\"name\"]  #use the key (left of the :) to get the value on the right hand side"
   ]
  },
  {
   "cell_type": "code",
   "execution_count": 50,
   "metadata": {},
   "outputs": [
    {
     "data": {
      "text/plain": [
       "'Boston'"
      ]
     },
     "execution_count": 50,
     "metadata": {},
     "output_type": "execute_result"
    }
   ],
   "source": [
    "example_dict['city']"
   ]
  },
  {
   "cell_type": "code",
   "execution_count": 51,
   "metadata": {},
   "outputs": [
    {
     "data": {
      "text/plain": [
       "'Boston'"
      ]
     },
     "execution_count": 51,
     "metadata": {},
     "output_type": "execute_result"
    }
   ],
   "source": [
    "example_dict['city']"
   ]
  },
  {
   "cell_type": "code",
   "execution_count": 52,
   "metadata": {},
   "outputs": [
    {
     "data": {
      "text/plain": [
       "dict"
      ]
     },
     "execution_count": 52,
     "metadata": {},
     "output_type": "execute_result"
    }
   ],
   "source": [
    "type(response)"
   ]
  },
  {
   "cell_type": "code",
   "execution_count": 53,
   "metadata": {},
   "outputs": [
    {
     "name": "stdout",
     "output_type": "stream",
     "text": [
      "[u'search_metadata', u'statuses']\n"
     ]
    }
   ],
   "source": [
    "print response.keys()"
   ]
  },
  {
   "cell_type": "code",
   "execution_count": 54,
   "metadata": {},
   "outputs": [
    {
     "data": {
      "text/plain": [
       "list"
      ]
     },
     "execution_count": 54,
     "metadata": {},
     "output_type": "execute_result"
    }
   ],
   "source": [
    "type ( response['statuses'])"
   ]
  },
  {
   "cell_type": "code",
   "execution_count": 55,
   "metadata": {},
   "outputs": [
    {
     "data": {
      "text/plain": [
       "1"
      ]
     },
     "execution_count": 55,
     "metadata": {},
     "output_type": "execute_result"
    }
   ],
   "source": [
    "len(response['statuses'])"
   ]
  },
  {
   "cell_type": "code",
   "execution_count": 56,
   "metadata": {
    "collapsed": true
   },
   "outputs": [],
   "source": [
    "tweet  = response['statuses'][0]  #the tweet is in the statuses key"
   ]
  },
  {
   "cell_type": "code",
   "execution_count": 57,
   "metadata": {},
   "outputs": [
    {
     "data": {
      "text/plain": [
       "dict"
      ]
     },
     "execution_count": 57,
     "metadata": {},
     "output_type": "execute_result"
    }
   ],
   "source": [
    "type(tweet)"
   ]
  },
  {
   "cell_type": "code",
   "execution_count": 58,
   "metadata": {},
   "outputs": [
    {
     "data": {
      "text/plain": [
       "[u'contributors',\n",
       " u'truncated',\n",
       " u'text',\n",
       " u'is_quote_status',\n",
       " u'in_reply_to_status_id',\n",
       " u'id',\n",
       " u'favorite_count',\n",
       " u'entities',\n",
       " u'retweeted',\n",
       " u'coordinates',\n",
       " u'source',\n",
       " u'in_reply_to_screen_name',\n",
       " u'in_reply_to_user_id',\n",
       " u'retweet_count',\n",
       " u'id_str',\n",
       " u'favorited',\n",
       " u'user',\n",
       " u'geo',\n",
       " u'in_reply_to_user_id_str',\n",
       " u'possibly_sensitive',\n",
       " u'lang',\n",
       " u'created_at',\n",
       " u'in_reply_to_status_id_str',\n",
       " u'place',\n",
       " u'metadata']"
      ]
     },
     "execution_count": 58,
     "metadata": {},
     "output_type": "execute_result"
    }
   ],
   "source": [
    "tweet.keys()"
   ]
  },
  {
   "cell_type": "code",
   "execution_count": 59,
   "metadata": {},
   "outputs": [
    {
     "data": {
      "text/plain": [
       "u'Mon Oct 30 15:25:14 +0000 2017'"
      ]
     },
     "execution_count": 59,
     "metadata": {},
     "output_type": "execute_result"
    }
   ],
   "source": [
    "response['statuses'][0]['created_at']"
   ]
  },
  {
   "cell_type": "code",
   "execution_count": 60,
   "metadata": {},
   "outputs": [
    {
     "data": {
      "text/plain": [
       "u'Mon Oct 30 15:25:14 +0000 2017'"
      ]
     },
     "execution_count": 60,
     "metadata": {},
     "output_type": "execute_result"
    }
   ],
   "source": [
    "tweet['created_at']"
   ]
  },
  {
   "cell_type": "code",
   "execution_count": 62,
   "metadata": {},
   "outputs": [
    {
     "data": {
      "text/plain": [
       "u'.@SpencerPolling Tune in today at noon as we examine #polling and the 2016  #presidential #election results. #LIVE\\u2026 https://t.co/uCuNnbDWCU'"
      ]
     },
     "execution_count": 62,
     "metadata": {},
     "output_type": "execute_result"
    }
   ],
   "source": [
    "tweet['text']"
   ]
  },
  {
   "cell_type": "code",
   "execution_count": 61,
   "metadata": {},
   "outputs": [
    {
     "data": {
      "text/plain": [
       "[u'follow_request_sent',\n",
       " u'has_extended_profile',\n",
       " u'profile_use_background_image',\n",
       " u'default_profile_image',\n",
       " u'id',\n",
       " u'profile_background_image_url_https',\n",
       " u'verified',\n",
       " u'translator_type',\n",
       " u'profile_text_color',\n",
       " u'profile_image_url_https',\n",
       " u'profile_sidebar_fill_color',\n",
       " u'entities',\n",
       " u'followers_count',\n",
       " u'profile_sidebar_border_color',\n",
       " u'id_str',\n",
       " u'profile_background_color',\n",
       " u'listed_count',\n",
       " u'is_translation_enabled',\n",
       " u'utc_offset',\n",
       " u'statuses_count',\n",
       " u'description',\n",
       " u'friends_count',\n",
       " u'location',\n",
       " u'profile_link_color',\n",
       " u'profile_image_url',\n",
       " u'following',\n",
       " u'geo_enabled',\n",
       " u'profile_banner_url',\n",
       " u'profile_background_image_url',\n",
       " u'screen_name',\n",
       " u'lang',\n",
       " u'profile_background_tile',\n",
       " u'favourites_count',\n",
       " u'name',\n",
       " u'notifications',\n",
       " u'url',\n",
       " u'created_at',\n",
       " u'contributors_enabled',\n",
       " u'time_zone',\n",
       " u'protected',\n",
       " u'default_profile',\n",
       " u'is_translator']"
      ]
     },
     "execution_count": 61,
     "metadata": {},
     "output_type": "execute_result"
    }
   ],
   "source": [
    "tweet['user'].keys()"
   ]
  },
  {
   "cell_type": "code",
   "execution_count": 63,
   "metadata": {},
   "outputs": [
    {
     "data": {
      "text/plain": [
       "u'en'"
      ]
     },
     "execution_count": 63,
     "metadata": {},
     "output_type": "execute_result"
    }
   ],
   "source": [
    "response['statuses'][0]['user']['lang']"
   ]
  },
  {
   "cell_type": "code",
   "execution_count": 64,
   "metadata": {},
   "outputs": [
    {
     "data": {
      "text/plain": [
       "u'Emerson College'"
      ]
     },
     "execution_count": 64,
     "metadata": {},
     "output_type": "execute_result"
    }
   ],
   "source": [
    "response['statuses'][0]['user']['name']"
   ]
  },
  {
   "cell_type": "markdown",
   "metadata": {},
   "source": [
    "# Grab twenty most recent tweets about Emerson College\n",
    "View the code examples below and make your own Twitter query\n"
   ]
  },
  {
   "cell_type": "code",
   "execution_count": 65,
   "metadata": {},
   "outputs": [
    {
     "name": "stdout",
     "output_type": "stream",
     "text": [
      ".@SpencerPolling Tune in today at noon as we examine #polling and the 2016  #presidential #election results. #LIVE… https://t.co/uCuNnbDWCU\n",
      "A lovely read. Have been thinking of doing a #clowning workshop at @EmersonCollege . Might be about time. https://t.co/lO7jZBAZX8\n",
      "Students win grant for a game that encourages young women to run for political office. #CivicMedia @EmersonCollege  https://t.co/BH494pjWcA\n",
      "NBC Nightly News on @EmersonCollege alum @ChrisHurstVA run for the VA legislature - https://t.co/eOKMr7UNi2.  More: https://t.co/Ldnl42Z5lb\n",
      "Manny is back! emerson_soc @ec_commstudies @emersoncollege @ Emerson College Department of… https://t.co/PgVBoem56Y\n",
      "Rawr! I am the Spirit of @EmersonCollege! Feed me!! https://t.co/YplPQH6RAp\n",
      "@EmersonCollege Nice to see the Little Building dressed for Halloween. A one eyed Mummy ;-) https://t.co/6AbUIORkie\n",
      "RT @YadiresWBZ: I felt love &amp; joy when I saw my son Angel De Dios @SalcedoA23 a freshman @EmersonCollege doing his first report for Emerson…\n",
      "RT @JGKaram: KISS, an inspiring &amp; must-see play about the ongoing tragedies in #Syria. Tnx 2 @ddower &amp; the talented students @EmersonColleg…\n",
      "RT @DSci_AE: TY! @DataPurist @K19AE @SciMktg @SustainBrands @EmersonCollege @LeadershipTips @MzYoungBlkChyna @tnt3anderson @kim_willis\n",
      "I felt love &amp; joy when I saw my son Angel De Dios @SalcedoA23 a freshman @EmersonCollege doing his first report for… https://t.co/u66XAkas7Q\n",
      "RT @JGKaram: KISS, an inspiring &amp; must-see play about the ongoing tragedies in #Syria. Tnx 2 @ddower &amp; the talented students @EmersonColleg…\n",
      "RT @JGKaram: KISS, an inspiring &amp; must-see play about the ongoing tragedies in #Syria. Tnx 2 @ddower &amp; the talented students @EmersonColleg…\n",
      "@JGKaram @EmersonCollege @ArtsEmerson Appreciate the endorsement! The word is spreading, so fingers crossed.\n",
      "Mix Notes From Hell -Nov. 15 @EmersonCollege  @jettgalindo , Ali McGuire @AMACULENT, Shivaun O'Brien. Register… https://t.co/OnvpHDK3Lq\n",
      "Enjoying these warm days at @emersoncollege @intothewildfestival #sunnyautumndays #sunshines #sussexcounty #autumn…… https://t.co/rg96vLJeie\n",
      "Enjoying these warm days at @emersoncollege intothewildfestival #sunnyautumndays #sunshines… https://t.co/y4F5qoW36S\n",
      "@ddower @EmersonCollege @ArtsEmerson It deserves immense recognition and I am confident that it will spark many int… https://t.co/IZ1AkCQ1YS\n",
      "@JGKaram @EmersonCollege @ArtsEmerson Thank you for coming. It’s been a challenge and a joy working on this play fo… https://t.co/sHImNTDyxS\n",
      "Ladies and gentlemen ...the @emersoncollege !\n",
      "Thanks !!!\n",
      "#rome #roma #emersoncollege #hosteltrustever #hostel https://t.co/ERKtcfuAkQ\n"
     ]
    }
   ],
   "source": [
    "twitter = twython.Twython(api_key, api_secret, access_token, token_secret)\n",
    "\n",
    "#create a search term\n",
    "query = \"Emersoncollege\"\n",
    "\n",
    "#use twitter's api to search for most *recent* tweets\n",
    "response = twitter.search(q=query, result_type=\"recent\", count=20)\n",
    "\n",
    "for tweet in response['statuses']:\n",
    "    print tweet['text']"
   ]
  },
  {
   "cell_type": "code",
   "execution_count": 66,
   "metadata": {},
   "outputs": [
    {
     "data": {
      "text/plain": [
       "u'.@SpencerPolling Tune in today at noon as we examine #polling and the 2016  #presidential #election results. #LIVE\\u2026 https://t.co/uCuNnbDWCU'"
      ]
     },
     "execution_count": 66,
     "metadata": {},
     "output_type": "execute_result"
    }
   ],
   "source": [
    "response['statuses'][0]['text']"
   ]
  },
  {
   "cell_type": "code",
   "execution_count": 67,
   "metadata": {},
   "outputs": [
    {
     "name": "stdout",
     "output_type": "stream",
     "text": [
      "#ELA bound!  @emersoncollege @ec_commstudies @ Emerson College Department of Communication Studies https://t.co/KCYItSa8eY\n",
      "Join us on Halloween as #emersonscreens Alice Lowe's Prevenge @ 7!  https://t.co/IPCrlLQjdd  @emersonvma… https://t.co/51Gd8wht9t\n",
      "I had to leave early for the reading portion but the Q&amp;A and the reading itself were fantastic! https://t.co/CWAGVICnvs\n",
      "#ELA bound!  @emersoncollege @ec_commstudies @ Emerson College Department of Communication Studies https://t.co/KCYItSa8eY\n",
      "@gayIord u gonna fuck around &amp; become a liberal arts major because of chem. but u got this. push thru. think of it… https://t.co/shudxdDFmf\n",
      "@Evvy_3 Nem sei oq eu fiz kkkk povo doido, mp pra essas porra\n"
     ]
    }
   ],
   "source": [
    "twitter = twython.Twython(api_key, api_secret, access_token, token_secret)\n",
    "\n",
    "source_words = [\"EmersonCollege\", \"Leemlp\", \"EmersonVMA\", \"ECSoArts\", \"EC_CommStudies\",\\\n",
    "                \"EmersonLA\", \"ImmersiveEmerson\", \"liberal arts\", \"EVVY\", \"Evvys\" \\\n",
    "               \"TheEVVYs\"]\n",
    "\n",
    "for word in source_words:\n",
    "    response = twitter.search(q=word, result_type=\"recent\", count=1)\n",
    "    for tweet in response['statuses']:  #make it look more readable\n",
    "        print tweet['text']"
   ]
  },
  {
   "cell_type": "code",
   "execution_count": 69,
   "metadata": {},
   "outputs": [
    {
     "name": "stdout",
     "output_type": "stream",
     "text": [
      "marred with irregularities &amp; controversies. a flaw…\n",
      "and the buyer said its their dream dress and i was like !!!!!!!! 😀😀😀!!!!!\n",
      "stint of special episode of him\n",
      "this guy is one of the reason 2d1n owning the tv ratings\n",
      "of person that still believes someone's a good person even when they've shown me in every way that they're…\n",
      "petal 花びらとリングの耳飾り\n",
      "\n",
      "路地裏3坪雑貨店様とsoulabo様へ納品します。\n",
      "minneでも販売中→https://t.co/0b6lgfwf4w \n",
      "\n",
      "dm頂ければtwitterでのご購入も可です(*…\n",
      "skyfupdates: 4 yrs ago today sky ferreira released her critically acclaimed debut ‘night time, my time’. it has gone on to sell 100k an…\n"
     ]
    }
   ],
   "source": [
    "#MASHUP  BY ALLISON PARRISH\n",
    "source_words = [\"rose\", \"harsh\",\"marred\", \"and\", \"with\", \"stint\",\n",
    "        \"of\", \"petal\",\"sky\",\"native\"]\n",
    "\n",
    "for word in source_words:\n",
    "    response = twitter.search(q=word, result_type=\"recent\", count=1)\n",
    "    if len(response['statuses']) > 0:\n",
    "        first_tweet = response['statuses'][0]  #look in status\n",
    "        tweet_text = first_tweet['text'].lower()     #make the tweet text all lower caste\n",
    "        if word in tweet_text:\n",
    "            pos = tweet_text.find(word)  #find the word location \n",
    "            print  tweet_text[pos:]  #just print the nnd of it"
   ]
  },
  {
   "cell_type": "code",
   "execution_count": 70,
   "metadata": {},
   "outputs": [
    {
     "name": "stdout",
     "output_type": "stream",
     "text": [
      "music do you ppl want aidonia to do? look at how big “yeahyeah” was. if abc lyrics the ppl love, dat mi ago do ag…\n",
      "code 👉uber20comp👈 https://t.co/kmdahym09g… https://t.co/mfwenj9oqh\n",
      "python attributeerror : 'list' object has no attribute [on hold] https://t.co/kihdtxvrqo https://t.co/wvb1vfncqs\n",
      "exploratory expedition was mounted.\n",
      "\n",
      "but when they emerged, they couldn't rememb…\n",
      "liberal arts major because of chem. but u got this. push thru. think of it… https://t.co/shudxddfmf\n"
     ]
    }
   ],
   "source": [
    "source_words = [\"Emerson\", \"music\", \"code\", \"python\", \"programming\",\\\n",
    "                \"exploratory\", \"humanities\", \"liberal arts\", \"digital\", \"pelton\" \\\n",
    "               \"EVVY\", 'Boylston']\n",
    "\n",
    "\n",
    "for word in source_words:\n",
    "    response = twitter.search(q=word, result_type=\"recent\", count=1)\n",
    "    if len(response['statuses']) > 0:\n",
    "        first_tweet = response['statuses'][0]\n",
    "        tweet_text = first_tweet['text'].lower()\n",
    "        if word in tweet_text:\n",
    "            pos = tweet_text.find(word)\n",
    "            print tweet_text[pos:]"
   ]
  },
  {
   "cell_type": "markdown",
   "metadata": {},
   "source": [
    "# Tutorial to reading twitter data\n",
    "https://aparrish.neocities.org/twitter.html\n",
    "\n",
    "http://mike.teczno.com/notes/streaming-data-from-twitter.html\n",
    "\n",
    "# Tutorial for tweeting\n",
    "https://www.raspberrypi.org/learning/getting-started-with-the-twitter-api/worksheet/\n",
    "\n",
    "# Twython documentation\n",
    "\n",
    "https://twython.readthedocs.io/en/latest/usage/advanced_usage.html"
   ]
  },
  {
   "cell_type": "code",
   "execution_count": 72,
   "metadata": {},
   "outputs": [
    {
     "name": "stdout",
     "output_type": "stream",
     "text": [
      "Tweeted: Hello Emerson!\n"
     ]
    }
   ],
   "source": [
    "message = \"Hello Emerson!\"\n",
    "twitter.update_status(status=message)\n",
    "print(\"Tweeted: %s\" % message)"
   ]
  },
  {
   "cell_type": "code",
   "execution_count": 73,
   "metadata": {
    "collapsed": true
   },
   "outputs": [],
   "source": [
    "import random"
   ]
  },
  {
   "cell_type": "code",
   "execution_count": 74,
   "metadata": {},
   "outputs": [
    {
     "name": "stdout",
     "output_type": "stream",
     "text": [
      "Tweeted: Snow then rain then ice cold freeze\n"
     ]
    }
   ],
   "source": [
    "messages = [\n",
    "    \"Snow then rain then ice cold freeze\",\n",
    "    \"Multisensory SensoryMulti\",\n",
    "    \"Asynchronous Syncrhonicity\",\n",
    "    \"Disconnected Connected Diss\",\n",
    "    \"For some reason, I couldn't resist editing the musicgenius entry about Shriekback's Nemesis.\",\n",
    "    \"Does not commute, does lot compute\",\n",
    "]\n",
    "message = random.choice(messages)\n",
    "twitter.update_status(status=message)\n",
    "print(\"Tweeted: %s\" % message)"
   ]
  },
  {
   "cell_type": "code",
   "execution_count": 76,
   "metadata": {},
   "outputs": [
    {
     "name": "stdout",
     "output_type": "stream",
     "text": [
      "3dprintedMilleniumFalcon.jpg\r\n"
     ]
    }
   ],
   "source": [
    "%ls *.jpg"
   ]
  },
  {
   "cell_type": "markdown",
   "metadata": {},
   "source": [
    "__Q__ Create your own twitter post"
   ]
  },
  {
   "cell_type": "code",
   "execution_count": 77,
   "metadata": {},
   "outputs": [
    {
     "data": {
      "text/plain": [
       "{u'contributors': None,\n",
       " u'coordinates': None,\n",
       " u'created_at': u'Mon Oct 30 15:36:35 +0000 2017',\n",
       " u'entities': {u'hashtags': [],\n",
       "  u'media': [{u'display_url': u'pic.twitter.com/YCGNvZ7n1d',\n",
       "    u'expanded_url': u'https://twitter.com/anjchang/status/925023637534633984/photo/1',\n",
       "    u'id': 925023634967617541,\n",
       "    u'id_str': u'925023634967617541',\n",
       "    u'indices': [29, 52],\n",
       "    u'media_url': u'http://pbs.twimg.com/media/DNZYGFMV4AUeWkG.jpg',\n",
       "    u'media_url_https': u'https://pbs.twimg.com/media/DNZYGFMV4AUeWkG.jpg',\n",
       "    u'sizes': {u'large': {u'h': 1043, u'resize': u'fit', u'w': 782},\n",
       "     u'medium': {u'h': 1043, u'resize': u'fit', u'w': 782},\n",
       "     u'small': {u'h': 680, u'resize': u'fit', u'w': 510},\n",
       "     u'thumb': {u'h': 150, u'resize': u'crop', u'w': 150}},\n",
       "    u'type': u'photo',\n",
       "    u'url': u'https://t.co/YCGNvZ7n1d'}],\n",
       "  u'symbols': [],\n",
       "  u'urls': [],\n",
       "  u'user_mentions': []},\n",
       " u'extended_entities': {u'media': [{u'display_url': u'pic.twitter.com/YCGNvZ7n1d',\n",
       "    u'expanded_url': u'https://twitter.com/anjchang/status/925023637534633984/photo/1',\n",
       "    u'id': 925023634967617541,\n",
       "    u'id_str': u'925023634967617541',\n",
       "    u'indices': [29, 52],\n",
       "    u'media_url': u'http://pbs.twimg.com/media/DNZYGFMV4AUeWkG.jpg',\n",
       "    u'media_url_https': u'https://pbs.twimg.com/media/DNZYGFMV4AUeWkG.jpg',\n",
       "    u'sizes': {u'large': {u'h': 1043, u'resize': u'fit', u'w': 782},\n",
       "     u'medium': {u'h': 1043, u'resize': u'fit', u'w': 782},\n",
       "     u'small': {u'h': 680, u'resize': u'fit', u'w': 510},\n",
       "     u'thumb': {u'h': 150, u'resize': u'crop', u'w': 150}},\n",
       "    u'type': u'photo',\n",
       "    u'url': u'https://t.co/YCGNvZ7n1d'}]},\n",
       " u'favorite_count': 0,\n",
       " u'favorited': False,\n",
       " u'geo': None,\n",
       " u'id': 925023637534633984,\n",
       " u'id_str': u'925023637534633984',\n",
       " u'in_reply_to_screen_name': None,\n",
       " u'in_reply_to_status_id': None,\n",
       " u'in_reply_to_status_id_str': None,\n",
       " u'in_reply_to_user_id': None,\n",
       " u'in_reply_to_user_id_str': None,\n",
       " u'is_quote_status': False,\n",
       " u'lang': u'en',\n",
       " u'place': None,\n",
       " u'possibly_sensitive': False,\n",
       " u'retweet_count': 0,\n",
       " u'retweeted': False,\n",
       " u'source': u'<a href=\"http://codeculturepractice2016.emerson.build/\" rel=\"nofollow\">EmersonTweetTwython</a>',\n",
       " u'text': u'3D printed Millenium Falcon! https://t.co/YCGNvZ7n1d',\n",
       " u'truncated': False,\n",
       " u'user': {u'contributors_enabled': False,\n",
       "  u'created_at': u'Sat Mar 10 03:28:55 +0000 2007',\n",
       "  u'default_profile': False,\n",
       "  u'default_profile_image': False,\n",
       "  u'description': u'Helping people reach out and touch someone, feel connected and appreciate the beauty of human senses.',\n",
       "  u'entities': {u'description': {u'urls': []},\n",
       "   u'url': {u'urls': [{u'display_url': u'anjchangblog.blogspot.com',\n",
       "      u'expanded_url': u'http://anjchangblog.blogspot.com/',\n",
       "      u'indices': [0, 22],\n",
       "      u'url': u'http://t.co/cIgCZboKV1'}]}},\n",
       "  u'favourites_count': 123,\n",
       "  u'follow_request_sent': False,\n",
       "  u'followers_count': 565,\n",
       "  u'following': False,\n",
       "  u'friends_count': 1455,\n",
       "  u'geo_enabled': True,\n",
       "  u'has_extended_profile': False,\n",
       "  u'id': 859841,\n",
       "  u'id_str': u'859841',\n",
       "  u'is_translation_enabled': False,\n",
       "  u'is_translator': False,\n",
       "  u'lang': u'en',\n",
       "  u'listed_count': 5,\n",
       "  u'location': u'@TinkerStories ',\n",
       "  u'name': u'Angela Chang',\n",
       "  u'notifications': False,\n",
       "  u'profile_background_color': u'9AE4E8',\n",
       "  u'profile_background_image_url': u'http://abs.twimg.com/images/themes/theme1/bg.png',\n",
       "  u'profile_background_image_url_https': u'https://abs.twimg.com/images/themes/theme1/bg.png',\n",
       "  u'profile_background_tile': False,\n",
       "  u'profile_image_url': u'http://pbs.twimg.com/profile_images/499457770370781184/F0gu65o5_normal.jpeg',\n",
       "  u'profile_image_url_https': u'https://pbs.twimg.com/profile_images/499457770370781184/F0gu65o5_normal.jpeg',\n",
       "  u'profile_link_color': u'1C5294',\n",
       "  u'profile_sidebar_border_color': u'87BC44',\n",
       "  u'profile_sidebar_fill_color': u'E0FF92',\n",
       "  u'profile_text_color': u'000000',\n",
       "  u'profile_use_background_image': True,\n",
       "  u'protected': False,\n",
       "  u'screen_name': u'anjchang',\n",
       "  u'statuses_count': 947,\n",
       "  u'time_zone': u'Eastern Time (US & Canada)',\n",
       "  u'translator_type': u'none',\n",
       "  u'url': u'http://t.co/cIgCZboKV1',\n",
       "  u'utc_offset': -14400,\n",
       "  u'verified': False}}"
      ]
     },
     "execution_count": 77,
     "metadata": {},
     "output_type": "execute_result"
    }
   ],
   "source": [
    "# Change your message and your file path to reflect your twitter\n",
    "\n",
    "message = \"3D printed Millenium Falcon!\"\n",
    "photo = open('3dprintedMilleniumFalcon.jpg', 'rb')\n",
    "response = twitter.upload_media(media=photo)\n",
    "twitter.update_status(\n",
    "    status=message ,\n",
    "    media_ids=[response['media_id']]\n",
    ")"
   ]
  },
  {
   "cell_type": "markdown",
   "metadata": {},
   "source": [
    "__Q__ Try uploading  video"
   ]
  },
  {
   "cell_type": "code",
   "execution_count": 78,
   "metadata": {},
   "outputs": [
    {
     "data": {
      "text/plain": [
       "{u'contributors': None,\n",
       " u'coordinates': None,\n",
       " u'created_at': u'Mon Oct 30 15:38:49 +0000 2017',\n",
       " u'entities': {u'hashtags': [],\n",
       "  u'media': [{u'display_url': u'pic.twitter.com/uzPZaIMD03',\n",
       "    u'expanded_url': u'https://twitter.com/anjchang/status/925024199244177409/video/1',\n",
       "    u'id': 925024187931955201,\n",
       "    u'id_str': u'925024187931955201',\n",
       "    u'indices': [26, 49],\n",
       "    u'media_url': u'http://pbs.twimg.com/ext_tw_video_thumb/925024187931955201/pu/img/wBdqtKgVZwNAJDNo.jpg',\n",
       "    u'media_url_https': u'https://pbs.twimg.com/ext_tw_video_thumb/925024187931955201/pu/img/wBdqtKgVZwNAJDNo.jpg',\n",
       "    u'sizes': {u'large': {u'h': 960, u'resize': u'fit', u'w': 544},\n",
       "     u'medium': {u'h': 960, u'resize': u'fit', u'w': 544},\n",
       "     u'small': {u'h': 600, u'resize': u'fit', u'w': 340},\n",
       "     u'thumb': {u'h': 150, u'resize': u'crop', u'w': 150}},\n",
       "    u'type': u'photo',\n",
       "    u'url': u'https://t.co/uzPZaIMD03'}],\n",
       "  u'symbols': [],\n",
       "  u'urls': [],\n",
       "  u'user_mentions': []},\n",
       " u'extended_entities': {u'media': [{u'additional_media_info': {u'monetizable': False},\n",
       "    u'display_url': u'pic.twitter.com/uzPZaIMD03',\n",
       "    u'expanded_url': u'https://twitter.com/anjchang/status/925024199244177409/video/1',\n",
       "    u'id': 925024187931955201,\n",
       "    u'id_str': u'925024187931955201',\n",
       "    u'indices': [26, 49],\n",
       "    u'media_url': u'http://pbs.twimg.com/ext_tw_video_thumb/925024187931955201/pu/img/wBdqtKgVZwNAJDNo.jpg',\n",
       "    u'media_url_https': u'https://pbs.twimg.com/ext_tw_video_thumb/925024187931955201/pu/img/wBdqtKgVZwNAJDNo.jpg',\n",
       "    u'sizes': {u'large': {u'h': 960, u'resize': u'fit', u'w': 544},\n",
       "     u'medium': {u'h': 960, u'resize': u'fit', u'w': 544},\n",
       "     u'small': {u'h': 600, u'resize': u'fit', u'w': 340},\n",
       "     u'thumb': {u'h': 150, u'resize': u'crop', u'w': 150}},\n",
       "    u'type': u'video',\n",
       "    u'url': u'https://t.co/uzPZaIMD03',\n",
       "    u'video_info': {u'aspect_ratio': [17, 30],\n",
       "     u'duration_millis': 10001,\n",
       "     u'variants': [{u'content_type': u'application/x-mpegURL',\n",
       "       u'url': u'https://video.twimg.com/ext_tw_video/925024187931955201/pu/pl/Ass_DkRw1bRbcTwB.m3u8'},\n",
       "      {u'bitrate': 832000,\n",
       "       u'content_type': u'video/mp4',\n",
       "       u'url': u'https://video.twimg.com/ext_tw_video/925024187931955201/pu/vid/362x640/8RWtniDWL-8vL5wF.mp4'},\n",
       "      {u'bitrate': 320000,\n",
       "       u'content_type': u'video/mp4',\n",
       "       u'url': u'https://video.twimg.com/ext_tw_video/925024187931955201/pu/vid/180x320/QBLa6RsKbiChHvAU.mp4'}]}}]},\n",
       " u'favorite_count': 0,\n",
       " u'favorited': False,\n",
       " u'geo': None,\n",
       " u'id': 925024199244177409,\n",
       " u'id_str': u'925024199244177409',\n",
       " u'in_reply_to_screen_name': None,\n",
       " u'in_reply_to_status_id': None,\n",
       " u'in_reply_to_status_id_str': None,\n",
       " u'in_reply_to_user_id': None,\n",
       " u'in_reply_to_user_id_str': None,\n",
       " u'is_quote_status': False,\n",
       " u'lang': u'en',\n",
       " u'place': None,\n",
       " u'possibly_sensitive': False,\n",
       " u'retweet_count': 0,\n",
       " u'retweeted': False,\n",
       " u'source': u'<a href=\"http://codeculturepractice2016.emerson.build/\" rel=\"nofollow\">EmersonTweetTwython</a>',\n",
       " u'text': u'Checkout this cool video! https://t.co/uzPZaIMD03',\n",
       " u'truncated': False,\n",
       " u'user': {u'contributors_enabled': False,\n",
       "  u'created_at': u'Sat Mar 10 03:28:55 +0000 2007',\n",
       "  u'default_profile': False,\n",
       "  u'default_profile_image': False,\n",
       "  u'description': u'Helping people reach out and touch someone, feel connected and appreciate the beauty of human senses.',\n",
       "  u'entities': {u'description': {u'urls': []},\n",
       "   u'url': {u'urls': [{u'display_url': u'anjchangblog.blogspot.com',\n",
       "      u'expanded_url': u'http://anjchangblog.blogspot.com/',\n",
       "      u'indices': [0, 22],\n",
       "      u'url': u'http://t.co/cIgCZboKV1'}]}},\n",
       "  u'favourites_count': 123,\n",
       "  u'follow_request_sent': False,\n",
       "  u'followers_count': 565,\n",
       "  u'following': False,\n",
       "  u'friends_count': 1455,\n",
       "  u'geo_enabled': True,\n",
       "  u'has_extended_profile': False,\n",
       "  u'id': 859841,\n",
       "  u'id_str': u'859841',\n",
       "  u'is_translation_enabled': False,\n",
       "  u'is_translator': False,\n",
       "  u'lang': u'en',\n",
       "  u'listed_count': 5,\n",
       "  u'location': u'@TinkerStories ',\n",
       "  u'name': u'Angela Chang',\n",
       "  u'notifications': False,\n",
       "  u'profile_background_color': u'9AE4E8',\n",
       "  u'profile_background_image_url': u'http://abs.twimg.com/images/themes/theme1/bg.png',\n",
       "  u'profile_background_image_url_https': u'https://abs.twimg.com/images/themes/theme1/bg.png',\n",
       "  u'profile_background_tile': False,\n",
       "  u'profile_image_url': u'http://pbs.twimg.com/profile_images/499457770370781184/F0gu65o5_normal.jpeg',\n",
       "  u'profile_image_url_https': u'https://pbs.twimg.com/profile_images/499457770370781184/F0gu65o5_normal.jpeg',\n",
       "  u'profile_link_color': u'1C5294',\n",
       "  u'profile_sidebar_border_color': u'87BC44',\n",
       "  u'profile_sidebar_fill_color': u'E0FF92',\n",
       "  u'profile_text_color': u'000000',\n",
       "  u'profile_use_background_image': True,\n",
       "  u'protected': False,\n",
       "  u'screen_name': u'anjchang',\n",
       "  u'statuses_count': 949,\n",
       "  u'time_zone': u'Eastern Time (US & Canada)',\n",
       "  u'translator_type': u'none',\n",
       "  u'url': u'http://t.co/cIgCZboKV1',\n",
       "  u'utc_offset': -14400,\n",
       "  u'verified': False}}"
      ]
     },
     "execution_count": 78,
     "metadata": {},
     "output_type": "execute_result"
    }
   ],
   "source": [
    "## Try uploading a video, you need to change the file path for your system\n",
    "video = open('video.mp4', 'rb')\n",
    "response = twitter.upload_video(media=video, media_type='video/mp4')\n",
    "twitter.update_status(status='Checkout this cool video!', media_ids=[response['media_id']])"
   ]
  },
  {
   "cell_type": "code",
   "execution_count": null,
   "metadata": {
    "collapsed": true
   },
   "outputs": [],
   "source": []
  }
 ],
 "metadata": {
  "kernelspec": {
   "display_name": "Python 2",
   "language": "python",
   "name": "python2"
  },
  "language_info": {
   "codemirror_mode": {
    "name": "ipython",
    "version": 2
   },
   "file_extension": ".py",
   "mimetype": "text/x-python",
   "name": "python",
   "nbconvert_exporter": "python",
   "pygments_lexer": "ipython2",
   "version": "2.7.14"
  }
 },
 "nbformat": 4,
 "nbformat_minor": 1
}
